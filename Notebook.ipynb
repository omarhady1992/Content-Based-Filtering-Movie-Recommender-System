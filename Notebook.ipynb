{
 "cells": [
  {
   "cell_type": "code",
   "execution_count": 1,
   "metadata": {},
   "outputs": [],
   "source": [
    "\n",
    "import pandas as pd\n",
    "import numpy as np\n",
    "import matplotlib.pyplot as plt\n",
    "import seaborn as sns   # for heatmap\n"
   ]
  },
  {
   "cell_type": "code",
   "execution_count": 1,
   "metadata": {},
   "outputs": [
    {
     "name": "stderr",
     "output_type": "stream",
     "text": [
      "[nltk_data] Downloading package punkt to C:\\Users\\Omar\n",
      "[nltk_data]     Hady\\AppData\\Roaming\\nltk_data...\n",
      "[nltk_data]   Package punkt is already up-to-date!\n",
      "[nltk_data] Downloading package wordnet to C:\\Users\\Omar\n",
      "[nltk_data]     Hady\\AppData\\Roaming\\nltk_data...\n",
      "[nltk_data]   Package wordnet is already up-to-date!\n"
     ]
    },
    {
     "data": {
      "text/plain": [
       "True"
      ]
     },
     "execution_count": 1,
     "metadata": {},
     "output_type": "execute_result"
    }
   ],
   "source": [
    "import nltk\n",
    "nltk.download('punkt')\n",
    "nltk.download('wordnet')"
   ]
  },
  {
   "cell_type": "code",
   "execution_count": 2,
   "metadata": {},
   "outputs": [
    {
     "name": "stdout",
     "output_type": "stream",
     "text": [
      "(4803, 20)\n",
      "(4803, 4)\n"
     ]
    }
   ],
   "source": [
    "#read the data\n",
    "\n",
    "df_movies = pd.read_csv('data/tmdb_5000_movies.csv')\n",
    "df_credits = pd.read_csv('data/tmdb_5000_credits.csv')\n",
    "\n",
    "print(df_movies.shape)\n",
    "print(df_credits.shape)\n"
   ]
  },
  {
   "cell_type": "code",
   "execution_count": 3,
   "metadata": {},
   "outputs": [
    {
     "name": "stdout",
     "output_type": "stream",
     "text": [
      "(4803, 24)\n"
     ]
    }
   ],
   "source": [
    "#merge the two dataframes\n",
    "df = pd.merge(df_movies, df_credits, left_on='id', right_on='movie_id')\n",
    "print(df.shape)"
   ]
  },
  {
   "cell_type": "markdown",
   "metadata": {
    "vscode": {
     "languageId": "markdown"
    }
   },
   "source": [
    "## Exploratory Data Analysis (EDA)\n",
    "\n",
    "Exploratory Data Analysis (EDA) is a crucial step in the data analysis process. It involves summarizing the main characteristics of the dataset, often using visual methods. Here, we will perform EDA on our merged movie dataset to understand its structure, identify patterns, detect anomalies, and check assumptions.\n",
    "\n",
    "### Steps in EDA:\n",
    "\n",
    "1. **Data Summary**: \n",
    "    - Display the first few rows of the dataset to get an initial understanding.\n",
    "    - Check the dimensions of the dataset.\n",
    "    - Summarize the data types and missing values.\n",
    "\n",
    "2. **Descriptive Statistics**:\n",
    "    - Calculate summary statistics for numerical columns (mean, median, standard deviation, etc.).\n",
    "    - Analyze the distribution of key variables.\n",
    "\n",
    "3. **Data Visualization**:\n",
    "    - Plot histograms, box plots, and scatter plots to visualize the distribution and relationships between variables.\n",
    "    - Use heatmaps to visualize correlations between numerical variables.\n",
    "\n",
    "4. **Handling Missing Values**:\n",
    "    - Identify columns with missing values.\n",
    "    - Decide on strategies to handle missing data (e.g., imputation, removal).\n",
    "\n",
    "5. **Feature Engineering**:\n",
    "    - Create new features based on existing data to enhance the predictive power of the dataset.\n",
    "\n",
    "By performing these steps, we aim to gain insights into the dataset, which will guide us in further analysis and modeling."
   ]
  },
  {
   "cell_type": "code",
   "execution_count": 4,
   "metadata": {
    "vscode": {
     "languageId": "markdown"
    }
   },
   "outputs": [
    {
     "data": {
      "text/html": [
       "<div>\n",
       "<style scoped>\n",
       "    .dataframe tbody tr th:only-of-type {\n",
       "        vertical-align: middle;\n",
       "    }\n",
       "\n",
       "    .dataframe tbody tr th {\n",
       "        vertical-align: top;\n",
       "    }\n",
       "\n",
       "    .dataframe thead th {\n",
       "        text-align: right;\n",
       "    }\n",
       "</style>\n",
       "<table border=\"1\" class=\"dataframe\">\n",
       "  <thead>\n",
       "    <tr style=\"text-align: right;\">\n",
       "      <th></th>\n",
       "      <th>budget</th>\n",
       "      <th>genres</th>\n",
       "      <th>homepage</th>\n",
       "      <th>id</th>\n",
       "      <th>keywords</th>\n",
       "      <th>original_language</th>\n",
       "      <th>original_title</th>\n",
       "      <th>overview</th>\n",
       "      <th>popularity</th>\n",
       "      <th>production_companies</th>\n",
       "      <th>production_countries</th>\n",
       "      <th>release_date</th>\n",
       "      <th>revenue</th>\n",
       "      <th>runtime</th>\n",
       "      <th>spoken_languages</th>\n",
       "      <th>status</th>\n",
       "      <th>tagline</th>\n",
       "      <th>title_x</th>\n",
       "      <th>vote_average</th>\n",
       "      <th>vote_count</th>\n",
       "      <th>movie_id</th>\n",
       "      <th>title_y</th>\n",
       "      <th>cast</th>\n",
       "      <th>crew</th>\n",
       "    </tr>\n",
       "  </thead>\n",
       "  <tbody>\n",
       "    <tr>\n",
       "      <th>0</th>\n",
       "      <td>237000000</td>\n",
       "      <td>[{\"id\": 28, \"name\": \"Action\"}, {\"id\": 12, \"nam...</td>\n",
       "      <td>http://www.avatarmovie.com/</td>\n",
       "      <td>19995</td>\n",
       "      <td>[{\"id\": 1463, \"name\": \"culture clash\"}, {\"id\":...</td>\n",
       "      <td>en</td>\n",
       "      <td>Avatar</td>\n",
       "      <td>In the 22nd century, a paraplegic Marine is di...</td>\n",
       "      <td>150.437577</td>\n",
       "      <td>[{\"name\": \"Ingenious Film Partners\", \"id\": 289...</td>\n",
       "      <td>[{\"iso_3166_1\": \"US\", \"name\": \"United States o...</td>\n",
       "      <td>2009-12-10</td>\n",
       "      <td>2787965087</td>\n",
       "      <td>162.0</td>\n",
       "      <td>[{\"iso_639_1\": \"en\", \"name\": \"English\"}, {\"iso...</td>\n",
       "      <td>Released</td>\n",
       "      <td>Enter the World of Pandora.</td>\n",
       "      <td>Avatar</td>\n",
       "      <td>7.2</td>\n",
       "      <td>11800</td>\n",
       "      <td>19995</td>\n",
       "      <td>Avatar</td>\n",
       "      <td>[{\"cast_id\": 242, \"character\": \"Jake Sully\", \"...</td>\n",
       "      <td>[{\"credit_id\": \"52fe48009251416c750aca23\", \"de...</td>\n",
       "    </tr>\n",
       "    <tr>\n",
       "      <th>1</th>\n",
       "      <td>300000000</td>\n",
       "      <td>[{\"id\": 12, \"name\": \"Adventure\"}, {\"id\": 14, \"...</td>\n",
       "      <td>http://disney.go.com/disneypictures/pirates/</td>\n",
       "      <td>285</td>\n",
       "      <td>[{\"id\": 270, \"name\": \"ocean\"}, {\"id\": 726, \"na...</td>\n",
       "      <td>en</td>\n",
       "      <td>Pirates of the Caribbean: At World's End</td>\n",
       "      <td>Captain Barbossa, long believed to be dead, ha...</td>\n",
       "      <td>139.082615</td>\n",
       "      <td>[{\"name\": \"Walt Disney Pictures\", \"id\": 2}, {\"...</td>\n",
       "      <td>[{\"iso_3166_1\": \"US\", \"name\": \"United States o...</td>\n",
       "      <td>2007-05-19</td>\n",
       "      <td>961000000</td>\n",
       "      <td>169.0</td>\n",
       "      <td>[{\"iso_639_1\": \"en\", \"name\": \"English\"}]</td>\n",
       "      <td>Released</td>\n",
       "      <td>At the end of the world, the adventure begins.</td>\n",
       "      <td>Pirates of the Caribbean: At World's End</td>\n",
       "      <td>6.9</td>\n",
       "      <td>4500</td>\n",
       "      <td>285</td>\n",
       "      <td>Pirates of the Caribbean: At World's End</td>\n",
       "      <td>[{\"cast_id\": 4, \"character\": \"Captain Jack Spa...</td>\n",
       "      <td>[{\"credit_id\": \"52fe4232c3a36847f800b579\", \"de...</td>\n",
       "    </tr>\n",
       "    <tr>\n",
       "      <th>2</th>\n",
       "      <td>245000000</td>\n",
       "      <td>[{\"id\": 28, \"name\": \"Action\"}, {\"id\": 12, \"nam...</td>\n",
       "      <td>http://www.sonypictures.com/movies/spectre/</td>\n",
       "      <td>206647</td>\n",
       "      <td>[{\"id\": 470, \"name\": \"spy\"}, {\"id\": 818, \"name...</td>\n",
       "      <td>en</td>\n",
       "      <td>Spectre</td>\n",
       "      <td>A cryptic message from Bond’s past sends him o...</td>\n",
       "      <td>107.376788</td>\n",
       "      <td>[{\"name\": \"Columbia Pictures\", \"id\": 5}, {\"nam...</td>\n",
       "      <td>[{\"iso_3166_1\": \"GB\", \"name\": \"United Kingdom\"...</td>\n",
       "      <td>2015-10-26</td>\n",
       "      <td>880674609</td>\n",
       "      <td>148.0</td>\n",
       "      <td>[{\"iso_639_1\": \"fr\", \"name\": \"Fran\\u00e7ais\"},...</td>\n",
       "      <td>Released</td>\n",
       "      <td>A Plan No One Escapes</td>\n",
       "      <td>Spectre</td>\n",
       "      <td>6.3</td>\n",
       "      <td>4466</td>\n",
       "      <td>206647</td>\n",
       "      <td>Spectre</td>\n",
       "      <td>[{\"cast_id\": 1, \"character\": \"James Bond\", \"cr...</td>\n",
       "      <td>[{\"credit_id\": \"54805967c3a36829b5002c41\", \"de...</td>\n",
       "    </tr>\n",
       "    <tr>\n",
       "      <th>3</th>\n",
       "      <td>250000000</td>\n",
       "      <td>[{\"id\": 28, \"name\": \"Action\"}, {\"id\": 80, \"nam...</td>\n",
       "      <td>http://www.thedarkknightrises.com/</td>\n",
       "      <td>49026</td>\n",
       "      <td>[{\"id\": 849, \"name\": \"dc comics\"}, {\"id\": 853,...</td>\n",
       "      <td>en</td>\n",
       "      <td>The Dark Knight Rises</td>\n",
       "      <td>Following the death of District Attorney Harve...</td>\n",
       "      <td>112.312950</td>\n",
       "      <td>[{\"name\": \"Legendary Pictures\", \"id\": 923}, {\"...</td>\n",
       "      <td>[{\"iso_3166_1\": \"US\", \"name\": \"United States o...</td>\n",
       "      <td>2012-07-16</td>\n",
       "      <td>1084939099</td>\n",
       "      <td>165.0</td>\n",
       "      <td>[{\"iso_639_1\": \"en\", \"name\": \"English\"}]</td>\n",
       "      <td>Released</td>\n",
       "      <td>The Legend Ends</td>\n",
       "      <td>The Dark Knight Rises</td>\n",
       "      <td>7.6</td>\n",
       "      <td>9106</td>\n",
       "      <td>49026</td>\n",
       "      <td>The Dark Knight Rises</td>\n",
       "      <td>[{\"cast_id\": 2, \"character\": \"Bruce Wayne / Ba...</td>\n",
       "      <td>[{\"credit_id\": \"52fe4781c3a36847f81398c3\", \"de...</td>\n",
       "    </tr>\n",
       "    <tr>\n",
       "      <th>4</th>\n",
       "      <td>260000000</td>\n",
       "      <td>[{\"id\": 28, \"name\": \"Action\"}, {\"id\": 12, \"nam...</td>\n",
       "      <td>http://movies.disney.com/john-carter</td>\n",
       "      <td>49529</td>\n",
       "      <td>[{\"id\": 818, \"name\": \"based on novel\"}, {\"id\":...</td>\n",
       "      <td>en</td>\n",
       "      <td>John Carter</td>\n",
       "      <td>John Carter is a war-weary, former military ca...</td>\n",
       "      <td>43.926995</td>\n",
       "      <td>[{\"name\": \"Walt Disney Pictures\", \"id\": 2}]</td>\n",
       "      <td>[{\"iso_3166_1\": \"US\", \"name\": \"United States o...</td>\n",
       "      <td>2012-03-07</td>\n",
       "      <td>284139100</td>\n",
       "      <td>132.0</td>\n",
       "      <td>[{\"iso_639_1\": \"en\", \"name\": \"English\"}]</td>\n",
       "      <td>Released</td>\n",
       "      <td>Lost in our world, found in another.</td>\n",
       "      <td>John Carter</td>\n",
       "      <td>6.1</td>\n",
       "      <td>2124</td>\n",
       "      <td>49529</td>\n",
       "      <td>John Carter</td>\n",
       "      <td>[{\"cast_id\": 5, \"character\": \"John Carter\", \"c...</td>\n",
       "      <td>[{\"credit_id\": \"52fe479ac3a36847f813eaa3\", \"de...</td>\n",
       "    </tr>\n",
       "  </tbody>\n",
       "</table>\n",
       "</div>"
      ],
      "text/plain": [
       "      budget                                             genres  \\\n",
       "0  237000000  [{\"id\": 28, \"name\": \"Action\"}, {\"id\": 12, \"nam...   \n",
       "1  300000000  [{\"id\": 12, \"name\": \"Adventure\"}, {\"id\": 14, \"...   \n",
       "2  245000000  [{\"id\": 28, \"name\": \"Action\"}, {\"id\": 12, \"nam...   \n",
       "3  250000000  [{\"id\": 28, \"name\": \"Action\"}, {\"id\": 80, \"nam...   \n",
       "4  260000000  [{\"id\": 28, \"name\": \"Action\"}, {\"id\": 12, \"nam...   \n",
       "\n",
       "                                       homepage      id  \\\n",
       "0                   http://www.avatarmovie.com/   19995   \n",
       "1  http://disney.go.com/disneypictures/pirates/     285   \n",
       "2   http://www.sonypictures.com/movies/spectre/  206647   \n",
       "3            http://www.thedarkknightrises.com/   49026   \n",
       "4          http://movies.disney.com/john-carter   49529   \n",
       "\n",
       "                                            keywords original_language  \\\n",
       "0  [{\"id\": 1463, \"name\": \"culture clash\"}, {\"id\":...                en   \n",
       "1  [{\"id\": 270, \"name\": \"ocean\"}, {\"id\": 726, \"na...                en   \n",
       "2  [{\"id\": 470, \"name\": \"spy\"}, {\"id\": 818, \"name...                en   \n",
       "3  [{\"id\": 849, \"name\": \"dc comics\"}, {\"id\": 853,...                en   \n",
       "4  [{\"id\": 818, \"name\": \"based on novel\"}, {\"id\":...                en   \n",
       "\n",
       "                             original_title  \\\n",
       "0                                    Avatar   \n",
       "1  Pirates of the Caribbean: At World's End   \n",
       "2                                   Spectre   \n",
       "3                     The Dark Knight Rises   \n",
       "4                               John Carter   \n",
       "\n",
       "                                            overview  popularity  \\\n",
       "0  In the 22nd century, a paraplegic Marine is di...  150.437577   \n",
       "1  Captain Barbossa, long believed to be dead, ha...  139.082615   \n",
       "2  A cryptic message from Bond’s past sends him o...  107.376788   \n",
       "3  Following the death of District Attorney Harve...  112.312950   \n",
       "4  John Carter is a war-weary, former military ca...   43.926995   \n",
       "\n",
       "                                production_companies  \\\n",
       "0  [{\"name\": \"Ingenious Film Partners\", \"id\": 289...   \n",
       "1  [{\"name\": \"Walt Disney Pictures\", \"id\": 2}, {\"...   \n",
       "2  [{\"name\": \"Columbia Pictures\", \"id\": 5}, {\"nam...   \n",
       "3  [{\"name\": \"Legendary Pictures\", \"id\": 923}, {\"...   \n",
       "4        [{\"name\": \"Walt Disney Pictures\", \"id\": 2}]   \n",
       "\n",
       "                                production_countries release_date     revenue  \\\n",
       "0  [{\"iso_3166_1\": \"US\", \"name\": \"United States o...   2009-12-10  2787965087   \n",
       "1  [{\"iso_3166_1\": \"US\", \"name\": \"United States o...   2007-05-19   961000000   \n",
       "2  [{\"iso_3166_1\": \"GB\", \"name\": \"United Kingdom\"...   2015-10-26   880674609   \n",
       "3  [{\"iso_3166_1\": \"US\", \"name\": \"United States o...   2012-07-16  1084939099   \n",
       "4  [{\"iso_3166_1\": \"US\", \"name\": \"United States o...   2012-03-07   284139100   \n",
       "\n",
       "   runtime                                   spoken_languages    status  \\\n",
       "0    162.0  [{\"iso_639_1\": \"en\", \"name\": \"English\"}, {\"iso...  Released   \n",
       "1    169.0           [{\"iso_639_1\": \"en\", \"name\": \"English\"}]  Released   \n",
       "2    148.0  [{\"iso_639_1\": \"fr\", \"name\": \"Fran\\u00e7ais\"},...  Released   \n",
       "3    165.0           [{\"iso_639_1\": \"en\", \"name\": \"English\"}]  Released   \n",
       "4    132.0           [{\"iso_639_1\": \"en\", \"name\": \"English\"}]  Released   \n",
       "\n",
       "                                          tagline  \\\n",
       "0                     Enter the World of Pandora.   \n",
       "1  At the end of the world, the adventure begins.   \n",
       "2                           A Plan No One Escapes   \n",
       "3                                 The Legend Ends   \n",
       "4            Lost in our world, found in another.   \n",
       "\n",
       "                                    title_x  vote_average  vote_count  \\\n",
       "0                                    Avatar           7.2       11800   \n",
       "1  Pirates of the Caribbean: At World's End           6.9        4500   \n",
       "2                                   Spectre           6.3        4466   \n",
       "3                     The Dark Knight Rises           7.6        9106   \n",
       "4                               John Carter           6.1        2124   \n",
       "\n",
       "   movie_id                                   title_y  \\\n",
       "0     19995                                    Avatar   \n",
       "1       285  Pirates of the Caribbean: At World's End   \n",
       "2    206647                                   Spectre   \n",
       "3     49026                     The Dark Knight Rises   \n",
       "4     49529                               John Carter   \n",
       "\n",
       "                                                cast  \\\n",
       "0  [{\"cast_id\": 242, \"character\": \"Jake Sully\", \"...   \n",
       "1  [{\"cast_id\": 4, \"character\": \"Captain Jack Spa...   \n",
       "2  [{\"cast_id\": 1, \"character\": \"James Bond\", \"cr...   \n",
       "3  [{\"cast_id\": 2, \"character\": \"Bruce Wayne / Ba...   \n",
       "4  [{\"cast_id\": 5, \"character\": \"John Carter\", \"c...   \n",
       "\n",
       "                                                crew  \n",
       "0  [{\"credit_id\": \"52fe48009251416c750aca23\", \"de...  \n",
       "1  [{\"credit_id\": \"52fe4232c3a36847f800b579\", \"de...  \n",
       "2  [{\"credit_id\": \"54805967c3a36829b5002c41\", \"de...  \n",
       "3  [{\"credit_id\": \"52fe4781c3a36847f81398c3\", \"de...  \n",
       "4  [{\"credit_id\": \"52fe479ac3a36847f813eaa3\", \"de...  "
      ]
     },
     "execution_count": 4,
     "metadata": {},
     "output_type": "execute_result"
    }
   ],
   "source": [
    "#view all columns \n",
    "pd.set_option('display.max_columns', None)\n",
    "df.head(5)"
   ]
  },
  {
   "cell_type": "code",
   "execution_count": 5,
   "metadata": {
    "vscode": {
     "languageId": "markdown"
    }
   },
   "outputs": [
    {
     "name": "stdout",
     "output_type": "stream",
     "text": [
      "<class 'pandas.core.frame.DataFrame'>\n",
      "RangeIndex: 4803 entries, 0 to 4802\n",
      "Data columns (total 24 columns):\n",
      " #   Column                Non-Null Count  Dtype  \n",
      "---  ------                --------------  -----  \n",
      " 0   budget                4803 non-null   int64  \n",
      " 1   genres                4803 non-null   object \n",
      " 2   homepage              1712 non-null   object \n",
      " 3   id                    4803 non-null   int64  \n",
      " 4   keywords              4803 non-null   object \n",
      " 5   original_language     4803 non-null   object \n",
      " 6   original_title        4803 non-null   object \n",
      " 7   overview              4800 non-null   object \n",
      " 8   popularity            4803 non-null   float64\n",
      " 9   production_companies  4803 non-null   object \n",
      " 10  production_countries  4803 non-null   object \n",
      " 11  release_date          4802 non-null   object \n",
      " 12  revenue               4803 non-null   int64  \n",
      " 13  runtime               4801 non-null   float64\n",
      " 14  spoken_languages      4803 non-null   object \n",
      " 15  status                4803 non-null   object \n",
      " 16  tagline               3959 non-null   object \n",
      " 17  title_x               4803 non-null   object \n",
      " 18  vote_average          4803 non-null   float64\n",
      " 19  vote_count            4803 non-null   int64  \n",
      " 20  movie_id              4803 non-null   int64  \n",
      " 21  title_y               4803 non-null   object \n",
      " 22  cast                  4803 non-null   object \n",
      " 23  crew                  4803 non-null   object \n",
      "dtypes: float64(3), int64(5), object(16)\n",
      "memory usage: 900.7+ KB\n"
     ]
    }
   ],
   "source": [
    "df.info()"
   ]
  },
  {
   "cell_type": "markdown",
   "metadata": {},
   "source": [
    "Homepage, titles y and x and status are not really  defenitive of the features and won't be used.\n",
    "homepage and release status aren't a core feature and the other features are unique to each movie"
   ]
  },
  {
   "cell_type": "code",
   "execution_count": 6,
   "metadata": {},
   "outputs": [
    {
     "name": "stdout",
     "output_type": "stream",
     "text": [
      "<class 'pandas.core.frame.DataFrame'>\n",
      "RangeIndex: 4803 entries, 0 to 4802\n",
      "Data columns (total 10 columns):\n",
      " #   Column          Non-Null Count  Dtype  \n",
      "---  ------          --------------  -----  \n",
      " 0   id              4803 non-null   int64  \n",
      " 1   original_title  4803 non-null   object \n",
      " 2   genres          4803 non-null   object \n",
      " 3   keywords        4803 non-null   object \n",
      " 4   cast            4803 non-null   object \n",
      " 5   crew            4803 non-null   object \n",
      " 6   overview        4800 non-null   object \n",
      " 7   popularity      4803 non-null   float64\n",
      " 8   runtime         4801 non-null   float64\n",
      " 9   release_date    4802 non-null   object \n",
      "dtypes: float64(2), int64(1), object(7)\n",
      "memory usage: 375.4+ KB\n"
     ]
    }
   ],
   "source": [
    "#select the columns that we need\n",
    "df_workable = df[['id', 'original_title', 'genres', 'keywords', 'cast', 'crew', 'overview', 'popularity','runtime', 'release_date']]\n",
    "df_workable.info()"
   ]
  },
  {
   "cell_type": "code",
   "execution_count": 7,
   "metadata": {},
   "outputs": [
    {
     "name": "stdout",
     "output_type": "stream",
     "text": [
      "<class 'pandas.core.frame.DataFrame'>\n",
      "Index: 4799 entries, 0 to 4802\n",
      "Data columns (total 10 columns):\n",
      " #   Column          Non-Null Count  Dtype  \n",
      "---  ------          --------------  -----  \n",
      " 0   id              4799 non-null   int64  \n",
      " 1   original_title  4799 non-null   object \n",
      " 2   genres          4799 non-null   object \n",
      " 3   keywords        4799 non-null   object \n",
      " 4   cast            4799 non-null   object \n",
      " 5   crew            4799 non-null   object \n",
      " 6   overview        4799 non-null   object \n",
      " 7   popularity      4799 non-null   float64\n",
      " 8   runtime         4799 non-null   float64\n",
      " 9   release_date    4799 non-null   object \n",
      "dtypes: float64(2), int64(1), object(7)\n",
      "memory usage: 412.4+ KB\n"
     ]
    }
   ],
   "source": [
    "#remove nan values\n",
    "df_workable = df_workable.dropna()\n",
    "df_workable.info()\n"
   ]
  },
  {
   "cell_type": "code",
   "execution_count": 8,
   "metadata": {},
   "outputs": [
    {
     "data": {
      "text/plain": [
       "'[{\"credit_id\": \"52fe4781c3a36847f81398c3\", \"department\": \"Sound\", \"gender\": 2, \"id\": 947, \"job\": \"Original Music Composer\", \"name\": \"Hans Zimmer\"}, {\"credit_id\": \"52fe4781c3a36847f8139899\", \"department\": \"Production\", \"gender\": 0, \"id\": 282, \"job\": \"Producer\", \"name\": \"Charles Roven\"}, {\"credit_id\": \"52fe4781c3a36847f813991b\", \"department\": \"Writing\", \"gender\": 2, \"id\": 525, \"job\": \"Screenplay\", \"name\": \"Christopher Nolan\"}, {\"credit_id\": \"52fe4781c3a36847f8139865\", \"department\": \"Directing\", \"gender\": 2, \"id\": 525, \"job\": \"Director\", \"name\": \"Christopher Nolan\"}, {\"credit_id\": \"52fe4781c3a36847f8139893\", \"department\": \"Production\", \"gender\": 2, \"id\": 525, \"job\": \"Producer\", \"name\": \"Christopher Nolan\"}, {\"credit_id\": \"52fe4781c3a36847f8139915\", \"department\": \"Writing\", \"gender\": 2, \"id\": 525, \"job\": \"Story\", \"name\": \"Christopher Nolan\"}, {\"credit_id\": \"52fe4781c3a36847f813990f\", \"department\": \"Writing\", \"gender\": 2, \"id\": 527, \"job\": \"Screenplay\", \"name\": \"Jonathan Nolan\"}, {\"credit_id\": \"52fe4781c3a36847f813989f\", \"department\": \"Production\", \"gender\": 1, \"id\": 556, \"job\": \"Producer\", \"name\": \"Emma Thomas\"}, {\"credit_id\": \"52fe4781c3a36847f81398c9\", \"department\": \"Camera\", \"gender\": 2, \"id\": 559, \"job\": \"Director of Photography\", \"name\": \"Wally Pfister\"}, {\"credit_id\": \"54c37788c3a3681421011a07\", \"department\": \"Camera\", \"gender\": 2, \"id\": 559, \"job\": \"Camera Operator\", \"name\": \"Wally Pfister\"}, {\"credit_id\": \"52fe4781c3a36847f81398d5\", \"department\": \"Production\", \"gender\": 0, \"id\": 561, \"job\": \"Casting\", \"name\": \"John Papsidera\"}, {\"credit_id\": \"52fe4781c3a36847f8139921\", \"department\": \"Writing\", \"gender\": 2, \"id\": 3893, \"job\": \"Story\", \"name\": \"David S. Goyer\"}, {\"credit_id\": \"52fe4781c3a36847f81398a5\", \"department\": \"Writing\", \"gender\": 2, \"id\": 3794, \"job\": \"Characters\", \"name\": \"Bob Kane\"}, {\"credit_id\": \"52fe4781c3a36847f81398cf\", \"department\": \"Editing\", \"gender\": 0, \"id\": 3904, \"job\": \"Editor\", \"name\": \"Lee Smith\"}, {\"credit_id\": \"52fe4781c3a36847f81398bd\", \"department\": \"Production\", \"gender\": 2, \"id\": 10949, \"job\": \"Executive Producer\", \"name\": \"Michael Uslan\"}, {\"credit_id\": \"52fe4781c3a36847f81398b1\", \"department\": \"Production\", \"gender\": 2, \"id\": 10951, \"job\": \"Executive Producer\", \"name\": \"Benjamin Melniker\"}, {\"credit_id\": \"564e1be99251414af7000269\", \"department\": \"Crew\", \"gender\": 2, \"id\": 9568, \"job\": \"Stunts\", \"name\": \"Jim Palmer\"}, {\"credit_id\": \"54c224cec3a368792c00322f\", \"department\": \"Costume & Make-Up\", \"gender\": 0, \"id\": 9991, \"job\": \"Makeup Artist\", \"name\": \"Karen Blynder\"}, {\"credit_id\": \"52fe4781c3a36847f81398f9\", \"department\": \"Costume & Make-Up\", \"gender\": 1, \"id\": 10714, \"job\": \"Costume Design\", \"name\": \"Lindy Hemming\"}, {\"credit_id\": \"52fe4781c3a36847f81398f3\", \"department\": \"Art\", \"gender\": 0, \"id\": 12039, \"job\": \"Set Decoration\", \"name\": \"Paki Smith\"}, {\"credit_id\": \"52fe4781c3a36847f8139905\", \"department\": \"Art\", \"gender\": 2, \"id\": 14762, \"job\": \"Art Direction\", \"name\": \"Robert Woodruff\"}, {\"credit_id\": \"52fe4781c3a36847f81398e1\", \"department\": \"Art\", \"gender\": 2, \"id\": 15327, \"job\": \"Production Design\", \"name\": \"Nathan Crowley\"}, {\"credit_id\": \"52fe4781c3a36847f81398e7\", \"department\": \"Art\", \"gender\": 0, \"id\": 15328, \"job\": \"Production Design\", \"name\": \"Kevin Kavanaugh\"}, {\"credit_id\": \"570b91d29251415248001736\", \"department\": \"Art\", \"gender\": 0, \"id\": 17677, \"job\": \"Supervising Art Director\", \"name\": \"Naaman Marshall\"}, {\"credit_id\": \"57c4678f92514105db0046d4\", \"department\": \"Lighting\", \"gender\": 0, \"id\": 35630, \"job\": \"Electrician\", \"name\": \"Timothy Healy\"}, {\"credit_id\": \"5745d36e92514129a0002e7c\", \"department\": \"Lighting\", \"gender\": 0, \"id\": 40120, \"job\": \"Rigging Grip\", \"name\": \"Brian \\'Buzz\\' Buzzelli\"}, {\"credit_id\": \"54c2732b9251416eae00cab6\", \"department\": \"Sound\", \"gender\": 2, \"id\": 52193, \"job\": \"ADR & Dubbing\", \"name\": \"R.J. Kizer\"}, {\"credit_id\": \"52fe4781c3a36847f81398b7\", \"department\": \"Production\", \"gender\": 0, \"id\": 54211, \"job\": \"Executive Producer\", \"name\": \"Thomas Tull\"}, {\"credit_id\": \"56aa55a092514159a5001cf3\", \"department\": \"Crew\", \"gender\": 2, \"id\": 57569, \"job\": \"Stunts\", \"name\": \"Lee Sheward\"}, {\"credit_id\": \"56817f919251417def0118c9\", \"department\": \"Crew\", \"gender\": 0, \"id\": 61329, \"job\": \"Stunts\", \"name\": \"Declan Mulvey\"}, {\"credit_id\": \"52fe4781c3a36847f81398ff\", \"department\": \"Art\", \"gender\": 0, \"id\": 62560, \"job\": \"Art Direction\", \"name\": \"Gerald Sullivan\"}, {\"credit_id\": \"54c2234d925141315a005b6b\", \"department\": \"Art\", \"gender\": 0, \"id\": 31172, \"job\": \"Art Direction\", \"name\": \"Zack Grobler\"}, {\"credit_id\": \"579d0191c3a36828b100130b\", \"department\": \"Sound\", \"gender\": 0, \"id\": 68016, \"job\": \"Orchestrator\", \"name\": \"Kevin Kaska\"}, {\"credit_id\": \"56d9d2c9925141340201f6ed\", \"department\": \"Crew\", \"gender\": 2, \"id\": 81687, \"job\": \"Stunts\", \"name\": \"Rick Avery\"}, {\"credit_id\": \"52fe4781c3a36847f81398ab\", \"department\": \"Production\", \"gender\": 2, \"id\": 75804, \"job\": \"Executive Producer\", \"name\": \"Kevin De La Noy\"}, {\"credit_id\": \"5766cb129251411323000031\", \"department\": \"Production\", \"gender\": 0, \"id\": 113913, \"job\": \"Co-Producer\", \"name\": \"Jordan Goldberg\"}, {\"credit_id\": \"54c227c2c3a3686c61012820\", \"department\": \"Production\", \"gender\": 0, \"id\": 114017, \"job\": \"Production Manager\", \"name\": \"Karl McMillan\"}, {\"credit_id\": \"54c375f6c3a36833380010e1\", \"department\": \"Visual Effects\", \"gender\": 0, \"id\": 92231, \"job\": \"VFX Supervisor\", \"name\": \"May Leung\"}, {\"credit_id\": \"56c605c9c3a3680d4e003645\", \"department\": \"Crew\", \"gender\": 2, \"id\": 122549, \"job\": \"Stunts\", \"name\": \"Philippe Vonlanthen\"}, {\"credit_id\": \"54c274859251416e6000d4ee\", \"department\": \"Sound\", \"gender\": 0, \"id\": 138618, \"job\": \"Sound Re-Recording Mixer\", \"name\": \"Gary Rizzo\"}, {\"credit_id\": \"56e76ae3c3a368408c000be7\", \"department\": \"Crew\", \"gender\": 0, \"id\": 142157, \"job\": \"Stunts\", \"name\": \"Doug Coleman\"}, {\"credit_id\": \"579794d19251411a9000004d\", \"department\": \"Crew\", \"gender\": 2, \"id\": 202930, \"job\": \"Stunts\", \"name\": \"Anthony Molinari\"}, {\"credit_id\": \"568181699251411334008948\", \"department\": \"Crew\", \"gender\": 0, \"id\": 204339, \"job\": \"Stunts\", \"name\": \"Christopher Place\"}, {\"credit_id\": \"56a7b806c3a36828b800190b\", \"department\": \"Sound\", \"gender\": 0, \"id\": 230436, \"job\": \"ADR & Dubbing\", \"name\": \"Barbara Harris\"}, {\"credit_id\": \"564e1b75c3a368070f000288\", \"department\": \"Crew\", \"gender\": 0, \"id\": 550900, \"job\": \"Stunts\", \"name\": \"Carrick O\\'Quinn\"}, {\"credit_id\": \"57531069c3a3684c100007ef\", \"department\": \"Sound\", \"gender\": 2, \"id\": 932186, \"job\": \"Orchestrator\", \"name\": \"Bruce Fowler\"}, {\"credit_id\": \"568035f3c3a3684bcc00e7b2\", \"department\": \"Crew\", \"gender\": 2, \"id\": 932748, \"job\": \"Stunts\", \"name\": \"Roy T. Anderson\"}, {\"credit_id\": \"54c2239fc3a36879290038ba\", \"department\": \"Art\", \"gender\": 2, \"id\": 969743, \"job\": \"Art Direction\", \"name\": \"Dean Wolcott\"}, {\"credit_id\": \"52fe4781c3a36847f81398db\", \"department\": \"Production\", \"gender\": 0, \"id\": 1018958, \"job\": \"Casting\", \"name\": \"Toby Whale\"}, {\"credit_id\": \"56a189729251415e5e00fd3b\", \"department\": \"Crew\", \"gender\": 2, \"id\": 1025090, \"job\": \"Stunts\", \"name\": \"Jim Wilkey\"}, {\"credit_id\": \"570b91c3c3a3684f41003b4c\", \"department\": \"Art\", \"gender\": 0, \"id\": 1034754, \"job\": \"Supervising Art Director\", \"name\": \"James Hambidge\"}, {\"credit_id\": \"568183ab9251414f6300a6f8\", \"department\": \"Crew\", \"gender\": 0, \"id\": 1045964, \"job\": \"Stunts\", \"name\": \"Aaron Vexler\"}, {\"credit_id\": \"54c37a699251412446005572\", \"department\": \"Costume & Make-Up\", \"gender\": 0, \"id\": 1046614, \"job\": \"Set Costumer\", \"name\": \"Carmia Marshall\"}, {\"credit_id\": \"54c2737bc3a368792c003905\", \"department\": \"Editing\", \"gender\": 0, \"id\": 1050930, \"job\": \"Dialogue Editor\", \"name\": \"Hugo Weng\"}, {\"credit_id\": \"57a29134c3a36832b8001afb\", \"department\": \"Crew\", \"gender\": 0, \"id\": 1061061, \"job\": \"Stunts\", \"name\": \"Adam Horton\"}, {\"credit_id\": \"56aba40e9251410e8f002cf7\", \"department\": \"Crew\", \"gender\": 0, \"id\": 1106629, \"job\": \"Stunts\", \"name\": \"Raymond Mamrak\"}, {\"credit_id\": \"54c27360925141315a0062e4\", \"department\": \"Sound\", \"gender\": 2, \"id\": 1116937, \"job\": \"Foley\", \"name\": \"John Roesch\"}, {\"credit_id\": \"54c3717792514124c8005220\", \"department\": \"Visual Effects\", \"gender\": 0, \"id\": 1155668, \"job\": \"Visual Effects Producer\", \"name\": \"Mike Chambers\"}, {\"credit_id\": \"54c226f2c3a368792c003267\", \"department\": \"Production\", \"gender\": 0, \"id\": 1270053, \"job\": \"Production Manager\", \"name\": \"Emmanuel Pappas\"}, {\"credit_id\": \"568186c0c3a36828f5006e04\", \"department\": \"Crew\", \"gender\": 0, \"id\": 1301652, \"job\": \"Stunts\", \"name\": \"Stephen W. Schriver\"}, {\"credit_id\": \"54c379b4c3a3687c4000fcd6\", \"department\": \"Costume & Make-Up\", \"gender\": 0, \"id\": 1319744, \"job\": \"Costume Supervisor\", \"name\": \"Linda Matthews\"}, {\"credit_id\": \"54c2248cc3a36878fb003164\", \"department\": \"Costume & Make-Up\", \"gender\": 0, \"id\": 1322015, \"job\": \"Makeup Department Head\", \"name\": \"Luisa Abel\"}, {\"credit_id\": \"54c2238192514124890035aa\", \"department\": \"Art\", \"gender\": 0, \"id\": 1327144, \"job\": \"Art Direction\", \"name\": \"Sue Whitaker\"}, {\"credit_id\": \"56817e2192514113340088e0\", \"department\": \"Crew\", \"gender\": 1, \"id\": 1329415, \"job\": \"Stunts\", \"name\": \"Samantha MacIvor\"}, {\"credit_id\": \"56817898c3a3684bcc011ff7\", \"department\": \"Crew\", \"gender\": 0, \"id\": 1329527, \"job\": \"Stunts\", \"name\": \"Jared Burke\"}, {\"credit_id\": \"54c3796cc3a36878d00059fb\", \"department\": \"Costume & Make-Up\", \"gender\": 0, \"id\": 1336192, \"job\": \"Costume Supervisor\", \"name\": \"Laura Downing\"}, {\"credit_id\": \"54c37a9292514124c800531e\", \"department\": \"Costume & Make-Up\", \"gender\": 0, \"id\": 1336193, \"job\": \"Set Costumer\", \"name\": \"Rebecca Levin\"}, {\"credit_id\": \"5796b492c3a3680cfa002ae3\", \"department\": \"Crew\", \"gender\": 0, \"id\": 1340941, \"job\": \"Stunts\", \"name\": \"Ray Siegle\"}, {\"credit_id\": \"54c273cf92514124ed003c05\", \"department\": \"Sound\", \"gender\": 2, \"id\": 1341403, \"job\": \"Sound Designer\", \"name\": \"Richard King\"}, {\"credit_id\": \"54c2739dc3a368792c003908\", \"department\": \"Sound\", \"gender\": 2, \"id\": 1341403, \"job\": \"Supervising Sound Editor\", \"name\": \"Richard King\"}, {\"credit_id\": \"54c27458c3a36878fb003835\", \"department\": \"Sound\", \"gender\": 0, \"id\": 1341786, \"job\": \"Sound Effects Editor\", \"name\": \"Bryan O. Watkins\"}, {\"credit_id\": \"54e4a102c3a368087b005200\", \"department\": \"Crew\", \"gender\": 0, \"id\": 1348686, \"job\": \"Production Office Assistant\", \"name\": \"Bradley Porter\"}, {\"credit_id\": \"54c22e3d92514124c8003387\", \"department\": \"Art\", \"gender\": 0, \"id\": 1355530, \"job\": \"Sculptor\", \"name\": \"Cuitlahuac Morales Velazquez\"}, {\"credit_id\": \"54c27591c3a36879290040e9\", \"department\": \"Crew\", \"gender\": 0, \"id\": 1357062, \"job\": \"Special Effects Coordinator\", \"name\": \"Scott R. Fisher\"}, {\"credit_id\": \"54c376f492514124460054fe\", \"department\": \"Camera\", \"gender\": 0, \"id\": 1357064, \"job\": \"Camera Operator\", \"name\": \"Greg Baldi\"}, {\"credit_id\": \"54c37756c3a3683338001106\", \"department\": \"Camera\", \"gender\": 0, \"id\": 1357066, \"job\": \"Camera Operator\", \"name\": \"P. Scott Sakamoto\"}, {\"credit_id\": \"54c37c5692514124c8005349\", \"department\": \"Crew\", \"gender\": 0, \"id\": 1357070, \"job\": \"Transportation Coordinator\", \"name\": \"Denny Caira\"}, {\"credit_id\": \"5681830ec3a3684be9010b3b\", \"department\": \"Crew\", \"gender\": 2, \"id\": 1358564, \"job\": \"Stunts\", \"name\": \"Trampas Thompson\"}, {\"credit_id\": \"54c37cdc92514124460055a5\", \"department\": \"Directing\", \"gender\": 2, \"id\": 1367508, \"job\": \"Script Supervisor\", \"name\": \"Steve Gehrke\"}, {\"credit_id\": \"54c37345c3a36833380010a6\", \"department\": \"Crew\", \"gender\": 0, \"id\": 1372882, \"job\": \"Visual Effects Editor\", \"name\": \"Derrick Mitchell\"}, {\"credit_id\": \"54c27414c3a368792c003910\", \"department\": \"Sound\", \"gender\": 0, \"id\": 1377222, \"job\": \"Sound Effects Editor\", \"name\": \"Michael W. Mitchell\"}, {\"credit_id\": \"54c22a06c3a368792c0032a2\", \"department\": \"Art\", \"gender\": 0, \"id\": 1378222, \"job\": \"Construction Coordinator\", \"name\": \"Joe Ondrejko\"}, {\"credit_id\": \"567607a192514179e3003fd2\", \"department\": \"Sound\", \"gender\": 0, \"id\": 1378231, \"job\": \"Sound Effects Editor\", \"name\": \"Ken J. Johnson\"}, {\"credit_id\": \"54c37b21c3a368789b0059cb\", \"department\": \"Costume & Make-Up\", \"gender\": 0, \"id\": 1378246, \"job\": \"Set Costumer\", \"name\": \"Lori Harris\"}, {\"credit_id\": \"54c37e8cc3a3681421011a9c\", \"department\": \"Crew\", \"gender\": 0, \"id\": 1378726, \"job\": \"Dialect Coach\", \"name\": \"Francie Brown\"}, {\"credit_id\": \"568185c592514132db00f267\", \"department\": \"Crew\", \"gender\": 0, \"id\": 1384390, \"job\": \"Stunts\", \"name\": \"Trevor Habberstad\"}, {\"credit_id\": \"54c22976925141315a005be2\", \"department\": \"Art\", \"gender\": 0, \"id\": 1389526, \"job\": \"Construction Coordinator\", \"name\": \"Amanda Pettett\"}, {\"credit_id\": \"54c37a01c3a36878fb00500a\", \"department\": \"Costume & Make-Up\", \"gender\": 0, \"id\": 1391648, \"job\": \"Set Costumer\", \"name\": \"Hana Rausalova\"}, {\"credit_id\": \"54c2236fc3a36878fb003141\", \"department\": \"Art\", \"gender\": 0, \"id\": 1392587, \"job\": \"Art Direction\", \"name\": \"Tom Still\"}, {\"credit_id\": \"54c2757792514124c80039d9\", \"department\": \"Crew\", \"gender\": 0, \"id\": 1393387, \"job\": \"Special Effects Coordinator\", \"name\": \"Jeff Brink\"}, {\"credit_id\": \"54c37d0492514124460055a7\", \"department\": \"Crew\", \"gender\": 0, \"id\": 1394050, \"job\": \"Dialect Coach\", \"name\": \"Paula Jack\"}, {\"credit_id\": \"54c37b3cc3a368792c0050eb\", \"department\": \"Costume & Make-Up\", \"gender\": 0, \"id\": 1395030, \"job\": \"Set Costumer\", \"name\": \"Alison Evans\"}, {\"credit_id\": \"54c37ae1c3a3687929005bf1\", \"department\": \"Costume & Make-Up\", \"gender\": 0, \"id\": 1395032, \"job\": \"Set Costumer\", \"name\": \"Amanda Jenkins\"}, {\"credit_id\": \"54c22849c3a368789b0037cf\", \"department\": \"Art\", \"gender\": 0, \"id\": 1395430, \"job\": \"Art Department Coordinator\", \"name\": \"Jenne Lee\"}, {\"credit_id\": \"54c22e1cc3a36878fb003228\", \"department\": \"Art\", \"gender\": 0, \"id\": 1395435, \"job\": \"Set Designer\", \"name\": \"Theodore Sharps\"}, {\"credit_id\": \"54c2734bc3a368789b003f6a\", \"department\": \"Sound\", \"gender\": 0, \"id\": 1397823, \"job\": \"Foley\", \"name\": \"Alyson Dee Moore\"}, {\"credit_id\": \"54c22b05c3a36878d000384e\", \"department\": \"Art\", \"gender\": 0, \"id\": 1398089, \"job\": \"Greensman\", \"name\": \"Ian Whiteford\"}, {\"credit_id\": \"54c3785cc3a36878fb004fd2\", \"department\": \"Camera\", \"gender\": 0, \"id\": 1399071, \"job\": \"Helicopter Camera\", \"name\": \"Hans Bjerno\"}, {\"credit_id\": \"54c37a339251416e6000ee25\", \"department\": \"Costume & Make-Up\", \"gender\": 0, \"id\": 1399323, \"job\": \"Set Costumer\", \"name\": \"Mustapha Mimis\"}, {\"credit_id\": \"54c22b5a9251416e6000cdc1\", \"department\": \"Art\", \"gender\": 0, \"id\": 1399463, \"job\": \"Leadman\", \"name\": \"Bruce Lee Gross\"}, {\"credit_id\": \"54c378cfc3a3687929005bb1\", \"department\": \"Camera\", \"gender\": 0, \"id\": 1399876, \"job\": \"Still Photographer\", \"name\": \"Ron Phillips\"}, {\"credit_id\": \"54c37afbc3a368792c0050e2\", \"department\": \"Costume & Make-Up\", \"gender\": 0, \"id\": 1401814, \"job\": \"Set Costumer\", \"name\": \"Alejandro M. Hernandez\"}, {\"credit_id\": \"54c37e5a925141243200588d\", \"department\": \"Crew\", \"gender\": 1, \"id\": 1402008, \"job\": \"Dialect Coach\", \"name\": \"Kathleen S. Dunn\"}, {\"credit_id\": \"57785421c3a36826c9000a83\", \"department\": \"Directing\", \"gender\": 0, \"id\": 1402079, \"job\": \"Assistant Director\", \"name\": \"Matthew Reedy\"}, {\"credit_id\": \"54c223c2c3a3686c610127d0\", \"department\": \"Costume & Make-Up\", \"gender\": 0, \"id\": 1403424, \"job\": \"Costume Design\", \"name\": \"Roberto Craciunica\"}, {\"credit_id\": \"54c227f6c3a36878fb0031a8\", \"department\": \"Production\", \"gender\": 0, \"id\": 1403427, \"job\": \"Production Supervisor\", \"name\": \"Candice D. Campos\"}, {\"credit_id\": \"54c3780d925141248900573b\", \"department\": \"Camera\", \"gender\": 0, \"id\": 1404739, \"job\": \"Helicopter Camera\", \"name\": \"Steve Koster\"}, {\"credit_id\": \"54c37482c3a36878fb004f73\", \"department\": \"Visual Effects\", \"gender\": 0, \"id\": 1408347, \"job\": \"Visual Effects Supervisor\", \"name\": \"Pete Bebb\"}, {\"credit_id\": \"54c2254892514124ed003561\", \"department\": \"Costume & Make-Up\", \"gender\": 0, \"id\": 1409824, \"job\": \"Wigmaker\", \"name\": \"Natasha Ladek\"}, {\"credit_id\": \"567d811dc3a36860e9006747\", \"department\": \"Art\", \"gender\": 0, \"id\": 1411808, \"job\": \"Painter\", \"name\": \"Chris Bertholf\"}, {\"credit_id\": \"54c224b7c3a36879290038de\", \"department\": \"Costume & Make-Up\", \"gender\": 0, \"id\": 1412185, \"job\": \"Makeup Artist\", \"name\": \"Jay Wejebe\"}, {\"credit_id\": \"54c22a7e92514124ed0035cf\", \"department\": \"Art\", \"gender\": 0, \"id\": 1413089, \"job\": \"Construction Foreman\", \"name\": \"William Gideon\"}, {\"credit_id\": \"54c3761dc3a368789b005920\", \"department\": \"Crew\", \"gender\": 0, \"id\": 1415157, \"job\": \"Sequence Supervisor\", \"name\": \"Joel Green\"}, {\"credit_id\": \"56fd6190c3a3685cda0005de\", \"department\": \"Crew\", \"gender\": 0, \"id\": 1415606, \"job\": \"Makeup Effects\", \"name\": \"Diana Choi\"}, {\"credit_id\": \"54c37e11c3a3681421011a8f\", \"department\": \"Crew\", \"gender\": 0, \"id\": 1416005, \"job\": \"Unit Publicist\", \"name\": \"Claudia Kalindjian\"}, {\"credit_id\": \"54c2233c92514124c8003261\", \"department\": \"Art\", \"gender\": 0, \"id\": 1417396, \"job\": \"Art Direction\", \"name\": \"Toby Britton\"}, {\"credit_id\": \"54c2235ec3a368142100fa9a\", \"department\": \"Art\", \"gender\": 0, \"id\": 1417397, \"job\": \"Art Direction\", \"name\": \"Jonathan Kevin Ong\"}, {\"credit_id\": \"54c223ea9251416e6000cd21\", \"department\": \"Costume & Make-Up\", \"gender\": 0, \"id\": 1417398, \"job\": \"Hairstylist\", \"name\": \"Janice Alexander\"}, {\"credit_id\": \"54c2240292514124460034ac\", \"department\": \"Costume & Make-Up\", \"gender\": 0, \"id\": 1417399, \"job\": \"Hairstylist\", \"name\": \"Patricia DeHaney\"}, {\"credit_id\": \"54c224619251416eae00c3aa\", \"department\": \"Costume & Make-Up\", \"gender\": 0, \"id\": 1417400, \"job\": \"Hairstylist\", \"name\": \"Deena Adair\"}, {\"credit_id\": \"54c225c2c3a36878d00037bb\", \"department\": \"Crew\", \"gender\": 0, \"id\": 1417403, \"job\": \"Makeup Effects\", \"name\": \"Andre Gilbert\"}, {\"credit_id\": \"54c227a49251416e6000cd7b\", \"department\": \"Production\", \"gender\": 0, \"id\": 1417406, \"job\": \"Production Manager\", \"name\": \"Michael Murray\"}, {\"credit_id\": \"54c227dc925141248900361a\", \"department\": \"Production\", \"gender\": 0, \"id\": 1417407, \"job\": \"Production Manager\", \"name\": \"Thomas Hayslip\"}, {\"credit_id\": \"54c2280ec3a3687929003931\", \"department\": \"Production\", \"gender\": 0, \"id\": 1417408, \"job\": \"Production Supervisor\", \"name\": \"Mika Saito\"}, {\"credit_id\": \"54c22867c3a3686c6101282f\", \"department\": \"Art\", \"gender\": 0, \"id\": 1417409, \"job\": \"Art Department Coordinator\", \"name\": \"Pippa Needs\"}, {\"credit_id\": \"54c22883925141244600351e\", \"department\": \"Art\", \"gender\": 0, \"id\": 1417410, \"job\": \"Art Department Coordinator\", \"name\": \"Laura Pliskin\"}, {\"credit_id\": \"54c228d49251416e6000cd90\", \"department\": \"Art\", \"gender\": 0, \"id\": 1417411, \"job\": \"Assistant Art Director\", \"name\": \"Anna Bregman\"}, {\"credit_id\": \"54c2290cc3a36878fb0031c1\", \"department\": \"Art\", \"gender\": 0, \"id\": 1417412, \"job\": \"Assistant Art Director\", \"name\": \"Robert W. Joseph\"}, {\"credit_id\": \"54c22949c3a36878d000381a\", \"department\": \"Crew\", \"gender\": 0, \"id\": 1417413, \"job\": \"Property Master\", \"name\": \"Barry Wilkinson\"}, {\"credit_id\": \"54c229eec3a36878d0003836\", \"department\": \"Art\", \"gender\": 0, \"id\": 1417414, \"job\": \"Construction Coordinator\", \"name\": \"Glen Pangione\"}, {\"credit_id\": \"594851dac3a36816f6048d7d\", \"department\": \"Art\", \"gender\": 2, \"id\": 1417415, \"job\": \"Property Master\", \"name\": \"Mychael Bates\"}, {\"credit_id\": \"54c22ac69251416eae00c42c\", \"department\": \"Art\", \"gender\": 0, \"id\": 1417416, \"job\": \"Greensman\", \"name\": \"Brandon A. Plonka\"}, {\"credit_id\": \"54c22ae3c3a368792900396e\", \"department\": \"Crew\", \"gender\": 0, \"id\": 1417417, \"job\": \"Scenic Artist\", \"name\": \"Elizabeth Tomasetti\"}, {\"credit_id\": \"54c22d4592514124c8003368\", \"department\": \"Art\", \"gender\": 0, \"id\": 1417418, \"job\": \"Leadman\", \"name\": \"Sean Ginevan\"}, {\"credit_id\": \"54c22df6c3a36878d000388e\", \"department\": \"Art\", \"gender\": 0, \"id\": 1417419, \"job\": \"Set Designer\", \"name\": \"Jason Kolowski\"}, {\"credit_id\": \"54c273ec92514124ed003c0a\", \"department\": \"Sound\", \"gender\": 0, \"id\": 1417514, \"job\": \"Sound Effects Editor\", \"name\": \"Michael Babcock\"}, {\"credit_id\": \"54c2752392514124c80039d3\", \"department\": \"Sound\", \"gender\": 0, \"id\": 1417514, \"job\": \"Sound Re-Recording Mixer\", \"name\": \"Michael Babcock\"}, {\"credit_id\": \"54c273fec3a368789b003f7a\", \"department\": \"Sound\", \"gender\": 0, \"id\": 1417515, \"job\": \"Sound Effects Editor\", \"name\": \"Randle Akerson\"}, {\"credit_id\": \"54c27428925141315a0062f5\", \"department\": \"Sound\", \"gender\": 0, \"id\": 1417516, \"job\": \"Sound Effects Editor\", \"name\": \"Jeff Sawyer\"}, {\"credit_id\": \"54c274f1c3a36879290040da\", \"department\": \"Sound\", \"gender\": 0, \"id\": 1417517, \"job\": \"Sound Re-Recording Mixer\", \"name\": \"Carlos Solis\"}, {\"credit_id\": \"54c37193c3a368792c004fed\", \"department\": \"Crew\", \"gender\": 0, \"id\": 1417820, \"job\": \"Visual Effects Editor\", \"name\": \"Nick Dacey\"}, {\"credit_id\": \"54c372959251416eae00e22d\", \"department\": \"Visual Effects\", \"gender\": 0, \"id\": 1417821, \"job\": \"Visual Effects Producer\", \"name\": \"Claudia Dehmel\"}, {\"credit_id\": \"54c372e39251416e6000ed54\", \"department\": \"Crew\", \"gender\": 0, \"id\": 1417822, \"job\": \"Visual Effects Editor\", \"name\": \"Reuben Lloyd-Pack\"}, {\"credit_id\": \"54c3731892514124c8005254\", \"department\": \"Crew\", \"gender\": 0, \"id\": 1417823, \"job\": \"Visual Effects Editor\", \"name\": \"Steve Miller\"}, {\"credit_id\": \"54c3738f9251416e6000ed5f\", \"department\": \"Crew\", \"gender\": 0, \"id\": 1417824, \"job\": \"Visual Effects Editor\", \"name\": \"Christopher Payne\"}, {\"credit_id\": \"54c374b392514124890056d9\", \"department\": \"Crew\", \"gender\": 0, \"id\": 1417825, \"job\": \"CG Supervisor\", \"name\": \"Julian Foddy\"}, {\"credit_id\": \"54c374cc9251416e6000ed85\", \"department\": \"Visual Effects\", \"gender\": 0, \"id\": 1417826, \"job\": \"Visual Effects Supervisor\", \"name\": \"Paul J. Franklin\"}, {\"credit_id\": \"54c374eec3a368789b005901\", \"department\": \"Crew\", \"gender\": 0, \"id\": 1417827, \"job\": \"CG Supervisor\", \"name\": \"Nicola Hoyle\"}, {\"credit_id\": \"54c37524c3a3687929005b32\", \"department\": \"Visual Effects\", \"gender\": 0, \"id\": 1417828, \"job\": \"Visual Effects Supervisor\", \"name\": \"Andrew Lockley\"}, {\"credit_id\": \"54c3757ac3a36833380010d3\", \"department\": \"Crew\", \"gender\": 0, \"id\": 1417829, \"job\": \"Sequence Supervisor\", \"name\": \"Alison Wortman\"}, {\"credit_id\": \"54c375b49251416e6000ed9d\", \"department\": \"Crew\", \"gender\": 0, \"id\": 1417830, \"job\": \"Sequence Supervisor\", \"name\": \"Maxx Wai In Leong\"}, {\"credit_id\": \"54c3766ac3a36814210119e7\", \"department\": \"Crew\", \"gender\": 0, \"id\": 1417831, \"job\": \"Stunt Coordinator\", \"name\": \"Sy Hollands\"}, {\"credit_id\": \"54c377e49251416e6000edfc\", \"department\": \"Lighting\", \"gender\": 0, \"id\": 1417832, \"job\": \"Gaffer\", \"name\": \"Ryan Rodriguez\"}, {\"credit_id\": \"54c3783c92514124c80052d6\", \"department\": \"Lighting\", \"gender\": 0, \"id\": 1417833, \"job\": \"Gaffer\", \"name\": \"Reuben Garrett\"}, {\"credit_id\": \"54c378719251416eae00e2db\", \"department\": \"Camera\", \"gender\": 0, \"id\": 1417834, \"job\": \"Camera Technician\", \"name\": \"Dane Bjerno\"}, {\"credit_id\": \"54c378a49251412432005815\", \"department\": \"Lighting\", \"gender\": 0, \"id\": 1417835, \"job\": \"Rigging Gaffer\", \"name\": \"Ian Franklin\"}, {\"credit_id\": \"54c379219251412446005555\", \"department\": \"Visual Effects\", \"gender\": 0, \"id\": 1417836, \"job\": \"Animation\", \"name\": \"Andrew McEvoy\"}, {\"credit_id\": \"54c3798b92514124ed005678\", \"department\": \"Costume & Make-Up\", \"gender\": 0, \"id\": 1417837, \"job\": \"Costume Supervisor\", \"name\": \"Brendan Handscombe\"}, {\"credit_id\": \"54c37ac9c3a36878fb00501a\", \"department\": \"Costume & Make-Up\", \"gender\": 0, \"id\": 1417838, \"job\": \"Set Costumer\", \"name\": \"Lindsay Kouri\"}, {\"credit_id\": \"54c37ba5c3a3683338001180\", \"department\": \"Costume & Make-Up\", \"gender\": 0, \"id\": 1417839, \"job\": \"Set Costumer\", \"name\": \"David Butler\"}, {\"credit_id\": \"54c37c01c3a3687929005c04\", \"department\": \"Editing\", \"gender\": 0, \"id\": 1417840, \"job\": \"First Assistant Editor\", \"name\": \"Eric A. Lewy\"}, {\"credit_id\": \"54c37c29925141243200586d\", \"department\": \"Sound\", \"gender\": 0, \"id\": 1417841, \"job\": \"Music Editor\", \"name\": \"Ryan Rubin\"}, {\"credit_id\": \"54c37c42c3a36878d0005a31\", \"department\": \"Crew\", \"gender\": 0, \"id\": 1417842, \"job\": \"Transportation Coordinator\", \"name\": \"Gary Birmingham\"}, {\"credit_id\": \"54c37c7592514124ed0056af\", \"department\": \"Crew\", \"gender\": 0, \"id\": 1417843, \"job\": \"Picture Car Coordinator\", \"name\": \"Tyler W. Gaisford\"}, {\"credit_id\": \"54c37d6dc3a3687c4000fd1b\", \"department\": \"Production\", \"gender\": 0, \"id\": 1417844, \"job\": \"Location Manager\", \"name\": \"Mark Somner\"}, {\"credit_id\": \"54c37d9fc3a3687c4000fd20\", \"department\": \"Production\", \"gender\": 0, \"id\": 1417845, \"job\": \"Location Manager\", \"name\": \"Joaquin Diego Prange\"}, {\"credit_id\": \"54c37dbb9251416e6000ee57\", \"department\": \"Production\", \"gender\": 0, \"id\": 1417846, \"job\": \"Location Manager\", \"name\": \"Vans Pradeep Singh Rathore\"}, {\"credit_id\": \"54c37de6c3a36878d0005a54\", \"department\": \"Production\", \"gender\": 0, \"id\": 1417847, \"job\": \"Location Manager\", \"name\": \"James A. Mahathey\"}, {\"credit_id\": \"54c37e2cc3a36833380011b6\", \"department\": \"Production\", \"gender\": 0, \"id\": 1417848, \"job\": \"Location Manager\", \"name\": \"Jonathan Hook\"}, {\"credit_id\": \"56c266579251414a89000a2a\", \"department\": \"Costume & Make-Up\", \"gender\": 0, \"id\": 1427499, \"job\": \"Hairstylist\", \"name\": \"Stephanie Hovette\"}, {\"credit_id\": \"569fd0f6c3a36858c300a313\", \"department\": \"Crew\", \"gender\": 0, \"id\": 1434599, \"job\": \"Stunts\", \"name\": \"Brian Smyj\"}, {\"credit_id\": \"56d4e8b3c3a3681e44017a1d\", \"department\": \"Editing\", \"gender\": 0, \"id\": 1440853, \"job\": \"Assistant Editor\", \"name\": \"Donald Likovich\"}, {\"credit_id\": \"56817ef292514132db00f181\", \"department\": \"Crew\", \"gender\": 0, \"id\": 1455503, \"job\": \"Stunts\", \"name\": \"Ian Mclaughlin\"}, {\"credit_id\": \"56d872209251414291007577\", \"department\": \"Production\", \"gender\": 0, \"id\": 1463954, \"job\": \"Casting\", \"name\": \"Dixie Webster\"}, {\"credit_id\": \"568180369251414f6300a677\", \"department\": \"Crew\", \"gender\": 0, \"id\": 1468581, \"job\": \"Stunts\", \"name\": \"Victor Paguia\"}, {\"credit_id\": \"5682ca7392514169d0000aae\", \"department\": \"Costume & Make-Up\", \"gender\": 0, \"id\": 1468589, \"job\": \"Assistant Costume Designer\", \"name\": \"Wade Sullivan\"}, {\"credit_id\": \"56744cfb92514179dd00006d\", \"department\": \"Crew\", \"gender\": 0, \"id\": 1483827, \"job\": \"Stunts\", \"name\": \"Sid Karne\"}, {\"credit_id\": \"5621354392514171d000883b\", \"department\": \"Directing\", \"gender\": 0, \"id\": 1483827, \"job\": \"Assistant Director\", \"name\": \"Sid Karne\"}, {\"credit_id\": \"5681e419c3a36828f5007e50\", \"department\": \"Camera\", \"gender\": 0, \"id\": 1509394, \"job\": \"Grip\", \"name\": \"Michael J. Prate\"}, {\"credit_id\": \"5681e47a92514113340099ff\", \"department\": \"Camera\", \"gender\": 0, \"id\": 1509396, \"job\": \"Grip\", \"name\": \"Tom Prate\"}, {\"credit_id\": \"567d7b08c3a3684bd00070c2\", \"department\": \"Costume & Make-Up\", \"gender\": 0, \"id\": 1516458, \"job\": \"Hairstylist\", \"name\": \"R. Cory McCutcheon\"}, {\"credit_id\": \"56ba969e92514169b3000721\", \"department\": \"Editing\", \"gender\": 0, \"id\": 1525908, \"job\": \"Assistant Editor\", \"name\": \"Anne O\\'Brien\"}, {\"credit_id\": \"578fbfa19251411d5700117b\", \"department\": \"Crew\", \"gender\": 0, \"id\": 1531529, \"job\": \"Stunts\", \"name\": \"Rex Reddick\"}, {\"credit_id\": \"57d6ea2fc3a368023a00044e\", \"department\": \"Camera\", \"gender\": 0, \"id\": 1532610, \"job\": \"First Assistant Camera\", \"name\": \"Bob Hall\"}, {\"credit_id\": \"57bf2c29c3a3685c5d003e00\", \"department\": \"Lighting\", \"gender\": 0, \"id\": 1532612, \"job\": \"Rigging Grip\", \"name\": \"Blake Pike\"}, {\"credit_id\": \"566f8003c3a3680e7300cb03\", \"department\": \"Camera\", \"gender\": 0, \"id\": 1532613, \"job\": \"First Assistant Camera\", \"name\": \"Philip Shanahan\"}, {\"credit_id\": \"56452aa6c3a36870ec006931\", \"department\": \"Crew\", \"gender\": 2, \"id\": 1535095, \"job\": \"Stunts\", \"name\": \"Dan Brown\"}, {\"credit_id\": \"56452cb89251410a4c006cdf\", \"department\": \"Camera\", \"gender\": 0, \"id\": 1535096, \"job\": \"Grip\", \"name\": \"Adam Camacho\"}, {\"credit_id\": \"56452e7ac3a36870ef006f32\", \"department\": \"Camera\", \"gender\": 0, \"id\": 1535102, \"job\": \"Grip\", \"name\": \"Shaun Sangkarat\"}, {\"credit_id\": \"56817c9ec3a3682abc00a14b\", \"department\": \"Crew\", \"gender\": 1, \"id\": 1544394, \"job\": \"Stunts\", \"name\": \"Aja Frary\"}, {\"credit_id\": \"56817c4b9251417def011851\", \"department\": \"Crew\", \"gender\": 2, \"id\": 1544395, \"job\": \"Stunts\", \"name\": \"Mark Fichera\"}, {\"credit_id\": \"566875bec3a36836970036e9\", \"department\": \"Crew\", \"gender\": 0, \"id\": 1546907, \"job\": \"Driver\", \"name\": \"Patrick Hogan\"}, {\"credit_id\": \"566dbc4a92514169e200c3cd\", \"department\": \"Costume & Make-Up\", \"gender\": 0, \"id\": 1548530, \"job\": \"Hairstylist\", \"name\": \"Robert Wilson\"}, {\"credit_id\": \"566f03c1925141500100a095\", \"department\": \"Crew\", \"gender\": 0, \"id\": 1549015, \"job\": \"Propmaker\", \"name\": \"Ray Maxwell\"}, {\"credit_id\": \"566f0f16c3a368535a011220\", \"department\": \"Crew\", \"gender\": 0, \"id\": 1549026, \"job\": \"Stunts Coordinator\", \"name\": \"Scotty Richards\"}, {\"credit_id\": \"5671a5adc3a368535a01870d\", \"department\": \"Crew\", \"gender\": 2, \"id\": 1549741, \"job\": \"Stunts\", \"name\": \"Marc Scizak\"}, {\"credit_id\": \"5672f427c3a3680712003145\", \"department\": \"Lighting\", \"gender\": 0, \"id\": 1550248, \"job\": \"Rigging Grip\", \"name\": \"Joe Guzman\"}, {\"credit_id\": \"5673487792514163b9003756\", \"department\": \"Crew\", \"gender\": 0, \"id\": 1550400, \"job\": \"Set Production Assistant\", \"name\": \"Damiano Fusca\"}, {\"credit_id\": \"56817a49c3a3682abc00a0a5\", \"department\": \"Crew\", \"gender\": 2, \"id\": 1550725, \"job\": \"Stunts\", \"name\": \"Chris Cenatiempo\"}, {\"credit_id\": \"567607cd92514179e7003fcb\", \"department\": \"Camera\", \"gender\": 0, \"id\": 1551373, \"job\": \"Camera Intern\", \"name\": \"Joey J. Cook III\"}, {\"credit_id\": \"568f076fc3a368324c0000ac\", \"department\": \"Editing\", \"gender\": 0, \"id\": 1552549, \"job\": \"Color Timer\", \"name\": \"David Orr\"}, {\"credit_id\": \"5680378d9251412e5200bc04\", \"department\": \"Crew\", \"gender\": 0, \"id\": 1554393, \"job\": \"Stunts\", \"name\": \"Scott Burik\"}, {\"credit_id\": \"5681798292514131df00eabe\", \"department\": \"Crew\", \"gender\": 0, \"id\": 1554915, \"job\": \"Stunts\", \"name\": \"Mike Burke\"}, {\"credit_id\": \"56817cecc3a3682abc00a155\", \"department\": \"Crew\", \"gender\": 0, \"id\": 1554921, \"job\": \"Stunts\", \"name\": \"Shane Geraghty\"}, {\"credit_id\": \"568180ea9251417def0118f7\", \"department\": \"Lighting\", \"gender\": 0, \"id\": 1554924, \"job\": \"Rigging Grip\", \"name\": \"Balint Pinczehelyi\"}, {\"credit_id\": \"56818203c3a36860e9010d12\", \"department\": \"Crew\", \"gender\": 0, \"id\": 1554925, \"job\": \"Stunts\", \"name\": \"Kevin Rogers\"}, {\"credit_id\": \"568182e7c3a3684be3011a16\", \"department\": \"Crew\", \"gender\": 0, \"id\": 1554926, \"job\": \"Stunts\", \"name\": \"Shawnna Thibodeau\"}, {\"credit_id\": \"568183fac3a36860e9010d53\", \"department\": \"Crew\", \"gender\": 0, \"id\": 1554931, \"job\": \"Stunts\", \"name\": \"Caroline Vexler\"}, {\"credit_id\": \"5681e190c3a3684bcc013316\", \"department\": \"Lighting\", \"gender\": 2, \"id\": 1555027, \"job\": \"Rigging Grip\", \"name\": \"Kevin Flynn\"}, {\"credit_id\": \"56b78254c3a36806ec00e6f5\", \"department\": \"Production\", \"gender\": 0, \"id\": 1564997, \"job\": \"Executive In Charge Of Production\", \"name\": \"Mark Scoon\"}, {\"credit_id\": \"56b781afc3a36806ec00e6e0\", \"department\": \"Directing\", \"gender\": 0, \"id\": 1566280, \"job\": \"Assistant Director\", \"name\": \"Nilo Otero\"}, {\"credit_id\": \"5766ccd8c3a3687f5300121a\", \"department\": \"Crew\", \"gender\": 0, \"id\": 1571601, \"job\": \"Post Production Supervisor\", \"name\": \"David E. Hall\"}, {\"credit_id\": \"573e668892514108d9000856\", \"department\": \"Crew\", \"gender\": 2, \"id\": 1622657, \"job\": \"Stunts\", \"name\": \"Mark Aaron Wagner\"}, {\"credit_id\": \"579bf757c3a3681678003103\", \"department\": \"Crew\", \"gender\": 0, \"id\": 1634437, \"job\": \"Stunts\", \"name\": \"Ed McDermott II\"}, {\"credit_id\": \"5766cc219251416995000666\", \"department\": \"Costume & Make-Up\", \"gender\": 0, \"id\": 1638257, \"job\": \"Prosthetic Supervisor\", \"name\": \"Conor O\\'Sullivan\"}, {\"credit_id\": \"5777f94a9251415f060011a6\", \"department\": \"Sound\", \"gender\": 0, \"id\": 1644412, \"job\": \"Sound Mixer\", \"name\": \"Nakul Kamte\"}, {\"credit_id\": \"577852f992514136e100208d\", \"department\": \"Production\", \"gender\": 0, \"id\": 1644543, \"job\": \"Line Producer\", \"name\": \"Dileep Singh Rathore\"}]'"
      ]
     },
     "execution_count": 8,
     "metadata": {},
     "output_type": "execute_result"
    }
   ],
   "source": [
    "df.crew[3]"
   ]
  },
  {
   "cell_type": "code",
   "execution_count": 9,
   "metadata": {},
   "outputs": [
    {
     "data": {
      "text/plain": [
       "0        James Cameron\n",
       "1       Gore Verbinski\n",
       "2           Sam Mendes\n",
       "3    Christopher Nolan\n",
       "4       Andrew Stanton\n",
       "5            Sam Raimi\n",
       "6         Byron Howard\n",
       "7          Joss Whedon\n",
       "8          David Yates\n",
       "9          Zack Snyder\n",
       "Name: director, dtype: object"
      ]
     },
     "execution_count": 9,
     "metadata": {},
     "output_type": "execute_result"
    }
   ],
   "source": [
    "#extract director name from crew column\n",
    "\n",
    "#convert string to list\n",
    "import ast\n",
    "df_workable['crew'] = df_workable['crew'].apply(ast.literal_eval)\n",
    "\n",
    "def get_director(x):\n",
    "    for i in x:\n",
    "        if i['job'] == 'Director':\n",
    "            return i['name']\n",
    "    return np.nan\n",
    "\n",
    "df_workable['director'] = df_workable['crew'].apply(get_director)\n",
    "df_workable = df_workable.drop('crew', axis=1)\n",
    "df_workable.director.head(10)"
   ]
  },
  {
   "cell_type": "code",
   "execution_count": 10,
   "metadata": {},
   "outputs": [],
   "source": [
    "#extract genres\n",
    "df_workable['genres'] = df_workable['genres'].apply(ast.literal_eval)\n",
    "df_workable['genres'] = df_workable['genres'].apply(lambda x: [i['name'] for i in x])"
   ]
  },
  {
   "cell_type": "code",
   "execution_count": 11,
   "metadata": {},
   "outputs": [
    {
     "data": {
      "text/plain": [
       "genres\n",
       "[Drama]                     369\n",
       "[Comedy]                    282\n",
       "[Drama, Romance]            164\n",
       "[Comedy, Romance]           144\n",
       "[Comedy, Drama]             142\n",
       "[Comedy, Drama, Romance]    109\n",
       "[Horror, Thriller]           88\n",
       "[Documentary]                66\n",
       "[Horror]                     64\n",
       "[Drama, Thriller]            62\n",
       "Name: count, dtype: int64"
      ]
     },
     "execution_count": 11,
     "metadata": {},
     "output_type": "execute_result"
    }
   ],
   "source": [
    "df_workable.genres.value_counts().head(10)"
   ]
  },
  {
   "cell_type": "code",
   "execution_count": 12,
   "metadata": {},
   "outputs": [
    {
     "data": {
      "text/plain": [
       "0    [{\"id\": 1463, \"name\": \"culture clash\"}, {\"id\":...\n",
       "1    [{\"id\": 270, \"name\": \"ocean\"}, {\"id\": 726, \"na...\n",
       "2    [{\"id\": 470, \"name\": \"spy\"}, {\"id\": 818, \"name...\n",
       "3    [{\"id\": 849, \"name\": \"dc comics\"}, {\"id\": 853,...\n",
       "4    [{\"id\": 818, \"name\": \"based on novel\"}, {\"id\":...\n",
       "Name: keywords, dtype: object"
      ]
     },
     "execution_count": 12,
     "metadata": {},
     "output_type": "execute_result"
    }
   ],
   "source": [
    "#let's look at the keywords column\n",
    "df_workable['keywords'].head()"
   ]
  },
  {
   "cell_type": "code",
   "execution_count": 13,
   "metadata": {},
   "outputs": [
    {
     "data": {
      "text/plain": [
       "0    [culture clash, future, space war, space colon...\n",
       "1    [ocean, drug abuse, exotic island, east india ...\n",
       "2    [spy, based on novel, secret agent, sequel, mi...\n",
       "3    [dc comics, crime fighter, terrorist, secret i...\n",
       "4    [based on novel, mars, medallion, space travel...\n",
       "Name: keywords, dtype: object"
      ]
     },
     "execution_count": 13,
     "metadata": {},
     "output_type": "execute_result"
    }
   ],
   "source": [
    "df_workable['keywords'] = df_workable['keywords'].apply(ast.literal_eval)\n",
    "df_workable['keywords'] = df_workable['keywords'].apply(lambda x: [i['name'] for i in x])\n",
    "df_workable['keywords'].head()"
   ]
  },
  {
   "cell_type": "code",
   "execution_count": 14,
   "metadata": {},
   "outputs": [
    {
     "data": {
      "text/plain": [
       "0    [Sam Worthington, Zoe Saldana, Sigourney Weave...\n",
       "1    [Johnny Depp, Orlando Bloom, Keira Knightley, ...\n",
       "2    [Daniel Craig, Christoph Waltz, Léa Seydoux, R...\n",
       "3    [Christian Bale, Michael Caine, Gary Oldman, A...\n",
       "4    [Taylor Kitsch, Lynn Collins, Samantha Morton,...\n",
       "Name: cast, dtype: object"
      ]
     },
     "execution_count": 14,
     "metadata": {},
     "output_type": "execute_result"
    }
   ],
   "source": [
    "#extract cast\n",
    "df_workable['cast'] = df_workable['cast'].apply(ast.literal_eval)\n",
    "df_workable['cast'] = df_workable['cast'].apply(lambda x: [i['name'] for i in x])\n",
    "df_workable['cast'].head()"
   ]
  },
  {
   "cell_type": "code",
   "execution_count": 18,
   "metadata": {},
   "outputs": [
    {
     "data": {
      "text/plain": [
       "0      [samworthington, zoesaldana, sigourneyweaver]\n",
       "1         [johnnydepp, orlandobloom, keiraknightley]\n",
       "2          [danielcraig, christophwaltz, léaseydoux]\n",
       "3          [christianbale, michaelcaine, garyoldman]\n",
       "4        [taylorkitsch, lynncollins, samanthamorton]\n",
       "5          [tobeymaguire, kirstendunst, jamesfranco]\n",
       "6             [zacharylevi, mandymoore, donnamurphy]\n",
       "7     [robertdowneyjr., chrishemsworth, markruffalo]\n",
       "8         [danielradcliffe, rupertgrint, emmawatson]\n",
       "9                [benaffleck, henrycavill, galgadot]\n",
       "10         [brandonrouth, kevinspacey, katebosworth]\n",
       "11      [danielcraig, olgakurylenko, mathieuamalric]\n",
       "12        [johnnydepp, orlandobloom, keiraknightley]\n",
       "13        [johnnydepp, armiehammer, williamfichtner]\n",
       "14           [henrycavill, amyadams, michaelshannon]\n",
       "15       [benbarnes, williammoseley, annapopplewell]\n",
       "16        [robertdowneyjr., chrisevans, markruffalo]\n",
       "17            [johnnydepp, penélopecruz, ianmcshane]\n",
       "18            [willsmith, tommyleejones, joshbrolin]\n",
       "19     [martinfreeman, ianmckellen, richardarmitage]\n",
       "Name: cast, dtype: object"
      ]
     },
     "execution_count": 18,
     "metadata": {},
     "output_type": "execute_result"
    }
   ],
   "source": [
    "#remove spaces from the names\n",
    "df_workable['cast'] = df_workable['cast'].apply(lambda x: [str.lower(i.replace(\" \", \"\")) for i in x])\n",
    "df_workable['cast'].head(20)"
   ]
  },
  {
   "cell_type": "code",
   "execution_count": 19,
   "metadata": {},
   "outputs": [
    {
     "data": {
      "text/html": [
       "<div>\n",
       "<style scoped>\n",
       "    .dataframe tbody tr th:only-of-type {\n",
       "        vertical-align: middle;\n",
       "    }\n",
       "\n",
       "    .dataframe tbody tr th {\n",
       "        vertical-align: top;\n",
       "    }\n",
       "\n",
       "    .dataframe thead th {\n",
       "        text-align: right;\n",
       "    }\n",
       "</style>\n",
       "<table border=\"1\" class=\"dataframe\">\n",
       "  <thead>\n",
       "    <tr style=\"text-align: right;\">\n",
       "      <th></th>\n",
       "      <th>id</th>\n",
       "      <th>original_title</th>\n",
       "      <th>genres</th>\n",
       "      <th>keywords</th>\n",
       "      <th>cast</th>\n",
       "      <th>overview</th>\n",
       "      <th>popularity</th>\n",
       "      <th>runtime</th>\n",
       "      <th>release_date</th>\n",
       "      <th>director</th>\n",
       "    </tr>\n",
       "  </thead>\n",
       "  <tbody>\n",
       "    <tr>\n",
       "      <th>0</th>\n",
       "      <td>19995</td>\n",
       "      <td>Avatar</td>\n",
       "      <td>[action, adventure, fantasy, sciencefiction]</td>\n",
       "      <td>[cultureclash, future, spacewar, spacecolony, ...</td>\n",
       "      <td>[samworthington, zoesaldana, sigourneyweaver]</td>\n",
       "      <td>In the 22nd century, a paraplegic Marine is di...</td>\n",
       "      <td>150.437577</td>\n",
       "      <td>162.0</td>\n",
       "      <td>2009-12-10</td>\n",
       "      <td>jamescameron</td>\n",
       "    </tr>\n",
       "    <tr>\n",
       "      <th>1</th>\n",
       "      <td>285</td>\n",
       "      <td>Pirates of the Caribbean: At World's End</td>\n",
       "      <td>[adventure, fantasy, action]</td>\n",
       "      <td>[ocean, drugabuse, exoticisland, eastindiatrad...</td>\n",
       "      <td>[johnnydepp, orlandobloom, keiraknightley]</td>\n",
       "      <td>Captain Barbossa, long believed to be dead, ha...</td>\n",
       "      <td>139.082615</td>\n",
       "      <td>169.0</td>\n",
       "      <td>2007-05-19</td>\n",
       "      <td>goreverbinski</td>\n",
       "    </tr>\n",
       "    <tr>\n",
       "      <th>2</th>\n",
       "      <td>206647</td>\n",
       "      <td>Spectre</td>\n",
       "      <td>[action, adventure, crime]</td>\n",
       "      <td>[spy, basedonnovel, secretagent, sequel, mi6, ...</td>\n",
       "      <td>[danielcraig, christophwaltz, léaseydoux]</td>\n",
       "      <td>A cryptic message from Bond’s past sends him o...</td>\n",
       "      <td>107.376788</td>\n",
       "      <td>148.0</td>\n",
       "      <td>2015-10-26</td>\n",
       "      <td>sammendes</td>\n",
       "    </tr>\n",
       "    <tr>\n",
       "      <th>3</th>\n",
       "      <td>49026</td>\n",
       "      <td>The Dark Knight Rises</td>\n",
       "      <td>[action, crime, drama, thriller]</td>\n",
       "      <td>[dccomics, crimefighter, terrorist, secretiden...</td>\n",
       "      <td>[christianbale, michaelcaine, garyoldman]</td>\n",
       "      <td>Following the death of District Attorney Harve...</td>\n",
       "      <td>112.312950</td>\n",
       "      <td>165.0</td>\n",
       "      <td>2012-07-16</td>\n",
       "      <td>christophernolan</td>\n",
       "    </tr>\n",
       "    <tr>\n",
       "      <th>4</th>\n",
       "      <td>49529</td>\n",
       "      <td>John Carter</td>\n",
       "      <td>[action, adventure, sciencefiction]</td>\n",
       "      <td>[basedonnovel, mars, medallion, spacetravel, p...</td>\n",
       "      <td>[taylorkitsch, lynncollins, samanthamorton]</td>\n",
       "      <td>John Carter is a war-weary, former military ca...</td>\n",
       "      <td>43.926995</td>\n",
       "      <td>132.0</td>\n",
       "      <td>2012-03-07</td>\n",
       "      <td>andrewstanton</td>\n",
       "    </tr>\n",
       "  </tbody>\n",
       "</table>\n",
       "</div>"
      ],
      "text/plain": [
       "       id                            original_title  \\\n",
       "0   19995                                    Avatar   \n",
       "1     285  Pirates of the Caribbean: At World's End   \n",
       "2  206647                                   Spectre   \n",
       "3   49026                     The Dark Knight Rises   \n",
       "4   49529                               John Carter   \n",
       "\n",
       "                                         genres  \\\n",
       "0  [action, adventure, fantasy, sciencefiction]   \n",
       "1                  [adventure, fantasy, action]   \n",
       "2                    [action, adventure, crime]   \n",
       "3              [action, crime, drama, thriller]   \n",
       "4           [action, adventure, sciencefiction]   \n",
       "\n",
       "                                            keywords  \\\n",
       "0  [cultureclash, future, spacewar, spacecolony, ...   \n",
       "1  [ocean, drugabuse, exoticisland, eastindiatrad...   \n",
       "2  [spy, basedonnovel, secretagent, sequel, mi6, ...   \n",
       "3  [dccomics, crimefighter, terrorist, secretiden...   \n",
       "4  [basedonnovel, mars, medallion, spacetravel, p...   \n",
       "\n",
       "                                            cast  \\\n",
       "0  [samworthington, zoesaldana, sigourneyweaver]   \n",
       "1     [johnnydepp, orlandobloom, keiraknightley]   \n",
       "2      [danielcraig, christophwaltz, léaseydoux]   \n",
       "3      [christianbale, michaelcaine, garyoldman]   \n",
       "4    [taylorkitsch, lynncollins, samanthamorton]   \n",
       "\n",
       "                                            overview  popularity  runtime  \\\n",
       "0  In the 22nd century, a paraplegic Marine is di...  150.437577    162.0   \n",
       "1  Captain Barbossa, long believed to be dead, ha...  139.082615    169.0   \n",
       "2  A cryptic message from Bond’s past sends him o...  107.376788    148.0   \n",
       "3  Following the death of District Attorney Harve...  112.312950    165.0   \n",
       "4  John Carter is a war-weary, former military ca...   43.926995    132.0   \n",
       "\n",
       "  release_date          director  \n",
       "0   2009-12-10      jamescameron  \n",
       "1   2007-05-19     goreverbinski  \n",
       "2   2015-10-26         sammendes  \n",
       "3   2012-07-16  christophernolan  \n",
       "4   2012-03-07     andrewstanton  "
      ]
     },
     "execution_count": 19,
     "metadata": {},
     "output_type": "execute_result"
    }
   ],
   "source": [
    "#remove spaces from the director name, genres and keywords\n",
    "df_workable['director'] = df_workable['director'].astype('str').apply(lambda x: str.lower(x.replace(\" \", \"\")))\n",
    "df_workable['director'] = df_workable['director'].apply(lambda x: [x])\n",
    "df_workable['genres'] = df_workable['genres'].apply(lambda x: [str.lower(i.replace(\" \", \"\")) for i in x])\n",
    "df_workable['keywords'] = df_workable['keywords'].apply(lambda x: [str.lower(i.replace(\" \", \"\")) for i in x])\n",
    "df_workable.head(5)"
   ]
  },
  {
   "cell_type": "code",
   "execution_count": 21,
   "metadata": {},
   "outputs": [
    {
     "data": {
      "text/html": [
       "<div>\n",
       "<style scoped>\n",
       "    .dataframe tbody tr th:only-of-type {\n",
       "        vertical-align: middle;\n",
       "    }\n",
       "\n",
       "    .dataframe tbody tr th {\n",
       "        vertical-align: top;\n",
       "    }\n",
       "\n",
       "    .dataframe thead th {\n",
       "        text-align: right;\n",
       "    }\n",
       "</style>\n",
       "<table border=\"1\" class=\"dataframe\">\n",
       "  <thead>\n",
       "    <tr style=\"text-align: right;\">\n",
       "      <th></th>\n",
       "      <th>id</th>\n",
       "      <th>original_title</th>\n",
       "      <th>genres</th>\n",
       "      <th>keywords</th>\n",
       "      <th>cast</th>\n",
       "      <th>overview</th>\n",
       "      <th>popularity</th>\n",
       "      <th>runtime</th>\n",
       "      <th>release_date</th>\n",
       "      <th>director</th>\n",
       "    </tr>\n",
       "  </thead>\n",
       "  <tbody>\n",
       "    <tr>\n",
       "      <th>0</th>\n",
       "      <td>19995</td>\n",
       "      <td>avatar</td>\n",
       "      <td>[action, adventure, fantasy, sciencefiction]</td>\n",
       "      <td>[cultureclash, future, spacewar, spacecolony, ...</td>\n",
       "      <td>[samworthington, zoesaldana, sigourneyweaver]</td>\n",
       "      <td>in the 22nd century, a paraplegic marine is di...</td>\n",
       "      <td>150.437577</td>\n",
       "      <td>162.0</td>\n",
       "      <td>2009-12-10</td>\n",
       "      <td>jamescameron</td>\n",
       "    </tr>\n",
       "    <tr>\n",
       "      <th>1</th>\n",
       "      <td>285</td>\n",
       "      <td>pirates of the caribbean: at world's end</td>\n",
       "      <td>[adventure, fantasy, action]</td>\n",
       "      <td>[ocean, drugabuse, exoticisland, eastindiatrad...</td>\n",
       "      <td>[johnnydepp, orlandobloom, keiraknightley]</td>\n",
       "      <td>captain barbossa, long believed to be dead, ha...</td>\n",
       "      <td>139.082615</td>\n",
       "      <td>169.0</td>\n",
       "      <td>2007-05-19</td>\n",
       "      <td>goreverbinski</td>\n",
       "    </tr>\n",
       "    <tr>\n",
       "      <th>2</th>\n",
       "      <td>206647</td>\n",
       "      <td>spectre</td>\n",
       "      <td>[action, adventure, crime]</td>\n",
       "      <td>[spy, basedonnovel, secretagent, sequel, mi6, ...</td>\n",
       "      <td>[danielcraig, christophwaltz, léaseydoux]</td>\n",
       "      <td>a cryptic message from bond’s past sends him o...</td>\n",
       "      <td>107.376788</td>\n",
       "      <td>148.0</td>\n",
       "      <td>2015-10-26</td>\n",
       "      <td>sammendes</td>\n",
       "    </tr>\n",
       "    <tr>\n",
       "      <th>3</th>\n",
       "      <td>49026</td>\n",
       "      <td>the dark knight rises</td>\n",
       "      <td>[action, crime, drama, thriller]</td>\n",
       "      <td>[dccomics, crimefighter, terrorist, secretiden...</td>\n",
       "      <td>[christianbale, michaelcaine, garyoldman]</td>\n",
       "      <td>following the death of district attorney harve...</td>\n",
       "      <td>112.312950</td>\n",
       "      <td>165.0</td>\n",
       "      <td>2012-07-16</td>\n",
       "      <td>christophernolan</td>\n",
       "    </tr>\n",
       "    <tr>\n",
       "      <th>4</th>\n",
       "      <td>49529</td>\n",
       "      <td>john carter</td>\n",
       "      <td>[action, adventure, sciencefiction]</td>\n",
       "      <td>[basedonnovel, mars, medallion, spacetravel, p...</td>\n",
       "      <td>[taylorkitsch, lynncollins, samanthamorton]</td>\n",
       "      <td>john carter is a war-weary, former military ca...</td>\n",
       "      <td>43.926995</td>\n",
       "      <td>132.0</td>\n",
       "      <td>2012-03-07</td>\n",
       "      <td>andrewstanton</td>\n",
       "    </tr>\n",
       "  </tbody>\n",
       "</table>\n",
       "</div>"
      ],
      "text/plain": [
       "       id                            original_title  \\\n",
       "0   19995                                    avatar   \n",
       "1     285  pirates of the caribbean: at world's end   \n",
       "2  206647                                   spectre   \n",
       "3   49026                     the dark knight rises   \n",
       "4   49529                               john carter   \n",
       "\n",
       "                                         genres  \\\n",
       "0  [action, adventure, fantasy, sciencefiction]   \n",
       "1                  [adventure, fantasy, action]   \n",
       "2                    [action, adventure, crime]   \n",
       "3              [action, crime, drama, thriller]   \n",
       "4           [action, adventure, sciencefiction]   \n",
       "\n",
       "                                            keywords  \\\n",
       "0  [cultureclash, future, spacewar, spacecolony, ...   \n",
       "1  [ocean, drugabuse, exoticisland, eastindiatrad...   \n",
       "2  [spy, basedonnovel, secretagent, sequel, mi6, ...   \n",
       "3  [dccomics, crimefighter, terrorist, secretiden...   \n",
       "4  [basedonnovel, mars, medallion, spacetravel, p...   \n",
       "\n",
       "                                            cast  \\\n",
       "0  [samworthington, zoesaldana, sigourneyweaver]   \n",
       "1     [johnnydepp, orlandobloom, keiraknightley]   \n",
       "2      [danielcraig, christophwaltz, léaseydoux]   \n",
       "3      [christianbale, michaelcaine, garyoldman]   \n",
       "4    [taylorkitsch, lynncollins, samanthamorton]   \n",
       "\n",
       "                                            overview  popularity  runtime  \\\n",
       "0  in the 22nd century, a paraplegic marine is di...  150.437577    162.0   \n",
       "1  captain barbossa, long believed to be dead, ha...  139.082615    169.0   \n",
       "2  a cryptic message from bond’s past sends him o...  107.376788    148.0   \n",
       "3  following the death of district attorney harve...  112.312950    165.0   \n",
       "4  john carter is a war-weary, former military ca...   43.926995    132.0   \n",
       "\n",
       "  release_date          director  \n",
       "0   2009-12-10      jamescameron  \n",
       "1   2007-05-19     goreverbinski  \n",
       "2   2015-10-26         sammendes  \n",
       "3   2012-07-16  christophernolan  \n",
       "4   2012-03-07     andrewstanton  "
      ]
     },
     "execution_count": 21,
     "metadata": {},
     "output_type": "execute_result"
    }
   ],
   "source": [
    "#make overview column lower case\n",
    "df_workable['overview'] = df_workable['overview'].apply(lambda x: str.lower(x))\n",
    "df_workable['original_title'] = df_workable['original_title'].apply(lambda x: str.lower(x))\n",
    "df_workable.head(5)"
   ]
  },
  {
   "cell_type": "code",
   "execution_count": 22,
   "metadata": {},
   "outputs": [
    {
     "data": {
      "text/plain": [
       "0    [in, the, 22nd, century,, a, paraplegic, marin...\n",
       "1    [captain, barbossa,, long, believed, to, be, d...\n",
       "2    [a, cryptic, message, from, bond’s, past, send...\n",
       "3    [following, the, death, of, district, attorney...\n",
       "4    [john, carter, is, a, war-weary,, former, mili...\n",
       "Name: overview, dtype: object"
      ]
     },
     "execution_count": 22,
     "metadata": {},
     "output_type": "execute_result"
    }
   ],
   "source": [
    "#change the overview column to word list\n",
    "df_workable['overview'] = df_workable['overview'].apply(lambda x: x.split())\n",
    "df_workable['overview'].head()  \n"
   ]
  },
  {
   "cell_type": "code",
   "execution_count": 29,
   "metadata": {},
   "outputs": [
    {
     "data": {
      "text/html": [
       "<div>\n",
       "<style scoped>\n",
       "    .dataframe tbody tr th:only-of-type {\n",
       "        vertical-align: middle;\n",
       "    }\n",
       "\n",
       "    .dataframe tbody tr th {\n",
       "        vertical-align: top;\n",
       "    }\n",
       "\n",
       "    .dataframe thead th {\n",
       "        text-align: right;\n",
       "    }\n",
       "</style>\n",
       "<table border=\"1\" class=\"dataframe\">\n",
       "  <thead>\n",
       "    <tr style=\"text-align: right;\">\n",
       "      <th></th>\n",
       "      <th>id</th>\n",
       "      <th>original_title</th>\n",
       "      <th>genres</th>\n",
       "      <th>keywords</th>\n",
       "      <th>cast</th>\n",
       "      <th>overview</th>\n",
       "      <th>popularity</th>\n",
       "      <th>runtime</th>\n",
       "      <th>release_date</th>\n",
       "      <th>director</th>\n",
       "      <th>soup</th>\n",
       "    </tr>\n",
       "  </thead>\n",
       "  <tbody>\n",
       "    <tr>\n",
       "      <th>0</th>\n",
       "      <td>19995</td>\n",
       "      <td>avatar</td>\n",
       "      <td>[action, adventure, fantasy, sciencefiction]</td>\n",
       "      <td>[cultureclash, future, spacewar, spacecolony, ...</td>\n",
       "      <td>[samworthington, zoesaldana, sigourneyweaver]</td>\n",
       "      <td>[in, the, 22nd, century,, a, paraplegic, marin...</td>\n",
       "      <td>150.437577</td>\n",
       "      <td>162.0</td>\n",
       "      <td>2009-12-10</td>\n",
       "      <td>[jamescameron]</td>\n",
       "      <td>[in, the, 22nd, century,, a, paraplegic, marin...</td>\n",
       "    </tr>\n",
       "    <tr>\n",
       "      <th>1</th>\n",
       "      <td>285</td>\n",
       "      <td>pirates of the caribbean: at world's end</td>\n",
       "      <td>[adventure, fantasy, action]</td>\n",
       "      <td>[ocean, drugabuse, exoticisland, eastindiatrad...</td>\n",
       "      <td>[johnnydepp, orlandobloom, keiraknightley]</td>\n",
       "      <td>[captain, barbossa,, long, believed, to, be, d...</td>\n",
       "      <td>139.082615</td>\n",
       "      <td>169.0</td>\n",
       "      <td>2007-05-19</td>\n",
       "      <td>[goreverbinski]</td>\n",
       "      <td>[captain, barbossa,, long, believed, to, be, d...</td>\n",
       "    </tr>\n",
       "    <tr>\n",
       "      <th>2</th>\n",
       "      <td>206647</td>\n",
       "      <td>spectre</td>\n",
       "      <td>[action, adventure, crime]</td>\n",
       "      <td>[spy, basedonnovel, secretagent, sequel, mi6, ...</td>\n",
       "      <td>[danielcraig, christophwaltz, léaseydoux]</td>\n",
       "      <td>[a, cryptic, message, from, bond’s, past, send...</td>\n",
       "      <td>107.376788</td>\n",
       "      <td>148.0</td>\n",
       "      <td>2015-10-26</td>\n",
       "      <td>[sammendes]</td>\n",
       "      <td>[a, cryptic, message, from, bond’s, past, send...</td>\n",
       "    </tr>\n",
       "    <tr>\n",
       "      <th>3</th>\n",
       "      <td>49026</td>\n",
       "      <td>the dark knight rises</td>\n",
       "      <td>[action, crime, drama, thriller]</td>\n",
       "      <td>[dccomics, crimefighter, terrorist, secretiden...</td>\n",
       "      <td>[christianbale, michaelcaine, garyoldman]</td>\n",
       "      <td>[following, the, death, of, district, attorney...</td>\n",
       "      <td>112.312950</td>\n",
       "      <td>165.0</td>\n",
       "      <td>2012-07-16</td>\n",
       "      <td>[christophernolan]</td>\n",
       "      <td>[following, the, death, of, district, attorney...</td>\n",
       "    </tr>\n",
       "    <tr>\n",
       "      <th>4</th>\n",
       "      <td>49529</td>\n",
       "      <td>john carter</td>\n",
       "      <td>[action, adventure, sciencefiction]</td>\n",
       "      <td>[basedonnovel, mars, medallion, spacetravel, p...</td>\n",
       "      <td>[taylorkitsch, lynncollins, samanthamorton]</td>\n",
       "      <td>[john, carter, is, a, war-weary,, former, mili...</td>\n",
       "      <td>43.926995</td>\n",
       "      <td>132.0</td>\n",
       "      <td>2012-03-07</td>\n",
       "      <td>[andrewstanton]</td>\n",
       "      <td>[john, carter, is, a, war-weary,, former, mili...</td>\n",
       "    </tr>\n",
       "  </tbody>\n",
       "</table>\n",
       "</div>"
      ],
      "text/plain": [
       "       id                            original_title  \\\n",
       "0   19995                                    avatar   \n",
       "1     285  pirates of the caribbean: at world's end   \n",
       "2  206647                                   spectre   \n",
       "3   49026                     the dark knight rises   \n",
       "4   49529                               john carter   \n",
       "\n",
       "                                         genres  \\\n",
       "0  [action, adventure, fantasy, sciencefiction]   \n",
       "1                  [adventure, fantasy, action]   \n",
       "2                    [action, adventure, crime]   \n",
       "3              [action, crime, drama, thriller]   \n",
       "4           [action, adventure, sciencefiction]   \n",
       "\n",
       "                                            keywords  \\\n",
       "0  [cultureclash, future, spacewar, spacecolony, ...   \n",
       "1  [ocean, drugabuse, exoticisland, eastindiatrad...   \n",
       "2  [spy, basedonnovel, secretagent, sequel, mi6, ...   \n",
       "3  [dccomics, crimefighter, terrorist, secretiden...   \n",
       "4  [basedonnovel, mars, medallion, spacetravel, p...   \n",
       "\n",
       "                                            cast  \\\n",
       "0  [samworthington, zoesaldana, sigourneyweaver]   \n",
       "1     [johnnydepp, orlandobloom, keiraknightley]   \n",
       "2      [danielcraig, christophwaltz, léaseydoux]   \n",
       "3      [christianbale, michaelcaine, garyoldman]   \n",
       "4    [taylorkitsch, lynncollins, samanthamorton]   \n",
       "\n",
       "                                            overview  popularity  runtime  \\\n",
       "0  [in, the, 22nd, century,, a, paraplegic, marin...  150.437577    162.0   \n",
       "1  [captain, barbossa,, long, believed, to, be, d...  139.082615    169.0   \n",
       "2  [a, cryptic, message, from, bond’s, past, send...  107.376788    148.0   \n",
       "3  [following, the, death, of, district, attorney...  112.312950    165.0   \n",
       "4  [john, carter, is, a, war-weary,, former, mili...   43.926995    132.0   \n",
       "\n",
       "  release_date            director  \\\n",
       "0   2009-12-10      [jamescameron]   \n",
       "1   2007-05-19     [goreverbinski]   \n",
       "2   2015-10-26         [sammendes]   \n",
       "3   2012-07-16  [christophernolan]   \n",
       "4   2012-03-07     [andrewstanton]   \n",
       "\n",
       "                                                soup  \n",
       "0  [in, the, 22nd, century,, a, paraplegic, marin...  \n",
       "1  [captain, barbossa,, long, believed, to, be, d...  \n",
       "2  [a, cryptic, message, from, bond’s, past, send...  \n",
       "3  [following, the, death, of, district, attorney...  \n",
       "4  [john, carter, is, a, war-weary,, former, mili...  "
      ]
     },
     "execution_count": 29,
     "metadata": {},
     "output_type": "execute_result"
    }
   ],
   "source": [
    "#make a soup column\n",
    "\n",
    "df_workable['soup'] =  df_workable['overview']+ df_workable['keywords'] + df_workable['cast'] + df_workable['director'] + df_workable['genres']\n",
    "df_workable.head(5)\n"
   ]
  },
  {
   "cell_type": "code",
   "execution_count": 25,
   "metadata": {},
   "outputs": [],
   "source": [
    "#convert release_date to datetime\n",
    "df_workable['release_date'] = pd.to_datetime(df_workable['release_date'], errors='coerce')  #coerce will put NaT for the errors"
   ]
  },
  {
   "cell_type": "code",
   "execution_count": 30,
   "metadata": {},
   "outputs": [
    {
     "data": {
      "text/plain": [
       "0    in the 22nd century, a paraplegic marine is di...\n",
       "1    captain barbossa, long believed to be dead, ha...\n",
       "2    a cryptic message from bond’s past sends him o...\n",
       "3    following the death of district attorney harve...\n",
       "4    john carter is a war-weary, former military ca...\n",
       "Name: soup, dtype: object"
      ]
     },
     "execution_count": 30,
     "metadata": {},
     "output_type": "execute_result"
    }
   ],
   "source": [
    "#final look at the data before embeddings\n",
    "df_workable['soup'] = df_workable['soup'].apply(lambda x: ' '.join(x))\n",
    "df_workable.soup.head(5)"
   ]
  },
  {
   "cell_type": "code",
   "execution_count": 31,
   "metadata": {},
   "outputs": [
    {
     "data": {
      "text/html": [
       "<div>\n",
       "<style scoped>\n",
       "    .dataframe tbody tr th:only-of-type {\n",
       "        vertical-align: middle;\n",
       "    }\n",
       "\n",
       "    .dataframe tbody tr th {\n",
       "        vertical-align: top;\n",
       "    }\n",
       "\n",
       "    .dataframe thead th {\n",
       "        text-align: right;\n",
       "    }\n",
       "</style>\n",
       "<table border=\"1\" class=\"dataframe\">\n",
       "  <thead>\n",
       "    <tr style=\"text-align: right;\">\n",
       "      <th></th>\n",
       "      <th>id</th>\n",
       "      <th>original_title</th>\n",
       "      <th>soup</th>\n",
       "      <th>popularity</th>\n",
       "      <th>runtime</th>\n",
       "      <th>release_date</th>\n",
       "    </tr>\n",
       "  </thead>\n",
       "  <tbody>\n",
       "    <tr>\n",
       "      <th>0</th>\n",
       "      <td>19995</td>\n",
       "      <td>avatar</td>\n",
       "      <td>in the 22nd century, a paraplegic marine is di...</td>\n",
       "      <td>150.437577</td>\n",
       "      <td>162.0</td>\n",
       "      <td>2009-12-10</td>\n",
       "    </tr>\n",
       "    <tr>\n",
       "      <th>1</th>\n",
       "      <td>285</td>\n",
       "      <td>pirates of the caribbean: at world's end</td>\n",
       "      <td>captain barbossa, long believed to be dead, ha...</td>\n",
       "      <td>139.082615</td>\n",
       "      <td>169.0</td>\n",
       "      <td>2007-05-19</td>\n",
       "    </tr>\n",
       "    <tr>\n",
       "      <th>2</th>\n",
       "      <td>206647</td>\n",
       "      <td>spectre</td>\n",
       "      <td>a cryptic message from bond’s past sends him o...</td>\n",
       "      <td>107.376788</td>\n",
       "      <td>148.0</td>\n",
       "      <td>2015-10-26</td>\n",
       "    </tr>\n",
       "    <tr>\n",
       "      <th>3</th>\n",
       "      <td>49026</td>\n",
       "      <td>the dark knight rises</td>\n",
       "      <td>following the death of district attorney harve...</td>\n",
       "      <td>112.312950</td>\n",
       "      <td>165.0</td>\n",
       "      <td>2012-07-16</td>\n",
       "    </tr>\n",
       "    <tr>\n",
       "      <th>4</th>\n",
       "      <td>49529</td>\n",
       "      <td>john carter</td>\n",
       "      <td>john carter is a war-weary, former military ca...</td>\n",
       "      <td>43.926995</td>\n",
       "      <td>132.0</td>\n",
       "      <td>2012-03-07</td>\n",
       "    </tr>\n",
       "  </tbody>\n",
       "</table>\n",
       "</div>"
      ],
      "text/plain": [
       "       id                            original_title  \\\n",
       "0   19995                                    avatar   \n",
       "1     285  pirates of the caribbean: at world's end   \n",
       "2  206647                                   spectre   \n",
       "3   49026                     the dark knight rises   \n",
       "4   49529                               john carter   \n",
       "\n",
       "                                                soup  popularity  runtime  \\\n",
       "0  in the 22nd century, a paraplegic marine is di...  150.437577    162.0   \n",
       "1  captain barbossa, long believed to be dead, ha...  139.082615    169.0   \n",
       "2  a cryptic message from bond’s past sends him o...  107.376788    148.0   \n",
       "3  following the death of district attorney harve...  112.312950    165.0   \n",
       "4  john carter is a war-weary, former military ca...   43.926995    132.0   \n",
       "\n",
       "  release_date  \n",
       "0   2009-12-10  \n",
       "1   2007-05-19  \n",
       "2   2015-10-26  \n",
       "3   2012-07-16  \n",
       "4   2012-03-07  "
      ]
     },
     "execution_count": 31,
     "metadata": {},
     "output_type": "execute_result"
    }
   ],
   "source": [
    "#Now let's create a new dataframe with the columns that we need\n",
    "df_new = df_workable[['id', 'original_title', 'soup', 'popularity', 'runtime', 'release_date']]\n",
    "df_new.head(5)"
   ]
  },
  {
   "cell_type": "markdown",
   "metadata": {
    "vscode": {
     "languageId": "tex"
    }
   },
   "source": [
    "## Creating Embeddings\n",
    "\n",
    "Embeddings are a crucial component in natural language processing (NLP) and machine learning. They are dense vector representations of words, phrases, or other entities that capture semantic meaning and relationships. Here, we will discuss why we create embeddings and their targets.\n",
    "\n",
    "### Why Create Embeddings?\n",
    "\n",
    "1. **Dimensionality Reduction**:\n",
    "    - Embeddings reduce the high-dimensional space of one-hot encoded vectors into a lower-dimensional space, making computations more efficient.\n",
    "\n",
    "2. **Semantic Similarity**:\n",
    "    - Embeddings capture semantic relationships between words. Words with similar meanings have similar vector representations, enabling better understanding and processing of language.\n",
    "\n",
    "3. **Handling Sparsity**:\n",
    "    - One-hot encoding results in sparse vectors with many zeros. Embeddings provide dense representations, which are more efficient for machine learning models.\n",
    "\n",
    "4. **Improved Performance**:\n",
    "    - Embeddings improve the performance of NLP models by providing meaningful representations that capture context and relationships between words.\n",
    "\n",
    "5. **Transfer Learning**:\n",
    "    - Pre-trained embeddings (e.g., Word2Vec, GloVe, BERT) can be used across different tasks, leveraging knowledge from large datasets and reducing the need for extensive training data.\n",
    "\n",
    "### Targets of Embeddings\n",
    "\n",
    "1. **Words**:\n",
    "    - Word embeddings represent individual words in a continuous vector space. Examples include Word2Vec and GloVe.\n",
    "\n",
    "2. **Sentences**:\n",
    "    - Sentence embeddings capture the meaning of entire sentences. They are useful for tasks like sentence similarity and sentiment analysis. Examples include Universal Sentence Encoder and Sentence-BERT.\n",
    "\n",
    "3. **Documents**:\n",
    "    - Document embeddings represent entire documents or paragraphs. They are used in tasks like document classification and topic modeling. Examples include Doc2Vec.\n",
    "\n",
    "4. **Entities**:\n",
    "    - Entity embeddings represent categorical variables or entities in a dataset. They are used in recommendation systems and structured data tasks.\n",
    "\n",
    "By creating embeddings, we aim to transform raw data into meaningful representations that can be effectively used by machine learning models to achieve better performance and insights."
   ]
  },
  {
   "cell_type": "code",
   "execution_count": 32,
   "metadata": {},
   "outputs": [
    {
     "name": "stdout",
     "output_type": "stream",
     "text": [
      "Defaulting to user installation because normal site-packages is not writeable\n",
      "Collecting nltk\n",
      "  Downloading nltk-3.9.1-py3-none-any.whl.metadata (2.9 kB)\n",
      "Requirement already satisfied: click in c:\\programdata\\anaconda3\\envs\\tfadmin\\lib\\site-packages (from nltk) (8.1.7)\n",
      "Requirement already satisfied: joblib in c:\\programdata\\anaconda3\\envs\\tfadmin\\lib\\site-packages (from nltk) (1.4.0)\n",
      "Collecting regex>=2021.8.3 (from nltk)\n",
      "  Downloading regex-2024.11.6-cp310-cp310-win_amd64.whl.metadata (41 kB)\n",
      "     ---------------------------------------- 0.0/41.5 kB ? eta -:--:--\n",
      "     ----------------------------- ---------- 30.7/41.5 kB 1.4 MB/s eta 0:00:01\n",
      "     -------------------------------------- 41.5/41.5 kB 666.1 kB/s eta 0:00:00\n",
      "Collecting tqdm (from nltk)\n",
      "  Downloading tqdm-4.67.1-py3-none-any.whl.metadata (57 kB)\n",
      "     ---------------------------------------- 0.0/57.7 kB ? eta -:--:--\n",
      "     ---------------------------------------- 57.7/57.7 kB 3.0 MB/s eta 0:00:00\n",
      "Requirement already satisfied: colorama in c:\\programdata\\anaconda3\\envs\\tfadmin\\lib\\site-packages (from click->nltk) (0.4.6)\n",
      "Downloading nltk-3.9.1-py3-none-any.whl (1.5 MB)\n",
      "   ---------------------------------------- 0.0/1.5 MB ? eta -:--:--\n",
      "   -- ------------------------------------- 0.1/1.5 MB 6.4 MB/s eta 0:00:01\n",
      "   ----- ---------------------------------- 0.2/1.5 MB 3.1 MB/s eta 0:00:01\n",
      "   ---------- ----------------------------- 0.4/1.5 MB 3.4 MB/s eta 0:00:01\n",
      "   ------------- -------------------------- 0.5/1.5 MB 3.6 MB/s eta 0:00:01\n",
      "   ----------------- ---------------------- 0.7/1.5 MB 3.5 MB/s eta 0:00:01\n",
      "   ---------------------- ----------------- 0.8/1.5 MB 3.7 MB/s eta 0:00:01\n",
      "   ------------------------- -------------- 1.0/1.5 MB 3.6 MB/s eta 0:00:01\n",
      "   ------------------------------ --------- 1.1/1.5 MB 3.8 MB/s eta 0:00:01\n",
      "   ---------------------------------- ----- 1.3/1.5 MB 3.7 MB/s eta 0:00:01\n",
      "   -------------------------------------- - 1.4/1.5 MB 3.8 MB/s eta 0:00:01\n",
      "   ---------------------------------------- 1.5/1.5 MB 3.7 MB/s eta 0:00:00\n",
      "Downloading regex-2024.11.6-cp310-cp310-win_amd64.whl (274 kB)\n",
      "   ---------------------------------------- 0.0/274.0 kB ? eta -:--:--\n",
      "   -------------------- ------------------- 143.4/274.0 kB 4.3 MB/s eta 0:00:01\n",
      "   ---------------------------------------- 274.0/274.0 kB 4.2 MB/s eta 0:00:00\n",
      "Downloading tqdm-4.67.1-py3-none-any.whl (78 kB)\n",
      "   ---------------------------------------- 0.0/78.5 kB ? eta -:--:--\n",
      "   ---------------------------------------- 78.5/78.5 kB 2.2 MB/s eta 0:00:00\n",
      "Installing collected packages: tqdm, regex, nltk\n",
      "Successfully installed nltk-3.9.1 regex-2024.11.6 tqdm-4.67.1\n"
     ]
    },
    {
     "name": "stderr",
     "output_type": "stream",
     "text": [
      "  WARNING: The script tqdm.exe is installed in 'C:\\Users\\Omar Hady\\AppData\\Roaming\\Python\\Python310\\Scripts' which is not on PATH.\n",
      "  Consider adding this directory to PATH or, if you prefer to suppress this warning, use --no-warn-script-location.\n",
      "  WARNING: The script nltk.exe is installed in 'C:\\Users\\Omar Hady\\AppData\\Roaming\\Python\\Python310\\Scripts' which is not on PATH.\n",
      "  Consider adding this directory to PATH or, if you prefer to suppress this warning, use --no-warn-script-location.\n"
     ]
    }
   ],
   "source": [
    "!pip install nltk"
   ]
  },
  {
   "cell_type": "code",
   "execution_count": 33,
   "metadata": {},
   "outputs": [
    {
     "name": "stderr",
     "output_type": "stream",
     "text": [
      "C:\\Users\\Omar Hady\\AppData\\Local\\Temp\\ipykernel_17336\\2746549162.py:9: SettingWithCopyWarning: \n",
      "A value is trying to be set on a copy of a slice from a DataFrame.\n",
      "Try using .loc[row_indexer,col_indexer] = value instead\n",
      "\n",
      "See the caveats in the documentation: https://pandas.pydata.org/pandas-docs/stable/user_guide/indexing.html#returning-a-view-versus-a-copy\n",
      "  df_new['soup'] = df_new['soup'].apply(lambda x: ' '.join([stemmer.stem(i) for i in x.split()]))\n"
     ]
    },
    {
     "data": {
      "text/plain": [
       "0    in the 22nd century, a parapleg marin is dispa...\n",
       "1    captain barbossa, long believ to be dead, ha c...\n",
       "2    a cryptic messag from bond’ past send him on a...\n",
       "3    follow the death of district attorney harvey d...\n",
       "4    john carter is a war-weary, former militari ca...\n",
       "Name: soup, dtype: object"
      ]
     },
     "execution_count": 33,
     "metadata": {},
     "output_type": "execute_result"
    }
   ],
   "source": [
    "#Now let's preprocess the soup column using nltk\n",
    "from nltk.tokenize import word_tokenize\n",
    "from nltk.stem import WordNetLemmatizer\n",
    "from nltk.corpus import wordnet\n",
    "from nltk import PorterStemmer\n",
    "\n",
    "#We start with stemming\n",
    "stemmer = PorterStemmer()\n",
    "df_new['soup'] = df_new['soup'].apply(lambda x: ' '.join([stemmer.stem(i) for i in x.split()]))\n",
    "df_new['soup'].head(5)"
   ]
  },
  {
   "cell_type": "code",
   "execution_count": 34,
   "metadata": {},
   "outputs": [
    {
     "name": "stderr",
     "output_type": "stream",
     "text": [
      "C:\\Users\\Omar Hady\\AppData\\Local\\Temp\\ipykernel_17336\\68794988.py:3: SettingWithCopyWarning: \n",
      "A value is trying to be set on a copy of a slice from a DataFrame.\n",
      "Try using .loc[row_indexer,col_indexer] = value instead\n",
      "\n",
      "See the caveats in the documentation: https://pandas.pydata.org/pandas-docs/stable/user_guide/indexing.html#returning-a-view-versus-a-copy\n",
      "  df_new['soup'] = df_new['soup'].apply(lambda x: ' '.join([lemmatizer.lemmatize(i) for i in x.split()]))\n"
     ]
    },
    {
     "data": {
      "text/plain": [
       "0    in the 22nd century, a parapleg marin is dispa...\n",
       "1    captain barbossa, long believ to be dead, ha c...\n",
       "2    a cryptic messag from bond’ past send him on a...\n",
       "3    follow the death of district attorney harvey d...\n",
       "4    john carter is a war-weary, former militari ca...\n",
       "Name: soup, dtype: object"
      ]
     },
     "execution_count": 34,
     "metadata": {},
     "output_type": "execute_result"
    }
   ],
   "source": [
    "#second lemmatisation\n",
    "lemmatizer = WordNetLemmatizer()\n",
    "df_new['soup'] = df_new['soup'].apply(lambda x: ' '.join([lemmatizer.lemmatize(i) for i in x.split()]))\n",
    "df_new['soup'].head(5)"
   ]
  },
  {
   "cell_type": "code",
   "execution_count": 35,
   "metadata": {},
   "outputs": [
    {
     "data": {
      "text/plain": [
       "array([[1.        , 0.06776309, 0.06862635, ..., 0.03571429, 0.        ,\n",
       "        0.        ],\n",
       "       [0.06776309, 1.        , 0.05063697, ..., 0.01976424, 0.        ,\n",
       "        0.02132007],\n",
       "       [0.06862635, 0.05063697, 1.        , ..., 0.02001602, 0.        ,\n",
       "        0.        ],\n",
       "       ...,\n",
       "       [0.03571429, 0.01976424, 0.02001602, ..., 1.        , 0.03311331,\n",
       "        0.03370999],\n",
       "       [0.        , 0.        , 0.        , ..., 0.03311331, 1.        ,\n",
       "        0.07143996],\n",
       "       [0.        , 0.02132007, 0.        , ..., 0.03370999, 0.07143996,\n",
       "        1.        ]])"
      ]
     },
     "execution_count": 35,
     "metadata": {},
     "output_type": "execute_result"
    }
   ],
   "source": [
    "#Now let's create embeddings for the soup column\n",
    "from sklearn.feature_extraction.text import CountVectorizer\n",
    "from sklearn.metrics.pairwise import cosine_similarity\n",
    "\n",
    "count = CountVectorizer(stop_words='english')\n",
    "count_matrix = count.fit_transform(df_new['soup'])\n",
    "cosine_sim = cosine_similarity(count_matrix, count_matrix)\n",
    "cosine_sim\n"
   ]
  },
  {
   "cell_type": "code",
   "execution_count": 47,
   "metadata": {},
   "outputs": [
    {
     "data": {
      "text/plain": [
       "0                                      avatar\n",
       "1    pirates of the caribbean: at world's end\n",
       "2                                     spectre\n",
       "3                       the dark knight rises\n",
       "4                                 john carter\n",
       "5                                spider-man 3\n",
       "6                                     tangled\n",
       "7                     avengers: age of ultron\n",
       "8      harry potter and the half-blood prince\n",
       "9          batman v superman: dawn of justice\n",
       "Name: original_title, dtype: object"
      ]
     },
     "execution_count": 47,
     "metadata": {},
     "output_type": "execute_result"
    }
   ],
   "source": [
    "#Now let's create a function that takes a movie title as input and returns the 10 most similar movies\n",
    "indices = pd.Series(df_new.index, index=df_new['original_title']).drop_duplicates() #create a series with the movie title as index and the index as value\n",
    "\n",
    "def get_recommendations(title, cosine_sim=cosine_sim):\n",
    "    idx = indices[title]\n",
    "    sim_scores = list(enumerate(cosine_sim[idx]))\n",
    "    sim_scores = sorted(sim_scores, key=lambda x: x[1], reverse=True)\n",
    "    sim_scores = sim_scores[1:11]\n",
    "    movie_indices = [i[0] for i in sim_scores]\n",
    "    return df_new['original_title'].iloc[movie_indices]\n",
    "df_new['original_title'].head(10)\n"
   ]
  },
  {
   "cell_type": "code",
   "execution_count": 48,
   "metadata": {},
   "outputs": [
    {
     "name": "stdout",
     "output_type": "stream",
     "text": [
      "[(0, 0.030116930096841705), (1, 0.016666666666666666), (2, 0.016878989451394443), (3, 0.043721722385596865), (4, 0.0404888165089458), (5, 0.026352313834736494), (6, 0.9999999999999991), (7, 0.04225771273642583), (8, 0.03465834966066909), (9, 0.04188539082916955), (10, 0.014617633655117155), (11, 0.01384091330895666), (12, 0.017099639201419235), (13, 0.06168610084980043), (14, 0.016074760739013736), (15, 0.012012499502607452), (16, 0.03214952147802747), (17, 0.01209127083516686), (18, 0.011712139482105107), (19, 0.011785113019775792), (20, 0.03501504876259268), (21, 0.031083493608010458), (22, 0.0), (23, 0.033757978902788886), (24, 0.03178208630818641), (25, 0.018490006540840973), (26, 0.030751040267629502), (27, 0.01098967455659645), (28, 0.015214515486254616), (29, 0.024674440339920174), (30, 0.013608276348795433), (31, 0.016878989451394443), (32, 0.01259881576697424), (33, 0.018932061141568826), (34, 0.11180339887498947), (35, 0.03726779962499649), (36, 0.028171808490950554), (37, 0.03253000243161777), (38, 0.035355339059327376), (39, 0.09128709291752769), (40, 0.05962847939999439), (41, 0.013723116159876973), (42, 0.13961796943056518), (43, 0.013723116159876973), (44, 0.04057204129667897), (45, 0.037529331252040075), (46, 0.017329174830334543), (47, 0.023870495801314427), (48, 0.06487491201346024), (49, 0.016074760739013736), (50, 0.04822428221704121), (51, 0.042810753271195705), (52, 0.02923526731023431), (53, 0.025019554168026717), (54, 0.07231015260621872), (55, 0.10540925533894599), (56, 0.041344911529736156), (57, 0.05536365323582664), (58, 0.04152273992686998), (59, 0.01048861292545921), (60, 0.021629522817435007), (61, 0.018932061141568826), (62, 0.021081851067789197), (63, 0.05929733891373501), (64, 0.0), (65, 0.023570226039551584), (66, 0.08032193289024989), (67, 0.10879222762803661), (68, 0.01807753815155468), (69, 0.015846089618050948), (70, 0.015713484026367724), (71, 0.015375520133814751), (72, 0.015541746804005229), (73, 0.07453559924999298), (74, 0.013608276348795433), (75, 0.028688765527462346), (76, 0.05737753105492469), (77, 0.0617033532905936), (78, 0.04517539514526256), (79, 0.012689783127114683), (80, 0.031158847642487792), (81, 0.05976143046671968), (82, 0.015541746804005229), (83, 0.026352313834736494), (84, 0.011366572324507891), (85, 0.020286020648339485), (86, 0.08451542547285167), (87, 0.062166987216020916), (88, 0.06356417261637282), (89, 0.04984447862792268), (90, 0.07126966450997983), (91, 0.033757978902788886), (92, 0.036514837167011066), (93, 0.013386988815041648), (94, 0.03513641844631532), (95, 0.0), (96, 0.044280744277004756), (97, 0.02656063576298652), (98, 0.01421338109037403), (99, 0.05904099236933968), (100, 0.021081851067789197), (101, 0.01476024809233492), (102, 0.012422599874998833), (103, 0.045732956038002356), (104, 0.03253000243161777), (105, 0.0), (106, 0.09938079899999067), (107, 0.0372677996249965), (108, 0.02842676218074806), (109, 0.035634832254989916), (110, 0.013386988815041648), (111, 0.029814239699997195), (112, 0.015375520133814751), (113, 0.03952847075210474), (114, 0.026773977630083295), (115, 0.02556549962824568), (116, 0.026352313834736494), (117, 0.017329174830334543), (118, 0.057977103565244846), (119, 0.01307440900921227), (120, 0.05354795526016659), (121, 0.044280744277004756), (122, 0.05423261445466404), (123, 0.01328031788149326), (124, 0.11103498152964078), (125, 0.015416576335429344), (126, 0.02895814951753796), (127, 0.044946657497549475), (128, 0.02923526731023431), (129, 0.012337220169960087), (130, 0.10434983894999018), (131, 0.044721359549995794), (132, 0.0), (133, 0.015541746804005229), (134, 0.018633899812498245), (135, 0.0), (136, 0.04116934847963092), (137, 0.056343616981901115), (138, 0.04517539514526256), (139, 0.04684855792842043), (140, 0.026773977630083295), (141, 0.07126966450997983), (142, 0.05962847939999439), (143, 0.05151116061908372), (144, 0.07172191381865586), (145, 0.032274861218395144), (146, 0.06236095644623236), (147, 0.016462159944159827), (148, 0.01756820922315766), (149, 0.023424278964210215), (150, 0.02097722585091842), (151, 0.05270462766947298), (152, 0.06584863977663931), (153, 0.023281009858985936), (154, 0.0890870806374748), (155, 0.0), (156, 0.011501092655705904), (157, 0.03669879217087869), (158, 0.024343224778007377), (159, 0.018633899812498245), (160, 0.08229511997978235), (161, 0.03726779962499649), (162, 0.020672455764868078), (163, 0.044280744277004756), (164, 0.053985088678594396), (165, 0.01384091330895666), (166, 0.01476024809233492), (167, 0.05270462766947298), (168, 0.05847053462046862), (169, 0.05229763603684908), (170, 0.03952847075210474), (171, 0.0), (172, 0.032924319888319654), (173, 0.06980898471528259), (174, 0.014344382763731173), (175, 0.01259881576697424), (176, 0.016462159944159827), (177, 0.05976143046671968), (178, 0.06537204504606135), (179, 0.058722021951470346), (180, 0.04969039949999533), (181, 0.03779644730092272), (182, 0.10379985922153638), (183, 0.021081851067789197), (184, 0.05270462766947299), (185, 0.0), (186, 0.022602116787360346), (187, 0.07453559924999299), (188, 0.023140337816687444), (189, 0.046004370622823615), (190, 0.04348853820356281), (191, 0.04303314829119352), (192, 0.027216552697590865), (193, 0.009105972745135884), (194, 0.09877295966495897), (195, 0.050636968354183326), (196, 0.07856742013183862), (197, 0.022733144649015782), (198, 0.03513641844631532), (199, 0.012422599874998833), (200, 0.0), (201, 0.01421338109037403), (202, 0.04822428221704121), (203, 0.015058465048420852), (204, 0.0408248290463863), (205, 0.03984095364447979), (206, 0.019325701188414948), (207, 0.014617633655117155), (208, 0.016666666666666666), (209, 0.03333333333333333), (210, 0.02952049618466984), (211, 0.03834824944236852), (212, 0.011935247900657213), (213, 0.036037498507822355), (214, 0.0), (215, 0.026352313834736494), (216, 0.03333333333333333), (217, 0.025019554168026717), (218, 0.04836508334066744), (219, 0.03786412228313765), (220, 0.016878989451394443), (221, 0.07239537379384489), (222, 0.011570168908343722), (223, 0.015891043154093204), (224, 0.04303314829119353), (225, 0.07453559924999299), (226, 0.0), (227, 0.03253000243161777), (228, 0.03984095364447978), (229, 0.010143010324169742), (230, 0.030015011259383207), (231, 0.03922322702763681), (232, 0.03419927840283847), (233, 0.019245008972987525), (234, 0.07905694150420949), (235, 0.05443310539518173), (236, 0.030429030972509232), (237, 0.06506000486323554), (238, 0.034099716973523674), (239, 0.022473328748774734), (240, 0.012509777084013358), (241, 0.014907119849998597), (242, 0.015375520133814751), (243, 0.03834824944236852), (244, 0.017817416127494958), (245, 0.015375520133814751), (246, 0.024343224778007377), (247, 0.0), (248, 0.02575558030954186), (249, 0.0), (250, 0.0), (251, 0.11236664374387367), (252, 0.010930430596399216), (253, 0.03580574370197164), (254, 0.10624254305194607), (255, 0.14617633655117154), (256, 0.057735026918962574), (257, 0.031083493608010458), (258, 0.0570265948512201), (259, 0.03465834966066909), (260, 0.016666666666666666), (261, 0.05634361698190111), (262, 0.03863337046431279), (263, 0.03786412228313765), (264, 0.0), (265, 0.016074760739013736), (266, 0.02895814951753796), (267, 0.01807753815155468), (268, 0.062166987216020916), (269, 0.16666666666666666), (270, 0.012974982402692048), (271, 0.01421338109037403), (272, 0.0), (273, 0.023281009858985936), (274, 0.02882251341114113), (275, 0.04822428221704121), (276, 0.055048188256318034), (277, 0.01048861292545921), (278, 0.01421338109037403), (279, 0.013386988815041648), (280, 0.0), (281, 0.026352313834736494), (282, 0.02614881801842454), (283, 0.06506000486323554), (284, 0.034299717028501764), (285, 0.04348853820356281), (286, 0.08003267306650412), (287, 0.015713484026367724), (288, 0.05847053462046862), (289, 0.05407380704358752), (290, 0.018349396085439344), (291, 0.04225771273642583), (292, 0.03465834966066909), (293, 0.031083493608010458), (294, 0.07231015260621872), (295, 0.030429030972509232), (296, 0.03513641844631532), (297, 0.012689783127114683), (298, 0.0), (299, 0.03314967720658979), (300, 0.027446232319753947), (301, 0.05785084454171861), (302, 0.0404888165089458), (303, 0.044721359549995794), (304, 0.008132500607904443), (305, 0.06254888542006679), (306, 0.015214515486254616), (307, 0.009209649399925628), (308, 0.03849001794597505), (309, 0.017329174830334543), (310, 0.009105972745135884), (311, 0.04343722427630694), (312, 0.01421338109037403), (313, 0.04714045207910317), (314, 0.02418254167033372), (315, 0.01421338109037403), (316, 0.011935247900657213), (317, 0.0), (318, 0.07777777777777778), (319, 0.01957400731715678), (320, 0.016878989451394443), (321, 0.0), (322, 0.014907119849998597), (323, 0.0), (324, 0.05584718777222607), (325, 0.06666666666666667), (326, 0.08439494725697222), (327, 0.03214952147802747), (328, 0.06693494407520824), (329, 0.015214515486254616), (330, 0.07172191381865586), (331, 0.025019554168026717), (332, 0.015058465048420852), (333, 0.014344382763731173), (334, 0.01384091330895666), (335, 0.013496272169648599), (336, 0.01807753815155468), (337, 0.027216552697590865), (338, 0.0), (339, 0.07239537379384489), (340, 0.02842676218074806), (341, 0.014907119849998597), (342, 0.01098967455659645), (343, 0.046004370622823615), (344, 0.017099639201419235), (345, 0.04016096644512494), (346, 0.016074760739013736), (347, 0.04343722427630694), (348, 0.06751595780557777), (349, 0.0), (350, 0.02895814951753796), (351, 0.01384091330895666), (352, 0.09534625892455922), (353, 0.0337099931231621), (354, 0.01209127083516686), (355, 0.034299717028501764), (356, 0.03513641844631532), (357, 0.0), (358, 0.11969747440993467), (359, 0.07231015260621872), (360, 0.0), (361, 0.014344382763731173), (362, 0.019245008972987525), (363, 0.01209127083516686), (364, 0.06588078458684124), (365, 0.01421338109037403), (366, 0.016074760739013736), (367, 0.0), (368, 0.033757978902788886), (369, 0.01384091330895666), (370, 0.04612656040144425), (371, 0.027216552697590865), (372, 0.01421338109037403), (373, 0.0), (374, 0.095831484749991), (375, 0.012509777084013358), (376, 0.01307440900921227), (377, 0.0408248290463863), (378, 0.0), (379, 0.010005003753127736), (380, 0.015541746804005229), (381, 0.07254762501100116), (382, 0.0), (383, 0.012337220169960087), (384, 0.0), (385, 0.07027283689263064), (386, 0.01287779015477093), (387, 0.05536365323582664), (388, 0.013496272169648599), (389, 0.035634832254989916), (390, 0.10879222762803661), (391, 0.12909944487358058), (392, 0.03513641844631532), (393, 0.08304547985373996), (394, 0.04152273992686998), (395, 0.0), (396, 0.03952847075210474), (397, 0.0), (398, 0.01384091330895666), (399, 0.08377078165833911), (400, 0.03142696805273545), (401, 0.0), (402, 0.027923593886113034), (403, 0.10079052613579392), (404, 0.03513641844631532), (405, 0.015891043154093204), (406, 0.050039108336053434), (407, 0.013176156917368247), (408, 0.018349396085439344), (409, 0.024024999005214903), (410, 0.06438895077385465), (411, 0.013496272169648599), (412, 0.013496272169648599), (413, 0.044721359549995794), (414, 0.07126966450997983), (415, 0.010238251947232518), (416, 0.0), (417, 0.0), (418, 0.04216370213557839), (419, 0.0), (420, 0.02556549962824568), (421, 0.014085904245475277), (422, 0.01756820922315766), (423, 0.012422599874998833), (424, 0.035355339059327376), (425, 0.012974982402692048), (426, 0.0), (427, 0.03214952147802747), (428, 0.021629522817435007), (429, 0.10332173664634445), (430, 0.08164965809277261), (431, 0.028688765527462346), (432, 0.013496272169648599), (433, 0.03669879217087869), (434, 0.0), (435, 0.07339758434175737), (436, 0.015541746804005229), (437, 0.015058465048420852), (438, 0.01447907475876898), (439, 0.03214952147802747), (440, 0.01421338109037403), (441, 0.04879500364742666), (442, 0.026773977630083295), (443, 0.012337220169960087), (444, 0.01307440900921227), (445, 0.0), (446, 0.013496272169648599), (447, 0.07968190728895956), (448, 0.025019554168026717), (449, 0.03513641844631532), (450, 0.012012499502607452), (451, 0.01328031788149326), (452, 0.04714045207910317), (453, 0.04343722427630694), (454, 0.0), (455, 0.025949964805384095), (456, 0.025379566254229366), (457, 0.016265001215808886), (458, 0.055249462010982985), (459, 0.09174698042719671), (460, 0.05904099236933968), (461, 0.016462159944159827), (462, 0.009428090415820633), (463, 0.0), (464, 0.06537204504606135), (465, 0.10143010324169743), (466, 0.020672455764868078), (467, 0.04934888067984035), (468, 0.014907119849998597), (469, 0.011433239009500589), (470, 0.0), (471, 0.03922322702763681), (472, 0.062166987216020916), (473, 0.0), (474, 0.016074760739013736), (475, 0.012974982402692048), (476, 0.058722021951470346), (477, 0.0), (478, 0.011301058393680173), (479, 0.05436067275445351), (480, 0.013723116159876973), (481, 0.03806934938134405), (482, 0.02450715406979359), (483, 0.01756820922315766), (484, 0.0), (485, 0.014617633655117155), (486, 0.009582659576267817), (487, 0.01957400731715678), (488, 0.08114408259335794), (489, 0.04216370213557839), (490, 0.020672455764868078), (491, 0.03146583877637763), (492, 0.030429030972509232), (493, 0.0), (494, 0.055901699437494734), (495, 0.03914801463431356), (496, 0.03194382824999699), (497, 0.0), (498, 0.055048188256318034), (499, 0.03214952147802747), (500, 0.015058465048420852), (501, 0.024845199749997667), (502, 0.0), (503, 0.05584718777222607), (504, 0.0878410461157883), (505, 0.019245008972987525), (506, 0.12403473458920847), (507, 0.012253577034896795), (508, 0.03952847075210474), (509, 0.10459527207369816), (510, 0.015058465048420852), (511, 0.019245008972987525), (512, 0.015375520133814751), (513, 0.02952049618466984), (514, 0.06804138174397717), (515, 0.0), (516, 0.04303314829119352), (517, 0.021860861192798432), (518, 0.03892494720807614), (519, 0.015891043154093204), (520, 0.04303314829119353), (521, 0.012689783127114683), (522, 0.04303314829119352), (523, 0.012974982402692048), (524, 0.016878989451394443), (525, 0.0994936676326182), (526, 0.015058465048420852), (527, 0.03615507630310936), (528, 0.07505866250408014), (529, 0.0408248290463863), (530, 0.03419927840283847), (531, 0.04016096644512494), (532, 0.0), (533, 0.07126966450997983), (534, 0.027216552697590865), (535, 0.013723116159876973), (536, 0.0), (537, 0.019245008972987525), (538, 0.08439494725697222), (539, 0.10540925533894596), (540, 0.028171808490950554), (541, 0.013176156917368247), (542, 0.010702688317798926), (543, 0.0404888165089458), (544, 0.015058465048420852), (545, 0.029814239699997195), (546, 0.09316949906249122), (547, 0.016265001215808886), (548, 0.030116930096841705), (549, 0.0), (550, 0.07106690545187015), (551, 0.0), (552, 0.0), (553, 0.017817416127494958), (554, 0.013723116159876973), (555, 0.0796117338651413), (556, 0.014907119849998597), (557, 0.013386988815041648), (558, 0.0628539361054709), (559, 0.01807753815155468), (560, 0.02019275109384609), (561, 0.03615507630310936), (562, 0.05270462766947298), (563, 0.05904099236933968), (564, 0.050636968354183326), (565, 0.10007821667210685), (566, 0.05189992961076819), (567, 0.0), (568, 0.015058465048420852), (569, 0.06487491201346024), (570, 0.021081851067789197), (571, 0.011640504929492968), (572, 0.012974982402692048), (573, 0.036037498507822355), (574, 0.013386988815041648), (575, 0.02768182661791332), (576, 0.030429030972509232), (577, 0.016074760739013736), (578, 0.11049892402196598), (579, 0.017329174830334543), (580, 0.014907119849998597), (581, 0.017099639201419235), (582, 0.02656063576298652), (583, 0.023140337816687444), (584, 0.0), (585, 0.02923526731023431), (586, 0.02656063576298652), (587, 0.05634361698190111), (588, 0.015713484026367724), (589, 0.023424278964210215), (590, 0.019245008972987525), (591, 0.06537204504606135), (592, 0.011785113019775792), (593, 0.0), (594, 0.015375520133814751), (595, 0.013386988815041648), (596, 0.026992544339297198), (597, 0.04612656040144425), (598, 0.041344911529736156), (599, 0.016074760739013736), (600, 0.01421338109037403), (601, 0.019086611143795607), (602, 0.01384091330895666), (603, 0.046625240412015684), (604, 0.07829602926862712), (605, 0.08606629658238704), (606, 0.028171808490950554), (607, 0.035578403348241), (608, 0.016074760739013736), (609, 0.027216552697590865), (610, 0.035508242752753834), (611, 0.01384091330895666), (612, 0.012974982402692048), (613, 0.03786412228313765), (614, 0.06980898471528259), (615, 0.07339758434175737), (616, 0.0), (617, 0.013176156917368247), (618, 0.035355339059327376), (619, 0.015375520133814751), (620, 0.0), (621, 0.01807753815155468), (622, 0.02556549962824568), (623, 0.02519763153394848), (624, 0.01957400731715678), (625, 0.03419927840283847), (626, 0.03214952147802747), (627, 0.01957400731715678), (628, 0.0), (629, 0.02768182661791332), (630, 0.0), (631, 0.05075913250845873), (632, 0.0), (633, 0.01278274981412284), (634, 0.030751040267629502), (635, 0.0), (636, 0.02768182661791332), (637, 0.06023386019368341), (638, 0.0), (639, 0.013386988815041648), (640, 0.025019554168026717), (641, 0.0), (642, 0.01756820922315766), (643, 0.027923593886113034), (644, 0.043852900965351466), (645, 0.011640504929492968), (646, 0.028688765527462346), (647, 0.0), (648, 0.0), (649, 0.0), (650, 0.015375520133814751), (651, 0.028171808490950554), (652, 0.0), (653, 0.020286020648339485), (654, 0.023570226039551584), (655, 0.027446232319753947), (656, 0.013386988815041648), (657, 0.02077256509499186), (658, 0.01384091330895666), (659, 0.05584718777222607), (660, 0.05976143046671968), (661, 0.01307440900921227), (662, 0.0), (663, 0.0), (664, 0.016074760739013736), (665, 0.013723116159876973), (666, 0.0), (667, 0.031083493608010458), (668, 0.03786412228313765), (669, 0.0), (670, 0.0), (671, 0.0), (672, 0.0), (673, 0.024024999005214903), (674, 0.07239537379384489), (675, 0.0), (676, 0.01421338109037403), (677, 0.01476024809233492), (678, 0.05270462766947298), (679, 0.010336227882434039), (680, 0.015375520133814751), (681, 0.0), (682, 0.0), (683, 0.02842676218074806), (684, 0.01957400731715678), (685, 0.018349396085439344), (686, 0.06839855680567694), (687, 0.014617633655117155), (688, 0.02519763153394848), (689, 0.05847053462046862), (690, 0.026773977630083295), (691, 0.016462159944159827), (692, 0.0809776330178916), (693, 0.018633899812498245), (694, 0.02519763153394848), (695, 0.033757978902788886), (696, 0.012422599874998833), (697, 0.0), (698, 0.07905694150420949), (699, 0.0219793491131929), (700, 0.035634832254989916), (701, 0.015058465048420852), (702, 0.012509777084013358), (703, 0.012253577034896795), (704, 0.11268723396380222), (705, 0.01421338109037403), (706, 0.0), (707, 0.03669879217087869), (708, 0.026352313834736494), (709, 0.0), (710, 0.0), (711, 0.015541746804005229), (712, 0.0), (713, 0.08451542547285167), (714, 0.03214952147802747), (715, 0.016878989451394443), (716, 0.015058465048420852), (717, 0.011501092655705904), (718, 0.012012499502607452), (719, 0.06085806194501846), (720, 0.0), (721, 0.0), (722, 0.05270462766947299), (723, 0.0), (724, 0.014344382763731173), (725, 0.03465834966066909), (726, 0.0), (727, 0.028284271247461898), (728, 0.04116934847963092), (729, 0.0), (730, 0.04438530344094229), (731, 0.015891043154093204), (732, 0.05489246463950789), (733, 0.0), (734, 0.10379985922153637), (735, 0.012422599874998833), (736, 0.016878989451394443), (737, 0.016265001215808886), (738, 0.0), (739, 0.022473328748774734), (740, 0.012689783127114683), (741, 0.06666666666666667), (742, 0.0878410461157883), (743, 0.05229763603684908), (744, 0.06356417261637282), (745, 0.032924319888319654), (746, 0.012689783127114683), (747, 0.035355339059327376), (748, 0.03984095364447979), (749, 0.012337220169960087), (750, 0.012422599874998833), (751, 0.0), (752, 0.013386988815041648), (753, 0.017329174830334543), (754, 0.060858061945018464), (755, 0.010437071518085825), (756, 0.0), (757, 0.0), (758, 0.02768182661791332), (759, 0.01259881576697424), (760, 0.015541746804005229), (761, 0.017099639201419235), (762, 0.033757978902788886), (763, 0.04494665749754947), (764, 0.015375520133814751), (765, 0.013723116159876973), (766, 0.05904099236933968), (767, 0.026773977630083295), (768, 0.012422599874998833), (769, 0.055901699437494734), (770, 0.036760731104690386), (771, 0.0), (772, 0.033757978902788886), (773, 0.018633899812498245), (774, 0.04714045207910317), (775, 0.03142696805273545), (776, 0.046004370622823615), (777, 0.04684855792842043), (778, 0.02895814951753796), (779, 0.014085904245475277), (780, 0.0), (781, 0.035634832254989916), (782, 0.02842676218074806), (783, 0.0), (784, 0.08528028654224418), (785, 0.010872134550890703), (786, 0.015541746804005229), (787, 0.015713484026367724), (788, 0.02656063576298652), (789, 0.0), (790, 0.03390317518104052), (791, 0.055048188256318034), (792, 0.0), (793, 0.01384091330895666), (794, 0.027216552697590865), (795, 0.0), (796, 0.0), (797, 0.04303314829119353), (798, 0.0), (799, 0.022602116787360346), (800, 0.020286020648339485), (801, 0.016265001215808886), (802, 0.015541746804005229), (803, 0.026773977630083295), (804, 0.029814239699997195), (805, 0.04767312946227961), (806, 0.0), (807, 0.06356417261637282), (808, 0.021516574145596764), (809, 0.0), (810, 0.09428090415820634), (811, 0.0), (812, 0.11570168908343723), (813, 0.01384091330895666), (814, 0.02614881801842454), (815, 0.0), (816, 0.027216552697590865), (817, 0.0), (818, 0.027446232319753947), (819, 0.027216552697590865), (820, 0.037562411321267405), (821, 0.03741423555108758), (822, 0.0), (823, 0.014085904245475277), (824, 0.0), (825, 0.035634832254989916), (826, 0.018633899812498245), (827, 0.0), (828, 0.031083493608010458), (829, 0.013386988815041648), (830, 0.03333333333333333), (831, 0.013608276348795433), (832, 0.044721359549995794), (833, 0.09860132971832694), (834, 0.0408248290463863), (835, 0.027923593886113034), (836, 0.012422599874998833), (837, 0.062166987216020916), (838, 0.021405376635597852), (839, 0.03333333333333333), (840, 0.015214515486254616), (841, 0.0), (842, 0.035578403348241), (843, 0.0), (844, 0.013723116159876973), (845, 0.03471050672503116), (846, 0.0), (847, 0.0), (848, 0.04469343487693273), (849, 0.015891043154093204), (850, 0.0219793491131929), (851, 0.013176156917368247), (852, 0.012253577034896795), (853, 0.016878989451394443), (854, 0.01447907475876898), (855, 0.0), (856, 0.02575558030954186), (857, 0.0), (858, 0.05976143046671968), (859, 0.027446232319753947), (860, 0.010050378152592122), (861, 0.0), (862, 0.0), (863, 0.015713484026367724), (864, 0.011236664374387367), (865, 0.0), (866, 0.04836508334066744), (867, 0.015214515486254616), (868, 0.0), (869, 0.0), (870, 0.026992544339297198), (871, 0.013608276348795433), (872, 0.0), (873, 0.01287779015477093), (874, 0.07844645405527362), (875, 0.05536365323582664), (876, 0.018349396085439344), (877, 0.018633899812498245), (878, 0.015541746804005229), (879, 0.04767312946227961), (880, 0.018633899812498245), (881, 0.0), (882, 0.016878989451394443), (883, 0.0), (884, 0.0), (885, 0.0), (886, 0.04264014327112209), (887, 0.021081851067789197), (888, 0.026352313834736494), (889, 0.009466030570784413), (890, 0.0), (891, 0.0), (892, 0.0), (893, 0.021081851067789197), (894, 0.062166987216020916), (895, 0.03253000243161777), (896, 0.11859467782747002), (897, 0.022473328748774734), (898, 0.0), (899, 0.10434983894999018), (900, 0.0), (901, 0.0), (902, 0.0), (903, 0.0), (904, 0.0), (905, 0.015541746804005229), (906, 0.019920476822239894), (907, 0.0), (908, 0.04264014327112209), (909, 0.0), (910, 0.0), (911, 0.02656063576298652), (912, 0.0), (913, 0.0), (914, 0.021081851067789197), (915, 0.0), (916, 0.0), (917, 0.11815292615976111), (918, 0.0404888165089458), (919, 0.027216552697590865), (920, 0.051298917604257706), (921, 0.024845199749997667), (922, 0.04517539514526256), (923, 0.013386988815041648), (924, 0.0), (925, 0.02418254167033372), (926, 0.04612656040144425), (927, 0.016878989451394443), (928, 0.0), (929, 0.015891043154093204), (930, 0.04152273992686998), (931, 0.07027283689263064), (932, 0.013176156917368247), (933, 0.03806934938134405), (934, 0.10127393670836667), (935, 0.017817416127494958), (936, 0.0), (937, 0.02842676218074806), (938, 0.015713484026367724), (939, 0.04348853820356281), (940, 0.0), (941, 0.016878989451394443), (942, 0.05791629903507592), (943, 0.0), (944, 0.014907119849998597), (945, 0.016265001215808886), (946, 0.02768182661791332), (947, 0.01949017820682287), (948, 0.025949964805384095), (949, 0.023281009858985936), (950, 0.0954819832052577), (951, 0.017817416127494958), (952, 0.04188539082916955), (953, 0.0), (954, 0.0), (955, 0.032924319888319654), (956, 0.02952049618466984), (957, 0.018349396085439344), (958, 0.0), (959, 0.01447907475876898), (960, 0.03333333333333333), (961, 0.015375520133814751), (962, 0.0), (963, 0.024674440339920174), (964, 0.016666666666666666), (965, 0.0), (966, 0.020286020648339485), (967, 0.0), (968, 0.0), (969, 0.023140337816687444), (970, 0.0), (971, 0.0), (972, 0.050636968354183326), (973, 0.032924319888319654), (974, 0.03465834966066909), (975, 0.016265001215808886), (976, 0.01447907475876898), (977, 0.05270462766947298), (978, 0.0), (979, 0.036760731104690386), (980, 0.0), (981, 0.035634832254989916), (982, 0.05095148670964525), (983, 0.014344382763731173), (984, 0.03253000243161777), (985, 0.028688765527462346), (986, 0.055048188256318034), (987, 0.013961796943056517), (988, 0.019245008972987525), (989, 0.023570226039551584), (990, 0.015058465048420852), (991, 0.03863337046431279), (992, 0.04494665749754947), (993, 0.04879500364742666), (994, 0.02614881801842454), (995, 0.015541746804005229), (996, 0.013176156917368247), (997, 0.0), (998, 0.0), (999, 0.011111111111111112), (1000, 0.012253577034896795), (1001, 0.017817416127494958), (1002, 0.023002185311411807), (1003, 0.02923526731023431), (1004, 0.03580574370197164), (1005, 0.0), (1006, 0.013961796943056517), (1007, 0.0), (1008, 0.012422599874998833), (1009, 0.03142696805273545), (1010, 0.0), (1011, 0.0), (1012, 0.01476024809233492), (1013, 0.017099639201419235), (1014, 0.013386988815041648), (1015, 0.013961796943056517), (1016, 0.0), (1017, 0.01278274981412284), (1018, 0.0439586982263858), (1019, 0.03779644730092272), (1020, 0.02952049618466984), (1021, 0.0), (1022, 0.0), (1023, 0.0), (1024, 0.017817416127494958), (1025, 0.0), (1026, 0.0), (1027, 0.03471050672503116), (1028, 0.014085904245475277), (1029, 0.09128709291752769), (1030, 0.020286020648339485), (1031, 0.016666666666666666), (1032, 0.0), (1033, 0.05), (1034, 0.02768182661791332), (1035, 0.012253577034896795), (1036, 0.014344382763731173), (1037, 0.0), (1038, 0.0), (1039, 0.0), (1040, 0.028171808490950554), (1041, 0.06751595780557777), (1042, 0.019920476822239894), (1043, 0.03178208630818641), (1044, 0.03669879217087869), (1045, 0.05904099236933968), (1046, 0.018349396085439344), (1047, 0.011712139482105107), (1048, 0.0), (1049, 0.03669879217087869), (1050, 0.0), (1051, 0.017329174830334543), (1052, 0.03914801463431356), (1053, 0.014617633655117155), (1054, 0.0), (1055, 0.08439494725697222), (1056, 0.00982946374365981), (1057, 0.0), (1058, 0.04116934847963092), (1059, 0.057735026918962574), (1060, 0.01476024809233492), (1061, 0.0), (1062, 0.05962847939999439), (1063, 0.01807753815155468), (1064, 0.02842676218074806), (1065, 0.0), (1066, 0.018932061141568826), (1067, 0.02923526731023431), (1068, 0.01384091330895666), (1069, 0.016265001215808886), (1070, 0.017099639201419235), (1071, 0.019245008972987525), (1072, 0.0), (1073, 0.03615507630310936), (1074, 0.018633899812498245), (1075, 0.0), (1076, 0.03669879217087869), (1077, 0.030429030972509232), (1078, 0.05229763603684908), (1079, 0.013961796943056517), (1080, 0.07172191381865586), (1081, 0.0), (1082, 0.03849001794597505), (1083, 0.043852900965351466), (1084, 0.0408248290463863), (1085, 0.0), (1086, 0.03261640365267211), (1087, 0.018932061141568826), (1088, 0.03419927840283847), (1089, 0.03419927840283847), (1090, 0.0), (1091, 0.015058465048420852), (1092, 0.0404888165089458), (1093, 0.03419927840283847), (1094, 0.0), (1095, 0.05354795526016659), (1096, 0.011785113019775792), (1097, 0.049386479832479485), (1098, 0.0), (1099, 0.013176156917368247), (1100, 0.023281009858985936), (1101, 0.08114408259335794), (1102, 0.0), (1103, 0.021405376635597852), (1104, 0.016878989451394443), (1105, 0.015891043154093204), (1106, 0.01476024809233492), (1107, 0.013496272169648599), (1108, 0.06763995415945231), (1109, 0.011935247900657213), (1110, 0.015214515486254616), (1111, 0.0), (1112, 0.0), (1113, 0.0), (1114, 0.02614881801842454), (1115, 0.043852900965351466), (1116, 0.010437071518085825), (1117, 0.009703708495659701), (1118, 0.013723116159876973), (1119, 0.03834824944236852), (1120, 0.02895814951753796), (1121, 0.03779644730092272), (1122, 0.0), (1123, 0.015891043154093204), (1124, 0.01287779015477093), (1125, 0.0), (1126, 0.019920476822239894), (1127, 0.011640504929492968), (1128, 0.0), (1129, 0.014085904245475277), (1130, 0.018349396085439344), (1131, 0.015375520133814751), (1132, 0.03390317518104052), (1133, 0.03656056647380545), (1134, 0.016666666666666666), (1135, 0.0), (1136, 0.0219793491131929), (1137, 0.028171808490950554), (1138, 0.015713484026367724), (1139, 0.03178208630818641), (1140, 0.02344036154692477), (1141, 0.01328031788149326), (1142, 0.05489246463950789), (1143, 0.01287779015477093), (1144, 0.03669879217087869), (1145, 0.02842676218074806), (1146, 0.03178208630818641), (1147, 0.016878989451394443), (1148, 0.0), (1149, 0.0), (1150, 0.01756820922315766), (1151, 0.019245008972987525), (1152, 0.05929733891373501), (1153, 0.05345224838248487), (1154, 0.0), (1155, 0.03849001794597505), (1156, 0.0), (1157, 0.015713484026367724), (1158, 0.015375520133814751), (1159, 0.0), (1160, 0.0), (1161, 0.0), (1162, 0.01807753815155468), (1163, 0.0), (1164, 0.03513641844631532), (1165, 0.02556549962824568), (1166, 0.013723116159876973), (1167, 0.014617633655117155), (1168, 0.0), (1169, 0.0), (1170, 0.0), (1171, 0.0219793491131929), (1172, 0.013176156917368247), (1173, 0.018633899812498245), (1174, 0.016878989451394443), (1175, 0.015375520133814751), (1176, 0.02450715406979359), (1177, 0.02842676218074806), (1178, 0.01756820922315766), (1179, 0.02923526731023431), (1180, 0.01957400731715678), (1181, 0.0), (1182, 0.0), (1183, 0.01328031788149326), (1184, 0.0), (1185, 0.0), (1186, 0.03419927840283847), (1187, 0.0), (1188, 0.011570168908343722), (1189, 0.013386988815041648), (1190, 0.023002185311411807), (1191, 0.03669879217087869), (1192, 0.014617633655117155), (1193, 0.030751040267629502), (1194, 0.0), (1195, 0.05962847939999439), (1196, 0.051298917604257706), (1197, 0.0), (1198, 0.055048188256318034), (1199, 0.04901430813958718), (1200, 0.01259881576697424), (1201, 0.01447907475876898), (1202, 0.013961796943056517), (1203, 0.022099784804393195), (1204, 0.03142696805273545), (1205, 0.03178208630818641), (1206, 0.019245008972987525), (1207, 0.013961796943056517), (1208, 0.026352313834736494), (1209, 0.0), (1210, 0.0), (1211, 0.024845199749997667), (1212, 0.0), (1213, 0.010702688317798926), (1214, 0.04517539514526256), (1215, 0.0), (1216, 0.03615507630310936), (1217, 0.03922322702763681), (1218, 0.0), (1219, 0.011935247900657213), (1220, 0.05354795526016659), (1221, 0.03214952147802747), (1222, 0.023281009858985936), (1223, 0.0), (1224, 0.026352313834736494), (1225, 0.0), (1226, 0.015375520133814751), (1227, 0.013723116159876973), (1228, 0.0628539361054709), (1229, 0.017329174830334543), (1230, 0.013723116159876973), (1231, 0.046625240412015684), (1232, 0.015375520133814751), (1233, 0.058722021951470346), (1234, 0.016074760739013736), (1235, 0.023140337816687444), (1236, 0.012422599874998833), (1237, 0.0), (1238, 0.05345224838248487), (1239, 0.03253000243161777), (1240, 0.06839855680567694), (1241, 0.0), (1242, 0.0), (1243, 0.0), (1244, 0.016265001215808886), (1245, 0.014907119849998597), (1246, 0.05), (1247, 0.01384091330895666), (1248, 0.019245008972987525), (1249, 0.08099118235840605), (1250, 0.0), (1251, 0.01957400731715678), (1252, 0.0), (1253, 0.01750752438129634), (1254, 0.026352313834736494), (1255, 0.02656063576298652), (1256, 0.017099639201419235), (1257, 0.045643546458763846), (1258, 0.017817416127494958), (1259, 0.0), (1260, 0.015214515486254616), (1261, 0.0), (1262, 0.012012499502607452), (1263, 0.014085904245475277), (1264, 0.04116934847963092), (1265, 0.01307440900921227), (1266, 0.015713484026367724), (1267, 0.024845199749997667), (1268, 0.06429904295605494), (1269, 0.02418254167033372), (1270, 0.026352313834736494), (1271, 0.03726779962499649), (1272, 0.01807753815155468), (1273, 0.024845199749997667), (1274, 0.03834824944236852), (1275, 0.0), (1276, 0.04893501829289195), (1277, 0.08114408259335794), (1278, 0.02575558030954186), (1279, 0.03471050672503116), (1280, 0.011501092655705904), (1281, 0.011640504929492968), (1282, 0.01307440900921227), (1283, 0.0), (1284, 0.016074760739013736), (1285, 0.03849001794597505), (1286, 0.014085904245475277), (1287, 0.04152273992686998), (1288, 0.021081851067789197), (1289, 0.03615507630310936), (1290, 0.08687444855261386), (1291, 0.02952049618466984), (1292, 0.046625240412015684), (1293, 0.04303314829119352), (1294, 0.05685352436149612), (1295, 0.0), (1296, 0.013961796943056517), (1297, 0.0), (1298, 0.011712139482105107), (1299, 0.014344382763731173), (1300, 0.0), (1301, 0.03419927840283847), (1302, 0.03806934938134405), (1303, 0.03253000243161777), (1304, 0.022473328748774734), (1305, 0.03615507630310936), (1306, 0.03210806495339678), (1307, 0.0), (1308, 0.0), (1309, 0.0), (1310, 0.032924319888319654), (1311, 0.021516574145596764), (1312, 0.011859467782747001), (1313, 0.031083493608010458), (1314, 0.0), (1315, 0.010872134550890703), (1316, 0.02768182661791332), (1317, 0.017099639201419235), (1318, 0.019245008972987525), (1319, 0.011570168908343722), (1320, 0.04494665749754947), (1321, 0.015375520133814751), (1322, 0.027216552697590865), (1323, 0.016878989451394443), (1324, 0.03513641844631532), (1325, 0.0), (1326, 0.0), (1327, 0.0), (1328, 0.024845199749997667), (1329, 0.0), (1330, 0.015058465048420852), (1331, 0.017329174830334543), (1332, 0.018633899812498245), (1333, 0.0), (1334, 0.022222222222222223), (1335, 0.0), (1336, 0.01957400731715678), (1337, 0.02656063576298652), (1338, 0.030751040267629502), (1339, 0.04343722427630694), (1340, 0.05976143046671968), (1341, 0.013961796943056517), (1342, 0.010336227882434039), (1343, 0.011935247900657213), (1344, 0.0), (1345, 0.021081851067789197), (1346, 0.0), (1347, 0.03333333333333333), (1348, 0.01756820922315766), (1349, 0.0), (1350, 0.0), (1351, 0.0), (1352, 0.027446232319753947), (1353, 0.011366572324507891), (1354, 0.05229763603684908), (1355, 0.0), (1356, 0.014085904245475277), (1357, 0.022473328748774734), (1358, 0.01209127083516686), (1359, 0.017099639201419235), (1360, 0.01209127083516686), (1361, 0.07042952122737639), (1362, 0.051987524491003634), (1363, 0.04188539082916955), (1364, 0.015375520133814751), (1365, 0.020476503894465037), (1366, 0.014617633655117155), (1367, 0.018349396085439344), (1368, 0.04216370213557839), (1369, 0.011366572324507891), (1370, 0.0), (1371, 0.0), (1372, 0.0), (1373, 0.0), (1374, 0.014617633655117155), (1375, 0.03786412228313765), (1376, 0.0), (1377, 0.027446232319753947), (1378, 0.011173358719233183), (1379, 0.0), (1380, 0.02952049618466984), (1381, 0.03142696805273545), (1382, 0.04767312946227961), (1383, 0.0), (1384, 0.02656063576298652), (1385, 0.01756820922315766), (1386, 0.04216370213557839), (1387, 0.0), (1388, 0.021516574145596764), (1389, 0.04628067563337489), (1390, 0.011935247900657213), (1391, 0.02842676218074806), (1392, 0.0), (1393, 0.0), (1394, 0.0), (1395, 0.044280744277004756), (1396, 0.0), (1397, 0.018633899812498245), (1398, 0.05423261445466404), (1399, 0.01209127083516686), (1400, 0.03214952147802747), (1401, 0.0), (1402, 0.0), (1403, 0.022473328748774734), (1404, 0.055048188256318034), (1405, 0.0), (1406, 0.0), (1407, 0.018932061141568826), (1408, 0.0), (1409, 0.016666666666666666), (1410, 0.06356417261637282), (1411, 0.011111111111111112), (1412, 0.06980898471528259), (1413, 0.0), (1414, 0.03465834966066909), (1415, 0.0), (1416, 0.03178208630818641), (1417, 0.05976143046671968), (1418, 0.022473328748774734), (1419, 0.018633899812498245), (1420, 0.04684855792842043), (1421, 0.0), (1422, 0.01949017820682287), (1423, 0.05725983343138682), (1424, 0.0), (1425, 0.051298917604257706), (1426, 0.11504474832710555), (1427, 0.0), (1428, 0.04822428221704121), (1429, 0.027216552697590865), (1430, 0.0), (1431, 0.05976143046671968), (1432, 0.09466030570784413), (1433, 0.012012499502607452), (1434, 0.07126966450997983), (1435, 0.0), (1436, 0.04714045207910317), (1437, 0.03253000243161777), (1438, 0.05679618342470648), (1439, 0.01307440900921227), (1440, 0.012974982402692048), (1441, 0.051987524491003634), (1442, 0.0), (1443, 0.030429030972509232), (1444, 0.00991606862181216), (1445, 0.060858061945018464), (1446, 0.012974982402692048), (1447, 0.01476024809233492), (1448, 0.030751040267629502), (1449, 0.024024999005214903), (1450, 0.03146583877637763), (1451, 0.05634361698190111), (1452, 0.07829602926862712), (1453, 0.03513641844631532), (1454, 0.0), (1455, 0.0), (1456, 0.04259177099999599), (1457, 0.04684855792842043), (1458, 0.0), (1459, 0.014907119849998597), (1460, 0.01957400731715678), (1461, 0.01421338109037403), (1462, 0.0), (1463, 0.051987524491003634), (1464, 0.026352313834736494), (1465, 0.043852900965351466), (1466, 0.015891043154093204), (1467, 0.0), (1468, 0.017817416127494958), (1469, 0.014907119849998597), (1470, 0.08606629658238706), (1471, 0.07762966796527761), (1472, 0.0), (1473, 0.012171612389003689), (1474, 0.015891043154093204), (1475, 0.0), (1476, 0.0), (1477, 0.0), (1478, 0.0), (1479, 0.043852900965351466), (1480, 0.03615507630310936), (1481, 0.06488856845230502), (1482, 0.020286020648339485), (1483, 0.019245008972987525), (1484, 0.06506000486323554), (1485, 0.01454785934906616), (1486, 0.017329174830334543), (1487, 0.0), (1488, 0.018932061141568826), (1489, 0.0), (1490, 0.023718935565494002), (1491, 0.011785113019775792), (1492, 0.013176156917368247), (1493, 0.018349396085439344), (1494, 0.01447907475876898), (1495, 0.021081851067789197), (1496, 0.041344911529736156), (1497, 0.035355339059327376), (1498, 0.014617633655117155), (1499, 0.0), (1500, 0.016462159944159827), (1501, 0.0), (1502, 0.028688765527462346), (1503, 0.03492151478847891), (1504, 0.01307440900921227), (1505, 0.029814239699997195), (1506, 0.012974982402692048), (1507, 0.015891043154093204), (1508, 0.07770873402002615), (1509, 0.016462159944159827), (1510, 0.01287779015477093), (1511, 0.05423261445466404), (1512, 0.016265001215808886), (1513, 0.04822428221704121), (1514, 0.0659380473395787), (1515, 0.0219793491131929), (1516, 0.0), (1517, 0.014617633655117155), (1518, 0.01957400731715678), (1519, 0.058722021951470346), (1520, 0.020672455764868078), (1521, 0.08231079972079913), (1522, 0.023570226039551584), (1523, 0.022602116787360346), (1524, 0.0), (1525, 0.012974982402692048), (1526, 0.01307440900921227), (1527, 0.06211299937499416), (1528, 0.023718935565494002), (1529, 0.0), (1530, 0.011236664374387367), (1531, 0.026352313834736494), (1532, 0.01307440900921227), (1533, 0.03142696805273545), (1534, 0.0), (1535, 0.011049892402196598), (1536, 0.01278274981412284), (1537, 0.0), (1538, 0.03786412228313765), (1539, 0.017099639201419235), (1540, 0.028171808490950554), (1541, 0.05151116061908372), (1542, 0.031083493608010458), (1543, 0.0), (1544, 0.011570168908343722), (1545, 0.0), (1546, 0.021860861192798432), (1547, 0.019245008972987525), (1548, 0.011501092655705904), (1549, 0.011433239009500589), (1550, 0.04612656040144425), (1551, 0.05737753105492469), (1552, 0.0), (1553, 0.01278274981412284), (1554, 0.0), (1555, 0.06168610084980043), (1556, 0.01957400731715678), (1557, 0.0), (1558, 0.01447907475876898), (1559, 0.01447907475876898), (1560, 0.016878989451394443), (1561, 0.042810753271195705), (1562, 0.05), (1563, 0.01957400731715678), (1564, 0.0), (1565, 0.011366572324507891), (1566, 0.010096375546923044), (1567, 0.018349396085439344), (1568, 0.022602116787360346), (1569, 0.0), (1570, 0.011366572324507891), (1571, 0.0), (1572, 0.034299717028501764), (1573, 0.03669879217087869), (1574, 0.023570226039551584), (1575, 0.0), (1576, 0.0), (1577, 0.02842676218074806), (1578, 0.03419927840283847), (1579, 0.016878989451394443), (1580, 0.049386479832479485), (1581, 0.035578403348241), (1582, 0.0), (1583, 0.06506000486323554), (1584, 0.013608276348795433), (1585, 0.0), (1586, 0.01278274981412284), (1587, 0.10289915108550529), (1588, 0.0), (1589, 0.027923593886113034), (1590, 0.0), (1591, 0.0), (1592, 0.0408248290463863), (1593, 0.023002185311411807), (1594, 0.13478934738386475), (1595, 0.0), (1596, 0.030429030972509232), (1597, 0.024845199749997667), (1598, 0.0), (1599, 0.0), (1600, 0.01807753815155468), (1601, 0.033757978902788886), (1602, 0.0), (1603, 0.0), (1604, 0.013608276348795433), (1605, 0.0), (1606, 0.027446232319753947), (1607, 0.0), (1608, 0.02768182661791332), (1609, 0.03131121455425748), (1610, 0.03333333333333333), (1611, 0.01384091330895666), (1612, 0.0), (1613, 0.0), (1614, 0.046625240412015684), (1615, 0.021081851067789197), (1616, 0.0404888165089458), (1617, 0.05904099236933968), (1618, 0.0), (1619, 0.0), (1620, 0.0922531208028885), (1621, 0.0), (1622, 0.01807753815155468), (1623, 0.024845199749997667), (1624, 0.0), (1625, 0.032924319888319654), (1626, 0.01476024809233492), (1627, 0.014085904245475277), (1628, 0.02839809171235324), (1629, 0.0), (1630, 0.0), (1631, 0.0), (1632, 0.0), (1633, 0.034299717028501764), (1634, 0.02895814951753796), (1635, 0.020286020648339485), (1636, 0.01421338109037403), (1637, 0.01307440900921227), (1638, 0.0), (1639, 0.016878989451394443), (1640, 0.0), (1641, 0.0), (1642, 0.04016096644512494), (1643, 0.0), (1644, 0.01307440900921227), (1645, 0.013386988815041648), (1646, 0.010594028769395471), (1647, 0.032924319888319654), (1648, 0.0), (1649, 0.0), (1650, 0.027216552697590865), (1651, 0.03513641844631532), (1652, 0.08664587415167271), (1653, 0.06780635036208103), (1654, 0.0), (1655, 0.030751040267629502), (1656, 0.09466030570784413), (1657, 0.0), (1658, 0.05113099925649136), (1659, 0.0), (1660, 0.0), (1661, 0.015891043154093204), (1662, 0.0), (1663, 0.0), (1664, 0.020672455764868078), (1665, 0.0), (1666, 0.0), (1667, 0.022473328748774734), (1668, 0.018932061141568826), (1669, 0.06850902561004873), (1670, 0.05151116061908372), (1671, 0.05354795526016659), (1672, 0.021629522817435007), (1673, 0.0), (1674, 0.0), (1675, 0.062017367294604234), (1676, 0.13284223283101426), (1677, 0.01807753815155468), (1678, 0.0), (1679, 0.0), (1680, 0.05423261445466404), (1681, 0.0), (1682, 0.05962847939999439), (1683, 0.06523280730534423), (1684, 0.02895814951753796), (1685, 0.013176156917368247), (1686, 0.03834824944236852), (1687, 0.0), (1688, 0.0), (1689, 0.0), (1690, 0.020286020648339485), (1691, 0.0), (1692, 0.0), (1693, 0.0), (1694, 0.016074760739013736), (1695, 0.1449377260910507), (1696, 0.04020151261036849), (1697, 0.015713484026367724), (1698, 0.05270462766947299), (1699, 0.02895814951753796), (1700, 0.0), (1701, 0.020286020648339485), (1702, 0.09082487681884432), (1703, 0.03419927840283847), (1704, 0.0), (1705, 0.032274861218395144), (1706, 0.012337220169960087), (1707, 0.04714045207910317), (1708, 0.0), (1709, 0.04494665749754947), (1710, 0.022473328748774734), (1711, 0.03669879217087869), (1712, 0.0), (1713, 0.01447907475876898), (1714, 0.0), (1715, 0.018633899812498245), (1716, 0.0), (1717, 0.020286020648339485), (1718, 0.017329174830334543), (1719, 0.012974982402692048), (1720, 0.032924319888319654), (1721, 0.018349396085439344), (1722, 0.0), (1723, 0.0404888165089458), (1724, 0.01307440900921227), (1725, 0.0), (1726, 0.014617633655117155), (1727, 0.05354795526016659), (1728, 0.0), (1729, 0.0), (1730, 0.02450715406979359), (1731, 0.018633899812498245), (1732, 0.0), (1733, 0.06506000486323554), (1734, 0.04343722427630694), (1735, 0.023870495801314427), (1736, 0.0), (1737, 0.0219793491131929), (1738, 0.0), (1739, 0.0), (1740, 0.015058465048420852), (1741, 0.03178208630818641), (1742, 0.03892494720807614), (1743, 0.03142696805273545), (1744, 0.051987524491003634), (1745, 0.06344891563557342), (1746, 0.012689783127114683), (1747, 0.01307440900921227), (1748, 0.0), (1749, 0.0), (1750, 0.016265001215808886), (1751, 0.0), (1752, 0.031083493608010458), (1753, 0.05075913250845873), (1754, 0.017099639201419235), (1755, 0.023570226039551584), (1756, 0.01209127083516686), (1757, 0.012689783127114683), (1758, 0.01328031788149326), (1759, 0.0), (1760, 0.03669879217087869), (1761, 0.0761386987626881), (1762, 0.016462159944159827), (1763, 0.0), (1764, 0.04216370213557839), (1765, 0.044280744277004756), (1766, 0.03352007615769955), (1767, 0.0), (1768, 0.0), (1769, 0.03450327796711771), (1770, 0.0), (1771, 0.022866478019001178), (1772, 0.0), (1773, 0.0219793491131929), (1774, 0.010930430596399216), (1775, 0.011111111111111112), (1776, 0.03914801463431356), (1777, 0.06126788517448398), (1778, 0.015214515486254616), (1779, 0.0), (1780, 0.0), (1781, 0.018633899812498245), (1782, 0.026992544339297198), (1783, 0.03849001794597505), (1784, 0.02923526731023431), (1785, 0.02418254167033372), (1786, 0.0), (1787, 0.0), (1788, 0.023002185311411807), (1789, 0.03513641844631532), (1790, 0.03465834966066909), (1791, 0.0), (1792, 0.023718935565494002), (1793, 0.0), (1794, 0.02656063576298652), (1795, 0.06023386019368341), (1796, 0.01421338109037403), (1797, 0.017329174830334543), (1798, 0.03984095364447979), (1799, 0.018349396085439344), (1800, 0.01756820922315766), (1801, 0.0), (1802, 0.014085904245475277), (1803, 0.0), (1804, 0.015058465048420852), (1805, 0.016074760739013736), (1806, 0.0), (1807, 0.011570168908343722), (1808, 0.027216552697590865), (1809, 0.015058465048420852), (1810, 0.0), (1811, 0.01278274981412284), (1812, 0.033757978902788886), (1813, 0.04018690184753434), (1814, 0.0), (1815, 0.03214952147802747), (1816, 0.0), (1817, 0.043852900965351466), (1818, 0.0), (1819, 0.009316949906249122), (1820, 0.018633899812498245), (1821, 0.03253000243161777), (1822, 0.011433239009500589), (1823, 0.0), (1824, 0.0), (1825, 0.05685352436149612), (1826, 0.026773977630083295), (1827, 0.03419927840283847), (1828, 0.0), (1829, 0.015214515486254616), (1830, 0.030714755841697555), (1831, 0.016666666666666666), (1832, 0.0), (1833, 0.03142696805273545), (1834, 0.018932061141568826), (1835, 0.028688765527462346), (1836, 0.028688765527462346), (1837, 0.04879500364742666), (1838, 0.0), (1839, 0.023002185311411807), (1840, 0.0), (1841, 0.01307440900921227), (1842, 0.0), (1843, 0.0), (1844, 0.030116930096841705), (1845, 0.01038628254749593), (1846, 0.033757978902788886), (1847, 0.013961796943056517), (1848, 0.033757978902788886), (1849, 0.03390317518104052), (1850, 0.010594028769395471), (1851, 0.03471050672503116), (1852, 0.0), (1853, 0.03253000243161777), (1854, 0.035634832254989916), (1855, 0.010050378152592122), (1856, 0.058722021951470346), (1857, 0.0569831790894251), (1858, 0.027216552697590865), (1859, 0.029814239699997195), (1860, 0.033757978902788886), (1861, 0.0), (1862, 0.022473328748774734), (1863, 0.01328031788149326), (1864, 0.0), (1865, 0.0), (1866, 0.013961796943056517), (1867, 0.011173358719233183), (1868, 0.05075913250845873), (1869, 0.0), (1870, 0.03580574370197164), (1871, 0.018349396085439344), (1872, 0.03390317518104052), (1873, 0.0), (1874, 0.026992544339297198), (1875, 0.0), (1876, 0.0), (1877, 0.012974982402692048), (1878, 0.017329174830334543), (1879, 0.014907119849998597), (1880, 0.07829602926862712), (1881, 0.0), (1882, 0.014085904245475277), (1883, 0.0), (1884, 0.0), (1885, 0.03465834966066909), (1886, 0.019920476822239894), (1887, 0.016878989451394443), (1888, 0.01287779015477093), (1889, 0.0), (1890, 0.0), (1891, 0.0), (1892, 0.04714045207910317), (1893, 0.0), (1894, 0.030429030972509232), (1895, 0.023570226039551584), (1896, 0.01756820922315766), (1897, 0.015541746804005229), (1898, 0.03914801463431356), (1899, 0.0), (1900, 0.05312127152597304), (1901, 0.022473328748774734), (1902, 0.019920476822239894), (1903, 0.0), (1904, 0.014617633655117155), (1905, 0.020286020648339485), (1906, 0.0), (1907, 0.02842676218074806), (1908, 0.012012499502607452), (1909, 0.014085904245475277), (1910, 0.012337220169960087), (1911, 0.0), (1912, 0.022099784804393195), (1913, 0.018349396085439344), (1914, 0.02895814951753796), (1915, 0.0), (1916, 0.0), (1917, 0.0), (1918, 0.03580574370197164), (1919, 0.021516574145596764), (1920, 0.022473328748774734), (1921, 0.018633899812498245), (1922, 0.015375520133814751), (1923, 0.01756820922315766), (1924, 0.02556549962824568), (1925, 0.0), (1926, 0.0), (1927, 0.0), (1928, 0.0), (1929, 0.0), (1930, 0.06804138174397717), (1931, 0.016666666666666666), (1932, 0.03863337046431279), (1933, 0.023002185311411807), (1934, 0.0), (1935, 0.015891043154093204), (1936, 0.019245008972987525), (1937, 0.018349396085439344), (1938, 0.017817416127494958), (1939, 0.014617633655117155), (1940, 0.032924319888319654), (1941, 0.021516574145596764), (1942, 0.03142696805273545), (1943, 0.0), (1944, 0.0), (1945, 0.027216552697590865), (1946, 0.026992544339297198), (1947, 0.025318484177091663), (1948, 0.0), (1949, 0.0), (1950, 0.05345224838248487), (1951, 0.05354795526016659), (1952, 0.02768182661791332), (1953, 0.010758287072798382), (1954, 0.013961796943056517), (1955, 0.016265001215808886), (1956, 0.013386988815041648), (1957, 0.013176156917368247), (1958, 0.0), (1959, 0.011935247900657213), (1960, 0.0), (1961, 0.01476024809233492), (1962, 0.03465834966066909), (1963, 0.0), (1964, 0.015058465048420852), (1965, 0.07339758434175737), (1966, 0.0), (1967, 0.0), (1968, 0.013961796943056517), (1969, 0.0), (1970, 0.051987524491003634), (1971, 0.0), (1972, 0.0), (1973, 0.02575558030954186), (1974, 0.013176156917368247), (1975, 0.0), (1976, 0.030751040267629502), (1977, 0.04303314829119352), (1978, 0.023570226039551584), (1979, 0.0), (1980, 0.0), (1981, 0.012689783127114683), (1982, 0.028171808490950554), (1983, 0.07669649888473704), (1984, 0.10956262252231944), (1985, 0.0), (1986, 0.03131121455425748), (1987, 0.05962847939999439), (1988, 0.0), (1989, 0.0), (1990, 0.024845199749997667), (1991, 0.03863337046431279), (1992, 0.0219793491131929), (1993, 0.0), (1994, 0.0), (1995, 0.011935247900657213), (1996, 0.0), (1997, 0.0), (1998, 0.018932061141568826), (1999, 0.022099784804393195), (2000, 0.013386988815041648), (2001, 0.027216552697590865), (2002, 0.014907119849998597), (2003, 0.0), (2004, 0.0), (2005, 0.023002185311411807), (2006, 0.0), (2007, 0.026352313834736494), (2008, 0.015214515486254616), (2009, 0.0), (2010, 0.014617633655117155), (2011, 0.018633899812498245), (2012, 0.0), (2013, 0.015058465048420852), (2014, 0.0), (2015, 0.013176156917368247), (2016, 0.014907119849998597), (2017, 0.04684855792842043), (2018, 0.0), (2019, 0.027446232319753947), (2020, 0.02523772325625344), (2021, 0.01328031788149326), (2022, 0.0), (2023, 0.011501092655705904), (2024, 0.012337220169960087), (2025, 0.03984095364447979), (2026, 0.020672455764868078), (2027, 0.011785113019775792), (2028, 0.0), (2029, 0.013723116159876973), (2030, 0.0), (2031, 0.0), (2032, 0.0), (2033, 0.013176156917368247), (2034, 0.0), (2035, 0.0), (2036, 0.03786412228313765), (2037, 0.046004370622823615), (2038, 0.0), (2039, 0.0), (2040, 0.0), (2041, 0.03419927840283847), (2042, 0.04774099160262885), (2043, 0.06645930483723024), (2044, 0.028688765527462346), (2045, 0.015541746804005229), (2046, 0.01278274981412284), (2047, 0.018932061141568826), (2048, 0.025019554168026717), (2049, 0.02614881801842454), (2050, 0.05847053462046861), (2051, 0.0), (2052, 0.0), (2053, 0.014085904245475277), (2054, 0.07126966450997983), (2055, 0.04969039949999533), (2056, 0.018932061141568826), (2057, 0.06344891563557342), (2058, 0.0), (2059, 0.0), (2060, 0.01476024809233492), (2061, 0.03513641844631532), (2062, 0.0), (2063, 0.026352313834736494), (2064, 0.02961744388795462), (2065, 0.0), (2066, 0.013608276348795433), (2067, 0.04612656040144425), (2068, 0.0), (2069, 0.035634832254989916), (2070, 0.0), (2071, 0.0), (2072, 0.0), (2073, 0.0), (2074, 0.04016096644512494), (2075, 0.023424278964210215), (2076, 0.0), (2077, 0.011640504929492968), (2078, 0.0), (2079, 0.0), (2080, 0.021629522817435007), (2081, 0.0), (2082, 0.0), (2083, 0.018349396085439344), (2084, 0.018633899812498245), (2085, 0.01476024809233492), (2086, 0.013723116159876973), (2087, 0.0), (2088, 0.020286020648339485), (2089, 0.02575558030954186), (2090, 0.01421338109037403), (2091, 0.0), (2092, 0.016462159944159827), (2093, 0.023570226039551584), (2094, 0.017329174830334543), (2095, 0.035634832254989916), (2096, 0.016265001215808886), (2097, 0.013608276348795433), (2098, 0.0), (2099, 0.01278274981412284), (2100, 0.025379566254229366), (2101, 0.0), (2102, 0.0), (2103, 0.02656063576298652), (2104, 0.055901699437494734), (2105, 0.0), (2106, 0.016074760739013736), (2107, 0.0), (2108, 0.0), (2109, 0.010758287072798382), (2110, 0.03849001794597505), (2111, 0.01807753815155468), (2112, 0.019920476822239894), (2113, 0.0), (2114, 0.09038769075777339), (2115, 0.0), (2116, 0.08549819600709618), (2117, 0.012974982402692048), (2118, 0.01807753815155468), (2119, 0.03892494720807614), (2120, 0.03669879217087869), (2121, 0.03726779962499649), (2122, 0.030116930096841705), (2123, 0.0), (2124, 0.012689783127114683), (2125, 0.017329174830334543), (2126, 0.0), (2127, 0.012974982402692048), (2128, 0.0), (2129, 0.024024999005214903), (2130, 0.0), (2131, 0.0404888165089458), (2132, 0.02895814951753796), (2133, 0.018633899812498245), (2134, 0.02895814951753796), (2135, 0.016462159944159827), (2136, 0.03683859759970251), (2137, 0.015214515486254616), (2138, 0.0), (2139, 0.03513641844631532), (2140, 0.03178208630818641), (2141, 0.0), (2142, 0.028171808490950554), (2143, 0.015058465048420852), (2144, 0.01098967455659645), (2145, 0.04901430813958718), (2146, 0.029814239699997195), (2147, 0.0), (2148, 0.01307440900921227), (2149, 0.017817416127494958), (2150, 0.0), (2151, 0.009466030570784413), (2152, 0.01447907475876898), (2153, 0.030751040267629502), (2154, 0.03178208630818641), (2155, 0.041344911529736156), (2156, 0.03922322702763681), (2157, 0.01476024809233492), (2158, 0.031083493608010458), (2159, 0.04057204129667897), (2160, 0.010096375546923044), (2161, 0.01259881576697424), (2162, 0.04422874103618961), (2163, 0.03419927840283847), (2164, 0.015375520133814751), (2165, 0.041344911529736156), (2166, 0.0), (2167, 0.023424278964210215), (2168, 0.0), (2169, 0.015375520133814751), (2170, 0.0), (2171, 0.01476024809233492), (2172, 0.0), (2173, 0.015891043154093204), (2174, 0.0), (2175, 0.028688765527462346), (2176, 0.011433239009500589), (2177, 0.043852900965351466), (2178, 0.0), (2179, 0.0), (2180, 0.014617633655117155), (2181, 0.01307440900921227), (2182, 0.06666666666666667), (2183, 0.0), (2184, 0.06593804733957871), (2185, 0.05929733891373501), (2186, 0.0), (2187, 0.0), (2188, 0.019920476822239894), (2189, 0.011301058393680173), (2190, 0.03333333333333333), (2191, 0.0), (2192, 0.0), (2193, 0.019920476822239894), (2194, 0.02952049618466984), (2195, 0.01476024809233492), (2196, 0.03615507630310936), (2197, 0.01209127083516686), (2198, 0.02923526731023431), (2199, 0.0), (2200, 0.044721359549995794), (2201, 0.030714755841697555), (2202, 0.012974982402692048), (2203, 0.04225771273642583), (2204, 0.0), (2205, 0.01421338109037403), (2206, 0.0), (2207, 0.0761386987626881), (2208, 0.016265001215808886), (2209, 0.027923593886113034), (2210, 0.016878989451394443), (2211, 0.030429030972509232), (2212, 0.06454972243679029), (2213, 0.0), (2214, 0.0), (2215, 0.0), (2216, 0.0), (2217, 0.04684855792842043), (2218, 0.04612656040144425), (2219, 0.03492151478847891), (2220, 0.011859467782747001), (2221, 0.033757978902788886), (2222, 0.03726779962499649), (2223, 0.0), (2224, 0.045643546458763846), (2225, 0.01957400731715678), (2226, 0.026352313834736494), (2227, 0.055901699437494734), (2228, 0.018349396085439344), (2229, 0.016666666666666666), (2230, 0.0), (2231, 0.05113099925649136), (2232, 0.0628539361054709), (2233, 0.0), (2234, 0.015375520133814751), (2235, 0.04517539514526256), (2236, 0.023570226039551584), (2237, 0.027216552697590865), (2238, 0.07829602926862712), (2239, 0.014085904245475277), (2240, 0.025949964805384095), (2241, 0.01447907475876898), (2242, 0.0), (2243, 0.04343722427630694), (2244, 0.020286020648339485), (2245, 0.017817416127494958), (2246, 0.0), (2247, 0.08377078165833911), (2248, 0.025379566254229366), (2249, 0.026352313834736494), (2250, 0.04494665749754947), (2251, 0.0), (2252, 0.021081851067789197), (2253, 0.017817416127494958), (2254, 0.020286020648339485), (2255, 0.015891043154093204), (2256, 0.05119125973616259), (2257, 0.01476024809233492), (2258, 0.024343224778007377), (2259, 0.014617633655117155), (2260, 0.03465834966066909), (2261, 0.0), (2262, 0.017817416127494958), (2263, 0.026352313834736494), (2264, 0.035634832254989916), (2265, 0.0), (2266, 0.02895814951753796), (2267, 0.015375520133814751), (2268, 0.021516574145596764), (2269, 0.0), (2270, 0.05737753105492469), (2271, 0.0), (2272, 0.09673016668133488), (2273, 0.0), (2274, 0.016878989451394443), (2275, 0.0), (2276, 0.0), (2277, 0.013723116159876973), (2278, 0.013961796943056517), (2279, 0.0), (2280, 0.013496272169648599), (2281, 0.0), (2282, 0.016074760739013736), (2283, 0.009543305571897804), (2284, 0.0), (2285, 0.011111111111111112), (2286, 0.020286020648339485), (2287, 0.015375520133814751), (2288, 0.016666666666666666), (2289, 0.0), (2290, 0.025379566254229366), (2291, 0.019245008972987525), (2292, 0.05791629903507592), (2293, 0.062017367294604234), (2294, 0.09860132971832694), (2295, 0.009140141618451362), (2296, 0.012509777084013358), (2297, 0.0), (2298, 0.0), (2299, 0.02556549962824568), (2300, 0.0), (2301, 0.0), (2302, 0.020286020648339485), (2303, 0.03726779962499649), (2304, 0.03615507630310936), (2305, 0.0), (2306, 0.019920476822239894), (2307, 0.01957400731715678), (2308, 0.015375520133814751), (2309, 0.1348399724926484), (2310, 0.0), (2311, 0.021081851067789197), (2312, 0.020286020648339485), (2313, 0.011501092655705904), (2314, 0.012253577034896795), (2315, 0.014085904245475277), (2316, 0.0), (2317, 0.020286020648339485), (2318, 0.0), (2319, 0.0), (2320, 0.021081851067789197), (2321, 0.0), (2322, 0.026992544339297198), (2323, 0.0), (2324, 0.01447907475876898), (2325, 0.0219793491131929), (2326, 0.0439586982263858), (2327, 0.01384091330895666), (2328, 0.017099639201419235), (2329, 0.0), (2330, 0.0), (2331, 0.01476024809233492), (2332, 0.03984095364447979), (2333, 0.0), (2334, 0.013723116159876973), (2335, 0.0), (2336, 0.01807753815155468), (2337, 0.03162277660168379), (2338, 0.05354795526016659), (2339, 0.013176156917368247), (2340, 0.03576278538572134), (2341, 0.0), (2342, 0.016462159944159827), (2343, 0.07126966450997983), (2344, 0.011859467782747001), (2345, 0.0), (2346, 0.04188539082916955), (2347, 0.0659380473395787), (2348, 0.0), (2349, 0.03419927840283847), (2350, 0.045643546458763846), (2351, 0.06429904295605494), (2352, 0.03834824944236852), (2353, 0.0), (2354, 0.018633899812498245), (2355, 0.0), (2356, 0.03333333333333333), (2357, 0.011640504929492968), (2358, 0.0), (2359, 0.012509777084013358), (2360, 0.04343722427630694), (2361, 0.011173358719233183), (2362, 0.0), (2363, 0.021516574145596764), (2364, 0.02556549962824568), (2365, 0.0), (2366, 0.05113099925649136), (2367, 0.013176156917368247), (2368, 0.0), (2369, 0.0), (2370, 0.0), (2371, 0.045643546458763846), (2372, 0.03214952147802747), (2373, 0.0), (2374, 0.01278274981412284), (2375, 0.0), (2376, 0.0), (2377, 0.018633899812498245), (2378, 0.015713484026367724), (2379, 0.019245008972987525), (2380, 0.04676779443885948), (2381, 0.02952049618466984), (2382, 0.022473328748774734), (2383, 0.016074760739013736), (2384, 0.0), (2385, 0.0), (2386, 0.011433239009500589), (2387, 0.0), (2388, 0.020672455764868078), (2389, 0.08606629658238704), (2390, 0.046625240412015684), (2391, 0.0), (2392, 0.0), (2393, 0.0), (2394, 0.030429030972509232), (2395, 0.014085904245475277), (2396, 0.10332173664634443), (2397, 0.0), (2398, 0.024343224778007377), (2399, 0.051298917604257706), (2400, 0.041344911529736156), (2401, 0.0), (2402, 0.04517539514526256), (2403, 0.027446232319753947), (2404, 0.04879500364742666), (2405, 0.01384091330895666), (2406, 0.014617633655117155), (2407, 0.01807753815155468), (2408, 0.0), (2409, 0.01307440900921227), (2410, 0.020672455764868078), (2411, 0.0), (2412, 0.016265001215808886), (2413, 0.0), (2414, 0.0), (2415, 0.0), (2416, 0.022866478019001178), (2417, 0.029814239699997195), (2418, 0.015713484026367724), (2419, 0.0), (2420, 0.020672455764868078), (2421, 0.0), (2422, 0.035355339059327376), (2423, 0.011433239009500589), (2424, 0.0), (2425, 0.0), (2426, 0.0), (2427, 0.03948992518393949), (2428, 0.0), (2429, 0.015891043154093204), (2430, 0.01476024809233492), (2431, 0.02895814951753796), (2432, 0.0692045665447833), (2433, 0.023570226039551584), (2434, 0.0), (2435, 0.025949964805384095), (2436, 0.0), (2437, 0.03615507630310936), (2438, 0.045643546458763846), (2439, 0.05679618342470648), (2440, 0.0), (2441, 0.03465834966066909), (2442, 0.029361010975735173), (2443, 0.04264014327112209), (2444, 0.05847053462046862), (2445, 0.0), (2446, 0.01328031788149326), (2447, 0.043852900965351466), (2448, 0.01807753815155468), (2449, 0.0), (2450, 0.018932061141568826), (2451, 0.020672455764868078), (2452, 0.0), (2453, 0.0), (2454, 0.013176156917368247), (2455, 0.0), (2456, 0.0), (2457, 0.0), (2458, 0.0), (2459, 0.015891043154093204), (2460, 0.028171808490950554), (2461, 0.05270462766947299), (2462, 0.012509777084013358), (2463, 0.015713484026367724), (2464, 0.05892556509887896), (2465, 0.07042952122737639), (2466, 0.05151116061908372), (2467, 0.03806934938134405), (2468, 0.0), (2469, 0.013961796943056517), (2470, 0.021629522817435007), (2471, 0.05489246463950789), (2472, 0.017099639201419235), (2473, 0.0), (2474, 0.021081851067789197), (2475, 0.0), (2476, 0.0), (2477, 0.017817416127494958), (2478, 0.012012499502607452), (2479, 0.0), (2480, 0.03214952147802747), (2481, 0.013608276348795433), (2482, 0.0), (2483, 0.016074760739013736), (2484, 0.01421338109037403), (2485, 0.05189992961076819), (2486, 0.01384091330895666), (2487, 0.03178208630818641), (2488, 0.0), (2489, 0.05962847939999439), (2490, 0.016462159944159827), (2491, 0.03419927840283847), (2492, 0.023002185311411807), (2493, 0.016265001215808886), (2494, 0.03178208630818641), (2495, 0.051298917604257706), (2496, 0.026352313834736494), (2497, 0.0), (2498, 0.0), (2499, 0.01048861292545921), (2500, 0.01807753815155468), (2501, 0.018932061141568826), (2502, 0.01807753815155468), (2503, 0.010930430596399216), (2504, 0.0), (2505, 0.0), (2506, 0.010930430596399216), (2507, 0.03615507630310936), (2508, 0.01421338109037403), (2509, 0.03615507630310936), (2510, 0.02519763153394848), (2511, 0.03450327796711771), (2512, 0.021081851067789197), (2513, 0.0), (2514, 0.01259881576697424), (2515, 0.018633899812498245), (2516, 0.0), (2517, 0.023281009858985936), (2518, 0.012422599874998833), (2519, 0.01278274981412284), (2520, 0.0), (2521, 0.011236664374387367), (2522, 0.0), (2523, 0.0), (2524, 0.019920476822239894), (2525, 0.031083493608010458), (2526, 0.0), (2527, 0.03849001794597505), (2528, 0.04303314829119353), (2529, 0.014617633655117155), (2530, 0.014617633655117155), (2531, 0.0), (2532, 0.03253000243161777), (2533, 0.011173358719233183), (2534, 0.015541746804005229), (2535, 0.025019554168026717), (2536, 0.0), (2537, 0.0), (2538, 0.027216552697590865), (2539, 0.0), (2540, 0.017329174830334543), (2541, 0.02656063576298652), (2542, 0.019920476822239894), (2543, 0.04684855792842043), (2544, 0.06751595780557777), (2545, 0.0), (2546, 0.0), (2547, 0.0), (2548, 0.014085904245475277), (2549, 0.0), (2550, 0.01307440900921227), (2551, 0.015541746804005229), (2552, 0.0), (2553, 0.033757978902788886), (2554, 0.0), (2555, 0.0), (2556, 0.04822428221704121), (2557, 0.0), (2558, 0.01807753815155468), (2559, 0.009543305571897804), (2560, 0.0), (2561, 0.023140337816687444), (2562, 0.0), (2563, 0.015891043154093204), (2564, 0.01098967455659645), (2565, 0.015891043154093204), (2566, 0.0), (2567, 0.020672455764868078), (2568, 0.032924319888319654), (2569, 0.0), (2570, 0.04612656040144425), (2571, 0.013496272169648599), (2572, 0.019744962591969745), (2573, 0.018633899812498245), (2574, 0.05312127152597304), (2575, 0.0), (2576, 0.0), (2577, 0.02952049618466984), (2578, 0.019245008972987525), (2579, 0.03984095364447979), (2580, 0.026773977630083295), (2581, 0.023281009858985936), (2582, 0.03669879217087869), (2583, 0.01756820922315766), (2584, 0.0439586982263858), (2585, 0.0), (2586, 0.0408248290463863), (2587, 0.016666666666666666), (2588, 0.0), (2589, 0.0), (2590, 0.0986977613596807), (2591, 0.021516574145596764), (2592, 0.010437071518085825), (2593, 0.04152273992686998), (2594, 0.0), (2595, 0.03984095364447979), (2596, 0.0), (2597, 0.023570226039551584), (2598, 0.0), (2599, 0.030751040267629502), (2600, 0.013608276348795433), (2601, 0.016666666666666666), (2602, 0.03849001794597505), (2603, 0.0), (2604, 0.0), (2605, 0.01287779015477093), (2606, 0.02556549962824568), (2607, 0.01287779015477093), (2608, 0.021516574145596764), (2609, 0.06506000486323554), (2610, 0.0), (2611, 0.028171808490950554), (2612, 0.0), (2613, 0.0), (2614, 0.0), (2615, 0.04303314829119353), (2616, 0.0), (2617, 0.020286020648339485), (2618, 0.07687760066907376), (2619, 0.01807753815155468), (2620, 0.0), (2621, 0.0), (2622, 0.01957400731715678), (2623, 0.021081851067789197), (2624, 0.0), (2625, 0.07607257743127308), (2626, 0.014907119849998597), (2627, 0.016074760739013736), (2628, 0.0), (2629, 0.0), (2630, 0.0), (2631, 0.0), (2632, 0.02952049618466984), (2633, 0.0), (2634, 0.0219793491131929), (2635, 0.015214515486254616), (2636, 0.027216552697590865), (2637, 0.020100756305184243), (2638, 0.0), (2639, 0.0878410461157883), (2640, 0.0), (2641, 0.020672455764868078), (2642, 0.012171612389003689), (2643, 0.01756820922315766), (2644, 0.014085904245475277), (2645, 0.016265001215808886), (2646, 0.017329174830334543), (2647, 0.014724203476646205), (2648, 0.0), (2649, 0.02842676218074806), (2650, 0.019245008972987525), (2651, 0.04016096644512494), (2652, 0.0), (2653, 0.04517539514526256), (2654, 0.0), (2655, 0.031083493608010458), (2656, 0.015058465048420852), (2657, 0.00903876907577734), (2658, 0.0), (2659, 0.019920476822239894), (2660, 0.0), (2661, 0.01259881576697424), (2662, 0.017817416127494958), (2663, 0.0), (2664, 0.014085904245475277), (2665, 0.04057204129667897), (2666, 0.0), (2667, 0.012974982402692048), (2668, 0.023002185311411807), (2669, 0.04714045207910317), (2670, 0.0), (2671, 0.0), (2672, 0.013176156917368247), (2673, 0.01307440900921227), (2674, 0.01307440900921227), (2675, 0.0), (2676, 0.0), (2677, 0.030116930096841705), (2678, 0.03465834966066909), (2679, 0.03615507630310936), (2680, 0.10434983894999018), (2681, 0.0), (2682, 0.03160303087599848), (2683, 0.016462159944159827), (2684, 0.0), (2685, 0.022473328748774734), (2686, 0.01447907475876898), (2687, 0.012689783127114683), (2688, 0.021516574145596764), (2689, 0.0), (2690, 0.0), (2691, 0.0), (2692, 0.020286020648339485), (2693, 0.017817416127494958), (2694, 0.01421338109037403), (2695, 0.0), (2696, 0.0), (2697, 0.0), (2698, 0.0), (2699, 0.0), (2700, 0.01476024809233492), (2701, 0.03333333333333333), (2702, 0.0), (2703, 0.01384091330895666), (2704, 0.014617633655117155), (2705, 0.0), (2706, 0.0), (2707, 0.013176156917368247), (2708, 0.0), (2709, 0.01756820922315766), (2710, 0.0), (2711, 0.028171808490950554), (2712, 0.0), (2713, 0.017817416127494958), (2714, 0.024343224778007377), (2715, 0.0), (2716, 0.0), (2717, 0.0), (2718, 0.0), (2719, 0.0219793491131929), (2720, 0.015214515486254616), (2721, 0.0), (2722, 0.022866478019001178), (2723, 0.0), (2724, 0.0), (2725, 0.0), (2726, 0.011111111111111112), (2727, 0.03131121455425748), (2728, 0.049801192055599734), (2729, 0.01447907475876898), (2730, 0.01447907475876898), (2731, 0.08268982305947231), (2732, 0.0), (2733, 0.0), (2734, 0.05270462766947299), (2735, 0.017099639201419235), (2736, 0.020286020648339485), (2737, 0.020286020648339485), (2738, 0.011859467782747001), (2739, 0.035634832254989916), (2740, 0.016878989451394443), (2741, 0.0), (2742, 0.0), (2743, 0.023570226039551584), (2744, 0.02923526731023431), (2745, 0.03615507630310936), (2746, 0.023002185311411807), (2747, 0.01807753815155468), (2748, 0.0), (2749, 0.028688765527462346), (2750, 0.0), (2751, 0.012422599874998833), (2752, 0.0), (2753, 0.0), (2754, 0.025019554168026717), (2755, 0.0), (2756, 0.018633899812498245), (2757, 0.032274861218395144), (2758, 0.0), (2759, 0.0), (2760, 0.014344382763731173), (2761, 0.044280744277004756), (2762, 0.0), (2763, 0.0), (2764, 0.026992544339297198), (2765, 0.0), (2766, 0.0), (2767, 0.0), (2768, 0.0), (2769, 0.013386988815041648), (2770, 0.0), (2771, 0.0), (2772, 0.04303314829119353), (2773, 0.0), (2774, 0.021516574145596764), (2775, 0.01447907475876898), (2776, 0.04969039949999533), (2777, 0.0), (2778, 0.012337220169960087), (2779, 0.0), (2780, 0.06839855680567694), (2781, 0.0), (2782, 0.0), (2783, 0.018932061141568826), (2784, 0.030714755841697555), (2785, 0.01384091330895666), (2786, 0.0), (2787, 0.017099639201419235), (2788, 0.0), (2789, 0.017329174830334543), (2790, 0.0), (2791, 0.015713484026367724), (2792, 0.0), (2793, 0.01287779015477093), (2794, 0.030751040267629502), (2795, 0.01807753815155468), (2796, 0.013176156917368247), (2797, 0.013386988815041648), (2798, 0.011433239009500589), (2799, 0.0), (2800, 0.04879500364742666), (2801, 0.0), (2802, 0.03914801463431356), (2803, 0.020286020648339485), (2804, 0.06356417261637282), (2805, 0.024845199749997667), (2806, 0.021081851067789197), (2807, 0.0), (2808, 0.0), (2809, 0.0), (2810, 0.04767312946227961), (2811, 0.030116930096841705), (2812, 0.01278274981412284), (2813, 0.0), (2814, 0.013608276348795433), (2815, 0.014344382763731173), (2816, 0.0), (2817, 0.014085904245475277), (2818, 0.031083493608010458), (2819, 0.014344382763731173), (2820, 0.06429904295605494), (2821, 0.015541746804005229), (2822, 0.01447907475876898), (2823, 0.0), (2824, 0.04057204129667897), (2825, 0.02614881801842454), (2826, 0.047330152853922065), (2827, 0.0), (2828, 0.0), (2829, 0.012337220169960087), (2830, 0.018932061141568826), (2831, 0.0), (2832, 0.036037498507822355), (2833, 0.011570168908343722), (2834, 0.03253000243161777), (2835, 0.0), (2836, 0.026773977630083295), (2837, 0.029814239699997195), (2838, 0.0), (2839, 0.0), (2840, 0.0), (2841, 0.03178208630818641), (2842, 0.03513641844631532), (2843, 0.0), (2844, 0.0), (2845, 0.030116930096841705), (2846, 0.01287779015477093), (2847, 0.0), (2848, 0.0), (2849, 0.0), (2850, 0.022473328748774734), (2851, 0.0), (2852, 0.01476024809233492), (2853, 0.0), (2854, 0.03471050672503116), (2855, 0.0), (2856, 0.0), (2857, 0.0), (2858, 0.0), (2859, 0.01447907475876898), (2860, 0.0), (2861, 0.012974982402692048), (2862, 0.03419927840283847), (2863, 0.04216370213557839), (2864, 0.022473328748774734), (2865, 0.03465834966066909), (2866, 0.0219793491131929), (2867, 0.01328031788149326), (2868, 0.020672455764868078), (2869, 0.0), (2870, 0.0), (2871, 0.023002185311411807), (2872, 0.0), (2873, 0.016462159944159827), (2874, 0.0), (2875, 0.019165319152535634), (2876, 0.04264014327112209), (2877, 0.018932061141568826), (2878, 0.0), (2879, 0.0), (2880, 0.027446232319753947), (2881, 0.0), (2882, 0.01807753815155468), (2883, 0.0), (2884, 0.0), (2885, 0.018349396085439344), (2886, 0.0), (2887, 0.02923526731023431), (2888, 0.0), (2889, 0.0), (2890, 0.016878989451394443), (2891, 0.0), (2892, 0.013496272169648599), (2893, 0.0), (2894, 0.0), (2895, 0.0), (2896, 0.031083493608010458), (2897, 0.01421338109037403), (2898, 0.05791629903507592), (2899, 0.0), (2900, 0.02768182661791332), (2901, 0.014907119849998597), (2902, 0.0), (2903, 0.0), (2904, 0.014344382763731173), (2905, 0.010096375546923044), (2906, 0.013608276348795433), (2907, 0.0), (2908, 0.0), (2909, 0.0), (2910, 0.0), (2911, 0.09525793444156803), (2912, 0.011570168908343722), (2913, 0.0), (2914, 0.03849001794597505), (2915, 0.06523280730534423), (2916, 0.02952049618466984), (2917, 0.016666666666666666), (2918, 0.0), (2919, 0.01421338109037403), (2920, 0.0879173964527716), (2921, 0.0), (2922, 0.04767312946227961), (2923, 0.0), (2924, 0.015541746804005229), (2925, 0.0), (2926, 0.0), (2927, 0.03513641844631532), (2928, 0.04057204129667897), (2929, 0.014907119849998597), (2930, 0.017329174830334543), (2931, 0.0), (2932, 0.016878989451394443), (2933, 0.0), (2934, 0.0), (2935, 0.0), (2936, 0.025379566254229366), (2937, 0.0), (2938, 0.0), (2939, 0.0), (2940, 0.0), (2941, 0.0), (2942, 0.014085904245475277), (2943, 0.0), (2944, 0.013723116159876973), (2945, 0.0), (2946, 0.0), (2947, 0.0), (2948, 0.0), (2949, 0.0), (2950, 0.01756820922315766), (2951, 0.0), (2952, 0.016878989451394443), (2953, 0.0), (2954, 0.04303314829119352), (2955, 0.0), (2956, 0.019920476822239894), (2957, 0.0), (2958, 0.011935247900657213), (2959, 0.0), (2960, 0.012509777084013358), (2961, 0.0), (2962, 0.0), (2963, 0.01209127083516686), (2964, 0.01957400731715678), (2965, 0.06751595780557777), (2966, 0.011712139482105107), (2967, 0.0), (2968, 0.02768182661791332), (2969, 0.0), (2970, 0.0), (2971, 0.05423261445466404), (2972, 0.023570226039551584), (2973, 0.08756843958809352), (2974, 0.01209127083516686), (2975, 0.0), (2976, 0.0), (2977, 0.015891043154093204), (2978, 0.013496272169648599), (2979, 0.014085904245475277), (2980, 0.0), (2981, 0.0), (2982, 0.0), (2983, 0.02952049618466984), (2984, 0.0), (2985, 0.014617633655117155), (2986, 0.022222222222222223), (2987, 0.0404888165089458), (2988, 0.0), (2989, 0.0), (2990, 0.00903876907577734), (2991, 0.09534625892455922), (2992, 0.0), (2993, 0.07171371656006362), (2994, 0.018932061141568826), (2995, 0.042376115077581884), (2996, 0.05), (2997, 0.027216552697590865), (2998, 0.018349396085439344), (2999, 0.041344911529736156), (3000, 0.06584863977663931), (3001, 0.0), (3002, 0.014344382763731173), (3003, 0.016462159944159827), (3004, 0.043852900965351466), (3005, 0.0), (3006, 0.026773977630083295), (3007, 0.04116934847963092), (3008, 0.012337220169960087), (3009, 0.0), (3010, 0.0), (3011, 0.05345224838248487), (3012, 0.05354795526016659), (3013, 0.013496272169648599), (3014, 0.0), (3015, 0.07726674092862558), (3016, 0.0), (3017, 0.02614881801842454), (3018, 0.051987524491003634), (3019, 0.016666666666666666), (3020, 0.027216552697590865), (3021, 0.011501092655705904), (3022, 0.02768182661791332), (3023, 0.015713484026367724), (3024, 0.0), (3025, 0.01019029734192905), (3026, 0.014085904245475277), (3027, 0.012689783127114683), (3028, 0.025949964805384095), (3029, 0.02614881801842454), (3030, 0.0), (3031, 0.01957400731715678), (3032, 0.060858061945018464), (3033, 0.0), (3034, 0.02895814951753796), (3035, 0.026352313834736494), (3036, 0.031083493608010458), (3037, 0.07529232524210426), (3038, 0.024024999005214903), (3039, 0.04152273992686998), (3040, 0.02895814951753796), (3041, 0.018932061141568826), (3042, 0.0), (3043, 0.0), (3044, 0.041344911529736156), (3045, 0.027446232319753947), (3046, 0.0), (3047, 0.011570168908343722), (3048, 0.015058465048420852), (3049, 0.02450715406979359), (3050, 0.057735026918962574), (3051, 0.0), (3052, 0.011111111111111112), (3053, 0.0), (3054, 0.0), (3055, 0.019920476822239894), (3056, 0.03948992518393949), (3057, 0.011785113019775792), (3058, 0.08606629658238706), (3059, 0.053985088678594396), (3060, 0.012974982402692048), (3061, 0.043852900965351466), (3062, 0.01328031788149326), (3063, 0.0), (3064, 0.020672455764868078), (3065, 0.0), (3066, 0.014617633655117155), (3067, 0.0), (3068, 0.021516574145596764), (3069, 0.0), (3070, 0.0), (3071, 0.01965892748731962), (3072, 0.06324555320336758), (3073, 0.023140337816687444), (3074, 0.0), (3075, 0.0), (3076, 0.018932061141568826), (3077, 0.0), (3078, 0.0), (3079, 0.0), (3080, 0.03615507630310936), (3081, 0.016666666666666666), (3082, 0.01807753815155468), (3083, 0.03465834966066909), (3084, 0.01756820922315766), (3085, 0.028688765527462346), (3086, 0.04612656040144425), (3087, 0.018349396085439344), (3088, 0.023281009858985936), (3089, 0.0), (3090, 0.029814239699997195), (3091, 0.04303314829119353), (3092, 0.0), (3093, 0.0), (3094, 0.0), (3095, 0.0), (3096, 0.0), (3097, 0.04612656040144425), (3098, 0.01807753815155468), (3099, 0.0), (3100, 0.0), (3101, 0.016412198797244364), (3102, 0.0), (3103, 0.01209127083516686), (3104, 0.01756820922315766), (3105, 0.018633899812498245), (3106, 0.0), (3107, 0.0), (3108, 0.0), (3109, 0.0), (3110, 0.016878989451394443), (3111, 0.0), (3112, 0.0), (3113, 0.016074760739013736), (3114, 0.020672455764868078), (3115, 0.026352313834736494), (3116, 0.011049892402196598), (3117, 0.0), (3118, 0.03333333333333333), (3119, 0.020286020648339485), (3120, 0.0), (3121, 0.0), (3122, 0.017817416127494958), (3123, 0.0), (3124, 0.01957400731715678), (3125, 0.02418254167033372), (3126, 0.016878989451394443), (3127, 0.025949964805384095), (3128, 0.08549819600709618), (3129, 0.0), (3130, 0.04938647983247948), (3131, 0.0), (3132, 0.015713484026367724), (3133, 0.0), (3134, 0.0), (3135, 0.06356417261637282), (3136, 0.0), (3137, 0.011366572324507891), (3138, 0.015891043154093204), (3139, 0.0), (3140, 0.01957400731715678), (3141, 0.02556549962824568), (3142, 0.03390317518104052), (3143, 0.018633899812498245), (3144, 0.02923526731023431), (3145, 0.015541746804005229), (3146, 0.0), (3147, 0.015058465048420852), (3148, 0.011859467782747001), (3149, 0.04303314829119353), (3150, 0.04216370213557839), (3151, 0.0), (3152, 0.03914801463431356), (3153, 0.012509777084013358), (3154, 0.023002185311411807), (3155, 0.016666666666666666), (3156, 0.010540925533894598), (3157, 0.024024999005214903), (3158, 0.032924319888319654), (3159, 0.026773977630083295), (3160, 0.01447907475876898), (3161, 0.015541746804005229), (3162, 0.0), (3163, 0.013386988815041648), (3164, 0.015891043154093204), (3165, 0.0), (3166, 0.0), (3167, 0.0), (3168, 0.0), (3169, 0.013386988815041648), (3170, 0.01328031788149326), (3171, 0.0), (3172, 0.0), (3173, 0.0), (3174, 0.0), (3175, 0.0), (3176, 0.03669879217087869), (3177, 0.03178208630818641), (3178, 0.014085904245475277), (3179, 0.014617633655117155), (3180, 0.0), (3181, 0.0), (3182, 0.03419927840283847), (3183, 0.013496272169648599), (3184, 0.01983213724362432), (3185, 0.014617633655117155), (3186, 0.04116934847963091), (3187, 0.024024999005214903), (3188, 0.04225771273642583), (3189, 0.051298917604257706), (3190, 0.06839855680567694), (3191, 0.01038628254749593), (3192, 0.0), (3193, 0.0), (3194, 0.03984095364447979), (3195, 0.023424278964210215), (3196, 0.018856180831641266), (3197, 0.0), (3198, 0.011501092655705904), (3199, 0.011935247900657213), (3200, 0.015214515486254616), (3201, 0.0), (3202, 0.03914801463431356), (3203, 0.013496272169648599), (3204, 0.0), (3205, 0.05039526306789696), (3206, 0.018932061141568826), (3207, 0.060858061945018464), (3208, 0.03513641844631532), (3209, 0.030429030972509232), (3210, 0.026992544339297198), (3211, 0.01756820922315766), (3212, 0.019920476822239894), (3213, 0.0), (3214, 0.01957400731715678), (3215, 0.0), (3216, 0.0), (3217, 0.01476024809233492), (3218, 0.018932061141568826), (3219, 0.03615507630310936), (3220, 0.01209127083516686), (3221, 0.03984095364447978), (3222, 0.0), (3223, 0.016216808513683997), (3224, 0.0), (3225, 0.016718995419183973), (3226, 0.01307440900921227), (3227, 0.0), (3228, 0.013723116159876973), (3229, 0.020286020648339485), (3230, 0.013176156917368247), (3231, 0.0), (3232, 0.024024999005214903), (3233, 0.0), (3234, 0.01756820922315766), (3235, 0.061502080535259004), (3236, 0.0), (3237, 0.03333333333333333), (3238, 0.0), (3239, 0.04343722427630694), (3240, 0.013386988815041648), (3241, 0.013176156917368247), (3242, 0.021516574145596764), (3243, 0.023570226039551584), (3244, 0.0), (3245, 0.02952049618466984), (3246, 0.015541746804005229), (3247, 0.0), (3248, 0.0), (3249, 0.01384091330895666), (3250, 0.024674440339920174), (3251, 0.027216552697590865), (3252, 0.016265001215808886), (3253, 0.0), (3254, 0.0), (3255, 0.0), (3256, 0.015891043154093204), (3257, 0.018349396085439344), (3258, 0.015891043154093204), (3259, 0.033757978902788886), (3260, 0.0), (3261, 0.0), (3262, 0.0), (3263, 0.0), (3264, 0.0), (3265, 0.0), (3266, 0.0372677996249965), (3267, 0.03314967720658979), (3268, 0.04343722427630694), (3269, 0.028171808490950554), (3270, 0.04836508334066744), (3271, 0.01807753815155468), (3272, 0.04879500364742666), (3273, 0.013496272169648599), (3274, 0.0), (3275, 0.0), (3276, 0.04057204129667897), (3277, 0.023002185311411807), (3278, 0.0), (3279, 0.0), (3280, 0.0664015894074663), (3281, 0.03513641844631532), (3282, 0.0), (3283, 0.023570226039551584), (3284, 0.0), (3285, 0.0674199862463242), (3286, 0.0), (3287, 0.01287779015477093), (3288, 0.0), (3289, 0.010143010324169742), (3290, 0.0), (3291, 0.0), (3292, 0.03333333333333333), (3293, 0.06085806194501844), (3294, 0.0), (3295, 0.07559289460184546), (3296, 0.04264014327112209), (3297, 0.0), (3298, 0.022473328748774734), (3299, 0.0), (3300, 0.0), (3301, 0.01957400731715678), (3302, 0.013723116159876973), (3303, 0.019920476822239894), (3304, 0.02656063576298652), (3305, 0.013608276348795433), (3306, 0.0), (3307, 0.013608276348795433), (3308, 0.04154513018998372), (3309, 0.04822428221704121), (3310, 0.0), (3311, 0.017099639201419235), (3312, 0.01807753815155468), (3313, 0.015375520133814751), (3314, 0.01957400731715678), (3315, 0.02895814951753796), (3316, 0.03450327796711771), (3317, 0.03513641844631532), (3318, 0.027446232319753947), (3319, 0.023140337816687444), (3320, 0.04836508334066744), (3321, 0.01209127083516686), (3322, 0.0), (3323, 0.026352313834736494), (3324, 0.03214952147802747), (3325, 0.026352313834736494), (3326, 0.017043666418830455), (3327, 0.04152273992686998), (3328, 0.01328031788149326), (3329, 0.0), (3330, 0.0), (3331, 0.03914801463431356), (3332, 0.0), (3333, 0.0), (3334, 0.01209127083516686), (3335, 0.014344382763731173), (3336, 0.01328031788149326), (3337, 0.015541746804005229), (3338, 0.01259881576697424), (3339, 0.0), (3340, 0.0), (3341, 0.016265001215808886), (3342, 0.03253000243161777), (3343, 0.01384091330895666), (3344, 0.016878989451394443), (3345, 0.023570226039551584), (3346, 0.0), (3347, 0.0), (3348, 0.01756820922315766), (3349, 0.015541746804005229), (3350, 0.02923526731023431), (3351, 0.03178208630818641), (3352, 0.0), (3353, 0.014085904245475277), (3354, 0.0), (3355, 0.0), (3356, 0.021516574145596764), (3357, 0.0), (3358, 0.04969039949999533), (3359, 0.018932061141568826), (3360, 0.01756820922315766), (3361, 0.0), (3362, 0.01957400731715678), (3363, 0.016878989451394443), (3364, 0.014617633655117155), (3365, 0.0), (3366, 0.01307440900921227), (3367, 0.0), (3368, 0.015375520133814751), (3369, 0.03178208630818641), (3370, 0.0), (3371, 0.05345224838248487), (3372, 0.04376881095324085), (3373, 0.0), (3374, 0.016988239714587516), (3375, 0.01384091330895666), (3376, 0.010437071518085825), (3377, 0.0), (3378, 0.0), (3379, 0.018932061141568826), (3380, 0.01287779015477093), (3381, 0.03142696805273545), (3382, 0.016666666666666666), (3383, 0.015541746804005229), (3384, 0.027446232319753947), (3385, 0.0), (3386, 0.0), (3387, 0.0), (3388, 0.0), (3389, 0.017329174830334543), (3390, 0.018932061141568826), (3391, 0.01807753815155468), (3392, 0.019920476822239894), (3393, 0.0), (3394, 0.0), (3395, 0.0), (3396, 0.0), (3397, 0.02895814951753796), (3398, 0.049386479832479485), (3399, 0.009140141618451362), (3400, 0.02614881801842454), (3401, 0.034299717028501764), (3402, 0.07302967433402213), (3403, 0.026352313834736494), (3404, 0.0), (3405, 0.01476024809233492), (3406, 0.0738012404616746), (3407, 0.018932061141568826), (3408, 0.0), (3409, 0.0), (3410, 0.0), (3411, 0.05962847939999439), (3412, 0.0), (3413, 0.01384091330895666), (3414, 0.023570226039551584), (3415, 0.04303314829119353), (3416, 0.015713484026367724), (3417, 0.0), (3418, 0.02923526731023431), (3419, 0.017329174830334543), (3420, 0.03984095364447979), (3421, 0.0), (3422, 0.01476024809233492), (3423, 0.028688765527462346), (3424, 0.018349396085439344), (3425, 0.0), (3426, 0.0), (3427, 0.0), (3428, 0.013176156917368247), (3429, 0.0), (3430, 0.016074760739013736), (3431, 0.02097722585091842), (3432, 0.0), (3433, 0.0), (3434, 0.016666666666666666), (3435, 0.01447907475876898), (3436, 0.010930430596399216), (3437, 0.016666666666666666), (3438, 0.013386988815041648), (3439, 0.0), (3440, 0.0), (3441, 0.030751040267629502), (3442, 0.0), (3443, 0.015214515486254616), (3444, 0.01807753815155468), (3445, 0.0), (3446, 0.026992544339297198), (3447, 0.1079701773571888), (3448, 0.013723116159876973), (3449, 0.071156806696482), (3450, 0.0), (3451, 0.0), (3452, 0.0), (3453, 0.0), (3454, 0.012422599874998833), (3455, 0.0), (3456, 0.0), (3457, 0.023570226039551584), (3458, 0.0), (3459, 0.04264014327112209), (3460, 0.023570226039551584), (3461, 0.015214515486254616), (3462, 0.04057204129667897), (3463, 0.016878989451394443), (3464, 0.0), (3465, 0.0), (3466, 0.0), (3467, 0.0), (3468, 0.013608276348795433), (3469, 0.011501092655705904), (3470, 0.012689783127114683), (3471, 0.01278274981412284), (3472, 0.0), (3473, 0.0), (3474, 0.020286020648339485), (3475, 0.016878989451394443), (3476, 0.0417482860723433), (3477, 0.0), (3478, 0.04494665749754947), (3479, 0.0), (3480, 0.013723116159876973), (3481, 0.009390602830316851), (3482, 0.026992544339297198), (3483, 0.016265001215808886), (3484, 0.034299717028501764), (3485, 0.017817416127494958), (3486, 0.0), (3487, 0.0), (3488, 0.0), (3489, 0.035355339059327376), (3490, 0.02952049618466984), (3491, 0.0), (3492, 0.0), (3493, 0.014907119849998597), (3494, 0.0), (3495, 0.01957400731715678), (3496, 0.015375520133814751), (3497, 0.03984095364447979), (3498, 0.0), (3499, 0.023281009858985936), (3500, 0.0), (3501, 0.0), (3502, 0.026352313834736494), (3503, 0.026992544339297198), (3504, 0.00950443247520335), (3505, 0.022473328748774734), (3506, 0.03253000243161777), (3507, 0.01421338109037403), (3508, 0.021081851067789197), (3509, 0.0), (3510, 0.017099639201419235), (3511, 0.0), (3512, 0.015375520133814751), (3513, 0.0), (3514, 0.023002185311411807), (3515, 0.010702688317798926), (3516, 0.0), (3517, 0.085183541999992), (3518, 0.0), (3519, 0.04714045207910317), (3520, 0.022473328748774734), (3521, 0.03253000243161777), (3522, 0.03178208630818641), (3523, 0.01957400731715678), (3524, 0.09938079899999067), (3525, 0.04767312946227961), (3526, 0.0), (3527, 0.013723116159876973), (3528, 0.0), (3529, 0.0), (3530, 0.0), (3531, 0.0), (3532, 0.0), (3533, 0.03806934938134405), (3534, 0.051987524491003634), (3535, 0.027216552697590865), (3536, 0.01447907475876898), (3537, 0.0), (3538, 0.016462159944159827), (3539, 0.012337220169960087), (3540, 0.035578403348241), (3541, 0.0), (3542, 0.010336227882434039), (3543, 0.03849001794597505), (3544, 0.051987524491003634), (3545, 0.0), (3546, 0.015375520133814751), (3547, 0.0), (3548, 0.024845199749997667), (3549, 0.018633899812498245), (3550, 0.0), (3551, 0.0), (3552, 0.02656063576298652), (3553, 0.05976143046671968), (3554, 0.0), (3555, 0.011640504929492968), (3556, 0.0), (3557, 0.01447907475876898), (3558, 0.0), (3559, 0.0), (3560, 0.01328031788149326), (3561, 0.0), (3562, 0.03615507630310936), (3563, 0.0), (3564, 0.014907119849998597), (3565, 0.01287779015477093), (3566, 0.0), (3567, 0.016462159944159827), (3568, 0.016074760739013736), (3569, 0.0), (3570, 0.0), (3571, 0.0), (3572, 0.021516574145596764), (3573, 0.0), (3574, 0.04057204129667897), (3575, 0.07239537379384489), (3576, 0.016878989451394443), (3577, 0.019920476822239894), (3578, 0.045466289298031565), (3579, 0.07339758434175737), (3580, 0.0), (3581, 0.01447907475876898), (3582, 0.017754121376376917), (3583, 0.012337220169960087), (3584, 0.0), (3585, 0.0), (3586, 0.018932061141568826), (3587, 0.03863337046431279), (3588, 0.018932061141568826), (3589, 0.0), (3590, 0.024845199749997667), (3591, 0.024024999005214903), (3592, 0.023140337816687444), (3593, 0.0), (3594, 0.011859467782747001), (3595, 0.0), (3596, 0.02768182661791332), (3597, 0.0), (3598, 0.018633899812498245), (3599, 0.0), (3600, 0.015214515486254616), (3601, 0.029814239699997195), (3602, 0.012689783127114683), (3603, 0.0), (3604, 0.0), (3605, 0.0628539361054709), (3606, 0.043852900965351466), (3607, 0.0), (3608, 0.0), (3609, 0.0), (3610, 0.0), (3611, 0.04188539082916955), (3612, 0.040662503039522215), (3613, 0.012171612389003689), (3614, 0.008664587415167272), (3615, 0.013496272169648599), (3616, 0.017099639201419235), (3617, 0.015214515486254616), (3618, 0.0), (3619, 0.0), (3620, 0.019920476822239894), (3621, 0.030429030972509232), (3622, 0.022473328748774734), (3623, 0.0), (3624, 0.018349396085439344), (3625, 0.0), (3626, 0.013496272169648599), (3627, 0.031008683647302117), (3628, 0.014907119849998597), (3629, 0.023002185311411807), (3630, 0.0), (3631, 0.0), (3632, 0.0), (3633, 0.025379566254229366), (3634, 0.0), (3635, 0.0), (3636, 0.01807753815155468), (3637, 0.0), (3638, 0.0), (3639, 0.016462159944159827), (3640, 0.0), (3641, 0.027446232319753947), (3642, 0.013608276348795433), (3643, 0.08528028654224418), (3644, 0.0), (3645, 0.0), (3646, 0.02019275109384609), (3647, 0.015891043154093204), (3648, 0.0), (3649, 0.015541746804005229), (3650, 0.0), (3651, 0.0), (3652, 0.0), (3653, 0.0), (3654, 0.0), (3655, 0.018932061141568826), (3656, 0.0), (3657, 0.04057204129667897), (3658, 0.0), (3659, 0.009622504486493762), (3660, 0.0), (3661, 0.018349396085439344), (3662, 0.06268006596296913), (3663, 0.0), (3664, 0.00878410461157883), (3665, 0.0), (3666, 0.05345224838248487), (3667, 0.027446232319753947), (3668, 0.0), (3669, 0.05), (3670, 0.0), (3671, 0.016878989451394443), (3672, 0.0), (3673, 0.021516574145596764), (3674, 0.0), (3675, 0.0), (3676, 0.0), (3677, 0.0), (3678, 0.021081851067789197), (3679, 0.027923593886113034), (3680, 0.0), (3681, 0.026992544339297198), (3682, 0.024845199749997667), (3683, 0.0), (3684, 0.0), (3685, 0.0), (3686, 0.0), (3687, 0.03196422009902561), (3688, 0.022733144649015782), (3689, 0.0), (3690, 0.0), (3691, 0.0), (3692, 0.0), (3693, 0.0), (3694, 0.0), (3695, 0.0), (3696, 0.012171612389003689), (3697, 0.0), (3698, 0.025949964805384095), (3699, 0.0), (3700, 0.019245008972987525), (3701, 0.03214952147802747), (3702, 0.017817416127494958), (3703, 0.0), (3704, 0.021081851067789197), (3705, 0.017817416127494958), (3706, 0.007835008245371141), (3707, 0.0), (3708, 0.0), (3709, 0.0), (3710, 0.030116930096841705), (3711, 0.0219793491131929), (3712, 0.0), (3713, 0.05113099925649136), (3714, 0.055048188256318034), (3715, 0.0), (3716, 0.017329174830334543), (3717, 0.011712139482105107), (3718, 0.0), (3719, 0.0), (3720, 0.01447907475876898), (3721, 0.020672455764868078), (3722, 0.012974982402692048), (3723, 0.020672455764868078), (3724, 0.06254888542006679), (3725, 0.010872134550890703), (3726, 0.0), (3727, 0.018280283236902724), (3728, 0.02768182661791332), (3729, 0.016074760739013736), (3730, 0.07669649888473704), (3731, 0.0), (3732, 0.011049892402196598), (3733, 0.021629522817435007), (3734, 0.027446232319753947), (3735, 0.0), (3736, 0.0), (3737, 0.016265001215808886), (3738, 0.0), (3739, 0.015891043154093204), (3740, 0.026773977630083295), (3741, 0.02842676218074806), (3742, 0.0), (3743, 0.02842676218074806), (3744, 0.0), (3745, 0.0), (3746, 0.021516574145596764), (3747, 0.0), (3748, 0.028688765527462346), (3749, 0.0), (3750, 0.009466030570784413), (3751, 0.0), (3752, 0.028171808490950554), (3753, 0.03214952147802747), (3754, 0.04225771273642583), (3755, 0.012974982402692048), (3756, 0.0), (3757, 0.06537204504606135), (3758, 0.0), (3759, 0.0), (3760, 0.020286020648339485), (3761, 0.0), (3762, 0.0), (3763, 0.03615507630310936), (3764, 0.019920476822239894), (3765, 0.0), (3766, 0.0), (3767, 0.0), (3768, 0.0), (3769, 0.01328031788149326), (3770, 0.011501092655705904), (3771, 0.0), (3772, 0.017329174830334543), (3773, 0.06751595780557777), (3774, 0.019920476822239894), (3775, 0.023424278964210215), (3776, 0.026992544339297198), (3777, 0.01807753815155468), (3778, 0.0), (3779, 0.0), (3780, 0.0), (3781, 0.012422599874998833), (3782, 0.014907119849998597), (3783, 0.016265001215808886), (3784, 0.0), (3785, 0.0), (3786, 0.0), (3787, 0.015375520133814751), (3788, 0.0404888165089458), (3789, 0.0), (3790, 0.03741423555108758), (3791, 0.017817416127494958), (3792, 0.0), (3793, 0.017691496414475844), (3794, 0.013961796943056517), (3795, 0.015375520133814751), (3796, 0.0), (3797, 0.024845199749997667), (3798, 0.015058465048420852), (3799, 0.0), (3800, 0.0), (3801, 0.03178208630818641), (3802, 0.009960238411119947), (3803, 0.016666666666666666), (3804, 0.0), (3805, 0.0), (3806, 0.0), (3807, 0.013723116159876973), (3808, 0.010336227882434039), (3809, 0.015541746804005229), (3810, 0.0), (3811, 0.0), (3812, 0.0), (3813, 0.0), (3814, 0.0), (3815, 0.04969039949999533), (3816, 0.01447907475876898), (3817, 0.03849001794597505), (3818, 0.05847053462046862), (3819, 0.03914801463431356), (3820, 0.009745089103411436), (3821, 0.0), (3822, 0.0), (3823, 0.0), (3824, 0.0), (3825, 0.021081851067789197), (3826, 0.022473328748774734), (3827, 0.01756820922315766), (3828, 0.01384091330895666), (3829, 0.012012499502607452), (3830, 0.0), (3831, 0.013608276348795433), (3832, 0.03669879217087869), (3833, 0.021081851067789197), (3834, 0.03419927840283847), (3835, 0.03849001794597505), (3836, 0.013386988815041648), (3837, 0.02656063576298652), (3838, 0.01447907475876898), (3839, 0.0), (3840, 0.0), (3841, 0.037529331252040075), (3842, 0.012689783127114683), (3843, 0.0), (3844, 0.030116930096841705), (3845, 0.0), (3846, 0.01447907475876898), (3847, 0.01807753815155468), (3848, 0.014617633655117155), (3849, 0.019245008972987525), (3850, 0.03253000243161777), (3851, 0.0), (3852, 0.01278274981412284), (3853, 0.051298917604257706), (3854, 0.0), (3855, 0.0219793491131929), (3856, 0.020672455764868078), (3857, 0.015375520133814751), (3858, 0.01807753815155468), (3859, 0.015541746804005229), (3860, 0.03333333333333333), (3861, 0.0), (3862, 0.0), (3863, 0.0), (3864, 0.0), (3865, 0.0), (3866, 0.009960238411119947), (3867, 0.028688765527462346), (3868, 0.021516574145596764), (3869, 0.0), (3870, 0.017329174830334543), (3871, 0.014617633655117155), (3872, 0.048686449556014755), (3873, 0.0), (3874, 0.03952847075210474), (3875, 0.0), (3876, 0.016878989451394443), (3877, 0.0), (3878, 0.0), (3879, 0.0), (3880, 0.0), (3881, 0.10226199851298272), (3882, 0.0), (3883, 0.03142696805273545), (3884, 0.018633899812498245), (3885, 0.0219793491131929), (3886, 0.0), (3887, 0.02768182661791332), (3888, 0.017099639201419235), (3889, 0.0), (3890, 0.02635231383473649), (3891, 0.0), (3892, 0.013496272169648599), (3893, 0.0), (3894, 0.035634832254989916), (3895, 0.05584718777222607), (3896, 0.015214515486254616), (3897, 0.013608276348795433), (3898, 0.012422599874998833), (3899, 0.03322965241861512), (3900, 0.10007821667210684), (3901, 0.012012499502607452), (3902, 0.0), (3903, 0.026352313834736494), (3904, 0.0), (3905, 0.014344382763731173), (3906, 0.0), (3907, 0.021516574145596764), (3908, 0.015541746804005229), (3909, 0.031083493608010458), (3910, 0.015891043154093204), (3911, 0.04303314829119353), (3912, 0.0), (3913, 0.0), (3914, 0.01019029734192905), (3915, 0.0), (3916, 0.0), (3917, 0.018633899812498245), (3918, 0.026992544339297198), (3919, 0.03142696805273545), (3920, 0.0), (3921, 0.011301058393680173), (3922, 0.0), (3923, 0.012974982402692048), (3924, 0.0), (3925, 0.0), (3926, 0.0), (3927, 0.05270462766947299), (3928, 0.02923526731023431), (3929, 0.0), (3930, 0.0), (3931, 0.0), (3932, 0.013496272169648599), (3933, 0.0), (3934, 0.0), (3935, 0.024343224778007377), (3936, 0.0), (3937, 0.027446232319753947), (3938, 0.0), (3939, 0.05), (3940, 0.03279129178919765), (3941, 0.010647942749998997), (3942, 0.04714045207910317), (3943, 0.0), (3944, 0.05129891760425771), (3945, 0.0), (3946, 0.04767312946227961), (3947, 0.0), (3948, 0.0), (3949, 0.08549819600709618), (3950, 0.0), (3951, 0.012253577034896795), (3952, 0.015058465048420852), (3953, 0.00982946374365981), (3954, 0.032274861218395144), (3955, 0.019920476822239894), (3956, 0.011049892402196598), (3957, 0.0), (3958, 0.015214515486254616), (3959, 0.04836508334066744), (3960, 0.019245008972987525), (3961, 0.01807753815155468), (3962, 0.0), (3963, 0.0), (3964, 0.018932061141568826), (3965, 0.04057204129667897), (3966, 0.019920476822239894), (3967, 0.019920476822239894), (3968, 0.020672455764868078), (3969, 0.0), (3970, 0.0), (3971, 0.023570226039551584), (3972, 0.0), (3973, 0.0), (3974, 0.0), (3975, 0.03914801463431356), (3976, 0.018633899812498245), (3977, 0.01756820922315766), (3978, 0.0), (3979, 0.03390317518104052), (3980, 0.017329174830334543), (3981, 0.0219793491131929), (3982, 0.018349396085439344), (3983, 0.013496272169648599), (3984, 0.0), (3985, 0.05312127152597304), (3986, 0.0), (3987, 0.020286020648339485), (3988, 0.014617633655117155), (3989, 0.018349396085439344), (3990, 0.06126788517448398), (3991, 0.0), (3992, 0.05270462766947298), (3993, 0.0), (3994, 0.0), (3995, 0.0), (3996, 0.0), (3997, 0.02556549962824568), (3998, 0.01384091330895666), (3999, 0.0), (4000, 0.0), (4001, 0.0), (4002, 0.0), (4003, 0.06454972243679029), (4004, 0.0), (4005, 0.023424278964210215), (4006, 0.012171612389003689), (4007, 0.05113099925649136), (4008, 0.008466675133346034), (4009, 0.03984095364447979), (4010, 0.011640504929492968), (4011, 0.03669879217087869), (4012, 0.01965892748731962), (4013, 0.03726779962499649), (4014, 0.0), (4015, 0.0), (4016, 0.016878989451394443), (4017, 0.019325701188414948), (4018, 0.0), (4019, 0.0), (4020, 0.0), (4021, 0.0), (4022, 0.018633899812498245), (4023, 0.0), (4024, 0.0), (4025, 0.0), (4026, 0.0), (4027, 0.008940696346430336), (4028, 0.0), (4029, 0.0), (4030, 0.014907119849998597), (4031, 0.017329174830334543), (4032, 0.03214952147802747), (4033, 0.0439586982263858), (4034, 0.0219793491131929), (4035, 0.0), (4036, 0.03627381250550058), (4037, 0.0), (4038, 0.0), (4039, 0.0), (4040, 0.02923526731023431), (4041, 0.022346717438466366), (4042, 0.03726779962499649), (4043, 0.028867513459481287), (4044, 0.012337220169960087), (4045, 0.04216370213557839), (4046, 0.028171808490950554), (4047, 0.0), (4048, 0.07453559924999299), (4049, 0.09787003658578391), (4050, 0.019920476822239894), (4051, 0.0), (4052, 0.013176156917368247), (4053, 0.0), (4054, 0.018932061141568826), (4055, 0.0), (4056, 0.07308816827558577), (4057, 0.0), (4058, 0.013961796943056517), (4059, 0.020286020648339485), (4060, 0.013961796943056517), (4061, 0.01287779015477093), (4062, 0.0), (4063, 0.028171808490950554), (4064, 0.0), (4065, 0.03669879217087869), (4066, 0.0203805946838581), (4067, 0.0), (4068, 0.0), (4069, 0.0), (4070, 0.022473328748774734), (4071, 0.016074760739013736), (4072, 0.0), (4073, 0.0), (4074, 0.0), (4075, 0.0), (4076, 0.03779644730092272), (4077, 0.013176156917368247), (4078, 0.0), (4079, 0.014907119849998597), (4080, 0.01278274981412284), (4081, 0.011570168908343722), (4082, 0.0), (4083, 0.0), (4084, 0.03214952147802747), (4085, 0.011433239009500589), (4086, 0.0), (4087, 0.0), (4088, 0.0), (4089, 0.0), (4090, 0.0), (4091, 0.0408248290463863), (4092, 0.016265001215808886), (4093, 0.022602116787360346), (4094, 0.0), (4095, 0.0), (4096, 0.023281009858985936), (4097, 0.0), (4098, 0.012422599874998833), (4099, 0.05929733891373501), (4100, 0.03513641844631532), (4101, 0.0), (4102, 0.013723116159876973), (4103, 0.08233869695926183), (4104, 0.016718995419183973), (4105, 0.015891043154093204), (4106, 0.016074760739013736), (4107, 0.0), (4108, 0.015713484026367724), (4109, 0.00875376219064817), (4110, 0.01209127083516686), (4111, 0.0), (4112, 0.0), (4113, 0.02418254167033372), (4114, 0.0), (4115, 0.0), (4116, 0.027446232319753947), (4117, 0.0), (4118, 0.03142696805273545), (4119, 0.0), (4120, 0.015713484026367724), (4121, 0.0), (4122, 0.055048188256318034), (4123, 0.022473328748774734), (4124, 0.021516574145596764), (4125, 0.041344911529736156), (4126, 0.012689783127114683), (4127, 0.046625240412015684), (4128, 0.021081851067789197), (4129, 0.015891043154093204), (4130, 0.019245008972987525), (4131, 0.012012499502607452), (4132, 0.0), (4133, 0.019920476822239894), (4134, 0.03333333333333333), (4135, 0.015214515486254616), (4136, 0.015713484026367724), (4137, 0.0), (4138, 0.0), (4139, 0.0), (4140, 0.0), (4141, 0.01421338109037403), (4142, 0.01957400731715678), (4143, 0.0), (4144, 0.016878989451394443), (4145, 0.017329174830334543), (4146, 0.0), (4147, 0.05555555555555555), (4148, 0.0), (4149, 0.014344382763731173), (4150, 0.019920476822239894), (4151, 0.018349396085439344), (4152, 0.0), (4153, 0.01307440900921227), (4154, 0.0), (4155, 0.030289126640769132), (4156, 0.025379566254229366), (4157, 0.0), (4158, 0.0), (4159, 0.03419927840283847), (4160, 0.015214515486254616), (4161, 0.013496272169648599), (4162, 0.03352007615769955), (4163, 0.011640504929492968), (4164, 0.03914801463431356), (4165, 0.074535599249993), (4166, 0.0), (4167, 0.023570226039551584), (4168, 0.014085904245475277), (4169, 0.013961796943056517), (4170, 0.0), (4171, 0.03492151478847891), (4172, 0.0), (4173, 0.020672455764868078), (4174, 0.012689783127114683), (4175, 0.026992544339297198), (4176, 0.022473328748774734), (4177, 0.0), (4178, 0.018633899812498245), (4179, 0.022473328748774734), (4180, 0.02614881801842454), (4181, 0.0), (4182, 0.0), (4183, 0.0), (4184, 0.0), (4185, 0.019245008972987525), (4186, 0.0), (4187, 0.013386988815041648), (4188, 0.0), (4189, 0.06584863977663931), (4190, 0.0), (4191, 0.03513641844631532), (4192, 0.0404888165089458), (4193, 0.012337220169960087), (4194, 0.015891043154093204), (4195, 0.0), (4196, 0.0), (4197, 0.017099639201419235), (4198, 0.0), (4199, 0.0), (4200, 0.03471050672503116), (4201, 0.03465834966066909), (4202, 0.0), (4203, 0.0), (4204, 0.044721359549995794), (4205, 0.02556549962824568), (4206, 0.013496272169648599), (4207, 0.024674440339920174), (4208, 0.0), (4209, 0.0), (4210, 0.013496272169648599), (4211, 0.0), (4212, 0.021081851067789197), (4213, 0.016666666666666666), (4214, 0.0), (4215, 0.010594028769395471), (4216, 0.018932061141568826), (4217, 0.0), (4218, 0.016265001215808886), (4219, 0.011570168908343722), (4220, 0.025379566254229366), (4221, 0.0), (4222, 0.01957400731715678), (4223, 0.014907119849998597), (4224, 0.0), (4225, 0.0), (4226, 0.01328031788149326), (4227, 0.0), (4228, 0.03948992518393949), (4229, 0.0), (4230, 0.0), (4231, 0.013723116159876973), (4232, 0.017817416127494958), (4233, 0.0), (4234, 0.0), (4235, 0.0), (4236, 0.0), (4237, 0.017817416127494958), (4238, 0.0), (4239, 0.02923526731023431), (4240, 0.0), (4241, 0.0), (4242, 0.0), (4243, 0.02614881801842454), (4244, 0.0), (4245, 0.024922239313961342), (4246, 0.0), (4247, 0.016666666666666666), (4248, 0.03952847075210474), (4249, 0.0), (4250, 0.0), (4251, 0.0), (4252, 0.0), (4253, 0.04767312946227961), (4254, 0.022473328748774734), (4255, 0.017817416127494958), (4256, 0.027923593886113034), (4257, 0.10041067934611822), (4258, 0.0), (4259, 0.0), (4260, 0.010286889997472796), (4261, 0.043852900965351466), (4262, 0.01421338109037403), (4263, 0.0), (4264, 0.0), (4265, 0.05423261445466404), (4266, 0.01476024809233492), (4267, 0.03419927840283847), (4268, 0.03984095364447978), (4269, 0.0), (4270, 0.021516574145596764), (4271, 0.010594028769395471), (4272, 0.0), (4273, 0.020286020648339485), (4274, 0.01447907475876898), (4275, 0.02556549962824568), (4276, 0.016666666666666666), (4277, 0.015541746804005229), (4278, 0.0), (4279, 0.018349396085439344), (4280, 0.027216552697590865), (4281, 0.0), (4282, 0.0), (4283, 0.029814239699997195), (4284, 0.055048188256318034), (4285, 0.0), (4286, 0.0), (4287, 0.0), (4288, 0.0), (4289, 0.015713484026367724), (4290, 0.04714045207910317), (4291, 0.0), (4292, 0.0), (4293, 0.0), (4294, 0.0), (4295, 0.018349396085439344), (4296, 0.0), (4297, 0.0), (4298, 0.036760731104690386), (4299, 0.03279129178919765), (4300, 0.016462159944159827), (4301, 0.0), (4302, 0.0), (4303, 0.02923526731023431), (4304, 0.0), (4305, 0.0), (4306, 0.0), (4307, 0.0), (4308, 0.0), (4309, 0.02556549962824568), (4310, 0.02656063576298652), (4311, 0.03892494720807614), (4312, 0.0), (4313, 0.009390602830316851), (4314, 0.03178208630818641), (4315, 0.020286020648339485), (4316, 0.0), (4317, 0.014344382763731173), (4318, 0.01807753815155468), (4319, 0.01328031788149326), (4320, 0.0), (4321, 0.0), (4322, 0.016074760739013736), (4323, 0.027923593886113034), (4324, 0.010437071518085825), (4325, 0.03513641844631532), (4326, 0.020672455764868078), (4327, 0.0), (4328, 0.027216552697590865), (4329, 0.0), (4330, 0.012974982402692048), (4331, 0.0), (4332, 0.015891043154093204), (4333, 0.0), (4334, 0.012253577034896795), (4335, 0.015713484026367724), (4336, 0.0), (4337, 0.03952847075210474), (4338, 0.01421338109037403), (4339, 0.023140337816687444), (4340, 0.0), (4341, 0.0), (4342, 0.021516574145596764), (4343, 0.016878989451394443), (4344, 0.0), (4345, 0.0), (4346, 0.014907119849998597), (4347, 0.04836508334066744), (4348, 0.0), (4349, 0.03419927840283847), (4350, 0.04225771273642583), (4351, 0.01756820922315766), (4352, 0.01209127083516686), (4353, 0.021629522817435007), (4354, 0.03834824944236852), (4355, 0.03726779962499649), (4356, 0.0), (4357, 0.0), (4358, 0.0), (4359, 0.0), (4360, 0.0), (4361, 0.03849001794597505), (4362, 0.0), (4363, 0.0), (4364, 0.0), (4365, 0.01447907475876898), (4366, 0.013496272169648599), (4367, 0.011111111111111112), (4368, 0.013723116159876973), (4369, 0.019920476822239894), (4370, 0.0), (4371, 0.0), (4372, 0.0), (4373, 0.0), (4374, 0.0), (4375, 0.04969039949999533), (4376, 0.011049892402196598), (4377, 0.010647942749998997), (4378, 0.025949964805384095), (4379, 0.0), (4380, 0.017099639201419235), (4381, 0.0), (4382, 0.0), (4383, 0.0), (4384, 0.0), (4385, 0.024845199749997667), (4386, 0.024674440339920174), (4387, 0.0), (4388, 0.019245008972987525), (4389, 0.0), (4390, 0.0), (4391, 0.02556549962824568), (4392, 0.011935247900657213), (4393, 0.027216552697590865), (4394, 0.0), (4395, 0.015058465048420852), (4396, 0.015214515486254616), (4397, 0.0), (4398, 0.017329174830334543), (4399, 0.05270462766947299), (4400, 0.051987524491003634), (4401, 0.0219793491131929), (4402, 0.035634832254989916), (4403, 0.026352313834736494), (4404, 0.014344382763731173), (4405, 0.019920476822239894), (4406, 0.020672455764868078), (4407, 0.0), (4408, 0.018633899812498245), (4409, 0.0), (4410, 0.01957400731715678), (4411, 0.0), (4412, 0.0), (4413, 0.0), (4414, 0.03419927840283847), (4415, 0.0), (4416, 0.0), (4417, 0.01328031788149326), (4418, 0.018349396085439344), (4419, 0.014617633655117155), (4420, 0.0), (4421, 0.027216552697590865), (4422, 0.0), (4423, 0.0337099931231621), (4424, 0.04216370213557839), (4425, 0.0), (4426, 0.011935247900657213), (4427, 0.016666666666666666), (4428, 0.0), (4429, 0.012509777084013358), (4430, 0.0), (4431, 0.0), (4432, 0.0), (4433, 0.0), (4434, 0.0), (4435, 0.023002185311411807), (4436, 0.0), (4437, 0.0), (4438, 0.06085806194501846), (4439, 0.016074760739013736), (4440, 0.027446232319753947), (4441, 0.021516574145596764), (4442, 0.009316949906249122), (4443, 0.011049892402196598), (4444, 0.0), (4445, 0.012253577034896795), (4446, 0.0), (4447, 0.025379566254229366), (4448, 0.021081851067789197), (4449, 0.017099639201419235), (4450, 0.016265001215808886), (4451, 0.0), (4452, 0.0), (4453, 0.04612656040144425), (4454, 0.0), (4455, 0.0), (4456, 0.0), (4457, 0.06324555320336758), (4458, 0.0), (4459, 0.0), (4460, 0.0337099931231621), (4461, 0.0), (4462, 0.016265001215808886), (4463, 0.0), (4464, 0.0), (4465, 0.022099784804393195), (4466, 0.07126966450997983), (4467, 0.0), (4468, 0.01957400731715678), (4469, 0.0), (4470, 0.0), (4471, 0.0), (4472, 0.017817416127494958), (4473, 0.018633899812498245), (4474, 0.048049998010429806), (4475, 0.0), (4476, 0.051987524491003634), (4477, 0.013608276348795433), (4478, 0.04901430813958718), (4479, 0.016462159944159827), (4480, 0.01957400731715678), (4481, 0.013176156917368247), (4482, 0.0), (4483, 0.03849001794597505), (4484, 0.03786412228313765), (4485, 0.017817416127494958), (4486, 0.0), (4487, 0.0), (4488, 0.03178208630818641), (4489, 0.033757978902788886), (4490, 0.0), (4491, 0.020672455764868078), (4492, 0.026352313834736494), (4493, 0.016074760739013736), (4494, 0.0604563541758343), (4495, 0.0), (4496, 0.023570226039551584), (4497, 0.018932061141568826), (4498, 0.012974982402692048), (4499, 0.0), (4500, 0.04303314829119353), (4501, 0.0), (4502, 0.0), (4503, 0.0), (4504, 0.01278274981412284), (4505, 0.030751040267629502), (4506, 0.015541746804005229), (4507, 0.010437071518085825), (4508, 0.0), (4509, 0.0), (4510, 0.07071067811865475), (4511, 0.021081851067789197), (4512, 0.016462159944159827), (4513, 0.02895814951753796), (4514, 0.01307440900921227), (4515, 0.01756820922315766), (4516, 0.00878410461157883), (4517, 0.02656063576298652), (4518, 0.0), (4519, 0.01328031788149326), (4520, 0.017329174830334543), (4521, 0.026352313834736494), (4522, 0.05270462766947299), (4523, 0.015713484026367724), (4524, 0.0), (4525, 0.01447907475876898), (4526, 0.040953007788930074), (4527, 0.0), (4528, 0.0), (4529, 0.03914801463431356), (4530, 0.0), (4531, 0.026352313834736494), (4532, 0.05443310539518173), (4533, 0.0), (4534, 0.017099639201419235), (4535, 0.027446232319753947), (4536, 0.05976143046671968), (4537, 0.016878989451394443), (4538, 0.0), (4539, 0.0), (4540, 0.0), (4541, 0.010286889997472796), (4542, 0.0), (4543, 0.02895814951753796), (4544, 0.05270462766947299), (4545, 0.0), (4546, 0.011859467782747001), (4547, 0.012422599874998833), (4548, 0.020286020648339485), (4549, 0.0), (4550, 0.04303314829119353), (4551, 0.044721359549995794), (4552, 0.010702688317798926), (4553, 0.016666666666666666), (4554, 0.035634832254989916), (4555, 0.01957400731715678), (4556, 0.07254762501100116), (4557, 0.023002185311411807), (4558, 0.02773500981126146), (4559, 0.015058465048420852), (4560, 0.014344382763731173), (4561, 0.021081851067789197), (4562, 0.015541746804005229), (4563, 0.01756820922315766), (4564, 0.01807753815155468), (4565, 0.0), (4566, 0.03333333333333333), (4567, 0.0), (4568, 0.0), (4569, 0.03806934938134405), (4570, 0.046004370622823615), (4571, 0.03333333333333333), (4572, 0.033757978902788886), (4573, 0.018349396085439344), (4574, 0.019245008972987525), (4575, 0.0), (4576, 0.0219793491131929), (4577, 0.046625240412015684), (4578, 0.015058465048420852), (4579, 0.0), (4580, 0.0), (4581, 0.0), (4582, 0.0), (4583, 0.027216552697590865), (4584, 0.0), (4585, 0.011640504929492968), (4586, 0.01756820922315766), (4587, 0.0), (4588, 0.0), (4589, 0.02418254167033372), (4590, 0.022222222222222223), (4591, 0.016878989451394443), (4592, 0.0), (4593, 0.011173358719233183), (4594, 0.0), (4595, 0.03214952147802747), (4596, 0.0), (4597, 0.03726779962499649), (4598, 0.0), (4599, 0.04836508334066744), (4600, 0.012171612389003689), (4601, 0.037529331252040075), (4602, 0.01957400731715678), (4603, 0.0), (4604, 0.0), (4605, 0.0417482860723433), (4606, 0.03984095364447978), (4607, 0.015214515486254616), (4608, 0.0), (4609, 0.013386988815041648), (4610, 0.027216552697590865), (4611, 0.0), (4612, 0.024845199749997667), (4613, 0.0), (4614, 0.0), (4615, 0.0), (4616, 0.017817416127494958), (4617, 0.09325048082403138), (4618, 0.0), (4619, 0.030116930096841705), (4620, 0.011859467782747001), (4621, 0.0), (4622, 0.0), (4623, 0.018856180831641266), (4624, 0.0), (4625, 0.0), (4626, 0.0), (4627, 0.0), (4628, 0.0), (4629, 0.060858061945018464), (4630, 0.0), (4631, 0.0), (4632, 0.011433239009500589), (4633, 0.027446232319753947), (4634, 0.03984095364447979), (4635, 0.055901699437494734), (4636, 0.0), (4637, 0.07380124046167459), (4638, 0.020672455764868078), (4639, 0.0), (4640, 0.037011660509880265), (4641, 0.021629522817435007), (4642, 0.015214515486254616), (4643, 0.0), (4644, 0.022473328748774734), (4645, 0.05345224838248487), (4646, 0.03142696805273545), (4647, 0.0), (4648, 0.022473328748774734), (4649, 0.04628067563337489), (4650, 0.015891043154093204), (4651, 0.015713484026367724), (4652, 0.016666666666666666), (4653, 0.023002185311411807), (4654, 0.01807753815155468), (4655, 0.06254888542006679), (4656, 0.07231015260621872), (4657, 0.0), (4658, 0.0), (4659, 0.03786412228313765), (4660, 0.016462159944159827), (4661, 0.0), (4662, 0.032924319888319654), (4663, 0.010814761408717503), (4664, 0.0), (4665, 0.0), (4666, 0.050636968354183326), (4667, 0.0), (4668, 0.0), (4669, 0.0), (4670, 0.02895814951753796), (4671, 0.028513297425610054), (4672, 0.0), (4673, 0.0), (4674, 0.01957400731715678), (4675, 0.027524094128159014), (4676, 0.06584863977663931), (4677, 0.019245008972987525), (4678, 0.016666666666666666), (4679, 0.017817416127494958), (4680, 0.018349396085439344), (4681, 0.04303314829119353), (4682, 0.0), (4683, 0.0), (4684, 0.030751040267629502), (4685, 0.0), (4686, 0.03178208630818641), (4687, 0.01209127083516686), (4688, 0.04774099160262885), (4689, 0.0), (4690, 0.024845199749997667), (4691, 0.018633899812498245), (4692, 0.0), (4693, 0.0), (4694, 0.0), (4695, 0.0), (4696, 0.0), (4697, 0.016878989451394443), (4698, 0.019920476822239894), (4699, 0.0), (4700, 0.027446232319753947), (4701, 0.0), (4702, 0.016462159944159827), (4703, 0.026352313834736494), (4704, 0.031008683647302117), (4705, 0.03984095364447978), (4706, 0.0), (4707, 0.011785113019775792), (4708, 0.0), (4709, 0.0), (4710, 0.05976143046671968), (4711, 0.022473328748774734), (4712, 0.0), (4713, 0.0), (4714, 0.0), (4715, 0.011640504929492968), (4716, 0.0), (4717, 0.013386988815041648), (4718, 0.0), (4719, 0.0), (4720, 0.0), (4721, 0.0), (4722, 0.0), (4723, 0.027923593886113034), (4724, 0.0), (4725, 0.013176156917368247), (4726, 0.0), (4727, 0.007529232524210426), (4728, 0.011859467782747001), (4729, 0.023002185311411807), (4730, 0.046004370622823615), (4731, 0.0), (4732, 0.05737753105492469), (4733, 0.012689783127114683), (4734, 0.017329174830334543), (4735, 0.04714045207910317), (4736, 0.007991055024756402), (4737, 0.0), (4738, 0.014617633655117155), (4739, 0.021081851067789197), (4740, 0.023570226039551584), (4741, 0.0), (4742, 0.0), (4743, 0.0), (4744, 0.04469343487693273), (4745, 0.032924319888319654), (4746, 0.0), (4747, 0.0), (4748, 0.0), (4749, 0.0), (4750, 0.024845199749997667), (4751, 0.021516574145596764), (4752, 0.0), (4753, 0.0), (4754, 0.0), (4755, 0.0), (4756, 0.02418254167033372), (4757, 0.0), (4758, 0.0), (4759, 0.030289126640769132), (4760, 0.0), (4761, 0.030116930096841705), (4762, 0.03615507630310936), (4763, 0.0), (4764, 0.0), (4765, 0.012422599874998833), (4766, 0.016462159944159827), (4767, 0.0), (4768, 0.06429904295605494), (4769, 0.01807753815155468), (4770, 0.026352313834736494), (4771, 0.0), (4772, 0.017817416127494958), (4773, 0.0), (4774, 0.015541746804005229), (4775, 0.013608276348795433), (4776, 0.0), (4777, 0.0), (4778, 0.024024999005214903), (4779, 0.05650529196840086), (4780, 0.0), (4781, 0.0), (4782, 0.011366572324507891), (4783, 0.014907119849998597), (4784, 0.0), (4785, 0.0), (4786, 0.0), (4787, 0.0), (4788, 0.013386988815041648), (4789, 0.018633899812498245), (4790, 0.0), (4791, 0.047437871130988005), (4792, 0.01476024809233492), (4793, 0.00982946374365981), (4794, 0.023002185311411807), (4795, 0.0), (4796, 0.0), (4797, 0.027923593886113034), (4798, 0.0)]\n",
      "[(6, 0.9999999999999991), (269, 0.16666666666666666), (255, 0.14617633655117154), (1695, 0.1449377260910507), (42, 0.13961796943056518), (2309, 0.1348399724926484), (1594, 0.13478934738386475), (1676, 0.13284223283101426), (391, 0.12909944487358058), (506, 0.12403473458920847), (358, 0.11969747440993467), (896, 0.11859467782747002), (917, 0.11815292615976111), (812, 0.11570168908343723), (1426, 0.11504474832710555), (704, 0.11268723396380222), (251, 0.11236664374387367), (34, 0.11180339887498947), (124, 0.11103498152964078), (578, 0.11049892402196598), (1984, 0.10956262252231944), (67, 0.10879222762803661), (390, 0.10879222762803661), (3447, 0.1079701773571888), (254, 0.10624254305194607), (55, 0.10540925533894599), (539, 0.10540925533894596), (509, 0.10459527207369816), (130, 0.10434983894999018), (899, 0.10434983894999018), (2680, 0.10434983894999018), (182, 0.10379985922153638), (734, 0.10379985922153637), (429, 0.10332173664634445), (2396, 0.10332173664634443), (1587, 0.10289915108550529), (3881, 0.10226199851298272), (465, 0.10143010324169743), (934, 0.10127393670836667), (403, 0.10079052613579392), (4257, 0.10041067934611822), (565, 0.10007821667210685), (3900, 0.10007821667210684), (525, 0.0994936676326182), (106, 0.09938079899999067), (3524, 0.09938079899999067), (194, 0.09877295966495897), (2590, 0.0986977613596807), (833, 0.09860132971832694), (2294, 0.09860132971832694), (4049, 0.09787003658578391), (2272, 0.09673016668133488), (374, 0.095831484749991), (950, 0.0954819832052577), (352, 0.09534625892455922), (2991, 0.09534625892455922), (2911, 0.09525793444156803), (1432, 0.09466030570784413), (1656, 0.09466030570784413), (810, 0.09428090415820634), (4617, 0.09325048082403138), (546, 0.09316949906249122), (1620, 0.0922531208028885), (459, 0.09174698042719671), (39, 0.09128709291752769), (1029, 0.09128709291752769), (1702, 0.09082487681884432), (2114, 0.09038769075777339), (154, 0.0890870806374748), (2920, 0.0879173964527716), (504, 0.0878410461157883), (742, 0.0878410461157883), (2639, 0.0878410461157883), (2973, 0.08756843958809352), (1290, 0.08687444855261386), (1652, 0.08664587415167271), (1470, 0.08606629658238706), (3058, 0.08606629658238706), (605, 0.08606629658238704), (2389, 0.08606629658238704), (2116, 0.08549819600709618), (3128, 0.08549819600709618), (3949, 0.08549819600709618), (784, 0.08528028654224418), (3643, 0.08528028654224418), (3517, 0.085183541999992), (86, 0.08451542547285167), (713, 0.08451542547285167), (326, 0.08439494725697222), (538, 0.08439494725697222), (1055, 0.08439494725697222), (399, 0.08377078165833911), (2247, 0.08377078165833911), (393, 0.08304547985373996), (2731, 0.08268982305947231), (4103, 0.08233869695926183), (1521, 0.08231079972079913), (160, 0.08229511997978235), (430, 0.08164965809277261), (488, 0.08114408259335794), (1101, 0.08114408259335794), (1277, 0.08114408259335794), (1249, 0.08099118235840605), (692, 0.0809776330178916), (66, 0.08032193289024989), (286, 0.08003267306650412), (447, 0.07968190728895956), (555, 0.0796117338651413), (234, 0.07905694150420949), (698, 0.07905694150420949), (196, 0.07856742013183862), (874, 0.07844645405527362), (604, 0.07829602926862712), (1452, 0.07829602926862712), (1880, 0.07829602926862712), (2238, 0.07829602926862712), (318, 0.07777777777777778), (1508, 0.07770873402002615), (1471, 0.07762966796527761), (3015, 0.07726674092862558), (2618, 0.07687760066907376), (1983, 0.07669649888473704), (3730, 0.07669649888473704), (1761, 0.0761386987626881), (2207, 0.0761386987626881), (2625, 0.07607257743127308), (3295, 0.07559289460184546), (3037, 0.07529232524210426), (528, 0.07505866250408014), (4165, 0.074535599249993), (187, 0.07453559924999299), (225, 0.07453559924999299), (4048, 0.07453559924999299), (73, 0.07453559924999298), (3406, 0.0738012404616746), (4637, 0.07380124046167459), (435, 0.07339758434175737), (615, 0.07339758434175737), (1965, 0.07339758434175737), (3579, 0.07339758434175737), (4056, 0.07308816827558577), (3402, 0.07302967433402213), (381, 0.07254762501100116), (4556, 0.07254762501100116), (221, 0.07239537379384489), (339, 0.07239537379384489), (674, 0.07239537379384489), (3575, 0.07239537379384489), (54, 0.07231015260621872), (294, 0.07231015260621872), (359, 0.07231015260621872), (4656, 0.07231015260621872), (144, 0.07172191381865586), (330, 0.07172191381865586), (1080, 0.07172191381865586), (2993, 0.07171371656006362), (90, 0.07126966450997983), (141, 0.07126966450997983), (414, 0.07126966450997983), (533, 0.07126966450997983), (1434, 0.07126966450997983), (2054, 0.07126966450997983), (2343, 0.07126966450997983), (4466, 0.07126966450997983), (3449, 0.071156806696482), (550, 0.07106690545187015), (4510, 0.07071067811865475), (1361, 0.07042952122737639), (2465, 0.07042952122737639), (385, 0.07027283689263064), (931, 0.07027283689263064), (173, 0.06980898471528259), (614, 0.06980898471528259), (1412, 0.06980898471528259), (2432, 0.0692045665447833), (1669, 0.06850902561004873), (686, 0.06839855680567694), (1240, 0.06839855680567694), (2780, 0.06839855680567694), (3190, 0.06839855680567694), (514, 0.06804138174397717), (1930, 0.06804138174397717), (1653, 0.06780635036208103), (1108, 0.06763995415945231), (348, 0.06751595780557777), (1041, 0.06751595780557777), (2544, 0.06751595780557777), (2965, 0.06751595780557777), (3773, 0.06751595780557777), (3285, 0.0674199862463242), (328, 0.06693494407520824), (325, 0.06666666666666667), (741, 0.06666666666666667), (2182, 0.06666666666666667), (2043, 0.06645930483723024), (3280, 0.0664015894074663), (2184, 0.06593804733957871), (1514, 0.0659380473395787), (2347, 0.0659380473395787), (364, 0.06588078458684124), (152, 0.06584863977663931), (3000, 0.06584863977663931), (4189, 0.06584863977663931), (4676, 0.06584863977663931), (178, 0.06537204504606135), (464, 0.06537204504606135), (591, 0.06537204504606135), (3757, 0.06537204504606135), (1683, 0.06523280730534423), (2915, 0.06523280730534423), (237, 0.06506000486323554), (283, 0.06506000486323554), (1484, 0.06506000486323554), (1583, 0.06506000486323554), (1733, 0.06506000486323554), (2609, 0.06506000486323554), (1481, 0.06488856845230502), (48, 0.06487491201346024), (569, 0.06487491201346024), (2212, 0.06454972243679029), (4003, 0.06454972243679029), (410, 0.06438895077385465), (1268, 0.06429904295605494), (2351, 0.06429904295605494), (2820, 0.06429904295605494), (4768, 0.06429904295605494), (88, 0.06356417261637282), (744, 0.06356417261637282), (807, 0.06356417261637282), (1410, 0.06356417261637282), (2804, 0.06356417261637282), (3135, 0.06356417261637282), (1745, 0.06344891563557342), (2057, 0.06344891563557342), (3072, 0.06324555320336758), (4457, 0.06324555320336758), (558, 0.0628539361054709), (1228, 0.0628539361054709), (2232, 0.0628539361054709), (3605, 0.0628539361054709), (3662, 0.06268006596296913), (305, 0.06254888542006679), (3724, 0.06254888542006679), (4655, 0.06254888542006679), (146, 0.06236095644623236), (87, 0.062166987216020916), (268, 0.062166987216020916), (472, 0.062166987216020916), (837, 0.062166987216020916), (894, 0.062166987216020916), (1527, 0.06211299937499416), (1675, 0.062017367294604234), (2293, 0.062017367294604234), (77, 0.0617033532905936), (13, 0.06168610084980043), (1555, 0.06168610084980043), (3235, 0.061502080535259004), (1777, 0.06126788517448398), (3990, 0.06126788517448398), (754, 0.060858061945018464), (1445, 0.060858061945018464), (3032, 0.060858061945018464), (3207, 0.060858061945018464), (4629, 0.060858061945018464), (719, 0.06085806194501846), (4438, 0.06085806194501846), (3293, 0.06085806194501844), (4494, 0.0604563541758343), (637, 0.06023386019368341), (1795, 0.06023386019368341), (81, 0.05976143046671968), (177, 0.05976143046671968), (660, 0.05976143046671968), (858, 0.05976143046671968), (1340, 0.05976143046671968), (1417, 0.05976143046671968), (1431, 0.05976143046671968), (3553, 0.05976143046671968), (4536, 0.05976143046671968), (4710, 0.05976143046671968), (40, 0.05962847939999439), (142, 0.05962847939999439), (1062, 0.05962847939999439), (1195, 0.05962847939999439), (1682, 0.05962847939999439), (1987, 0.05962847939999439), (2489, 0.05962847939999439), (3411, 0.05962847939999439), (63, 0.05929733891373501), (1152, 0.05929733891373501), (2185, 0.05929733891373501), (4099, 0.05929733891373501), (99, 0.05904099236933968), (460, 0.05904099236933968), (563, 0.05904099236933968), (766, 0.05904099236933968), (1045, 0.05904099236933968), (1617, 0.05904099236933968), (2464, 0.05892556509887896), (179, 0.058722021951470346), (476, 0.058722021951470346), (1233, 0.058722021951470346), (1519, 0.058722021951470346), (1856, 0.058722021951470346), (168, 0.05847053462046862), (288, 0.05847053462046862), (689, 0.05847053462046862), (2444, 0.05847053462046862), (3818, 0.05847053462046862), (2050, 0.05847053462046861), (118, 0.057977103565244846), (942, 0.05791629903507592), (2292, 0.05791629903507592), (2898, 0.05791629903507592), (301, 0.05785084454171861), (256, 0.057735026918962574), (1059, 0.057735026918962574), (3050, 0.057735026918962574), (76, 0.05737753105492469), (1551, 0.05737753105492469), (2270, 0.05737753105492469), (4732, 0.05737753105492469), (1423, 0.05725983343138682), (258, 0.0570265948512201), (1857, 0.0569831790894251), (1294, 0.05685352436149612), (1825, 0.05685352436149612), (1438, 0.05679618342470648), (2439, 0.05679618342470648), (4779, 0.05650529196840086), (137, 0.056343616981901115), (261, 0.05634361698190111), (587, 0.05634361698190111), (1451, 0.05634361698190111), (494, 0.055901699437494734), (769, 0.055901699437494734), (2104, 0.055901699437494734), (2227, 0.055901699437494734), (4635, 0.055901699437494734), (324, 0.05584718777222607), (503, 0.05584718777222607), (659, 0.05584718777222607), (3895, 0.05584718777222607), (4147, 0.05555555555555555), (57, 0.05536365323582664), (387, 0.05536365323582664), (875, 0.05536365323582664), (458, 0.055249462010982985), (276, 0.055048188256318034), (498, 0.055048188256318034), (791, 0.055048188256318034), (986, 0.055048188256318034), (1198, 0.055048188256318034), (1404, 0.055048188256318034), (3714, 0.055048188256318034), (4122, 0.055048188256318034), (4284, 0.055048188256318034), (732, 0.05489246463950789), (1142, 0.05489246463950789), (2471, 0.05489246463950789), (235, 0.05443310539518173), (4532, 0.05443310539518173), (479, 0.05436067275445351), (122, 0.05423261445466404), (1398, 0.05423261445466404), (1511, 0.05423261445466404), (1680, 0.05423261445466404), (2971, 0.05423261445466404), (4265, 0.05423261445466404), (289, 0.05407380704358752), (164, 0.053985088678594396), (3059, 0.053985088678594396), (120, 0.05354795526016659), (1095, 0.05354795526016659), (1220, 0.05354795526016659), (1671, 0.05354795526016659), (1727, 0.05354795526016659), (1951, 0.05354795526016659), (2338, 0.05354795526016659), (3012, 0.05354795526016659), (1153, 0.05345224838248487), (1238, 0.05345224838248487), (1950, 0.05345224838248487), (3011, 0.05345224838248487), (3371, 0.05345224838248487), (3666, 0.05345224838248487), (4645, 0.05345224838248487), (1900, 0.05312127152597304), (2574, 0.05312127152597304), (3985, 0.05312127152597304), (184, 0.05270462766947299), (722, 0.05270462766947299), (1698, 0.05270462766947299), (2461, 0.05270462766947299), (2734, 0.05270462766947299), (3927, 0.05270462766947299), (4399, 0.05270462766947299), (4522, 0.05270462766947299), (4544, 0.05270462766947299), (151, 0.05270462766947298), (167, 0.05270462766947298), (562, 0.05270462766947298), (678, 0.05270462766947298), (977, 0.05270462766947298), (3992, 0.05270462766947298), (169, 0.05229763603684908), (743, 0.05229763603684908), (1078, 0.05229763603684908), (1354, 0.05229763603684908), (1362, 0.051987524491003634), (1441, 0.051987524491003634), (1463, 0.051987524491003634), (1744, 0.051987524491003634), (1970, 0.051987524491003634), (3018, 0.051987524491003634), (3534, 0.051987524491003634), (3544, 0.051987524491003634), (4400, 0.051987524491003634), (4476, 0.051987524491003634), (566, 0.05189992961076819), (2485, 0.05189992961076819), (143, 0.05151116061908372), (1541, 0.05151116061908372), (1670, 0.05151116061908372), (2466, 0.05151116061908372), (3944, 0.05129891760425771), (920, 0.051298917604257706), (1196, 0.051298917604257706), (1425, 0.051298917604257706), (2399, 0.051298917604257706), (2495, 0.051298917604257706), (3189, 0.051298917604257706), (3853, 0.051298917604257706), (2256, 0.05119125973616259), (1658, 0.05113099925649136), (2231, 0.05113099925649136), (2366, 0.05113099925649136), (3713, 0.05113099925649136), (4007, 0.05113099925649136), (982, 0.05095148670964525), (631, 0.05075913250845873), (1753, 0.05075913250845873), (1868, 0.05075913250845873), (195, 0.050636968354183326), (564, 0.050636968354183326), (972, 0.050636968354183326), (4666, 0.050636968354183326), (3205, 0.05039526306789696), (406, 0.050039108336053434), (1033, 0.05), (1246, 0.05), (1562, 0.05), (2996, 0.05), (3669, 0.05), (3939, 0.05), (89, 0.04984447862792268), (2728, 0.049801192055599734), (180, 0.04969039949999533), (2055, 0.04969039949999533), (2776, 0.04969039949999533), (3358, 0.04969039949999533), (3815, 0.04969039949999533), (4375, 0.04969039949999533), (1097, 0.049386479832479485), (1580, 0.049386479832479485), (3398, 0.049386479832479485), (3130, 0.04938647983247948), (467, 0.04934888067984035), (1199, 0.04901430813958718), (2145, 0.04901430813958718), (4478, 0.04901430813958718), (1276, 0.04893501829289195), (441, 0.04879500364742666), (993, 0.04879500364742666), (1837, 0.04879500364742666), (2404, 0.04879500364742666), (2800, 0.04879500364742666), (3272, 0.04879500364742666), (3872, 0.048686449556014755), (218, 0.04836508334066744), (866, 0.04836508334066744), (3270, 0.04836508334066744), (3320, 0.04836508334066744), (3959, 0.04836508334066744), (4347, 0.04836508334066744), (4599, 0.04836508334066744), (50, 0.04822428221704121), (202, 0.04822428221704121), (275, 0.04822428221704121), (1428, 0.04822428221704121), (1513, 0.04822428221704121), (2556, 0.04822428221704121), (3309, 0.04822428221704121), (4474, 0.048049998010429806), (2042, 0.04774099160262885), (4688, 0.04774099160262885), (805, 0.04767312946227961), (879, 0.04767312946227961), (1382, 0.04767312946227961), (2810, 0.04767312946227961), (2922, 0.04767312946227961), (3525, 0.04767312946227961), (3946, 0.04767312946227961), (4253, 0.04767312946227961), (4791, 0.047437871130988005), (2826, 0.047330152853922065), (313, 0.04714045207910317), (452, 0.04714045207910317), (774, 0.04714045207910317), (1436, 0.04714045207910317), (1707, 0.04714045207910317), (1892, 0.04714045207910317), (2669, 0.04714045207910317), (3519, 0.04714045207910317), (3942, 0.04714045207910317), (4290, 0.04714045207910317), (4735, 0.04714045207910317), (139, 0.04684855792842043), (777, 0.04684855792842043), (1420, 0.04684855792842043), (1457, 0.04684855792842043), (2017, 0.04684855792842043), (2217, 0.04684855792842043), (2543, 0.04684855792842043), (2380, 0.04676779443885948), (603, 0.046625240412015684), (1231, 0.046625240412015684), (1292, 0.046625240412015684), (1614, 0.046625240412015684), (2390, 0.046625240412015684), (4127, 0.046625240412015684), (4577, 0.046625240412015684), (1389, 0.04628067563337489), (4649, 0.04628067563337489), (370, 0.04612656040144425), (597, 0.04612656040144425), (926, 0.04612656040144425), (1550, 0.04612656040144425), (2067, 0.04612656040144425), (2218, 0.04612656040144425), (2570, 0.04612656040144425), (3086, 0.04612656040144425), (3097, 0.04612656040144425), (4453, 0.04612656040144425), (189, 0.046004370622823615), (343, 0.046004370622823615), (776, 0.046004370622823615), (2037, 0.046004370622823615), (4570, 0.046004370622823615), (4730, 0.046004370622823615), (103, 0.045732956038002356), (1257, 0.045643546458763846), (2224, 0.045643546458763846), (2350, 0.045643546458763846), (2371, 0.045643546458763846), (2438, 0.045643546458763846), (3578, 0.045466289298031565), (78, 0.04517539514526256), (138, 0.04517539514526256), (922, 0.04517539514526256), (1214, 0.04517539514526256), (2235, 0.04517539514526256), (2402, 0.04517539514526256), (2653, 0.04517539514526256), (127, 0.044946657497549475), (763, 0.04494665749754947), (992, 0.04494665749754947), (1320, 0.04494665749754947), (1709, 0.04494665749754947), (2250, 0.04494665749754947), (3478, 0.04494665749754947), (131, 0.044721359549995794), (303, 0.044721359549995794), (413, 0.044721359549995794), (832, 0.044721359549995794), (2200, 0.044721359549995794), (4204, 0.044721359549995794), (4551, 0.044721359549995794), (848, 0.04469343487693273), (4744, 0.04469343487693273), (730, 0.04438530344094229), (96, 0.044280744277004756), (121, 0.044280744277004756), (163, 0.044280744277004756), (1395, 0.044280744277004756), (1765, 0.044280744277004756), (2761, 0.044280744277004756), (2162, 0.04422874103618961), (1018, 0.0439586982263858), (2326, 0.0439586982263858), (2584, 0.0439586982263858), (4033, 0.0439586982263858), (644, 0.043852900965351466), (1083, 0.043852900965351466), (1115, 0.043852900965351466), (1465, 0.043852900965351466), (1479, 0.043852900965351466), (1817, 0.043852900965351466), (2177, 0.043852900965351466), (2447, 0.043852900965351466), (3004, 0.043852900965351466), (3061, 0.043852900965351466), (3606, 0.043852900965351466), (4261, 0.043852900965351466), (3372, 0.04376881095324085), (3, 0.043721722385596865), (190, 0.04348853820356281), (285, 0.04348853820356281), (939, 0.04348853820356281), (311, 0.04343722427630694), (347, 0.04343722427630694), (453, 0.04343722427630694), (1339, 0.04343722427630694), (1734, 0.04343722427630694), (2243, 0.04343722427630694), (2360, 0.04343722427630694), (3239, 0.04343722427630694), (3268, 0.04343722427630694), (224, 0.04303314829119353), (520, 0.04303314829119353), (797, 0.04303314829119353), (2528, 0.04303314829119353), (2615, 0.04303314829119353), (2772, 0.04303314829119353), (3091, 0.04303314829119353), (3149, 0.04303314829119353), (3415, 0.04303314829119353), (3911, 0.04303314829119353), (4500, 0.04303314829119353), (4550, 0.04303314829119353), (4681, 0.04303314829119353), (191, 0.04303314829119352), (516, 0.04303314829119352), (522, 0.04303314829119352), (1293, 0.04303314829119352), (1977, 0.04303314829119352), (2954, 0.04303314829119352), (51, 0.042810753271195705), (1561, 0.042810753271195705), (886, 0.04264014327112209), (908, 0.04264014327112209), (2443, 0.04264014327112209), (2876, 0.04264014327112209), (3296, 0.04264014327112209), (3459, 0.04264014327112209), (1456, 0.04259177099999599), (2995, 0.042376115077581884), (7, 0.04225771273642583), (291, 0.04225771273642583), (2203, 0.04225771273642583), (3188, 0.04225771273642583), (3754, 0.04225771273642583), (4350, 0.04225771273642583), (418, 0.04216370213557839), (489, 0.04216370213557839), (1368, 0.04216370213557839), (1386, 0.04216370213557839), (1764, 0.04216370213557839), (2863, 0.04216370213557839), (3150, 0.04216370213557839), (4045, 0.04216370213557839), (4424, 0.04216370213557839), (9, 0.04188539082916955), (952, 0.04188539082916955), (1363, 0.04188539082916955), (2346, 0.04188539082916955), (3611, 0.04188539082916955), (3476, 0.0417482860723433), (4605, 0.0417482860723433), (3308, 0.04154513018998372), (58, 0.04152273992686998), (394, 0.04152273992686998), (930, 0.04152273992686998), (1287, 0.04152273992686998), (2593, 0.04152273992686998), (3039, 0.04152273992686998), (3327, 0.04152273992686998), (56, 0.041344911529736156), (598, 0.041344911529736156), (1496, 0.041344911529736156), (2155, 0.041344911529736156), (2165, 0.041344911529736156), (2400, 0.041344911529736156), (2999, 0.041344911529736156), (3044, 0.041344911529736156), (4125, 0.041344911529736156), (136, 0.04116934847963092), (728, 0.04116934847963092), (1058, 0.04116934847963092), (1264, 0.04116934847963092), (3007, 0.04116934847963092), (3186, 0.04116934847963091), (4526, 0.040953007788930074), (204, 0.0408248290463863), (377, 0.0408248290463863), (529, 0.0408248290463863), (834, 0.0408248290463863), (1084, 0.0408248290463863), (1592, 0.0408248290463863), (2586, 0.0408248290463863), (4091, 0.0408248290463863), (3612, 0.040662503039522215), (44, 0.04057204129667897), (2159, 0.04057204129667897), (2665, 0.04057204129667897), (2824, 0.04057204129667897), (2928, 0.04057204129667897), (3276, 0.04057204129667897), (3462, 0.04057204129667897), (3574, 0.04057204129667897), (3657, 0.04057204129667897), (3965, 0.04057204129667897), (4, 0.0404888165089458), (302, 0.0404888165089458), (543, 0.0404888165089458), (918, 0.0404888165089458), (1092, 0.0404888165089458), (1616, 0.0404888165089458), (1723, 0.0404888165089458), (2131, 0.0404888165089458), (2987, 0.0404888165089458), (3788, 0.0404888165089458), (4192, 0.0404888165089458), (1696, 0.04020151261036849), (1813, 0.04018690184753434), (345, 0.04016096644512494), (531, 0.04016096644512494), (1642, 0.04016096644512494), (2074, 0.04016096644512494), (2651, 0.04016096644512494), (205, 0.03984095364447979), (748, 0.03984095364447979), (1798, 0.03984095364447979), (2025, 0.03984095364447979), (2332, 0.03984095364447979), (2579, 0.03984095364447979), (2595, 0.03984095364447979), (3194, 0.03984095364447979), (3420, 0.03984095364447979), (3497, 0.03984095364447979), (4009, 0.03984095364447979), (4634, 0.03984095364447979), (228, 0.03984095364447978), (3221, 0.03984095364447978), (4268, 0.03984095364447978), (4606, 0.03984095364447978), (4705, 0.03984095364447978), (113, 0.03952847075210474), (170, 0.03952847075210474), (396, 0.03952847075210474), (508, 0.03952847075210474), (3874, 0.03952847075210474), (4248, 0.03952847075210474), (4337, 0.03952847075210474), (2427, 0.03948992518393949), (3056, 0.03948992518393949), (4228, 0.03948992518393949), (231, 0.03922322702763681), (471, 0.03922322702763681), (1217, 0.03922322702763681), (2156, 0.03922322702763681), (495, 0.03914801463431356), (1052, 0.03914801463431356), (1776, 0.03914801463431356), (1898, 0.03914801463431356), (2802, 0.03914801463431356), (3152, 0.03914801463431356), (3202, 0.03914801463431356), (3331, 0.03914801463431356), (3819, 0.03914801463431356), (3975, 0.03914801463431356), (4164, 0.03914801463431356), (4529, 0.03914801463431356), (518, 0.03892494720807614), (1742, 0.03892494720807614), (2119, 0.03892494720807614), (4311, 0.03892494720807614), (262, 0.03863337046431279), (991, 0.03863337046431279), (1932, 0.03863337046431279), (1991, 0.03863337046431279), (3587, 0.03863337046431279), (308, 0.03849001794597505), (1082, 0.03849001794597505), (1155, 0.03849001794597505), (1285, 0.03849001794597505), (1783, 0.03849001794597505), (2110, 0.03849001794597505), (2527, 0.03849001794597505), (2602, 0.03849001794597505), (2914, 0.03849001794597505), (3543, 0.03849001794597505), (3817, 0.03849001794597505), (3835, 0.03849001794597505), (4361, 0.03849001794597505), (4483, 0.03849001794597505), (211, 0.03834824944236852), (243, 0.03834824944236852), (1119, 0.03834824944236852), (1274, 0.03834824944236852), (1686, 0.03834824944236852), (2352, 0.03834824944236852), (4354, 0.03834824944236852), (481, 0.03806934938134405), (933, 0.03806934938134405), (1302, 0.03806934938134405), (2467, 0.03806934938134405), (3533, 0.03806934938134405), (4569, 0.03806934938134405), (219, 0.03786412228313765), (263, 0.03786412228313765), (613, 0.03786412228313765), (668, 0.03786412228313765), (1375, 0.03786412228313765), (1538, 0.03786412228313765), (2036, 0.03786412228313765), (4484, 0.03786412228313765), (4659, 0.03786412228313765), (181, 0.03779644730092272), (1019, 0.03779644730092272), (1121, 0.03779644730092272), (4076, 0.03779644730092272), (820, 0.037562411321267405), (45, 0.037529331252040075), (3841, 0.037529331252040075), (4601, 0.037529331252040075), (821, 0.03741423555108758), (3790, 0.03741423555108758), (107, 0.0372677996249965), (3266, 0.0372677996249965), (35, 0.03726779962499649), (161, 0.03726779962499649), (1271, 0.03726779962499649), (2121, 0.03726779962499649), (2222, 0.03726779962499649), (2303, 0.03726779962499649), (4013, 0.03726779962499649), (4042, 0.03726779962499649), (4355, 0.03726779962499649), (4597, 0.03726779962499649), (4640, 0.037011660509880265), (2136, 0.03683859759970251), (770, 0.036760731104690386), (979, 0.036760731104690386), (4298, 0.036760731104690386), (157, 0.03669879217087869), (433, 0.03669879217087869), (707, 0.03669879217087869), (1044, 0.03669879217087869), (1049, 0.03669879217087869), (1076, 0.03669879217087869), (1144, 0.03669879217087869), (1191, 0.03669879217087869), (1573, 0.03669879217087869), (1711, 0.03669879217087869), (1760, 0.03669879217087869), (2120, 0.03669879217087869), (2582, 0.03669879217087869), (3176, 0.03669879217087869), (3832, 0.03669879217087869), (4011, 0.03669879217087869), (4065, 0.03669879217087869), (1133, 0.03656056647380545), (92, 0.036514837167011066), (4036, 0.03627381250550058), (527, 0.03615507630310936), (561, 0.03615507630310936), (1073, 0.03615507630310936), (1216, 0.03615507630310936), (1289, 0.03615507630310936), (1305, 0.03615507630310936), (1480, 0.03615507630310936), (2196, 0.03615507630310936), (2304, 0.03615507630310936), (2437, 0.03615507630310936), (2507, 0.03615507630310936), (2509, 0.03615507630310936), (2679, 0.03615507630310936), (2745, 0.03615507630310936), (3080, 0.03615507630310936), (3219, 0.03615507630310936), (3562, 0.03615507630310936), (3763, 0.03615507630310936), (4762, 0.03615507630310936), (213, 0.036037498507822355), (573, 0.036037498507822355), (2832, 0.036037498507822355), (253, 0.03580574370197164), (1004, 0.03580574370197164), (1870, 0.03580574370197164), (1918, 0.03580574370197164), (2340, 0.03576278538572134), (109, 0.035634832254989916), (389, 0.035634832254989916), (700, 0.035634832254989916), (781, 0.035634832254989916), (825, 0.035634832254989916), (981, 0.035634832254989916), (1854, 0.035634832254989916), (2069, 0.035634832254989916), (2095, 0.035634832254989916), (2264, 0.035634832254989916), (2739, 0.035634832254989916), (3894, 0.035634832254989916), (4402, 0.035634832254989916), (4554, 0.035634832254989916), (607, 0.035578403348241), (842, 0.035578403348241), (1581, 0.035578403348241), (3540, 0.035578403348241), (610, 0.035508242752753834), (38, 0.035355339059327376), (424, 0.035355339059327376), (618, 0.035355339059327376), (747, 0.035355339059327376), (1497, 0.035355339059327376), (2422, 0.035355339059327376), (3489, 0.035355339059327376), (94, 0.03513641844631532), (198, 0.03513641844631532), (296, 0.03513641844631532), (356, 0.03513641844631532), (392, 0.03513641844631532), (404, 0.03513641844631532), (449, 0.03513641844631532), (1164, 0.03513641844631532), (1324, 0.03513641844631532), (1453, 0.03513641844631532), (1651, 0.03513641844631532), (1789, 0.03513641844631532), (2061, 0.03513641844631532), (2139, 0.03513641844631532), (2842, 0.03513641844631532), (2927, 0.03513641844631532), (3208, 0.03513641844631532), (3281, 0.03513641844631532), (3317, 0.03513641844631532), (4100, 0.03513641844631532), (4191, 0.03513641844631532), (4325, 0.03513641844631532), (20, 0.03501504876259268), (1503, 0.03492151478847891), (2219, 0.03492151478847891), (4171, 0.03492151478847891), (845, 0.03471050672503116), (1027, 0.03471050672503116), (1279, 0.03471050672503116), (1851, 0.03471050672503116), (2854, 0.03471050672503116), (4200, 0.03471050672503116), (8, 0.03465834966066909), (259, 0.03465834966066909), (292, 0.03465834966066909), (725, 0.03465834966066909), (974, 0.03465834966066909), (1414, 0.03465834966066909), (1790, 0.03465834966066909), (1885, 0.03465834966066909), (1962, 0.03465834966066909), (2260, 0.03465834966066909), (2441, 0.03465834966066909), (2678, 0.03465834966066909), (2865, 0.03465834966066909), (3083, 0.03465834966066909), (4201, 0.03465834966066909), (1769, 0.03450327796711771), (2511, 0.03450327796711771), (3316, 0.03450327796711771), (284, 0.034299717028501764), (355, 0.034299717028501764), (1572, 0.034299717028501764), (1633, 0.034299717028501764), (3401, 0.034299717028501764), (3484, 0.034299717028501764), (232, 0.03419927840283847), (530, 0.03419927840283847), (625, 0.03419927840283847), (1088, 0.03419927840283847), (1089, 0.03419927840283847), (1093, 0.03419927840283847), (1186, 0.03419927840283847), (1301, 0.03419927840283847), (1578, 0.03419927840283847), (1703, 0.03419927840283847), (1827, 0.03419927840283847), (2041, 0.03419927840283847), (2163, 0.03419927840283847), (2349, 0.03419927840283847), (2491, 0.03419927840283847), (2862, 0.03419927840283847), (3182, 0.03419927840283847), (3834, 0.03419927840283847), (4159, 0.03419927840283847), (4267, 0.03419927840283847), (4349, 0.03419927840283847), (4414, 0.03419927840283847), (238, 0.034099716973523674), (790, 0.03390317518104052), (1132, 0.03390317518104052), (1849, 0.03390317518104052), (1872, 0.03390317518104052), (3142, 0.03390317518104052), (3979, 0.03390317518104052), (23, 0.033757978902788886), (91, 0.033757978902788886), (368, 0.033757978902788886), (695, 0.033757978902788886), (762, 0.033757978902788886), (772, 0.033757978902788886), (1601, 0.033757978902788886), (1812, 0.033757978902788886), (1846, 0.033757978902788886), (1848, 0.033757978902788886), (1860, 0.033757978902788886), (2221, 0.033757978902788886), (2553, 0.033757978902788886), (3259, 0.033757978902788886), (4489, 0.033757978902788886), (4572, 0.033757978902788886), (353, 0.0337099931231621), (4423, 0.0337099931231621), (4460, 0.0337099931231621), (1766, 0.03352007615769955), (4162, 0.03352007615769955), (209, 0.03333333333333333), (216, 0.03333333333333333), (830, 0.03333333333333333), (839, 0.03333333333333333), (960, 0.03333333333333333), (1347, 0.03333333333333333), (1610, 0.03333333333333333), (2190, 0.03333333333333333), (2356, 0.03333333333333333), (2701, 0.03333333333333333), (3118, 0.03333333333333333), (3237, 0.03333333333333333), (3292, 0.03333333333333333), (3860, 0.03333333333333333), (4134, 0.03333333333333333), (4566, 0.03333333333333333), (4571, 0.03333333333333333), (3899, 0.03322965241861512), (299, 0.03314967720658979), (3267, 0.03314967720658979), (172, 0.032924319888319654), (745, 0.032924319888319654), (955, 0.032924319888319654), (973, 0.032924319888319654), (1310, 0.032924319888319654), (1625, 0.032924319888319654), (1647, 0.032924319888319654), (1720, 0.032924319888319654), (1940, 0.032924319888319654), (2568, 0.032924319888319654), (3158, 0.032924319888319654), (4662, 0.032924319888319654), (4745, 0.032924319888319654), (3940, 0.03279129178919765), (4299, 0.03279129178919765), (1086, 0.03261640365267211), (37, 0.03253000243161777), (104, 0.03253000243161777), (227, 0.03253000243161777), (895, 0.03253000243161777), (984, 0.03253000243161777), (1239, 0.03253000243161777), (1303, 0.03253000243161777), (1437, 0.03253000243161777), (1821, 0.03253000243161777), (1853, 0.03253000243161777), (2532, 0.03253000243161777), (2834, 0.03253000243161777), (3342, 0.03253000243161777), (3506, 0.03253000243161777), (3521, 0.03253000243161777), (3850, 0.03253000243161777), (145, 0.032274861218395144), (1705, 0.032274861218395144), (2757, 0.032274861218395144), (3954, 0.032274861218395144), (16, 0.03214952147802747), (327, 0.03214952147802747), (427, 0.03214952147802747), (439, 0.03214952147802747), (499, 0.03214952147802747), (626, 0.03214952147802747), (714, 0.03214952147802747), (1221, 0.03214952147802747), (1400, 0.03214952147802747), (1815, 0.03214952147802747), (2372, 0.03214952147802747), (2480, 0.03214952147802747), (3324, 0.03214952147802747), (3701, 0.03214952147802747), (3753, 0.03214952147802747), (4032, 0.03214952147802747), (4084, 0.03214952147802747), (4595, 0.03214952147802747), (1306, 0.03210806495339678), (3687, 0.03196422009902561), (496, 0.03194382824999699), (24, 0.03178208630818641), (1043, 0.03178208630818641), (1139, 0.03178208630818641), (1146, 0.03178208630818641), (1205, 0.03178208630818641), (1416, 0.03178208630818641), (1741, 0.03178208630818641), (2140, 0.03178208630818641), (2154, 0.03178208630818641), (2487, 0.03178208630818641), (2494, 0.03178208630818641), (2841, 0.03178208630818641), (3177, 0.03178208630818641), (3351, 0.03178208630818641), (3369, 0.03178208630818641), (3522, 0.03178208630818641), (3801, 0.03178208630818641), (4314, 0.03178208630818641), (4488, 0.03178208630818641), (4686, 0.03178208630818641), (2337, 0.03162277660168379), (2682, 0.03160303087599848), (491, 0.03146583877637763), (1450, 0.03146583877637763), (400, 0.03142696805273545), (775, 0.03142696805273545), (1009, 0.03142696805273545), (1204, 0.03142696805273545), (1381, 0.03142696805273545), (1533, 0.03142696805273545), (1743, 0.03142696805273545), (1833, 0.03142696805273545), (1942, 0.03142696805273545), (3381, 0.03142696805273545), (3883, 0.03142696805273545), (3919, 0.03142696805273545), (4118, 0.03142696805273545), (4646, 0.03142696805273545), (1609, 0.03131121455425748), (1986, 0.03131121455425748), (2727, 0.03131121455425748), (80, 0.031158847642487792), (21, 0.031083493608010458), (257, 0.031083493608010458), (293, 0.031083493608010458), (667, 0.031083493608010458), (828, 0.031083493608010458), (1313, 0.031083493608010458), (1542, 0.031083493608010458), (1752, 0.031083493608010458), (2158, 0.031083493608010458), (2525, 0.031083493608010458), (2655, 0.031083493608010458), (2818, 0.031083493608010458), (2896, 0.031083493608010458), (3036, 0.031083493608010458), (3909, 0.031083493608010458), (3627, 0.031008683647302117), (4704, 0.031008683647302117), (26, 0.030751040267629502), (634, 0.030751040267629502), (1193, 0.030751040267629502), (1338, 0.030751040267629502), (1448, 0.030751040267629502), (1655, 0.030751040267629502), (1976, 0.030751040267629502), (2153, 0.030751040267629502), (2599, 0.030751040267629502), (2794, 0.030751040267629502), (3441, 0.030751040267629502), (4505, 0.030751040267629502), (4684, 0.030751040267629502), (1830, 0.030714755841697555), (2201, 0.030714755841697555), (2784, 0.030714755841697555), (236, 0.030429030972509232), (295, 0.030429030972509232), (492, 0.030429030972509232), (576, 0.030429030972509232), (1077, 0.030429030972509232), (1443, 0.030429030972509232), (1596, 0.030429030972509232), (1894, 0.030429030972509232), (2211, 0.030429030972509232), (2394, 0.030429030972509232), (3209, 0.030429030972509232), (3621, 0.030429030972509232), (4155, 0.030289126640769132), (4759, 0.030289126640769132), (0, 0.030116930096841705), (548, 0.030116930096841705), (1844, 0.030116930096841705), (2122, 0.030116930096841705), (2677, 0.030116930096841705), (2811, 0.030116930096841705), (2845, 0.030116930096841705), (3710, 0.030116930096841705), (3844, 0.030116930096841705), (4619, 0.030116930096841705), (4761, 0.030116930096841705), (230, 0.030015011259383207), (111, 0.029814239699997195), (545, 0.029814239699997195), (804, 0.029814239699997195), (1505, 0.029814239699997195), (1859, 0.029814239699997195), (2146, 0.029814239699997195), (2417, 0.029814239699997195), (2837, 0.029814239699997195), (3090, 0.029814239699997195), (3601, 0.029814239699997195), (4283, 0.029814239699997195), (2064, 0.02961744388795462), (210, 0.02952049618466984), (513, 0.02952049618466984), (956, 0.02952049618466984), (1020, 0.02952049618466984), (1291, 0.02952049618466984), (1380, 0.02952049618466984), (2194, 0.02952049618466984), (2381, 0.02952049618466984), (2577, 0.02952049618466984), (2632, 0.02952049618466984), (2916, 0.02952049618466984), (2983, 0.02952049618466984), (3245, 0.02952049618466984), (3490, 0.02952049618466984), (2442, 0.029361010975735173), (52, 0.02923526731023431), (128, 0.02923526731023431), (585, 0.02923526731023431), (1003, 0.02923526731023431), (1067, 0.02923526731023431), (1179, 0.02923526731023431), (1784, 0.02923526731023431), (2198, 0.02923526731023431), (2744, 0.02923526731023431), (2887, 0.02923526731023431), (3144, 0.02923526731023431), (3350, 0.02923526731023431), (3418, 0.02923526731023431), (3928, 0.02923526731023431), (4040, 0.02923526731023431), (4239, 0.02923526731023431), (4303, 0.02923526731023431), (126, 0.02895814951753796), (266, 0.02895814951753796), (350, 0.02895814951753796), (778, 0.02895814951753796), (1120, 0.02895814951753796), (1634, 0.02895814951753796), (1684, 0.02895814951753796), (1699, 0.02895814951753796), (1914, 0.02895814951753796), (2132, 0.02895814951753796), (2134, 0.02895814951753796), (2266, 0.02895814951753796), (2431, 0.02895814951753796), (3034, 0.02895814951753796), (3040, 0.02895814951753796), (3315, 0.02895814951753796), (3397, 0.02895814951753796), (4513, 0.02895814951753796), (4543, 0.02895814951753796), (4670, 0.02895814951753796), (4043, 0.028867513459481287), (274, 0.02882251341114113), (75, 0.028688765527462346), (431, 0.028688765527462346), (646, 0.028688765527462346), (985, 0.028688765527462346), (1502, 0.028688765527462346), (1835, 0.028688765527462346), (1836, 0.028688765527462346), (2044, 0.028688765527462346), (2175, 0.028688765527462346), (2749, 0.028688765527462346), (3085, 0.028688765527462346), (3423, 0.028688765527462346), (3748, 0.028688765527462346), (3867, 0.028688765527462346), (4671, 0.028513297425610054), (108, 0.02842676218074806), (340, 0.02842676218074806), (683, 0.02842676218074806), (782, 0.02842676218074806), (937, 0.02842676218074806), (1064, 0.02842676218074806), (1145, 0.02842676218074806), (1177, 0.02842676218074806), (1391, 0.02842676218074806), (1577, 0.02842676218074806), (1907, 0.02842676218074806), (2649, 0.02842676218074806), (3741, 0.02842676218074806), (3743, 0.02842676218074806), (1628, 0.02839809171235324), (727, 0.028284271247461898), (36, 0.028171808490950554), (540, 0.028171808490950554), (606, 0.028171808490950554), (651, 0.028171808490950554), (1040, 0.028171808490950554), (1137, 0.028171808490950554), (1540, 0.028171808490950554), (1982, 0.028171808490950554), (2142, 0.028171808490950554), (2460, 0.028171808490950554), (2611, 0.028171808490950554), (2711, 0.028171808490950554), (3269, 0.028171808490950554), (3752, 0.028171808490950554), (4046, 0.028171808490950554), (4063, 0.028171808490950554), (402, 0.027923593886113034), (643, 0.027923593886113034), (835, 0.027923593886113034), (1589, 0.027923593886113034), (2209, 0.027923593886113034), (3679, 0.027923593886113034), (4256, 0.027923593886113034), (4323, 0.027923593886113034), (4723, 0.027923593886113034), (4797, 0.027923593886113034), (4558, 0.02773500981126146), (575, 0.02768182661791332), (629, 0.02768182661791332), (636, 0.02768182661791332), (758, 0.02768182661791332), (946, 0.02768182661791332), (1034, 0.02768182661791332), (1316, 0.02768182661791332), (1608, 0.02768182661791332), (1952, 0.02768182661791332), (2900, 0.02768182661791332), (2968, 0.02768182661791332), (3022, 0.02768182661791332), (3596, 0.02768182661791332), (3728, 0.02768182661791332), (3887, 0.02768182661791332), (4675, 0.027524094128159014), (300, 0.027446232319753947), (655, 0.027446232319753947), (818, 0.027446232319753947), (859, 0.027446232319753947), (1352, 0.027446232319753947), (1377, 0.027446232319753947), (1606, 0.027446232319753947), (2019, 0.027446232319753947), (2403, 0.027446232319753947), (2880, 0.027446232319753947), (3045, 0.027446232319753947), (3318, 0.027446232319753947), (3384, 0.027446232319753947), (3641, 0.027446232319753947), (3667, 0.027446232319753947), (3734, 0.027446232319753947), (3937, 0.027446232319753947), (4116, 0.027446232319753947), (4440, 0.027446232319753947), (4535, 0.027446232319753947), (4633, 0.027446232319753947), (4700, 0.027446232319753947), (192, 0.027216552697590865), (337, 0.027216552697590865), (371, 0.027216552697590865), (534, 0.027216552697590865), (609, 0.027216552697590865), (794, 0.027216552697590865), (816, 0.027216552697590865), (819, 0.027216552697590865), (919, 0.027216552697590865), (1322, 0.027216552697590865), (1429, 0.027216552697590865), (1650, 0.027216552697590865), (1808, 0.027216552697590865), (1858, 0.027216552697590865), (1945, 0.027216552697590865), (2001, 0.027216552697590865), (2237, 0.027216552697590865), (2538, 0.027216552697590865), (2636, 0.027216552697590865), (2997, 0.027216552697590865), (3020, 0.027216552697590865), (3251, 0.027216552697590865), (3535, 0.027216552697590865), (4280, 0.027216552697590865), (4328, 0.027216552697590865), (4393, 0.027216552697590865), (4421, 0.027216552697590865), (4583, 0.027216552697590865), (4610, 0.027216552697590865), (596, 0.026992544339297198), (870, 0.026992544339297198), (1782, 0.026992544339297198), (1874, 0.026992544339297198), (1946, 0.026992544339297198), (2322, 0.026992544339297198), (2764, 0.026992544339297198), (3210, 0.026992544339297198), (3446, 0.026992544339297198), (3482, 0.026992544339297198), (3503, 0.026992544339297198), (3681, 0.026992544339297198), (3776, 0.026992544339297198), (3918, 0.026992544339297198), (4175, 0.026992544339297198), (114, 0.026773977630083295), (140, 0.026773977630083295), (442, 0.026773977630083295), (690, 0.026773977630083295), (767, 0.026773977630083295), (803, 0.026773977630083295), (1826, 0.026773977630083295), (2580, 0.026773977630083295), (2836, 0.026773977630083295), (3006, 0.026773977630083295), (3159, 0.026773977630083295), (3740, 0.026773977630083295), (97, 0.02656063576298652), (582, 0.02656063576298652), (586, 0.02656063576298652), (788, 0.02656063576298652), (911, 0.02656063576298652), (1255, 0.02656063576298652), (1337, 0.02656063576298652), (1384, 0.02656063576298652), (1794, 0.02656063576298652), (2103, 0.02656063576298652), (2541, 0.02656063576298652), (3304, 0.02656063576298652), (3552, 0.02656063576298652), (3837, 0.02656063576298652), (4310, 0.02656063576298652), (4517, 0.02656063576298652), (5, 0.026352313834736494), (83, 0.026352313834736494), (116, 0.026352313834736494), (215, 0.026352313834736494), (281, 0.026352313834736494), (708, 0.026352313834736494), (888, 0.026352313834736494), (1208, 0.026352313834736494), (1224, 0.026352313834736494), (1254, 0.026352313834736494), (1270, 0.026352313834736494), (1464, 0.026352313834736494), (1531, 0.026352313834736494), (2007, 0.026352313834736494), (2063, 0.026352313834736494), (2226, 0.026352313834736494), (2249, 0.026352313834736494), (2263, 0.026352313834736494), (2496, 0.026352313834736494), (3035, 0.026352313834736494), (3115, 0.026352313834736494), (3323, 0.026352313834736494), (3325, 0.026352313834736494), (3403, 0.026352313834736494), (3502, 0.026352313834736494), (3903, 0.026352313834736494), (4403, 0.026352313834736494), (4492, 0.026352313834736494), (4521, 0.026352313834736494), (4531, 0.026352313834736494), (4703, 0.026352313834736494), (4770, 0.026352313834736494), (3890, 0.02635231383473649), (282, 0.02614881801842454), (814, 0.02614881801842454), (994, 0.02614881801842454), (1114, 0.02614881801842454), (2049, 0.02614881801842454), (2825, 0.02614881801842454), (3017, 0.02614881801842454), (3029, 0.02614881801842454), (3400, 0.02614881801842454), (4180, 0.02614881801842454), (4243, 0.02614881801842454), (455, 0.025949964805384095), (948, 0.025949964805384095), (2240, 0.025949964805384095), (2435, 0.025949964805384095), (3028, 0.025949964805384095), (3127, 0.025949964805384095), (3698, 0.025949964805384095), (4378, 0.025949964805384095), (248, 0.02575558030954186), (856, 0.02575558030954186), (1278, 0.02575558030954186), (1973, 0.02575558030954186), (2089, 0.02575558030954186), (115, 0.02556549962824568), (420, 0.02556549962824568), (622, 0.02556549962824568), (1165, 0.02556549962824568), (1924, 0.02556549962824568), (2299, 0.02556549962824568), (2364, 0.02556549962824568), (2606, 0.02556549962824568), (3141, 0.02556549962824568), (3997, 0.02556549962824568), (4205, 0.02556549962824568), (4275, 0.02556549962824568), (4309, 0.02556549962824568), (4391, 0.02556549962824568), (456, 0.025379566254229366), (2100, 0.025379566254229366), (2248, 0.025379566254229366), (2290, 0.025379566254229366), (2936, 0.025379566254229366), (3633, 0.025379566254229366), (4156, 0.025379566254229366), (4220, 0.025379566254229366), (4447, 0.025379566254229366), (1947, 0.025318484177091663), (2020, 0.02523772325625344), (623, 0.02519763153394848), (688, 0.02519763153394848), (694, 0.02519763153394848), (2510, 0.02519763153394848), (53, 0.025019554168026717), (217, 0.025019554168026717), (331, 0.025019554168026717), (448, 0.025019554168026717), (640, 0.025019554168026717), (2048, 0.025019554168026717), (2535, 0.025019554168026717), (2754, 0.025019554168026717), (4245, 0.024922239313961342), (501, 0.024845199749997667), (921, 0.024845199749997667), (1211, 0.024845199749997667), (1267, 0.024845199749997667), (1273, 0.024845199749997667), (1328, 0.024845199749997667), (1597, 0.024845199749997667), (1623, 0.024845199749997667), (1990, 0.024845199749997667), (2805, 0.024845199749997667), (3548, 0.024845199749997667), (3590, 0.024845199749997667), (3682, 0.024845199749997667), (3797, 0.024845199749997667), (4385, 0.024845199749997667), (4612, 0.024845199749997667), (4690, 0.024845199749997667), (4750, 0.024845199749997667), (29, 0.024674440339920174), (963, 0.024674440339920174), (3250, 0.024674440339920174), (4207, 0.024674440339920174), (4386, 0.024674440339920174), (482, 0.02450715406979359), (1176, 0.02450715406979359), (1730, 0.02450715406979359), (3049, 0.02450715406979359), (158, 0.024343224778007377), (246, 0.024343224778007377), (2258, 0.024343224778007377), (2398, 0.024343224778007377), (2714, 0.024343224778007377), (3935, 0.024343224778007377), (314, 0.02418254167033372), (925, 0.02418254167033372), (1269, 0.02418254167033372), (1785, 0.02418254167033372), (3125, 0.02418254167033372), (4113, 0.02418254167033372), (4589, 0.02418254167033372), (4756, 0.02418254167033372), (409, 0.024024999005214903), (673, 0.024024999005214903), (1449, 0.024024999005214903), (2129, 0.024024999005214903), (3038, 0.024024999005214903), (3157, 0.024024999005214903), (3187, 0.024024999005214903), (3232, 0.024024999005214903), (3591, 0.024024999005214903), (4778, 0.024024999005214903), (47, 0.023870495801314427), (1735, 0.023870495801314427), (1490, 0.023718935565494002), (1528, 0.023718935565494002), (1792, 0.023718935565494002), (65, 0.023570226039551584), (654, 0.023570226039551584), (989, 0.023570226039551584), (1522, 0.023570226039551584), (1574, 0.023570226039551584), (1755, 0.023570226039551584), (1895, 0.023570226039551584), (1978, 0.023570226039551584), (2093, 0.023570226039551584), (2236, 0.023570226039551584), (2433, 0.023570226039551584), (2597, 0.023570226039551584), (2743, 0.023570226039551584), (2972, 0.023570226039551584), (3243, 0.023570226039551584), (3283, 0.023570226039551584), (3345, 0.023570226039551584), (3414, 0.023570226039551584), (3457, 0.023570226039551584), (3460, 0.023570226039551584), (3971, 0.023570226039551584), (4167, 0.023570226039551584), (4496, 0.023570226039551584), (4740, 0.023570226039551584), (1140, 0.02344036154692477), (149, 0.023424278964210215), (589, 0.023424278964210215), (2075, 0.023424278964210215), (2167, 0.023424278964210215), (3195, 0.023424278964210215), (3775, 0.023424278964210215), (4005, 0.023424278964210215), (153, 0.023281009858985936), (273, 0.023281009858985936), (949, 0.023281009858985936), (1100, 0.023281009858985936), (1222, 0.023281009858985936), (2517, 0.023281009858985936), (2581, 0.023281009858985936), (3088, 0.023281009858985936), (3499, 0.023281009858985936), (4096, 0.023281009858985936), (188, 0.023140337816687444), (583, 0.023140337816687444), (969, 0.023140337816687444), (1235, 0.023140337816687444), (2561, 0.023140337816687444), (3073, 0.023140337816687444), (3319, 0.023140337816687444), (3592, 0.023140337816687444), (4339, 0.023140337816687444), (1002, 0.023002185311411807), (1190, 0.023002185311411807), (1593, 0.023002185311411807), (1788, 0.023002185311411807), (1839, 0.023002185311411807), (1933, 0.023002185311411807), (2005, 0.023002185311411807), (2492, 0.023002185311411807), (2668, 0.023002185311411807), (2746, 0.023002185311411807), (2871, 0.023002185311411807), (3154, 0.023002185311411807), (3277, 0.023002185311411807), (3514, 0.023002185311411807), (3629, 0.023002185311411807), (4435, 0.023002185311411807), (4557, 0.023002185311411807), (4653, 0.023002185311411807), (4729, 0.023002185311411807), (4794, 0.023002185311411807), (1771, 0.022866478019001178), (2416, 0.022866478019001178), (2722, 0.022866478019001178), (197, 0.022733144649015782), (3688, 0.022733144649015782), (186, 0.022602116787360346), (799, 0.022602116787360346), (1523, 0.022602116787360346), (1568, 0.022602116787360346), (4093, 0.022602116787360346), (239, 0.022473328748774734), (739, 0.022473328748774734), (897, 0.022473328748774734), (1304, 0.022473328748774734), (1357, 0.022473328748774734), (1403, 0.022473328748774734), (1418, 0.022473328748774734), (1667, 0.022473328748774734), (1710, 0.022473328748774734), (1862, 0.022473328748774734), (1901, 0.022473328748774734), (1920, 0.022473328748774734), (2382, 0.022473328748774734), (2685, 0.022473328748774734), (2850, 0.022473328748774734), (2864, 0.022473328748774734), (3298, 0.022473328748774734), (3505, 0.022473328748774734), (3520, 0.022473328748774734), (3622, 0.022473328748774734), (3826, 0.022473328748774734), (4070, 0.022473328748774734), (4123, 0.022473328748774734), (4176, 0.022473328748774734), (4179, 0.022473328748774734), (4254, 0.022473328748774734), (4644, 0.022473328748774734), (4648, 0.022473328748774734), (4711, 0.022473328748774734), (4041, 0.022346717438466366), (1334, 0.022222222222222223), (2986, 0.022222222222222223), (4590, 0.022222222222222223), (1203, 0.022099784804393195), (1912, 0.022099784804393195), (1999, 0.022099784804393195), (4465, 0.022099784804393195), (699, 0.0219793491131929), (850, 0.0219793491131929), (1136, 0.0219793491131929), (1171, 0.0219793491131929), (1515, 0.0219793491131929), (1737, 0.0219793491131929), (1773, 0.0219793491131929), (1992, 0.0219793491131929), (2325, 0.0219793491131929), (2634, 0.0219793491131929), (2719, 0.0219793491131929), (2866, 0.0219793491131929), (3711, 0.0219793491131929), (3855, 0.0219793491131929), (3885, 0.0219793491131929), (3981, 0.0219793491131929), (4034, 0.0219793491131929), (4401, 0.0219793491131929), (4576, 0.0219793491131929), (517, 0.021860861192798432), (1546, 0.021860861192798432), (60, 0.021629522817435007), (428, 0.021629522817435007), (1672, 0.021629522817435007), (2080, 0.021629522817435007), (2470, 0.021629522817435007), (3733, 0.021629522817435007), (4353, 0.021629522817435007), (4641, 0.021629522817435007), (808, 0.021516574145596764), (1311, 0.021516574145596764), (1388, 0.021516574145596764), (1919, 0.021516574145596764), (1941, 0.021516574145596764), (2268, 0.021516574145596764), (2363, 0.021516574145596764), (2591, 0.021516574145596764), (2608, 0.021516574145596764), (2688, 0.021516574145596764), (2774, 0.021516574145596764), (3068, 0.021516574145596764), (3242, 0.021516574145596764), (3356, 0.021516574145596764), (3572, 0.021516574145596764), (3673, 0.021516574145596764), (3746, 0.021516574145596764), (3868, 0.021516574145596764), (3907, 0.021516574145596764), (4124, 0.021516574145596764), (4270, 0.021516574145596764), (4342, 0.021516574145596764), (4441, 0.021516574145596764), (4751, 0.021516574145596764), (838, 0.021405376635597852), (1103, 0.021405376635597852), (62, 0.021081851067789197), (100, 0.021081851067789197), (183, 0.021081851067789197), (570, 0.021081851067789197), (887, 0.021081851067789197), (893, 0.021081851067789197), (914, 0.021081851067789197), (1288, 0.021081851067789197), (1345, 0.021081851067789197), (1495, 0.021081851067789197), (1615, 0.021081851067789197), (2252, 0.021081851067789197), (2311, 0.021081851067789197), (2320, 0.021081851067789197), (2474, 0.021081851067789197), (2512, 0.021081851067789197), (2623, 0.021081851067789197), (2806, 0.021081851067789197), (3508, 0.021081851067789197), (3678, 0.021081851067789197), (3704, 0.021081851067789197), (3825, 0.021081851067789197), (3833, 0.021081851067789197), (4128, 0.021081851067789197), (4212, 0.021081851067789197), (4448, 0.021081851067789197), (4511, 0.021081851067789197), (4561, 0.021081851067789197), (4739, 0.021081851067789197), (150, 0.02097722585091842), (3431, 0.02097722585091842), (657, 0.02077256509499186), (162, 0.020672455764868078), (466, 0.020672455764868078), (490, 0.020672455764868078), (1520, 0.020672455764868078), (1664, 0.020672455764868078), (2026, 0.020672455764868078), (2388, 0.020672455764868078), (2410, 0.020672455764868078), (2420, 0.020672455764868078), (2451, 0.020672455764868078), (2567, 0.020672455764868078), (2641, 0.020672455764868078), (2868, 0.020672455764868078), (3064, 0.020672455764868078), (3114, 0.020672455764868078), (3721, 0.020672455764868078), (3723, 0.020672455764868078), (3856, 0.020672455764868078), (3968, 0.020672455764868078), (4173, 0.020672455764868078), (4326, 0.020672455764868078), (4406, 0.020672455764868078), (4491, 0.020672455764868078), (4638, 0.020672455764868078), (1365, 0.020476503894465037), (4066, 0.0203805946838581), (85, 0.020286020648339485), (653, 0.020286020648339485), (800, 0.020286020648339485), (966, 0.020286020648339485), (1030, 0.020286020648339485), (1482, 0.020286020648339485), (1635, 0.020286020648339485), (1690, 0.020286020648339485), (1701, 0.020286020648339485), (1717, 0.020286020648339485), (1905, 0.020286020648339485), (2088, 0.020286020648339485), (2244, 0.020286020648339485), (2254, 0.020286020648339485), (2286, 0.020286020648339485), (2302, 0.020286020648339485), (2312, 0.020286020648339485), (2317, 0.020286020648339485), (2617, 0.020286020648339485), (2692, 0.020286020648339485), (2736, 0.020286020648339485), (2737, 0.020286020648339485), (2803, 0.020286020648339485), (3119, 0.020286020648339485), (3229, 0.020286020648339485), (3474, 0.020286020648339485), (3760, 0.020286020648339485), (3987, 0.020286020648339485), (4059, 0.020286020648339485), (4273, 0.020286020648339485), (4315, 0.020286020648339485), (4548, 0.020286020648339485), (560, 0.02019275109384609), (3646, 0.02019275109384609), (2637, 0.020100756305184243), (906, 0.019920476822239894), (1042, 0.019920476822239894), (1126, 0.019920476822239894), (1886, 0.019920476822239894), (1902, 0.019920476822239894), (2112, 0.019920476822239894), (2188, 0.019920476822239894), (2193, 0.019920476822239894), (2306, 0.019920476822239894), (2524, 0.019920476822239894), (2542, 0.019920476822239894), (2659, 0.019920476822239894), (2956, 0.019920476822239894), (3055, 0.019920476822239894), (3212, 0.019920476822239894), (3303, 0.019920476822239894), (3392, 0.019920476822239894), (3577, 0.019920476822239894), (3620, 0.019920476822239894), (3764, 0.019920476822239894), (3774, 0.019920476822239894), (3955, 0.019920476822239894), (3966, 0.019920476822239894), (3967, 0.019920476822239894), (4050, 0.019920476822239894), (4133, 0.019920476822239894), (4150, 0.019920476822239894), (4369, 0.019920476822239894), (4405, 0.019920476822239894), (4698, 0.019920476822239894), (3184, 0.01983213724362432), (2572, 0.019744962591969745), (3071, 0.01965892748731962), (4012, 0.01965892748731962), (319, 0.01957400731715678), (487, 0.01957400731715678), (624, 0.01957400731715678), (627, 0.01957400731715678), (684, 0.01957400731715678), (1180, 0.01957400731715678), (1251, 0.01957400731715678), (1336, 0.01957400731715678), (1460, 0.01957400731715678), (1518, 0.01957400731715678), (1556, 0.01957400731715678), (1563, 0.01957400731715678), (2225, 0.01957400731715678), (2307, 0.01957400731715678), (2622, 0.01957400731715678), (2964, 0.01957400731715678), (3031, 0.01957400731715678), (3124, 0.01957400731715678), (3140, 0.01957400731715678), (3214, 0.01957400731715678), (3301, 0.01957400731715678), (3314, 0.01957400731715678), (3362, 0.01957400731715678), (3495, 0.01957400731715678), (3523, 0.01957400731715678), (4142, 0.01957400731715678), (4222, 0.01957400731715678), (4410, 0.01957400731715678), (4468, 0.01957400731715678), (4480, 0.01957400731715678), (4555, 0.01957400731715678), (4602, 0.01957400731715678), (4674, 0.01957400731715678), (947, 0.01949017820682287), (1422, 0.01949017820682287), (206, 0.019325701188414948), (4017, 0.019325701188414948), (233, 0.019245008972987525), (362, 0.019245008972987525), (505, 0.019245008972987525), (511, 0.019245008972987525), (537, 0.019245008972987525), (590, 0.019245008972987525), (988, 0.019245008972987525), (1071, 0.019245008972987525), (1151, 0.019245008972987525), (1206, 0.019245008972987525), (1248, 0.019245008972987525), (1318, 0.019245008972987525), (1483, 0.019245008972987525), (1547, 0.019245008972987525), (1936, 0.019245008972987525), (2291, 0.019245008972987525), (2379, 0.019245008972987525), (2578, 0.019245008972987525), (2650, 0.019245008972987525), (3700, 0.019245008972987525), (3849, 0.019245008972987525), (3960, 0.019245008972987525), (4130, 0.019245008972987525), (4185, 0.019245008972987525), (4388, 0.019245008972987525), (4574, 0.019245008972987525), (4677, 0.019245008972987525), (2875, 0.019165319152535634), (601, 0.019086611143795607), (33, 0.018932061141568826), (61, 0.018932061141568826), (1066, 0.018932061141568826), (1087, 0.018932061141568826), (1407, 0.018932061141568826), (1488, 0.018932061141568826), (1668, 0.018932061141568826), (1834, 0.018932061141568826), (1998, 0.018932061141568826), (2047, 0.018932061141568826), (2056, 0.018932061141568826), (2450, 0.018932061141568826), (2501, 0.018932061141568826), (2783, 0.018932061141568826), (2830, 0.018932061141568826), (2877, 0.018932061141568826), (2994, 0.018932061141568826), (3041, 0.018932061141568826), (3076, 0.018932061141568826), (3206, 0.018932061141568826), (3218, 0.018932061141568826), (3359, 0.018932061141568826), (3379, 0.018932061141568826), (3390, 0.018932061141568826), (3407, 0.018932061141568826), (3586, 0.018932061141568826), (3588, 0.018932061141568826), (3655, 0.018932061141568826), (3964, 0.018932061141568826), (4054, 0.018932061141568826), (4216, 0.018932061141568826), (4497, 0.018932061141568826), (3196, 0.018856180831641266), (4623, 0.018856180831641266), (134, 0.018633899812498245), (159, 0.018633899812498245), (693, 0.018633899812498245), (773, 0.018633899812498245), (826, 0.018633899812498245), (877, 0.018633899812498245), (880, 0.018633899812498245), (1074, 0.018633899812498245), (1173, 0.018633899812498245), (1332, 0.018633899812498245), (1397, 0.018633899812498245), (1419, 0.018633899812498245), (1715, 0.018633899812498245), (1731, 0.018633899812498245), (1781, 0.018633899812498245), (1820, 0.018633899812498245), (1921, 0.018633899812498245), (2011, 0.018633899812498245), (2084, 0.018633899812498245), (2133, 0.018633899812498245), (2354, 0.018633899812498245), (2377, 0.018633899812498245), (2515, 0.018633899812498245), (2573, 0.018633899812498245), (2756, 0.018633899812498245), (3105, 0.018633899812498245), (3143, 0.018633899812498245), (3549, 0.018633899812498245), (3598, 0.018633899812498245), (3884, 0.018633899812498245), (3917, 0.018633899812498245), (3976, 0.018633899812498245), (4022, 0.018633899812498245), (4178, 0.018633899812498245), (4408, 0.018633899812498245), (4473, 0.018633899812498245), (4691, 0.018633899812498245), (4789, 0.018633899812498245), (25, 0.018490006540840973), (290, 0.018349396085439344), (408, 0.018349396085439344), (685, 0.018349396085439344), (876, 0.018349396085439344), (957, 0.018349396085439344), (1046, 0.018349396085439344), (1130, 0.018349396085439344), (1367, 0.018349396085439344), (1493, 0.018349396085439344), (1567, 0.018349396085439344), (1721, 0.018349396085439344), (1799, 0.018349396085439344), (1871, 0.018349396085439344), (1913, 0.018349396085439344), (1937, 0.018349396085439344), (2083, 0.018349396085439344), (2228, 0.018349396085439344), (2885, 0.018349396085439344), (2998, 0.018349396085439344), (3087, 0.018349396085439344), (3257, 0.018349396085439344), (3424, 0.018349396085439344), (3624, 0.018349396085439344), (3661, 0.018349396085439344), (3982, 0.018349396085439344), (3989, 0.018349396085439344), (4151, 0.018349396085439344), (4279, 0.018349396085439344), (4295, 0.018349396085439344), (4418, 0.018349396085439344), (4573, 0.018349396085439344), (4680, 0.018349396085439344), (3727, 0.018280283236902724), (68, 0.01807753815155468), (267, 0.01807753815155468), (336, 0.01807753815155468), (559, 0.01807753815155468), (621, 0.01807753815155468), (1063, 0.01807753815155468), (1162, 0.01807753815155468), (1272, 0.01807753815155468), (1600, 0.01807753815155468), (1622, 0.01807753815155468), (1677, 0.01807753815155468), (2111, 0.01807753815155468), (2118, 0.01807753815155468), (2336, 0.01807753815155468), (2407, 0.01807753815155468), (2448, 0.01807753815155468), (2500, 0.01807753815155468), (2502, 0.01807753815155468), (2558, 0.01807753815155468), (2619, 0.01807753815155468), (2747, 0.01807753815155468), (2795, 0.01807753815155468), (2882, 0.01807753815155468), (3082, 0.01807753815155468), (3098, 0.01807753815155468), (3271, 0.01807753815155468), (3312, 0.01807753815155468), (3391, 0.01807753815155468), (3444, 0.01807753815155468), (3636, 0.01807753815155468), (3777, 0.01807753815155468), (3847, 0.01807753815155468), (3858, 0.01807753815155468), (3961, 0.01807753815155468), (4318, 0.01807753815155468), (4564, 0.01807753815155468), (4654, 0.01807753815155468), (4769, 0.01807753815155468), (244, 0.017817416127494958), (553, 0.017817416127494958), (935, 0.017817416127494958), (951, 0.017817416127494958), (1001, 0.017817416127494958), (1024, 0.017817416127494958), (1258, 0.017817416127494958), (1468, 0.017817416127494958), (1938, 0.017817416127494958), (2149, 0.017817416127494958), (2245, 0.017817416127494958), (2253, 0.017817416127494958), (2262, 0.017817416127494958), (2477, 0.017817416127494958), (2662, 0.017817416127494958), (2693, 0.017817416127494958), (2713, 0.017817416127494958), (3122, 0.017817416127494958), (3485, 0.017817416127494958), (3702, 0.017817416127494958), (3705, 0.017817416127494958), (3791, 0.017817416127494958), (4232, 0.017817416127494958), (4237, 0.017817416127494958), (4255, 0.017817416127494958), (4472, 0.017817416127494958), (4485, 0.017817416127494958), (4616, 0.017817416127494958), (4679, 0.017817416127494958), (4772, 0.017817416127494958), (3582, 0.017754121376376917), (3793, 0.017691496414475844), (148, 0.01756820922315766), (422, 0.01756820922315766), (483, 0.01756820922315766), (642, 0.01756820922315766), (1150, 0.01756820922315766), (1178, 0.01756820922315766), (1348, 0.01756820922315766), (1385, 0.01756820922315766), (1800, 0.01756820922315766), (1896, 0.01756820922315766), (1923, 0.01756820922315766), (2583, 0.01756820922315766), (2643, 0.01756820922315766), (2709, 0.01756820922315766), (2950, 0.01756820922315766), (3084, 0.01756820922315766), (3104, 0.01756820922315766), (3211, 0.01756820922315766), (3234, 0.01756820922315766), (3348, 0.01756820922315766), (3360, 0.01756820922315766), (3827, 0.01756820922315766), (3977, 0.01756820922315766), (4351, 0.01756820922315766), (4515, 0.01756820922315766), (4563, 0.01756820922315766), (4586, 0.01756820922315766), (1253, 0.01750752438129634), (46, 0.017329174830334543), (117, 0.017329174830334543), (309, 0.017329174830334543), (579, 0.017329174830334543), (753, 0.017329174830334543), (1051, 0.017329174830334543), (1229, 0.017329174830334543), (1331, 0.017329174830334543), (1486, 0.017329174830334543), (1718, 0.017329174830334543), (1797, 0.017329174830334543), (1878, 0.017329174830334543), (2094, 0.017329174830334543), (2125, 0.017329174830334543), (2540, 0.017329174830334543), (2646, 0.017329174830334543), (2789, 0.017329174830334543), (2930, 0.017329174830334543), (3389, 0.017329174830334543), (3419, 0.017329174830334543), (3716, 0.017329174830334543), (3772, 0.017329174830334543), (3870, 0.017329174830334543), (3980, 0.017329174830334543), (4031, 0.017329174830334543), (4145, 0.017329174830334543), (4398, 0.017329174830334543), (4520, 0.017329174830334543), (4734, 0.017329174830334543), (12, 0.017099639201419235), (344, 0.017099639201419235), (581, 0.017099639201419235), (761, 0.017099639201419235), (1013, 0.017099639201419235), (1070, 0.017099639201419235), (1256, 0.017099639201419235), (1317, 0.017099639201419235), (1359, 0.017099639201419235), (1539, 0.017099639201419235), (1754, 0.017099639201419235), (2328, 0.017099639201419235), (2472, 0.017099639201419235), (2735, 0.017099639201419235), (2787, 0.017099639201419235), (3311, 0.017099639201419235), (3510, 0.017099639201419235), (3616, 0.017099639201419235), (3888, 0.017099639201419235), (4197, 0.017099639201419235), (4380, 0.017099639201419235), (4449, 0.017099639201419235), (4534, 0.017099639201419235), (3326, 0.017043666418830455), (3374, 0.016988239714587516), (2, 0.016878989451394443), (31, 0.016878989451394443), (220, 0.016878989451394443), (320, 0.016878989451394443), (524, 0.016878989451394443), (715, 0.016878989451394443), (736, 0.016878989451394443), (853, 0.016878989451394443), (882, 0.016878989451394443), (927, 0.016878989451394443), (941, 0.016878989451394443), (1104, 0.016878989451394443), (1147, 0.016878989451394443), (1174, 0.016878989451394443), (1323, 0.016878989451394443), (1560, 0.016878989451394443), (1579, 0.016878989451394443), (1639, 0.016878989451394443), (1887, 0.016878989451394443), (2210, 0.016878989451394443), (2274, 0.016878989451394443), (2740, 0.016878989451394443), (2890, 0.016878989451394443), (2932, 0.016878989451394443), (2952, 0.016878989451394443), (3110, 0.016878989451394443), (3126, 0.016878989451394443), (3344, 0.016878989451394443), (3363, 0.016878989451394443), (3463, 0.016878989451394443), (3475, 0.016878989451394443), (3576, 0.016878989451394443), (3671, 0.016878989451394443), (3876, 0.016878989451394443), (4016, 0.016878989451394443), (4144, 0.016878989451394443), (4343, 0.016878989451394443), (4537, 0.016878989451394443), (4591, 0.016878989451394443), (4697, 0.016878989451394443), (3225, 0.016718995419183973), (4104, 0.016718995419183973), (1, 0.016666666666666666), (208, 0.016666666666666666), (260, 0.016666666666666666), (964, 0.016666666666666666), (1031, 0.016666666666666666), (1134, 0.016666666666666666), (1409, 0.016666666666666666), (1831, 0.016666666666666666), (1931, 0.016666666666666666), (2229, 0.016666666666666666), (2288, 0.016666666666666666), (2587, 0.016666666666666666), (2601, 0.016666666666666666), (2917, 0.016666666666666666), (3019, 0.016666666666666666), (3081, 0.016666666666666666), (3155, 0.016666666666666666), (3382, 0.016666666666666666), (3434, 0.016666666666666666), (3437, 0.016666666666666666), (3803, 0.016666666666666666), (4213, 0.016666666666666666), (4247, 0.016666666666666666), (4276, 0.016666666666666666), (4427, 0.016666666666666666), (4553, 0.016666666666666666), (4652, 0.016666666666666666), (4678, 0.016666666666666666), (147, 0.016462159944159827), (176, 0.016462159944159827), (461, 0.016462159944159827), (691, 0.016462159944159827), (1500, 0.016462159944159827), (1509, 0.016462159944159827), (1762, 0.016462159944159827), (2092, 0.016462159944159827), (2135, 0.016462159944159827), (2342, 0.016462159944159827), (2490, 0.016462159944159827), (2683, 0.016462159944159827), (2873, 0.016462159944159827), (3003, 0.016462159944159827), (3538, 0.016462159944159827), (3567, 0.016462159944159827), (3639, 0.016462159944159827), (4300, 0.016462159944159827), (4479, 0.016462159944159827), (4512, 0.016462159944159827), (4660, 0.016462159944159827), (4702, 0.016462159944159827), (4766, 0.016462159944159827), (3101, 0.016412198797244364), (457, 0.016265001215808886), (547, 0.016265001215808886), (737, 0.016265001215808886), (801, 0.016265001215808886), (945, 0.016265001215808886), (975, 0.016265001215808886), (1069, 0.016265001215808886), (1244, 0.016265001215808886), (1512, 0.016265001215808886), (1750, 0.016265001215808886), (1955, 0.016265001215808886), (2096, 0.016265001215808886), (2208, 0.016265001215808886), (2412, 0.016265001215808886), (2493, 0.016265001215808886), (2645, 0.016265001215808886), (3252, 0.016265001215808886), (3341, 0.016265001215808886), (3483, 0.016265001215808886), (3737, 0.016265001215808886), (3783, 0.016265001215808886), (4092, 0.016265001215808886), (4218, 0.016265001215808886), (4450, 0.016265001215808886), (4462, 0.016265001215808886), (3223, 0.016216808513683997), (14, 0.016074760739013736), (49, 0.016074760739013736), (265, 0.016074760739013736), (346, 0.016074760739013736), (366, 0.016074760739013736), (474, 0.016074760739013736), (577, 0.016074760739013736), (599, 0.016074760739013736), (608, 0.016074760739013736), (664, 0.016074760739013736), (1234, 0.016074760739013736), (1284, 0.016074760739013736), (1694, 0.016074760739013736), (1805, 0.016074760739013736), (2106, 0.016074760739013736), (2282, 0.016074760739013736), (2383, 0.016074760739013736), (2483, 0.016074760739013736), (2627, 0.016074760739013736), (3113, 0.016074760739013736), (3430, 0.016074760739013736), (3568, 0.016074760739013736), (3729, 0.016074760739013736), (4071, 0.016074760739013736), (4106, 0.016074760739013736), (4322, 0.016074760739013736), (4439, 0.016074760739013736), (4493, 0.016074760739013736), (223, 0.015891043154093204), (405, 0.015891043154093204), (519, 0.015891043154093204), (731, 0.015891043154093204), (849, 0.015891043154093204), (929, 0.015891043154093204), (1105, 0.015891043154093204), (1123, 0.015891043154093204), (1466, 0.015891043154093204), (1474, 0.015891043154093204), (1507, 0.015891043154093204), (1661, 0.015891043154093204), (1935, 0.015891043154093204), (2173, 0.015891043154093204), (2255, 0.015891043154093204), (2429, 0.015891043154093204), (2459, 0.015891043154093204), (2563, 0.015891043154093204), (2565, 0.015891043154093204), (2977, 0.015891043154093204), (3138, 0.015891043154093204), (3164, 0.015891043154093204), (3256, 0.015891043154093204), (3258, 0.015891043154093204), (3647, 0.015891043154093204), (3739, 0.015891043154093204), (3910, 0.015891043154093204), (4105, 0.015891043154093204), (4129, 0.015891043154093204), (4194, 0.015891043154093204), (4332, 0.015891043154093204), (4650, 0.015891043154093204), (69, 0.015846089618050948), (70, 0.015713484026367724), (287, 0.015713484026367724), (588, 0.015713484026367724), (787, 0.015713484026367724), (863, 0.015713484026367724), (938, 0.015713484026367724), (1138, 0.015713484026367724), (1157, 0.015713484026367724), (1266, 0.015713484026367724), (1697, 0.015713484026367724), (2378, 0.015713484026367724), (2418, 0.015713484026367724), (2463, 0.015713484026367724), (2791, 0.015713484026367724), (3023, 0.015713484026367724), (3132, 0.015713484026367724), (3416, 0.015713484026367724), (4108, 0.015713484026367724), (4120, 0.015713484026367724), (4136, 0.015713484026367724), (4289, 0.015713484026367724), (4335, 0.015713484026367724), (4523, 0.015713484026367724), (4651, 0.015713484026367724), (72, 0.015541746804005229), (82, 0.015541746804005229), (133, 0.015541746804005229), (380, 0.015541746804005229), (436, 0.015541746804005229), (711, 0.015541746804005229), (760, 0.015541746804005229), (786, 0.015541746804005229), (802, 0.015541746804005229), (878, 0.015541746804005229), (905, 0.015541746804005229), (995, 0.015541746804005229), (1897, 0.015541746804005229), (2045, 0.015541746804005229), (2534, 0.015541746804005229), (2551, 0.015541746804005229), (2821, 0.015541746804005229), (2924, 0.015541746804005229), (3145, 0.015541746804005229), (3161, 0.015541746804005229), (3246, 0.015541746804005229), (3337, 0.015541746804005229), (3349, 0.015541746804005229), (3383, 0.015541746804005229), (3649, 0.015541746804005229), (3809, 0.015541746804005229), (3859, 0.015541746804005229), (3908, 0.015541746804005229), (4277, 0.015541746804005229), (4506, 0.015541746804005229), (4562, 0.015541746804005229), (4774, 0.015541746804005229), (125, 0.015416576335429344), (71, 0.015375520133814751), (112, 0.015375520133814751), (242, 0.015375520133814751), (245, 0.015375520133814751), (512, 0.015375520133814751), (594, 0.015375520133814751), (619, 0.015375520133814751), (650, 0.015375520133814751), (680, 0.015375520133814751), (764, 0.015375520133814751), (961, 0.015375520133814751), (1131, 0.015375520133814751), (1158, 0.015375520133814751), (1175, 0.015375520133814751), (1226, 0.015375520133814751), (1232, 0.015375520133814751), (1321, 0.015375520133814751), (1364, 0.015375520133814751), (1922, 0.015375520133814751), (2164, 0.015375520133814751), (2169, 0.015375520133814751), (2234, 0.015375520133814751), (2267, 0.015375520133814751), (2287, 0.015375520133814751), (2308, 0.015375520133814751), (3313, 0.015375520133814751), (3368, 0.015375520133814751), (3496, 0.015375520133814751), (3512, 0.015375520133814751), (3546, 0.015375520133814751), (3787, 0.015375520133814751), (3795, 0.015375520133814751), (3857, 0.015375520133814751), (28, 0.015214515486254616), (306, 0.015214515486254616), (329, 0.015214515486254616), (840, 0.015214515486254616), (867, 0.015214515486254616), (1110, 0.015214515486254616), (1260, 0.015214515486254616), (1778, 0.015214515486254616), (1829, 0.015214515486254616), (2008, 0.015214515486254616), (2137, 0.015214515486254616), (2635, 0.015214515486254616), (2720, 0.015214515486254616), (3200, 0.015214515486254616), (3443, 0.015214515486254616), (3461, 0.015214515486254616), (3600, 0.015214515486254616), (3617, 0.015214515486254616), (3896, 0.015214515486254616), (3958, 0.015214515486254616), (4135, 0.015214515486254616), (4160, 0.015214515486254616), (4396, 0.015214515486254616), (4607, 0.015214515486254616), (4642, 0.015214515486254616), (203, 0.015058465048420852), (332, 0.015058465048420852), (437, 0.015058465048420852), (500, 0.015058465048420852), (510, 0.015058465048420852), (526, 0.015058465048420852), (544, 0.015058465048420852), (568, 0.015058465048420852), (701, 0.015058465048420852), (716, 0.015058465048420852), (990, 0.015058465048420852), (1091, 0.015058465048420852), (1330, 0.015058465048420852), (1740, 0.015058465048420852), (1804, 0.015058465048420852), (1809, 0.015058465048420852), (1964, 0.015058465048420852), (2013, 0.015058465048420852), (2143, 0.015058465048420852), (2656, 0.015058465048420852), (3048, 0.015058465048420852), (3147, 0.015058465048420852), (3798, 0.015058465048420852), (3952, 0.015058465048420852), (4395, 0.015058465048420852), (4559, 0.015058465048420852), (4578, 0.015058465048420852), (241, 0.014907119849998597), (322, 0.014907119849998597), (341, 0.014907119849998597), (468, 0.014907119849998597), (556, 0.014907119849998597), (580, 0.014907119849998597), (944, 0.014907119849998597), (1245, 0.014907119849998597), (1459, 0.014907119849998597), (1469, 0.014907119849998597), (1879, 0.014907119849998597), (2002, 0.014907119849998597), (2016, 0.014907119849998597), (2626, 0.014907119849998597), (2901, 0.014907119849998597), (2929, 0.014907119849998597), (3493, 0.014907119849998597), (3564, 0.014907119849998597), (3628, 0.014907119849998597), (3782, 0.014907119849998597), (4030, 0.014907119849998597), (4079, 0.014907119849998597), (4223, 0.014907119849998597), (4346, 0.014907119849998597), (4783, 0.014907119849998597), (101, 0.01476024809233492), (166, 0.01476024809233492), (677, 0.01476024809233492), (1012, 0.01476024809233492), (1060, 0.01476024809233492), (1106, 0.01476024809233492), (1447, 0.01476024809233492), (1626, 0.01476024809233492), (1961, 0.01476024809233492), (2060, 0.01476024809233492), (2085, 0.01476024809233492), (2157, 0.01476024809233492), (2171, 0.01476024809233492), (2195, 0.01476024809233492), (2257, 0.01476024809233492), (2331, 0.01476024809233492), (2430, 0.01476024809233492), (2700, 0.01476024809233492), (2852, 0.01476024809233492), (3217, 0.01476024809233492), (3405, 0.01476024809233492), (3422, 0.01476024809233492), (4266, 0.01476024809233492), (4792, 0.01476024809233492), (2647, 0.014724203476646205), (10, 0.014617633655117155), (207, 0.014617633655117155), (485, 0.014617633655117155), (687, 0.014617633655117155), (1053, 0.014617633655117155), (1167, 0.014617633655117155), (1192, 0.014617633655117155), (1366, 0.014617633655117155), (1374, 0.014617633655117155), (1498, 0.014617633655117155), (1517, 0.014617633655117155), (1726, 0.014617633655117155), (1904, 0.014617633655117155), (1939, 0.014617633655117155), (2010, 0.014617633655117155), (2180, 0.014617633655117155), (2259, 0.014617633655117155), (2406, 0.014617633655117155), (2529, 0.014617633655117155), (2530, 0.014617633655117155), (2704, 0.014617633655117155), (2985, 0.014617633655117155), (3066, 0.014617633655117155), (3179, 0.014617633655117155), (3185, 0.014617633655117155), (3364, 0.014617633655117155), (3848, 0.014617633655117155), (3871, 0.014617633655117155), (3988, 0.014617633655117155), (4419, 0.014617633655117155), (4738, 0.014617633655117155), (1485, 0.01454785934906616), (438, 0.01447907475876898), (854, 0.01447907475876898), (959, 0.01447907475876898), (976, 0.01447907475876898), (1201, 0.01447907475876898), (1494, 0.01447907475876898), (1558, 0.01447907475876898), (1559, 0.01447907475876898), (1713, 0.01447907475876898), (2152, 0.01447907475876898), (2241, 0.01447907475876898), (2324, 0.01447907475876898), (2686, 0.01447907475876898), (2729, 0.01447907475876898), (2730, 0.01447907475876898), (2775, 0.01447907475876898), (2822, 0.01447907475876898), (2859, 0.01447907475876898), (3160, 0.01447907475876898), (3435, 0.01447907475876898), (3536, 0.01447907475876898), (3557, 0.01447907475876898), (3581, 0.01447907475876898), (3720, 0.01447907475876898), (3816, 0.01447907475876898), (3838, 0.01447907475876898), (3846, 0.01447907475876898), (4274, 0.01447907475876898), (4365, 0.01447907475876898), (4525, 0.01447907475876898), (174, 0.014344382763731173), (333, 0.014344382763731173), (361, 0.014344382763731173), (724, 0.014344382763731173), (983, 0.014344382763731173), (1036, 0.014344382763731173), (1299, 0.014344382763731173), (2760, 0.014344382763731173), (2815, 0.014344382763731173), (2819, 0.014344382763731173), (2904, 0.014344382763731173), (3002, 0.014344382763731173), (3335, 0.014344382763731173), (3905, 0.014344382763731173), (4149, 0.014344382763731173), (4317, 0.014344382763731173), (4404, 0.014344382763731173), (4560, 0.014344382763731173), (98, 0.01421338109037403), (201, 0.01421338109037403), (271, 0.01421338109037403), (278, 0.01421338109037403), (312, 0.01421338109037403), (315, 0.01421338109037403), (365, 0.01421338109037403), (372, 0.01421338109037403), (440, 0.01421338109037403), (600, 0.01421338109037403), (676, 0.01421338109037403), (705, 0.01421338109037403), (1461, 0.01421338109037403), (1636, 0.01421338109037403), (1796, 0.01421338109037403), (2090, 0.01421338109037403), (2205, 0.01421338109037403), (2484, 0.01421338109037403), (2508, 0.01421338109037403), (2694, 0.01421338109037403), (2897, 0.01421338109037403), (2919, 0.01421338109037403), (3507, 0.01421338109037403), (4141, 0.01421338109037403), (4262, 0.01421338109037403), (4338, 0.01421338109037403), (421, 0.014085904245475277), (779, 0.014085904245475277), (823, 0.014085904245475277), (1028, 0.014085904245475277), (1129, 0.014085904245475277), (1263, 0.014085904245475277), (1286, 0.014085904245475277), (1356, 0.014085904245475277), (1627, 0.014085904245475277), (1802, 0.014085904245475277), (1882, 0.014085904245475277), (1909, 0.014085904245475277), (2053, 0.014085904245475277), (2239, 0.014085904245475277), (2315, 0.014085904245475277), (2395, 0.014085904245475277), (2548, 0.014085904245475277), (2644, 0.014085904245475277), (2664, 0.014085904245475277), (2817, 0.014085904245475277), (2942, 0.014085904245475277), (2979, 0.014085904245475277), (3026, 0.014085904245475277), (3178, 0.014085904245475277), (3353, 0.014085904245475277), (4168, 0.014085904245475277), (987, 0.013961796943056517), (1006, 0.013961796943056517), (1015, 0.013961796943056517), (1079, 0.013961796943056517), (1202, 0.013961796943056517), (1207, 0.013961796943056517), (1296, 0.013961796943056517), (1341, 0.013961796943056517), (1847, 0.013961796943056517), (1866, 0.013961796943056517), (1954, 0.013961796943056517), (1968, 0.013961796943056517), (2278, 0.013961796943056517), (2469, 0.013961796943056517), (3794, 0.013961796943056517), (4058, 0.013961796943056517), (4060, 0.013961796943056517), (4169, 0.013961796943056517), (11, 0.01384091330895666), (165, 0.01384091330895666), (334, 0.01384091330895666), (351, 0.01384091330895666), (369, 0.01384091330895666), (398, 0.01384091330895666), (602, 0.01384091330895666), (611, 0.01384091330895666), (658, 0.01384091330895666), (793, 0.01384091330895666), (813, 0.01384091330895666), (1068, 0.01384091330895666), (1247, 0.01384091330895666), (1611, 0.01384091330895666), (2327, 0.01384091330895666), (2405, 0.01384091330895666), (2486, 0.01384091330895666), (2703, 0.01384091330895666), (2785, 0.01384091330895666), (3249, 0.01384091330895666), (3343, 0.01384091330895666), (3375, 0.01384091330895666), (3413, 0.01384091330895666), (3828, 0.01384091330895666), (3998, 0.01384091330895666), (41, 0.013723116159876973), (43, 0.013723116159876973), (480, 0.013723116159876973), (535, 0.013723116159876973), (554, 0.013723116159876973), (665, 0.013723116159876973), (765, 0.013723116159876973), (844, 0.013723116159876973), (1118, 0.013723116159876973), (1166, 0.013723116159876973), (1227, 0.013723116159876973), (1230, 0.013723116159876973), (2029, 0.013723116159876973), (2086, 0.013723116159876973), (2277, 0.013723116159876973), (2334, 0.013723116159876973), (2944, 0.013723116159876973), (3228, 0.013723116159876973), (3302, 0.013723116159876973), (3448, 0.013723116159876973), (3480, 0.013723116159876973), (3527, 0.013723116159876973), (3807, 0.013723116159876973), (4102, 0.013723116159876973), (4231, 0.013723116159876973), (4368, 0.013723116159876973), (30, 0.013608276348795433), (74, 0.013608276348795433), (831, 0.013608276348795433), (871, 0.013608276348795433), (1584, 0.013608276348795433), (1604, 0.013608276348795433), (2066, 0.013608276348795433), (2097, 0.013608276348795433), (2481, 0.013608276348795433), (2600, 0.013608276348795433), (2814, 0.013608276348795433), (2906, 0.013608276348795433), (3305, 0.013608276348795433), (3307, 0.013608276348795433), (3468, 0.013608276348795433), (3642, 0.013608276348795433), (3831, 0.013608276348795433), (3897, 0.013608276348795433), (4477, 0.013608276348795433), (4775, 0.013608276348795433), (335, 0.013496272169648599), (388, 0.013496272169648599), (411, 0.013496272169648599), (412, 0.013496272169648599), (432, 0.013496272169648599), (446, 0.013496272169648599), (1107, 0.013496272169648599), (2280, 0.013496272169648599), (2571, 0.013496272169648599), (2892, 0.013496272169648599), (2978, 0.013496272169648599), (3013, 0.013496272169648599), (3183, 0.013496272169648599), (3203, 0.013496272169648599), (3273, 0.013496272169648599), (3615, 0.013496272169648599), (3626, 0.013496272169648599), (3892, 0.013496272169648599), (3932, 0.013496272169648599), (3983, 0.013496272169648599), (4161, 0.013496272169648599), (4206, 0.013496272169648599), (4210, 0.013496272169648599), (4366, 0.013496272169648599), (93, 0.013386988815041648), (110, 0.013386988815041648), (279, 0.013386988815041648), (557, 0.013386988815041648), (574, 0.013386988815041648), (595, 0.013386988815041648), (639, 0.013386988815041648), (656, 0.013386988815041648), (752, 0.013386988815041648), (829, 0.013386988815041648), (923, 0.013386988815041648), (1014, 0.013386988815041648), (1189, 0.013386988815041648), (1645, 0.013386988815041648), (1956, 0.013386988815041648), (2000, 0.013386988815041648), (2769, 0.013386988815041648), (2797, 0.013386988815041648), (3163, 0.013386988815041648), (3169, 0.013386988815041648), (3240, 0.013386988815041648), (3438, 0.013386988815041648), (3836, 0.013386988815041648), (4187, 0.013386988815041648), (4609, 0.013386988815041648), (4717, 0.013386988815041648), (4788, 0.013386988815041648), (123, 0.01328031788149326), (451, 0.01328031788149326), (1141, 0.01328031788149326), (1183, 0.01328031788149326), (1758, 0.01328031788149326), (1863, 0.01328031788149326), (2021, 0.01328031788149326), (2446, 0.01328031788149326), (2867, 0.01328031788149326), (3062, 0.01328031788149326), (3170, 0.01328031788149326), (3328, 0.01328031788149326), (3336, 0.01328031788149326), (3560, 0.01328031788149326), (3769, 0.01328031788149326), (4226, 0.01328031788149326), (4319, 0.01328031788149326), (4417, 0.01328031788149326), (4519, 0.01328031788149326), (407, 0.013176156917368247), (541, 0.013176156917368247), (617, 0.013176156917368247), (851, 0.013176156917368247), (932, 0.013176156917368247), (996, 0.013176156917368247), (1099, 0.013176156917368247), (1172, 0.013176156917368247), (1492, 0.013176156917368247), (1685, 0.013176156917368247), (1957, 0.013176156917368247), (1974, 0.013176156917368247), (2015, 0.013176156917368247), (2033, 0.013176156917368247), (2339, 0.013176156917368247), (2367, 0.013176156917368247), (2454, 0.013176156917368247), (2672, 0.013176156917368247), (2707, 0.013176156917368247), (2796, 0.013176156917368247), (3230, 0.013176156917368247), (3241, 0.013176156917368247), (3428, 0.013176156917368247), (4052, 0.013176156917368247), (4077, 0.013176156917368247), (4481, 0.013176156917368247), (4725, 0.013176156917368247), (119, 0.01307440900921227), (376, 0.01307440900921227), (444, 0.01307440900921227), (661, 0.01307440900921227), (1265, 0.01307440900921227), (1282, 0.01307440900921227), (1439, 0.01307440900921227), (1504, 0.01307440900921227), (1526, 0.01307440900921227), (1532, 0.01307440900921227), (1637, 0.01307440900921227), (1644, 0.01307440900921227), (1724, 0.01307440900921227), (1747, 0.01307440900921227), (1841, 0.01307440900921227), (2148, 0.01307440900921227), (2181, 0.01307440900921227), (2409, 0.01307440900921227), (2550, 0.01307440900921227), (2673, 0.01307440900921227), (2674, 0.01307440900921227), (3226, 0.01307440900921227), (3366, 0.01307440900921227), (4153, 0.01307440900921227), (4514, 0.01307440900921227), (270, 0.012974982402692048), (425, 0.012974982402692048), (475, 0.012974982402692048), (523, 0.012974982402692048), (572, 0.012974982402692048), (612, 0.012974982402692048), (1440, 0.012974982402692048), (1446, 0.012974982402692048), (1506, 0.012974982402692048), (1525, 0.012974982402692048), (1719, 0.012974982402692048), (1877, 0.012974982402692048), (2117, 0.012974982402692048), (2127, 0.012974982402692048), (2202, 0.012974982402692048), (2667, 0.012974982402692048), (2861, 0.012974982402692048), (3060, 0.012974982402692048), (3722, 0.012974982402692048), (3755, 0.012974982402692048), (3923, 0.012974982402692048), (4330, 0.012974982402692048), (4498, 0.012974982402692048), (386, 0.01287779015477093), (873, 0.01287779015477093), (1124, 0.01287779015477093), (1143, 0.01287779015477093), (1510, 0.01287779015477093), (1888, 0.01287779015477093), (2605, 0.01287779015477093), (2607, 0.01287779015477093), (2793, 0.01287779015477093), (2846, 0.01287779015477093), (3287, 0.01287779015477093), (3380, 0.01287779015477093), (3565, 0.01287779015477093), (4061, 0.01287779015477093), (633, 0.01278274981412284), (1017, 0.01278274981412284), (1536, 0.01278274981412284), (1553, 0.01278274981412284), (1586, 0.01278274981412284), (1811, 0.01278274981412284), (2046, 0.01278274981412284), (2099, 0.01278274981412284), (2374, 0.01278274981412284), (2519, 0.01278274981412284), (2812, 0.01278274981412284), (3471, 0.01278274981412284), (3852, 0.01278274981412284), (4080, 0.01278274981412284), (4504, 0.01278274981412284), (79, 0.012689783127114683), (297, 0.012689783127114683), (521, 0.012689783127114683), (740, 0.012689783127114683), (746, 0.012689783127114683), (1746, 0.012689783127114683), (1757, 0.012689783127114683), (1981, 0.012689783127114683), (2124, 0.012689783127114683), (2687, 0.012689783127114683), (3027, 0.012689783127114683), (3470, 0.012689783127114683), (3602, 0.012689783127114683), (3842, 0.012689783127114683), (4126, 0.012689783127114683), (4174, 0.012689783127114683), (4733, 0.012689783127114683), (32, 0.01259881576697424), (175, 0.01259881576697424), (759, 0.01259881576697424), (1200, 0.01259881576697424), (2161, 0.01259881576697424), (2514, 0.01259881576697424), (2661, 0.01259881576697424), (3338, 0.01259881576697424), (240, 0.012509777084013358), (375, 0.012509777084013358), (702, 0.012509777084013358), (2296, 0.012509777084013358), (2359, 0.012509777084013358), (2462, 0.012509777084013358), (2960, 0.012509777084013358), (3153, 0.012509777084013358), (4429, 0.012509777084013358), (102, 0.012422599874998833), (199, 0.012422599874998833), (423, 0.012422599874998833), (696, 0.012422599874998833), (735, 0.012422599874998833), (750, 0.012422599874998833), (768, 0.012422599874998833), (836, 0.012422599874998833), (1008, 0.012422599874998833), (1236, 0.012422599874998833), (2518, 0.012422599874998833), (2751, 0.012422599874998833), (3454, 0.012422599874998833), (3781, 0.012422599874998833), (3898, 0.012422599874998833), (4098, 0.012422599874998833), (4547, 0.012422599874998833), (4765, 0.012422599874998833), (129, 0.012337220169960087), (383, 0.012337220169960087), (443, 0.012337220169960087), (749, 0.012337220169960087), (1706, 0.012337220169960087), (1910, 0.012337220169960087), (2024, 0.012337220169960087), (2778, 0.012337220169960087), (2829, 0.012337220169960087), (3008, 0.012337220169960087), (3539, 0.012337220169960087), (3583, 0.012337220169960087), (4044, 0.012337220169960087), (4193, 0.012337220169960087), (507, 0.012253577034896795), (703, 0.012253577034896795), (852, 0.012253577034896795), (1000, 0.012253577034896795), (1035, 0.012253577034896795), (2314, 0.012253577034896795), (3951, 0.012253577034896795), (4334, 0.012253577034896795), (4445, 0.012253577034896795), (1473, 0.012171612389003689), (2642, 0.012171612389003689), (3613, 0.012171612389003689), (3696, 0.012171612389003689), (4006, 0.012171612389003689), (4600, 0.012171612389003689), (17, 0.01209127083516686), (354, 0.01209127083516686), (363, 0.01209127083516686), (1358, 0.01209127083516686), (1360, 0.01209127083516686), (1399, 0.01209127083516686), (1756, 0.01209127083516686), (2197, 0.01209127083516686), (2963, 0.01209127083516686), (2974, 0.01209127083516686), (3103, 0.01209127083516686), (3220, 0.01209127083516686), (3321, 0.01209127083516686), (3334, 0.01209127083516686), (4110, 0.01209127083516686), (4352, 0.01209127083516686), (4687, 0.01209127083516686), (15, 0.012012499502607452), (450, 0.012012499502607452), (718, 0.012012499502607452), (1262, 0.012012499502607452), (1433, 0.012012499502607452), (1908, 0.012012499502607452), (2478, 0.012012499502607452), (3829, 0.012012499502607452), (3901, 0.012012499502607452), (4131, 0.012012499502607452), (212, 0.011935247900657213), (316, 0.011935247900657213), (1109, 0.011935247900657213), (1219, 0.011935247900657213), (1343, 0.011935247900657213), (1390, 0.011935247900657213), (1959, 0.011935247900657213), (1995, 0.011935247900657213), (2958, 0.011935247900657213), (3199, 0.011935247900657213), (4392, 0.011935247900657213), (4426, 0.011935247900657213), (1312, 0.011859467782747001), (2220, 0.011859467782747001), (2344, 0.011859467782747001), (2738, 0.011859467782747001), (3148, 0.011859467782747001), (3594, 0.011859467782747001), (4546, 0.011859467782747001), (4620, 0.011859467782747001), (4728, 0.011859467782747001), (19, 0.011785113019775792), (592, 0.011785113019775792), (1096, 0.011785113019775792), (1491, 0.011785113019775792), (2027, 0.011785113019775792), (3057, 0.011785113019775792), (4707, 0.011785113019775792), (18, 0.011712139482105107), (1047, 0.011712139482105107), (1298, 0.011712139482105107), (2966, 0.011712139482105107), (3717, 0.011712139482105107), (571, 0.011640504929492968), (645, 0.011640504929492968), (1127, 0.011640504929492968), (1281, 0.011640504929492968), (2077, 0.011640504929492968), (2357, 0.011640504929492968), (3555, 0.011640504929492968), (4010, 0.011640504929492968), (4163, 0.011640504929492968), (4585, 0.011640504929492968), (4715, 0.011640504929492968), (222, 0.011570168908343722), (1188, 0.011570168908343722), (1319, 0.011570168908343722), (1544, 0.011570168908343722), (1807, 0.011570168908343722), (2833, 0.011570168908343722), (2912, 0.011570168908343722), (3047, 0.011570168908343722), (4081, 0.011570168908343722), (4219, 0.011570168908343722), (156, 0.011501092655705904), (717, 0.011501092655705904), (1280, 0.011501092655705904), (1548, 0.011501092655705904), (2023, 0.011501092655705904), (2313, 0.011501092655705904), (3021, 0.011501092655705904), (3198, 0.011501092655705904), (3469, 0.011501092655705904), (3770, 0.011501092655705904), (469, 0.011433239009500589), (1549, 0.011433239009500589), (1822, 0.011433239009500589), (2176, 0.011433239009500589), (2386, 0.011433239009500589), (2423, 0.011433239009500589), (2798, 0.011433239009500589), (4085, 0.011433239009500589), (4632, 0.011433239009500589), (84, 0.011366572324507891), (1353, 0.011366572324507891), (1369, 0.011366572324507891), (1565, 0.011366572324507891), (1570, 0.011366572324507891), (3137, 0.011366572324507891), (4782, 0.011366572324507891), (478, 0.011301058393680173), (2189, 0.011301058393680173), (3921, 0.011301058393680173), (864, 0.011236664374387367), (1530, 0.011236664374387367), (2521, 0.011236664374387367), (1378, 0.011173358719233183), (1867, 0.011173358719233183), (2361, 0.011173358719233183), (2533, 0.011173358719233183), (4593, 0.011173358719233183), (999, 0.011111111111111112), (1411, 0.011111111111111112), (1775, 0.011111111111111112), (2285, 0.011111111111111112), (2726, 0.011111111111111112), (3052, 0.011111111111111112), (4367, 0.011111111111111112), (1535, 0.011049892402196598), (3116, 0.011049892402196598), (3732, 0.011049892402196598), (3956, 0.011049892402196598), (4376, 0.011049892402196598), (4443, 0.011049892402196598), (27, 0.01098967455659645), (342, 0.01098967455659645), (2144, 0.01098967455659645), (2564, 0.01098967455659645), (252, 0.010930430596399216), (1774, 0.010930430596399216), (2503, 0.010930430596399216), (2506, 0.010930430596399216), (3436, 0.010930430596399216), (785, 0.010872134550890703), (1315, 0.010872134550890703), (3725, 0.010872134550890703), (4663, 0.010814761408717503), (1953, 0.010758287072798382), (2109, 0.010758287072798382), (542, 0.010702688317798926), (1213, 0.010702688317798926), (3515, 0.010702688317798926), (4552, 0.010702688317798926), (3941, 0.010647942749998997), (4377, 0.010647942749998997), (1646, 0.010594028769395471), (1850, 0.010594028769395471), (4215, 0.010594028769395471), (4271, 0.010594028769395471), (3156, 0.010540925533894598), (59, 0.01048861292545921), (277, 0.01048861292545921), (2499, 0.01048861292545921), (755, 0.010437071518085825), (1116, 0.010437071518085825), (2592, 0.010437071518085825), (3376, 0.010437071518085825), (4324, 0.010437071518085825), (4507, 0.010437071518085825), (1845, 0.01038628254749593), (3191, 0.01038628254749593), (679, 0.010336227882434039), (1342, 0.010336227882434039), (3542, 0.010336227882434039), (3808, 0.010336227882434039), (4260, 0.010286889997472796), (4541, 0.010286889997472796), (415, 0.010238251947232518), (3025, 0.01019029734192905), (3914, 0.01019029734192905), (229, 0.010143010324169742), (3289, 0.010143010324169742), (1566, 0.010096375546923044), (2160, 0.010096375546923044), (2905, 0.010096375546923044), (860, 0.010050378152592122), (1855, 0.010050378152592122), (379, 0.010005003753127736), (3802, 0.009960238411119947), (3866, 0.009960238411119947), (1444, 0.00991606862181216), (1056, 0.00982946374365981), (3953, 0.00982946374365981), (4793, 0.00982946374365981), (3820, 0.009745089103411436), (1117, 0.009703708495659701), (3659, 0.009622504486493762), (486, 0.009582659576267817), (2283, 0.009543305571897804), (2559, 0.009543305571897804), (3504, 0.00950443247520335), (889, 0.009466030570784413), (2151, 0.009466030570784413), (3750, 0.009466030570784413), (462, 0.009428090415820633), (3481, 0.009390602830316851), (4313, 0.009390602830316851), (1819, 0.009316949906249122), (4442, 0.009316949906249122), (307, 0.009209649399925628), (2295, 0.009140141618451362), (3399, 0.009140141618451362), (193, 0.009105972745135884), (310, 0.009105972745135884), (2657, 0.00903876907577734), (2990, 0.00903876907577734), (4027, 0.008940696346430336), (3664, 0.00878410461157883), (4516, 0.00878410461157883), (4109, 0.00875376219064817), (3614, 0.008664587415167272), (4008, 0.008466675133346034), (304, 0.008132500607904443), (4736, 0.007991055024756402), (3706, 0.007835008245371141), (4727, 0.007529232524210426), (22, 0.0), (64, 0.0), (95, 0.0), (105, 0.0), (132, 0.0), (135, 0.0), (155, 0.0), (171, 0.0), (185, 0.0), (200, 0.0), (214, 0.0), (226, 0.0), (247, 0.0), (249, 0.0), (250, 0.0), (264, 0.0), (272, 0.0), (280, 0.0), (298, 0.0), (317, 0.0), (321, 0.0), (323, 0.0), (338, 0.0), (349, 0.0), (357, 0.0), (360, 0.0), (367, 0.0), (373, 0.0), (378, 0.0), (382, 0.0), (384, 0.0), (395, 0.0), (397, 0.0), (401, 0.0), (416, 0.0), (417, 0.0), (419, 0.0), (426, 0.0), (434, 0.0), (445, 0.0), (454, 0.0), (463, 0.0), (470, 0.0), (473, 0.0), (477, 0.0), (484, 0.0), (493, 0.0), (497, 0.0), (502, 0.0), (515, 0.0), (532, 0.0), (536, 0.0), (549, 0.0), (551, 0.0), (552, 0.0), (567, 0.0), (584, 0.0), (593, 0.0), (616, 0.0), (620, 0.0), (628, 0.0), (630, 0.0), (632, 0.0), (635, 0.0), (638, 0.0), (641, 0.0), (647, 0.0), (648, 0.0), (649, 0.0), (652, 0.0), (662, 0.0), (663, 0.0), (666, 0.0), (669, 0.0), (670, 0.0), (671, 0.0), (672, 0.0), (675, 0.0), (681, 0.0), (682, 0.0), (697, 0.0), (706, 0.0), (709, 0.0), (710, 0.0), (712, 0.0), (720, 0.0), (721, 0.0), (723, 0.0), (726, 0.0), (729, 0.0), (733, 0.0), (738, 0.0), (751, 0.0), (756, 0.0), (757, 0.0), (771, 0.0), (780, 0.0), (783, 0.0), (789, 0.0), (792, 0.0), (795, 0.0), (796, 0.0), (798, 0.0), (806, 0.0), (809, 0.0), (811, 0.0), (815, 0.0), (817, 0.0), (822, 0.0), (824, 0.0), (827, 0.0), (841, 0.0), (843, 0.0), (846, 0.0), (847, 0.0), (855, 0.0), (857, 0.0), (861, 0.0), (862, 0.0), (865, 0.0), (868, 0.0), (869, 0.0), (872, 0.0), (881, 0.0), (883, 0.0), (884, 0.0), (885, 0.0), (890, 0.0), (891, 0.0), (892, 0.0), (898, 0.0), (900, 0.0), (901, 0.0), (902, 0.0), (903, 0.0), (904, 0.0), (907, 0.0), (909, 0.0), (910, 0.0), (912, 0.0), (913, 0.0), (915, 0.0), (916, 0.0), (924, 0.0), (928, 0.0), (936, 0.0), (940, 0.0), (943, 0.0), (953, 0.0), (954, 0.0), (958, 0.0), (962, 0.0), (965, 0.0), (967, 0.0), (968, 0.0), (970, 0.0), (971, 0.0), (978, 0.0), (980, 0.0), (997, 0.0), (998, 0.0), (1005, 0.0), (1007, 0.0), (1010, 0.0), (1011, 0.0), (1016, 0.0), (1021, 0.0), (1022, 0.0), (1023, 0.0), (1025, 0.0), (1026, 0.0), (1032, 0.0), (1037, 0.0), (1038, 0.0), (1039, 0.0), (1048, 0.0), (1050, 0.0), (1054, 0.0), (1057, 0.0), (1061, 0.0), (1065, 0.0), (1072, 0.0), (1075, 0.0), (1081, 0.0), (1085, 0.0), (1090, 0.0), (1094, 0.0), (1098, 0.0), (1102, 0.0), (1111, 0.0), (1112, 0.0), (1113, 0.0), (1122, 0.0), (1125, 0.0), (1128, 0.0), (1135, 0.0), (1148, 0.0), (1149, 0.0), (1154, 0.0), (1156, 0.0), (1159, 0.0), (1160, 0.0), (1161, 0.0), (1163, 0.0), (1168, 0.0), (1169, 0.0), (1170, 0.0), (1181, 0.0), (1182, 0.0), (1184, 0.0), (1185, 0.0), (1187, 0.0), (1194, 0.0), (1197, 0.0), (1209, 0.0), (1210, 0.0), (1212, 0.0), (1215, 0.0), (1218, 0.0), (1223, 0.0), (1225, 0.0), (1237, 0.0), (1241, 0.0), (1242, 0.0), (1243, 0.0), (1250, 0.0), (1252, 0.0), (1259, 0.0), (1261, 0.0), (1275, 0.0), (1283, 0.0), (1295, 0.0), (1297, 0.0), (1300, 0.0), (1307, 0.0), (1308, 0.0), (1309, 0.0), (1314, 0.0), (1325, 0.0), (1326, 0.0), (1327, 0.0), (1329, 0.0), (1333, 0.0), (1335, 0.0), (1344, 0.0), (1346, 0.0), (1349, 0.0), (1350, 0.0), (1351, 0.0), (1355, 0.0), (1370, 0.0), (1371, 0.0), (1372, 0.0), (1373, 0.0), (1376, 0.0), (1379, 0.0), (1383, 0.0), (1387, 0.0), (1392, 0.0), (1393, 0.0), (1394, 0.0), (1396, 0.0), (1401, 0.0), (1402, 0.0), (1405, 0.0), (1406, 0.0), (1408, 0.0), (1413, 0.0), (1415, 0.0), (1421, 0.0), (1424, 0.0), (1427, 0.0), (1430, 0.0), (1435, 0.0), (1442, 0.0), (1454, 0.0), (1455, 0.0), (1458, 0.0), (1462, 0.0), (1467, 0.0), (1472, 0.0), (1475, 0.0), (1476, 0.0), (1477, 0.0), (1478, 0.0), (1487, 0.0), (1489, 0.0), (1499, 0.0), (1501, 0.0), (1516, 0.0), (1524, 0.0), (1529, 0.0), (1534, 0.0), (1537, 0.0), (1543, 0.0), (1545, 0.0), (1552, 0.0), (1554, 0.0), (1557, 0.0), (1564, 0.0), (1569, 0.0), (1571, 0.0), (1575, 0.0), (1576, 0.0), (1582, 0.0), (1585, 0.0), (1588, 0.0), (1590, 0.0), (1591, 0.0), (1595, 0.0), (1598, 0.0), (1599, 0.0), (1602, 0.0), (1603, 0.0), (1605, 0.0), (1607, 0.0), (1612, 0.0), (1613, 0.0), (1618, 0.0), (1619, 0.0), (1621, 0.0), (1624, 0.0), (1629, 0.0), (1630, 0.0), (1631, 0.0), (1632, 0.0), (1638, 0.0), (1640, 0.0), (1641, 0.0), (1643, 0.0), (1648, 0.0), (1649, 0.0), (1654, 0.0), (1657, 0.0), (1659, 0.0), (1660, 0.0), (1662, 0.0), (1663, 0.0), (1665, 0.0), (1666, 0.0), (1673, 0.0), (1674, 0.0), (1678, 0.0), (1679, 0.0), (1681, 0.0), (1687, 0.0), (1688, 0.0), (1689, 0.0), (1691, 0.0), (1692, 0.0), (1693, 0.0), (1700, 0.0), (1704, 0.0), (1708, 0.0), (1712, 0.0), (1714, 0.0), (1716, 0.0), (1722, 0.0), (1725, 0.0), (1728, 0.0), (1729, 0.0), (1732, 0.0), (1736, 0.0), (1738, 0.0), (1739, 0.0), (1748, 0.0), (1749, 0.0), (1751, 0.0), (1759, 0.0), (1763, 0.0), (1767, 0.0), (1768, 0.0), (1770, 0.0), (1772, 0.0), (1779, 0.0), (1780, 0.0), (1786, 0.0), (1787, 0.0), (1791, 0.0), (1793, 0.0), (1801, 0.0), (1803, 0.0), (1806, 0.0), (1810, 0.0), (1814, 0.0), (1816, 0.0), (1818, 0.0), (1823, 0.0), (1824, 0.0), (1828, 0.0), (1832, 0.0), (1838, 0.0), (1840, 0.0), (1842, 0.0), (1843, 0.0), (1852, 0.0), (1861, 0.0), (1864, 0.0), (1865, 0.0), (1869, 0.0), (1873, 0.0), (1875, 0.0), (1876, 0.0), (1881, 0.0), (1883, 0.0), (1884, 0.0), (1889, 0.0), (1890, 0.0), (1891, 0.0), (1893, 0.0), (1899, 0.0), (1903, 0.0), (1906, 0.0), (1911, 0.0), (1915, 0.0), (1916, 0.0), (1917, 0.0), (1925, 0.0), (1926, 0.0), (1927, 0.0), (1928, 0.0), (1929, 0.0), (1934, 0.0), (1943, 0.0), (1944, 0.0), (1948, 0.0), (1949, 0.0), (1958, 0.0), (1960, 0.0), (1963, 0.0), (1966, 0.0), (1967, 0.0), (1969, 0.0), (1971, 0.0), (1972, 0.0), (1975, 0.0), (1979, 0.0), (1980, 0.0), (1985, 0.0), (1988, 0.0), (1989, 0.0), (1993, 0.0), (1994, 0.0), (1996, 0.0), (1997, 0.0), (2003, 0.0), (2004, 0.0), (2006, 0.0), (2009, 0.0), (2012, 0.0), (2014, 0.0), (2018, 0.0), (2022, 0.0), (2028, 0.0), (2030, 0.0), (2031, 0.0), (2032, 0.0), (2034, 0.0), (2035, 0.0), (2038, 0.0), (2039, 0.0), (2040, 0.0), (2051, 0.0), (2052, 0.0), (2058, 0.0), (2059, 0.0), (2062, 0.0), (2065, 0.0), (2068, 0.0), (2070, 0.0), (2071, 0.0), (2072, 0.0), (2073, 0.0), (2076, 0.0), (2078, 0.0), (2079, 0.0), (2081, 0.0), (2082, 0.0), (2087, 0.0), (2091, 0.0), (2098, 0.0), (2101, 0.0), (2102, 0.0), (2105, 0.0), (2107, 0.0), (2108, 0.0), (2113, 0.0), (2115, 0.0), (2123, 0.0), (2126, 0.0), (2128, 0.0), (2130, 0.0), (2138, 0.0), (2141, 0.0), (2147, 0.0), (2150, 0.0), (2166, 0.0), (2168, 0.0), (2170, 0.0), (2172, 0.0), (2174, 0.0), (2178, 0.0), (2179, 0.0), (2183, 0.0), (2186, 0.0), (2187, 0.0), (2191, 0.0), (2192, 0.0), (2199, 0.0), (2204, 0.0), (2206, 0.0), (2213, 0.0), (2214, 0.0), (2215, 0.0), (2216, 0.0), (2223, 0.0), (2230, 0.0), (2233, 0.0), (2242, 0.0), (2246, 0.0), (2251, 0.0), (2261, 0.0), (2265, 0.0), (2269, 0.0), (2271, 0.0), (2273, 0.0), (2275, 0.0), (2276, 0.0), (2279, 0.0), (2281, 0.0), (2284, 0.0), (2289, 0.0), (2297, 0.0), (2298, 0.0), (2300, 0.0), (2301, 0.0), (2305, 0.0), (2310, 0.0), (2316, 0.0), (2318, 0.0), (2319, 0.0), (2321, 0.0), (2323, 0.0), (2329, 0.0), (2330, 0.0), (2333, 0.0), (2335, 0.0), (2341, 0.0), (2345, 0.0), (2348, 0.0), (2353, 0.0), (2355, 0.0), (2358, 0.0), (2362, 0.0), (2365, 0.0), (2368, 0.0), (2369, 0.0), (2370, 0.0), (2373, 0.0), (2375, 0.0), (2376, 0.0), (2384, 0.0), (2385, 0.0), (2387, 0.0), (2391, 0.0), (2392, 0.0), (2393, 0.0), (2397, 0.0), (2401, 0.0), (2408, 0.0), (2411, 0.0), (2413, 0.0), (2414, 0.0), (2415, 0.0), (2419, 0.0), (2421, 0.0), (2424, 0.0), (2425, 0.0), (2426, 0.0), (2428, 0.0), (2434, 0.0), (2436, 0.0), (2440, 0.0), (2445, 0.0), (2449, 0.0), (2452, 0.0), (2453, 0.0), (2455, 0.0), (2456, 0.0), (2457, 0.0), (2458, 0.0), (2468, 0.0), (2473, 0.0), (2475, 0.0), (2476, 0.0), (2479, 0.0), (2482, 0.0), (2488, 0.0), (2497, 0.0), (2498, 0.0), (2504, 0.0), (2505, 0.0), (2513, 0.0), (2516, 0.0), (2520, 0.0), (2522, 0.0), (2523, 0.0), (2526, 0.0), (2531, 0.0), (2536, 0.0), (2537, 0.0), (2539, 0.0), (2545, 0.0), (2546, 0.0), (2547, 0.0), (2549, 0.0), (2552, 0.0), (2554, 0.0), (2555, 0.0), (2557, 0.0), (2560, 0.0), (2562, 0.0), (2566, 0.0), (2569, 0.0), (2575, 0.0), (2576, 0.0), (2585, 0.0), (2588, 0.0), (2589, 0.0), (2594, 0.0), (2596, 0.0), (2598, 0.0), (2603, 0.0), (2604, 0.0), (2610, 0.0), (2612, 0.0), (2613, 0.0), (2614, 0.0), (2616, 0.0), (2620, 0.0), (2621, 0.0), (2624, 0.0), (2628, 0.0), (2629, 0.0), (2630, 0.0), (2631, 0.0), (2633, 0.0), (2638, 0.0), (2640, 0.0), (2648, 0.0), (2652, 0.0), (2654, 0.0), (2658, 0.0), (2660, 0.0), (2663, 0.0), (2666, 0.0), (2670, 0.0), (2671, 0.0), (2675, 0.0), (2676, 0.0), (2681, 0.0), (2684, 0.0), (2689, 0.0), (2690, 0.0), (2691, 0.0), (2695, 0.0), (2696, 0.0), (2697, 0.0), (2698, 0.0), (2699, 0.0), (2702, 0.0), (2705, 0.0), (2706, 0.0), (2708, 0.0), (2710, 0.0), (2712, 0.0), (2715, 0.0), (2716, 0.0), (2717, 0.0), (2718, 0.0), (2721, 0.0), (2723, 0.0), (2724, 0.0), (2725, 0.0), (2732, 0.0), (2733, 0.0), (2741, 0.0), (2742, 0.0), (2748, 0.0), (2750, 0.0), (2752, 0.0), (2753, 0.0), (2755, 0.0), (2758, 0.0), (2759, 0.0), (2762, 0.0), (2763, 0.0), (2765, 0.0), (2766, 0.0), (2767, 0.0), (2768, 0.0), (2770, 0.0), (2771, 0.0), (2773, 0.0), (2777, 0.0), (2779, 0.0), (2781, 0.0), (2782, 0.0), (2786, 0.0), (2788, 0.0), (2790, 0.0), (2792, 0.0), (2799, 0.0), (2801, 0.0), (2807, 0.0), (2808, 0.0), (2809, 0.0), (2813, 0.0), (2816, 0.0), (2823, 0.0), (2827, 0.0), (2828, 0.0), (2831, 0.0), (2835, 0.0), (2838, 0.0), (2839, 0.0), (2840, 0.0), (2843, 0.0), (2844, 0.0), (2847, 0.0), (2848, 0.0), (2849, 0.0), (2851, 0.0), (2853, 0.0), (2855, 0.0), (2856, 0.0), (2857, 0.0), (2858, 0.0), (2860, 0.0), (2869, 0.0), (2870, 0.0), (2872, 0.0), (2874, 0.0), (2878, 0.0), (2879, 0.0), (2881, 0.0), (2883, 0.0), (2884, 0.0), (2886, 0.0), (2888, 0.0), (2889, 0.0), (2891, 0.0), (2893, 0.0), (2894, 0.0), (2895, 0.0), (2899, 0.0), (2902, 0.0), (2903, 0.0), (2907, 0.0), (2908, 0.0), (2909, 0.0), (2910, 0.0), (2913, 0.0), (2918, 0.0), (2921, 0.0), (2923, 0.0), (2925, 0.0), (2926, 0.0), (2931, 0.0), (2933, 0.0), (2934, 0.0), (2935, 0.0), (2937, 0.0), (2938, 0.0), (2939, 0.0), (2940, 0.0), (2941, 0.0), (2943, 0.0), (2945, 0.0), (2946, 0.0), (2947, 0.0), (2948, 0.0), (2949, 0.0), (2951, 0.0), (2953, 0.0), (2955, 0.0), (2957, 0.0), (2959, 0.0), (2961, 0.0), (2962, 0.0), (2967, 0.0), (2969, 0.0), (2970, 0.0), (2975, 0.0), (2976, 0.0), (2980, 0.0), (2981, 0.0), (2982, 0.0), (2984, 0.0), (2988, 0.0), (2989, 0.0), (2992, 0.0), (3001, 0.0), (3005, 0.0), (3009, 0.0), (3010, 0.0), (3014, 0.0), (3016, 0.0), (3024, 0.0), (3030, 0.0), (3033, 0.0), (3042, 0.0), (3043, 0.0), (3046, 0.0), (3051, 0.0), (3053, 0.0), (3054, 0.0), (3063, 0.0), (3065, 0.0), (3067, 0.0), (3069, 0.0), (3070, 0.0), (3074, 0.0), (3075, 0.0), (3077, 0.0), (3078, 0.0), (3079, 0.0), (3089, 0.0), (3092, 0.0), (3093, 0.0), (3094, 0.0), (3095, 0.0), (3096, 0.0), (3099, 0.0), (3100, 0.0), (3102, 0.0), (3106, 0.0), (3107, 0.0), (3108, 0.0), (3109, 0.0), (3111, 0.0), (3112, 0.0), (3117, 0.0), (3120, 0.0), (3121, 0.0), (3123, 0.0), (3129, 0.0), (3131, 0.0), (3133, 0.0), (3134, 0.0), (3136, 0.0), (3139, 0.0), (3146, 0.0), (3151, 0.0), (3162, 0.0), (3165, 0.0), (3166, 0.0), (3167, 0.0), (3168, 0.0), (3171, 0.0), (3172, 0.0), (3173, 0.0), (3174, 0.0), (3175, 0.0), (3180, 0.0), (3181, 0.0), (3192, 0.0), (3193, 0.0), (3197, 0.0), (3201, 0.0), (3204, 0.0), (3213, 0.0), (3215, 0.0), (3216, 0.0), (3222, 0.0), (3224, 0.0), (3227, 0.0), (3231, 0.0), (3233, 0.0), (3236, 0.0), (3238, 0.0), (3244, 0.0), (3247, 0.0), (3248, 0.0), (3253, 0.0), (3254, 0.0), (3255, 0.0), (3260, 0.0), (3261, 0.0), (3262, 0.0), (3263, 0.0), (3264, 0.0), (3265, 0.0), (3274, 0.0), (3275, 0.0), (3278, 0.0), (3279, 0.0), (3282, 0.0), (3284, 0.0), (3286, 0.0), (3288, 0.0), (3290, 0.0), (3291, 0.0), (3294, 0.0), (3297, 0.0), (3299, 0.0), (3300, 0.0), (3306, 0.0), (3310, 0.0), (3322, 0.0), (3329, 0.0), (3330, 0.0), (3332, 0.0), (3333, 0.0), (3339, 0.0), (3340, 0.0), (3346, 0.0), (3347, 0.0), (3352, 0.0), (3354, 0.0), (3355, 0.0), (3357, 0.0), (3361, 0.0), (3365, 0.0), (3367, 0.0), (3370, 0.0), (3373, 0.0), (3377, 0.0), (3378, 0.0), (3385, 0.0), (3386, 0.0), (3387, 0.0), (3388, 0.0), (3393, 0.0), (3394, 0.0), (3395, 0.0), (3396, 0.0), (3404, 0.0), (3408, 0.0), (3409, 0.0), (3410, 0.0), (3412, 0.0), (3417, 0.0), (3421, 0.0), (3425, 0.0), (3426, 0.0), (3427, 0.0), (3429, 0.0), (3432, 0.0), (3433, 0.0), (3439, 0.0), (3440, 0.0), (3442, 0.0), (3445, 0.0), (3450, 0.0), (3451, 0.0), (3452, 0.0), (3453, 0.0), (3455, 0.0), (3456, 0.0), (3458, 0.0), (3464, 0.0), (3465, 0.0), (3466, 0.0), (3467, 0.0), (3472, 0.0), (3473, 0.0), (3477, 0.0), (3479, 0.0), (3486, 0.0), (3487, 0.0), (3488, 0.0), (3491, 0.0), (3492, 0.0), (3494, 0.0), (3498, 0.0), (3500, 0.0), (3501, 0.0), (3509, 0.0), (3511, 0.0), (3513, 0.0), (3516, 0.0), (3518, 0.0), (3526, 0.0), (3528, 0.0), (3529, 0.0), (3530, 0.0), (3531, 0.0), (3532, 0.0), (3537, 0.0), (3541, 0.0), (3545, 0.0), (3547, 0.0), (3550, 0.0), (3551, 0.0), (3554, 0.0), (3556, 0.0), (3558, 0.0), (3559, 0.0), (3561, 0.0), (3563, 0.0), (3566, 0.0), (3569, 0.0), (3570, 0.0), (3571, 0.0), (3573, 0.0), (3580, 0.0), (3584, 0.0), (3585, 0.0), (3589, 0.0), (3593, 0.0), (3595, 0.0), (3597, 0.0), (3599, 0.0), (3603, 0.0), (3604, 0.0), (3607, 0.0), (3608, 0.0), (3609, 0.0), (3610, 0.0), (3618, 0.0), (3619, 0.0), (3623, 0.0), (3625, 0.0), (3630, 0.0), (3631, 0.0), (3632, 0.0), (3634, 0.0), (3635, 0.0), (3637, 0.0), (3638, 0.0), (3640, 0.0), (3644, 0.0), (3645, 0.0), (3648, 0.0), (3650, 0.0), (3651, 0.0), (3652, 0.0), (3653, 0.0), (3654, 0.0), (3656, 0.0), (3658, 0.0), (3660, 0.0), (3663, 0.0), (3665, 0.0), (3668, 0.0), (3670, 0.0), (3672, 0.0), (3674, 0.0), (3675, 0.0), (3676, 0.0), (3677, 0.0), (3680, 0.0), (3683, 0.0), (3684, 0.0), (3685, 0.0), (3686, 0.0), (3689, 0.0), (3690, 0.0), (3691, 0.0), (3692, 0.0), (3693, 0.0), (3694, 0.0), (3695, 0.0), (3697, 0.0), (3699, 0.0), (3703, 0.0), (3707, 0.0), (3708, 0.0), (3709, 0.0), (3712, 0.0), (3715, 0.0), (3718, 0.0), (3719, 0.0), (3726, 0.0), (3731, 0.0), (3735, 0.0), (3736, 0.0), (3738, 0.0), (3742, 0.0), (3744, 0.0), (3745, 0.0), (3747, 0.0), (3749, 0.0), (3751, 0.0), (3756, 0.0), (3758, 0.0), (3759, 0.0), (3761, 0.0), (3762, 0.0), (3765, 0.0), (3766, 0.0), (3767, 0.0), (3768, 0.0), (3771, 0.0), (3778, 0.0), (3779, 0.0), (3780, 0.0), (3784, 0.0), (3785, 0.0), (3786, 0.0), (3789, 0.0), (3792, 0.0), (3796, 0.0), (3799, 0.0), (3800, 0.0), (3804, 0.0), (3805, 0.0), (3806, 0.0), (3810, 0.0), (3811, 0.0), (3812, 0.0), (3813, 0.0), (3814, 0.0), (3821, 0.0), (3822, 0.0), (3823, 0.0), (3824, 0.0), (3830, 0.0), (3839, 0.0), (3840, 0.0), (3843, 0.0), (3845, 0.0), (3851, 0.0), (3854, 0.0), (3861, 0.0), (3862, 0.0), (3863, 0.0), (3864, 0.0), (3865, 0.0), (3869, 0.0), (3873, 0.0), (3875, 0.0), (3877, 0.0), (3878, 0.0), (3879, 0.0), (3880, 0.0), (3882, 0.0), (3886, 0.0), (3889, 0.0), (3891, 0.0), (3893, 0.0), (3902, 0.0), (3904, 0.0), (3906, 0.0), (3912, 0.0), (3913, 0.0), (3915, 0.0), (3916, 0.0), (3920, 0.0), (3922, 0.0), (3924, 0.0), (3925, 0.0), (3926, 0.0), (3929, 0.0), (3930, 0.0), (3931, 0.0), (3933, 0.0), (3934, 0.0), (3936, 0.0), (3938, 0.0), (3943, 0.0), (3945, 0.0), (3947, 0.0), (3948, 0.0), (3950, 0.0), (3957, 0.0), (3962, 0.0), (3963, 0.0), (3969, 0.0), (3970, 0.0), (3972, 0.0), (3973, 0.0), (3974, 0.0), (3978, 0.0), (3984, 0.0), (3986, 0.0), (3991, 0.0), (3993, 0.0), (3994, 0.0), (3995, 0.0), (3996, 0.0), (3999, 0.0), (4000, 0.0), (4001, 0.0), (4002, 0.0), (4004, 0.0), (4014, 0.0), (4015, 0.0), (4018, 0.0), (4019, 0.0), (4020, 0.0), (4021, 0.0), (4023, 0.0), (4024, 0.0), (4025, 0.0), (4026, 0.0), (4028, 0.0), (4029, 0.0), (4035, 0.0), (4037, 0.0), (4038, 0.0), (4039, 0.0), (4047, 0.0), (4051, 0.0), (4053, 0.0), (4055, 0.0), (4057, 0.0), (4062, 0.0), (4064, 0.0), (4067, 0.0), (4068, 0.0), (4069, 0.0), (4072, 0.0), (4073, 0.0), (4074, 0.0), (4075, 0.0), (4078, 0.0), (4082, 0.0), (4083, 0.0), (4086, 0.0), (4087, 0.0), (4088, 0.0), (4089, 0.0), (4090, 0.0), (4094, 0.0), (4095, 0.0), (4097, 0.0), (4101, 0.0), (4107, 0.0), (4111, 0.0), (4112, 0.0), (4114, 0.0), (4115, 0.0), (4117, 0.0), (4119, 0.0), (4121, 0.0), (4132, 0.0), (4137, 0.0), (4138, 0.0), (4139, 0.0), (4140, 0.0), (4143, 0.0), (4146, 0.0), (4148, 0.0), (4152, 0.0), (4154, 0.0), (4157, 0.0), (4158, 0.0), (4166, 0.0), (4170, 0.0), (4172, 0.0), (4177, 0.0), (4181, 0.0), (4182, 0.0), (4183, 0.0), (4184, 0.0), (4186, 0.0), (4188, 0.0), (4190, 0.0), (4195, 0.0), (4196, 0.0), (4198, 0.0), (4199, 0.0), (4202, 0.0), (4203, 0.0), (4208, 0.0), (4209, 0.0), (4211, 0.0), (4214, 0.0), (4217, 0.0), (4221, 0.0), (4224, 0.0), (4225, 0.0), (4227, 0.0), (4229, 0.0), (4230, 0.0), (4233, 0.0), (4234, 0.0), (4235, 0.0), (4236, 0.0), (4238, 0.0), (4240, 0.0), (4241, 0.0), (4242, 0.0), (4244, 0.0), (4246, 0.0), (4249, 0.0), (4250, 0.0), (4251, 0.0), (4252, 0.0), (4258, 0.0), (4259, 0.0), (4263, 0.0), (4264, 0.0), (4269, 0.0), (4272, 0.0), (4278, 0.0), (4281, 0.0), (4282, 0.0), (4285, 0.0), (4286, 0.0), (4287, 0.0), (4288, 0.0), (4291, 0.0), (4292, 0.0), (4293, 0.0), (4294, 0.0), (4296, 0.0), (4297, 0.0), (4301, 0.0), (4302, 0.0), (4304, 0.0), (4305, 0.0), (4306, 0.0), (4307, 0.0), (4308, 0.0), (4312, 0.0), (4316, 0.0), (4320, 0.0), (4321, 0.0), (4327, 0.0), (4329, 0.0), (4331, 0.0), (4333, 0.0), (4336, 0.0), (4340, 0.0), (4341, 0.0), (4344, 0.0), (4345, 0.0), (4348, 0.0), (4356, 0.0), (4357, 0.0), (4358, 0.0), (4359, 0.0), (4360, 0.0), (4362, 0.0), (4363, 0.0), (4364, 0.0), (4370, 0.0), (4371, 0.0), (4372, 0.0), (4373, 0.0), (4374, 0.0), (4379, 0.0), (4381, 0.0), (4382, 0.0), (4383, 0.0), (4384, 0.0), (4387, 0.0), (4389, 0.0), (4390, 0.0), (4394, 0.0), (4397, 0.0), (4407, 0.0), (4409, 0.0), (4411, 0.0), (4412, 0.0), (4413, 0.0), (4415, 0.0), (4416, 0.0), (4420, 0.0), (4422, 0.0), (4425, 0.0), (4428, 0.0), (4430, 0.0), (4431, 0.0), (4432, 0.0), (4433, 0.0), (4434, 0.0), (4436, 0.0), (4437, 0.0), (4444, 0.0), (4446, 0.0), (4451, 0.0), (4452, 0.0), (4454, 0.0), (4455, 0.0), (4456, 0.0), (4458, 0.0), (4459, 0.0), (4461, 0.0), (4463, 0.0), (4464, 0.0), (4467, 0.0), (4469, 0.0), (4470, 0.0), (4471, 0.0), (4475, 0.0), (4482, 0.0), (4486, 0.0), (4487, 0.0), (4490, 0.0), (4495, 0.0), (4499, 0.0), (4501, 0.0), (4502, 0.0), (4503, 0.0), (4508, 0.0), (4509, 0.0), (4518, 0.0), (4524, 0.0), (4527, 0.0), (4528, 0.0), (4530, 0.0), (4533, 0.0), (4538, 0.0), (4539, 0.0), (4540, 0.0), (4542, 0.0), (4545, 0.0), (4549, 0.0), (4565, 0.0), (4567, 0.0), (4568, 0.0), (4575, 0.0), (4579, 0.0), (4580, 0.0), (4581, 0.0), (4582, 0.0), (4584, 0.0), (4587, 0.0), (4588, 0.0), (4592, 0.0), (4594, 0.0), (4596, 0.0), (4598, 0.0), (4603, 0.0), (4604, 0.0), (4608, 0.0), (4611, 0.0), (4613, 0.0), (4614, 0.0), (4615, 0.0), (4618, 0.0), (4621, 0.0), (4622, 0.0), (4624, 0.0), (4625, 0.0), (4626, 0.0), (4627, 0.0), (4628, 0.0), (4630, 0.0), (4631, 0.0), (4636, 0.0), (4639, 0.0), (4643, 0.0), (4647, 0.0), (4657, 0.0), (4658, 0.0), (4661, 0.0), (4664, 0.0), (4665, 0.0), (4667, 0.0), (4668, 0.0), (4669, 0.0), (4672, 0.0), (4673, 0.0), (4682, 0.0), (4683, 0.0), (4685, 0.0), (4689, 0.0), (4692, 0.0), (4693, 0.0), (4694, 0.0), (4695, 0.0), (4696, 0.0), (4699, 0.0), (4701, 0.0), (4706, 0.0), (4708, 0.0), (4709, 0.0), (4712, 0.0), (4713, 0.0), (4714, 0.0), (4716, 0.0), (4718, 0.0), (4719, 0.0), (4720, 0.0), (4721, 0.0), (4722, 0.0), (4724, 0.0), (4726, 0.0), (4731, 0.0), (4737, 0.0), (4741, 0.0), (4742, 0.0), (4743, 0.0), (4746, 0.0), (4747, 0.0), (4748, 0.0), (4749, 0.0), (4752, 0.0), (4753, 0.0), (4754, 0.0), (4755, 0.0), (4757, 0.0), (4758, 0.0), (4760, 0.0), (4763, 0.0), (4764, 0.0), (4767, 0.0), (4771, 0.0), (4773, 0.0), (4776, 0.0), (4777, 0.0), (4780, 0.0), (4781, 0.0), (4784, 0.0), (4785, 0.0), (4786, 0.0), (4787, 0.0), (4790, 0.0), (4795, 0.0), (4796, 0.0), (4798, 0.0)]\n",
      "[269, 255, 1695, 42, 2309, 1594, 1676, 391, 506, 358]\n"
     ]
    },
    {
     "data": {
      "text/plain": [
       "269     the princess and the frog\n",
       "255             home on the range\n",
       "1695                      aladdin\n",
       "42                    toy story 3\n",
       "2309                         逃出生天\n",
       "1594                 corpse bride\n",
       "1676          konferenz der tiere\n",
       "391                     enchanted\n",
       "506               despicable me 2\n",
       "358     atlantis: the lost empire\n",
       "Name: original_title, dtype: object"
      ]
     },
     "execution_count": 48,
     "metadata": {},
     "output_type": "execute_result"
    }
   ],
   "source": [
    "get_recommendations('tangled')"
   ]
  },
  {
   "cell_type": "code",
   "execution_count": 49,
   "metadata": {},
   "outputs": [],
   "source": [
    "df_new.to_csv('data/df_new.csv', index=False)"
   ]
  },
  {
   "cell_type": "code",
   "execution_count": 3,
   "metadata": {},
   "outputs": [
    {
     "name": "stderr",
     "output_type": "stream",
     "text": [
      "[NbConvertApp] Converting notebook Notebook.ipynb to script\n",
      "[NbConvertApp] Writing 9501 bytes to Notebook.py\n"
     ]
    }
   ],
   "source": [
    "#export this code in a python file\n",
    "!jupyter nbconvert --to script Notebook.ipynb\n",
    "\n",
    "\n"
   ]
  },
  {
   "cell_type": "code",
   "execution_count": null,
   "metadata": {},
   "outputs": [],
   "source": []
  }
 ],
 "metadata": {
  "kernelspec": {
   "display_name": "tfadmin",
   "language": "python",
   "name": "python3"
  },
  "language_info": {
   "codemirror_mode": {
    "name": "ipython",
    "version": 3
   },
   "file_extension": ".py",
   "mimetype": "text/x-python",
   "name": "python",
   "nbconvert_exporter": "python",
   "pygments_lexer": "ipython3",
   "version": "3.10.13"
  }
 },
 "nbformat": 4,
 "nbformat_minor": 2
}
